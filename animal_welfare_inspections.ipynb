{
 "cells": [
  {
   "cell_type": "code",
   "execution_count": 1,
   "metadata": {},
   "outputs": [],
   "source": [
    "import pandas as pd\n",
    "import numpy as np\n",
    "import matplotlib.pyplot as plt\n",
    "import plotly.express as px\n",
    "import plotly.graph_objects as go\n",
    "import seaborn as sns\n",
    "import geocoder\n",
    "import json"
   ]
  },
  {
   "cell_type": "markdown",
   "metadata": {},
   "source": []
  },
  {
   "cell_type": "code",
   "execution_count": 86,
   "metadata": {},
   "outputs": [
    {
     "data": {
      "text/html": [
       "<div>\n",
       "<style scoped>\n",
       "    .dataframe tbody tr th:only-of-type {\n",
       "        vertical-align: middle;\n",
       "    }\n",
       "\n",
       "    .dataframe tbody tr th {\n",
       "        vertical-align: top;\n",
       "    }\n",
       "\n",
       "    .dataframe thead th {\n",
       "        text-align: right;\n",
       "    }\n",
       "</style>\n",
       "<table border=\"1\" class=\"dataframe\">\n",
       "  <thead>\n",
       "    <tr style=\"text-align: right;\">\n",
       "      <th></th>\n",
       "      <th>web_certNumber</th>\n",
       "      <th>web_critical</th>\n",
       "      <th>web_customerNumber</th>\n",
       "      <th>web_direct</th>\n",
       "      <th>web_inspectionDate</th>\n",
       "      <th>web_legalName</th>\n",
       "      <th>web_nonCritical</th>\n",
       "      <th>web_reportLink</th>\n",
       "      <th>web_siteName</th>\n",
       "      <th>web_teachableMoments</th>\n",
       "      <th>...</th>\n",
       "      <th>pdf_customer_name</th>\n",
       "      <th>pdf_customer_addr</th>\n",
       "      <th>pdf_certificate</th>\n",
       "      <th>pdf_site_id</th>\n",
       "      <th>pdf_site_name</th>\n",
       "      <th>pdf_insp_type</th>\n",
       "      <th>pdf_date</th>\n",
       "      <th>pdf_animals_total</th>\n",
       "      <th>doccloud_url</th>\n",
       "      <th>licenseType</th>\n",
       "    </tr>\n",
       "  </thead>\n",
       "  <tbody>\n",
       "    <tr>\n",
       "      <th>0</th>\n",
       "      <td>87-R-0002</td>\n",
       "      <td>0</td>\n",
       "      <td>2</td>\n",
       "      <td>0</td>\n",
       "      <td>2015-05-13</td>\n",
       "      <td>UTAH STATE UNIVERSITY</td>\n",
       "      <td>0</td>\n",
       "      <td>https://aphis--c.na107.content.force.com/sfc/d...</td>\n",
       "      <td>UTAH STATE UNIVERSITY</td>\n",
       "      <td>0</td>\n",
       "      <td>...</td>\n",
       "      <td>Utah State University</td>\n",
       "      <td>V.P. For Research/1450 Old Main Hill\\nLogan, U...</td>\n",
       "      <td>87-R-0002</td>\n",
       "      <td>001</td>\n",
       "      <td>UTAH STATE UNIVERSITY</td>\n",
       "      <td>ROUTINE INSPECTION</td>\n",
       "      <td>13-MAY-2015</td>\n",
       "      <td>214.0</td>\n",
       "      <td>https://www.documentcloud.org/documents/234700...</td>\n",
       "      <td>R</td>\n",
       "    </tr>\n",
       "    <tr>\n",
       "      <th>1</th>\n",
       "      <td>87-R-0002</td>\n",
       "      <td>0</td>\n",
       "      <td>2</td>\n",
       "      <td>0</td>\n",
       "      <td>2015-05-13</td>\n",
       "      <td>UTAH STATE UNIVERSITY</td>\n",
       "      <td>0</td>\n",
       "      <td>https://aphis--c.na107.content.force.com/sfc/d...</td>\n",
       "      <td>UTAH STATE UNIVERSITY</td>\n",
       "      <td>0</td>\n",
       "      <td>...</td>\n",
       "      <td>Utah State University</td>\n",
       "      <td>V.P. For Research/1450 Old Main Hill\\nLogan, U...</td>\n",
       "      <td>87-R-0002</td>\n",
       "      <td>002</td>\n",
       "      <td>UTAH STATE UNIVERSITY</td>\n",
       "      <td>ROUTINE INSPECTION</td>\n",
       "      <td>13-MAY-2015</td>\n",
       "      <td>0.0</td>\n",
       "      <td>https://www.documentcloud.org/documents/234700...</td>\n",
       "      <td>R</td>\n",
       "    </tr>\n",
       "    <tr>\n",
       "      <th>2</th>\n",
       "      <td>87-R-0002</td>\n",
       "      <td>0</td>\n",
       "      <td>2</td>\n",
       "      <td>0</td>\n",
       "      <td>2016-09-26</td>\n",
       "      <td>UTAH STATE UNIVERSITY</td>\n",
       "      <td>1</td>\n",
       "      <td>https://aphis--c.na107.content.force.com/sfc/d...</td>\n",
       "      <td>UTAH STATE UNIVERSITY</td>\n",
       "      <td>2</td>\n",
       "      <td>...</td>\n",
       "      <td>Utah State University</td>\n",
       "      <td>V.P. For Research/1450 Old Main Hill\\nLogan, U...</td>\n",
       "      <td>87-R-0002</td>\n",
       "      <td>001</td>\n",
       "      <td>UTAH STATE UNIVERSITY</td>\n",
       "      <td>ROUTINE INSPECTION</td>\n",
       "      <td>26-SEP-2016</td>\n",
       "      <td>653.0</td>\n",
       "      <td>https://www.documentcloud.org/documents/234700...</td>\n",
       "      <td>R</td>\n",
       "    </tr>\n",
       "    <tr>\n",
       "      <th>3</th>\n",
       "      <td>87-R-0002</td>\n",
       "      <td>0</td>\n",
       "      <td>2</td>\n",
       "      <td>0</td>\n",
       "      <td>2016-09-26</td>\n",
       "      <td>UTAH STATE UNIVERSITY</td>\n",
       "      <td>0</td>\n",
       "      <td>https://aphis--c.na107.content.force.com/sfc/d...</td>\n",
       "      <td>UTAH STATE UNIVERSITY</td>\n",
       "      <td>0</td>\n",
       "      <td>...</td>\n",
       "      <td>Utah State University</td>\n",
       "      <td>V.P. For Research/1450 Old Main Hill\\nLogan, U...</td>\n",
       "      <td>87-R-0002</td>\n",
       "      <td>002</td>\n",
       "      <td>UTAH STATE UNIVERSITY</td>\n",
       "      <td>ROUTINE INSPECTION</td>\n",
       "      <td>26-SEP-2016</td>\n",
       "      <td>0.0</td>\n",
       "      <td>https://www.documentcloud.org/documents/234701...</td>\n",
       "      <td>R</td>\n",
       "    </tr>\n",
       "    <tr>\n",
       "      <th>4</th>\n",
       "      <td>87-R-0002</td>\n",
       "      <td>0</td>\n",
       "      <td>2</td>\n",
       "      <td>0</td>\n",
       "      <td>2017-09-07</td>\n",
       "      <td>UTAH STATE UNIVERSITY</td>\n",
       "      <td>1</td>\n",
       "      <td>https://aphis--c.na107.content.force.com/sfc/d...</td>\n",
       "      <td>UTAH STATE UNIVERSITY</td>\n",
       "      <td>0</td>\n",
       "      <td>...</td>\n",
       "      <td>Utah State University</td>\n",
       "      <td>V.P. For Research/1450 Old Main Hill\\nLogan, U...</td>\n",
       "      <td>87-R-0002</td>\n",
       "      <td>001</td>\n",
       "      <td>UTAH STATE UNIVERSITY</td>\n",
       "      <td>ROUTINE INSPECTION</td>\n",
       "      <td>07-SEP-2017</td>\n",
       "      <td>594.0</td>\n",
       "      <td>https://www.documentcloud.org/documents/234701...</td>\n",
       "      <td>R</td>\n",
       "    </tr>\n",
       "  </tbody>\n",
       "</table>\n",
       "<p>5 rows × 25 columns</p>\n",
       "</div>"
      ],
      "text/plain": [
       "  web_certNumber  web_critical  web_customerNumber  web_direct  \\\n",
       "0      87-R-0002             0                   2           0   \n",
       "1      87-R-0002             0                   2           0   \n",
       "2      87-R-0002             0                   2           0   \n",
       "3      87-R-0002             0                   2           0   \n",
       "4      87-R-0002             0                   2           0   \n",
       "\n",
       "  web_inspectionDate          web_legalName  web_nonCritical  \\\n",
       "0         2015-05-13  UTAH STATE UNIVERSITY                0   \n",
       "1         2015-05-13  UTAH STATE UNIVERSITY                0   \n",
       "2         2016-09-26  UTAH STATE UNIVERSITY                1   \n",
       "3         2016-09-26  UTAH STATE UNIVERSITY                0   \n",
       "4         2017-09-07  UTAH STATE UNIVERSITY                1   \n",
       "\n",
       "                                      web_reportLink           web_siteName  \\\n",
       "0  https://aphis--c.na107.content.force.com/sfc/d...  UTAH STATE UNIVERSITY   \n",
       "1  https://aphis--c.na107.content.force.com/sfc/d...  UTAH STATE UNIVERSITY   \n",
       "2  https://aphis--c.na107.content.force.com/sfc/d...  UTAH STATE UNIVERSITY   \n",
       "3  https://aphis--c.na107.content.force.com/sfc/d...  UTAH STATE UNIVERSITY   \n",
       "4  https://aphis--c.na107.content.force.com/sfc/d...  UTAH STATE UNIVERSITY   \n",
       "\n",
       "   web_teachableMoments  ...      pdf_customer_name  \\\n",
       "0                     0  ...  Utah State University   \n",
       "1                     0  ...  Utah State University   \n",
       "2                     2  ...  Utah State University   \n",
       "3                     0  ...  Utah State University   \n",
       "4                     0  ...  Utah State University   \n",
       "\n",
       "                                   pdf_customer_addr pdf_certificate  \\\n",
       "0  V.P. For Research/1450 Old Main Hill\\nLogan, U...       87-R-0002   \n",
       "1  V.P. For Research/1450 Old Main Hill\\nLogan, U...       87-R-0002   \n",
       "2  V.P. For Research/1450 Old Main Hill\\nLogan, U...       87-R-0002   \n",
       "3  V.P. For Research/1450 Old Main Hill\\nLogan, U...       87-R-0002   \n",
       "4  V.P. For Research/1450 Old Main Hill\\nLogan, U...       87-R-0002   \n",
       "\n",
       "  pdf_site_id          pdf_site_name       pdf_insp_type     pdf_date  \\\n",
       "0         001  UTAH STATE UNIVERSITY  ROUTINE INSPECTION  13-MAY-2015   \n",
       "1         002  UTAH STATE UNIVERSITY  ROUTINE INSPECTION  13-MAY-2015   \n",
       "2         001  UTAH STATE UNIVERSITY  ROUTINE INSPECTION  26-SEP-2016   \n",
       "3         002  UTAH STATE UNIVERSITY  ROUTINE INSPECTION  26-SEP-2016   \n",
       "4         001  UTAH STATE UNIVERSITY  ROUTINE INSPECTION  07-SEP-2017   \n",
       "\n",
       "  pdf_animals_total                                       doccloud_url  \\\n",
       "0             214.0  https://www.documentcloud.org/documents/234700...   \n",
       "1               0.0  https://www.documentcloud.org/documents/234700...   \n",
       "2             653.0  https://www.documentcloud.org/documents/234700...   \n",
       "3               0.0  https://www.documentcloud.org/documents/234701...   \n",
       "4             594.0  https://www.documentcloud.org/documents/234701...   \n",
       "\n",
       "  licenseType  \n",
       "0           R  \n",
       "1           R  \n",
       "2           R  \n",
       "3           R  \n",
       "4           R  \n",
       "\n",
       "[5 rows x 25 columns]"
      ]
     },
     "execution_count": 86,
     "metadata": {},
     "output_type": "execute_result"
    }
   ],
   "source": [
    "inspection_data = pd.read_csv(\"inspections.csv\")\n",
    "inspection_data.head()"
   ]
  },
  {
   "cell_type": "code",
   "execution_count": 87,
   "metadata": {},
   "outputs": [
    {
     "data": {
      "text/plain": [
       "Index(['certNumber', 'critical', 'customerNumber', 'irect', 'inspectionDate',\n",
       "       'legalName', 'nonCritical', 'reportLink', 'siteName',\n",
       "       'teachableMoments', 'hash_id', 'iscovered', 'insp_id', 'layout',\n",
       "       'customer_id', 'customer_name', 'customer_addr', 'certificate',\n",
       "       'site_id', 'site_name', 'insp_type', 'ate', 'animals_total',\n",
       "       'occloud_url', 'licenseType'],\n",
       "      dtype='object')"
      ]
     },
     "execution_count": 87,
     "metadata": {},
     "output_type": "execute_result"
    }
   ],
   "source": [
    "inspection_data.columns = [colName.lstrip('web_') for colName in inspection_data.columns]\n",
    "inspection_data.columns = [colName.lstrip('pdf_') for colName in inspection_data.columns]\n",
    "\n",
    "inspection_data.columns"
   ]
  },
  {
   "cell_type": "code",
   "execution_count": 88,
   "metadata": {},
   "outputs": [],
   "source": [
    "useful_columns = ['inspectionDate','insp_type','licenseType','critical','nonCritical','teachableMoments','animals_total','legalName','siteName','customer_addr','reportLink']"
   ]
  },
  {
   "cell_type": "code",
   "execution_count": 89,
   "metadata": {},
   "outputs": [
    {
     "data": {
      "text/plain": [
       "inspectionDate       object\n",
       "insp_type            object\n",
       "licenseType          object\n",
       "critical              int64\n",
       "nonCritical           int64\n",
       "teachableMoments      int64\n",
       "animals_total       float64\n",
       "legalName            object\n",
       "siteName             object\n",
       "customer_addr        object\n",
       "reportLink           object\n",
       "dtype: object"
      ]
     },
     "execution_count": 89,
     "metadata": {},
     "output_type": "execute_result"
    }
   ],
   "source": [
    "inspection_data = inspection_data[useful_columns]\n",
    "inspection_data.dtypes"
   ]
  },
  {
   "cell_type": "code",
   "execution_count": 90,
   "metadata": {},
   "outputs": [
    {
     "name": "stderr",
     "output_type": "stream",
     "text": [
      "/home/gustav/Documents/Programming/Data_Analytics/Animal Welfare Inspections/myenv/lib/python3.10/site-packages/pandas/core/strings/accessor.py:2607: FutureWarning:\n",
      "\n",
      "Possible nested set at position 52\n",
      "\n"
     ]
    },
    {
     "data": {
      "text/plain": [
       "Street    8520 Allison Pointe Blvd., Suite 400\n",
       "City                              Indianapolis\n",
       "State                                       IN\n",
       "ZIP                                      46250\n",
       "Name: 81671, dtype: object"
      ]
     },
     "execution_count": 90,
     "metadata": {},
     "output_type": "execute_result"
    }
   ],
   "source": [
    "# inspection_data['customer_addr'].str.split('\\n', expand=True).sample(5)\n",
    "def parse_address(df_column):\n",
    "    # split_address = parsed['Address'].str.split(pat='\\n',n=2,expand=True)\n",
    "    parsed = df_column.str.extract(r'(?P<Street>[\\w|\\s|,|.]*)\\n(?P<City>.*),\\s(?P<State>[[A-Z]{2})\\s(?P<ZIP>\\d\\d\\d\\d\\d)',expand=True)\n",
    "    # split_address = split_address.rename(columns={0:\"Address1\",1:\"Address2\",2:\"Address3\"})\n",
    "    # parsed = split_address.join(parsed.drop(columns='Address'))\n",
    "    parsed['Street'] = parsed['Street'].str.replace('\\n',', ')\n",
    "\n",
    "    return parsed\n",
    "\n",
    "parse_address(inspection_data['customer_addr']).iloc[81671]"
   ]
  },
  {
   "cell_type": "code",
   "execution_count": 91,
   "metadata": {},
   "outputs": [
    {
     "data": {
      "text/plain": [
       "343"
      ]
     },
     "execution_count": 91,
     "metadata": {},
     "output_type": "execute_result"
    }
   ],
   "source": [
    "len(inspection_data.query('critical > 1 | nonCritical > 8'))"
   ]
  },
  {
   "cell_type": "code",
   "execution_count": 92,
   "metadata": {},
   "outputs": [
    {
     "data": {
      "text/plain": [
       "343"
      ]
     },
     "execution_count": 92,
     "metadata": {},
     "output_type": "execute_result"
    }
   ],
   "source": [
    "\n",
    "multiple_criticals = inspection_data.query('critical > 1 | nonCritical > 8')\n",
    "multiple_criticals = multiple_criticals.sort_values('animals_total',ascending = False, axis=0)\n",
    "len(multiple_criticals)"
   ]
  },
  {
   "cell_type": "code",
   "execution_count": 93,
   "metadata": {},
   "outputs": [
    {
     "ename": "KeyboardInterrupt",
     "evalue": "",
     "output_type": "error",
     "traceback": [
      "\u001b[0;31m---------------------------------------------------------------------------\u001b[0m",
      "\u001b[0;31mKeyboardInterrupt\u001b[0m                         Traceback (most recent call last)",
      "Cell \u001b[0;32mIn[93], line 6\u001b[0m\n\u001b[1;32m      3\u001b[0m \u001b[39mdef\u001b[39;00m \u001b[39mmake_clickable\u001b[39m(hyperlink):\n\u001b[1;32m      4\u001b[0m     \u001b[39mreturn\u001b[39;00m \u001b[39mf\u001b[39m\u001b[39m'\u001b[39m\u001b[39m<a target=\u001b[39m\u001b[39m\"\u001b[39m\u001b[39m_blank\u001b[39m\u001b[39m\"\u001b[39m\u001b[39m href=\u001b[39m\u001b[39m\"\u001b[39m\u001b[39m{\u001b[39;00mhyperlink\u001b[39m}\u001b[39;00m\u001b[39m\"\u001b[39m\u001b[39m>\u001b[39m\u001b[39m{\u001b[39;00mhyperlink\u001b[39m}\u001b[39;00m\u001b[39m</a>\u001b[39m\u001b[39m'\u001b[39m\u001b[39m.\u001b[39mlstrip()\n\u001b[0;32m----> 6\u001b[0m multiple_criticals[multiple_criticals\u001b[39m.\u001b[39;49misna()\u001b[39m.\u001b[39;49many(axis\u001b[39m=\u001b[39;49m\u001b[39m1\u001b[39;49m)]\u001b[39m.\u001b[39;49mstyle\u001b[39m.\u001b[39mformat({\u001b[39m'\u001b[39m\u001b[39mreportLink\u001b[39m\u001b[39m'\u001b[39m:make_clickable})\n",
      "File \u001b[0;32m~/Documents/Programming/Data_Analytics/Animal Welfare Inspections/myenv/lib/python3.10/site-packages/pandas/core/frame.py:1265\u001b[0m, in \u001b[0;36mDataFrame.style\u001b[0;34m(self)\u001b[0m\n\u001b[1;32m   1253\u001b[0m \u001b[39m@property\u001b[39m\n\u001b[1;32m   1254\u001b[0m \u001b[39mdef\u001b[39;00m \u001b[39mstyle\u001b[39m(\u001b[39mself\u001b[39m) \u001b[39m-\u001b[39m\u001b[39m>\u001b[39m Styler:\n\u001b[1;32m   1255\u001b[0m \u001b[39m    \u001b[39m\u001b[39m\"\"\"\u001b[39;00m\n\u001b[1;32m   1256\u001b[0m \u001b[39m    Returns a Styler object.\u001b[39;00m\n\u001b[1;32m   1257\u001b[0m \n\u001b[0;32m   (...)\u001b[0m\n\u001b[1;32m   1263\u001b[0m \u001b[39m        data with HTML and CSS.\u001b[39;00m\n\u001b[1;32m   1264\u001b[0m \u001b[39m    \"\"\"\u001b[39;00m\n\u001b[0;32m-> 1265\u001b[0m     \u001b[39mfrom\u001b[39;00m \u001b[39mpandas\u001b[39;00m\u001b[39m.\u001b[39;00m\u001b[39mio\u001b[39;00m\u001b[39m.\u001b[39;00m\u001b[39mformats\u001b[39;00m\u001b[39m.\u001b[39;00m\u001b[39mstyle\u001b[39;00m \u001b[39mimport\u001b[39;00m Styler\n\u001b[1;32m   1267\u001b[0m     \u001b[39mreturn\u001b[39;00m Styler(\u001b[39mself\u001b[39m)\n",
      "File \u001b[0;32m~/Documents/Programming/Data_Analytics/Animal Welfare Inspections/myenv/lib/python3.10/site-packages/pandas/io/formats/style.py:56\u001b[0m\n\u001b[1;32m     52\u001b[0m \u001b[39mfrom\u001b[39;00m \u001b[39mpandas\u001b[39;00m\u001b[39m.\u001b[39;00m\u001b[39mcore\u001b[39;00m\u001b[39m.\u001b[39;00m\u001b[39mshared_docs\u001b[39;00m \u001b[39mimport\u001b[39;00m _shared_docs\n\u001b[1;32m     54\u001b[0m \u001b[39mfrom\u001b[39;00m \u001b[39mpandas\u001b[39;00m\u001b[39m.\u001b[39;00m\u001b[39mio\u001b[39;00m\u001b[39m.\u001b[39;00m\u001b[39mformats\u001b[39;00m\u001b[39m.\u001b[39;00m\u001b[39mformat\u001b[39;00m \u001b[39mimport\u001b[39;00m save_to_buffer\n\u001b[0;32m---> 56\u001b[0m jinja2 \u001b[39m=\u001b[39m import_optional_dependency(\u001b[39m\"\u001b[39;49m\u001b[39mjinja2\u001b[39;49m\u001b[39m\"\u001b[39;49m, extra\u001b[39m=\u001b[39;49m\u001b[39m\"\u001b[39;49m\u001b[39mDataFrame.style requires jinja2.\u001b[39;49m\u001b[39m\"\u001b[39;49m)\n\u001b[1;32m     58\u001b[0m \u001b[39mfrom\u001b[39;00m \u001b[39mpandas\u001b[39;00m\u001b[39m.\u001b[39;00m\u001b[39mio\u001b[39;00m\u001b[39m.\u001b[39;00m\u001b[39mformats\u001b[39;00m\u001b[39m.\u001b[39;00m\u001b[39mstyle_render\u001b[39;00m \u001b[39mimport\u001b[39;00m (\n\u001b[1;32m     59\u001b[0m     CSSProperties,\n\u001b[1;32m     60\u001b[0m     CSSStyles,\n\u001b[0;32m   (...)\u001b[0m\n\u001b[1;32m     68\u001b[0m     refactor_levels,\n\u001b[1;32m     69\u001b[0m )\n\u001b[1;32m     71\u001b[0m \u001b[39mtry\u001b[39;00m:\n",
      "File \u001b[0;32m~/Documents/Programming/Data_Analytics/Animal Welfare Inspections/myenv/lib/python3.10/site-packages/pandas/compat/_optional.py:141\u001b[0m, in \u001b[0;36mimport_optional_dependency\u001b[0;34m(name, extra, errors, min_version)\u001b[0m\n\u001b[1;32m    136\u001b[0m msg \u001b[39m=\u001b[39m (\n\u001b[1;32m    137\u001b[0m     \u001b[39mf\u001b[39m\u001b[39m\"\u001b[39m\u001b[39mMissing optional dependency \u001b[39m\u001b[39m'\u001b[39m\u001b[39m{\u001b[39;00minstall_name\u001b[39m}\u001b[39;00m\u001b[39m'\u001b[39m\u001b[39m. \u001b[39m\u001b[39m{\u001b[39;00mextra\u001b[39m}\u001b[39;00m\u001b[39m \u001b[39m\u001b[39m\"\u001b[39m\n\u001b[1;32m    138\u001b[0m     \u001b[39mf\u001b[39m\u001b[39m\"\u001b[39m\u001b[39mUse pip or conda to install \u001b[39m\u001b[39m{\u001b[39;00minstall_name\u001b[39m}\u001b[39;00m\u001b[39m.\u001b[39m\u001b[39m\"\u001b[39m\n\u001b[1;32m    139\u001b[0m )\n\u001b[1;32m    140\u001b[0m \u001b[39mtry\u001b[39;00m:\n\u001b[0;32m--> 141\u001b[0m     module \u001b[39m=\u001b[39m importlib\u001b[39m.\u001b[39;49mimport_module(name)\n\u001b[1;32m    142\u001b[0m \u001b[39mexcept\u001b[39;00m \u001b[39mImportError\u001b[39;00m:\n\u001b[1;32m    143\u001b[0m     \u001b[39mif\u001b[39;00m errors \u001b[39m==\u001b[39m \u001b[39m\"\u001b[39m\u001b[39mraise\u001b[39m\u001b[39m\"\u001b[39m:\n",
      "File \u001b[0;32m/usr/lib/python3.10/importlib/__init__.py:126\u001b[0m, in \u001b[0;36mimport_module\u001b[0;34m(name, package)\u001b[0m\n\u001b[1;32m    124\u001b[0m             \u001b[39mbreak\u001b[39;00m\n\u001b[1;32m    125\u001b[0m         level \u001b[39m+\u001b[39m\u001b[39m=\u001b[39m \u001b[39m1\u001b[39m\n\u001b[0;32m--> 126\u001b[0m \u001b[39mreturn\u001b[39;00m _bootstrap\u001b[39m.\u001b[39;49m_gcd_import(name[level:], package, level)\n",
      "File \u001b[0;32m~/Documents/Programming/Data_Analytics/Animal Welfare Inspections/myenv/lib/python3.10/site-packages/jinja2/__init__.py:8\u001b[0m\n\u001b[1;32m      6\u001b[0m \u001b[39mfrom\u001b[39;00m \u001b[39m.\u001b[39;00m\u001b[39mbccache\u001b[39;00m \u001b[39mimport\u001b[39;00m FileSystemBytecodeCache \u001b[39mas\u001b[39;00m FileSystemBytecodeCache\n\u001b[1;32m      7\u001b[0m \u001b[39mfrom\u001b[39;00m \u001b[39m.\u001b[39;00m\u001b[39mbccache\u001b[39;00m \u001b[39mimport\u001b[39;00m MemcachedBytecodeCache \u001b[39mas\u001b[39;00m MemcachedBytecodeCache\n\u001b[0;32m----> 8\u001b[0m \u001b[39mfrom\u001b[39;00m \u001b[39m.\u001b[39;00m\u001b[39menvironment\u001b[39;00m \u001b[39mimport\u001b[39;00m Environment \u001b[39mas\u001b[39;00m Environment\n\u001b[1;32m      9\u001b[0m \u001b[39mfrom\u001b[39;00m \u001b[39m.\u001b[39;00m\u001b[39menvironment\u001b[39;00m \u001b[39mimport\u001b[39;00m Template \u001b[39mas\u001b[39;00m Template\n\u001b[1;32m     10\u001b[0m \u001b[39mfrom\u001b[39;00m \u001b[39m.\u001b[39;00m\u001b[39mexceptions\u001b[39;00m \u001b[39mimport\u001b[39;00m TemplateAssertionError \u001b[39mas\u001b[39;00m TemplateAssertionError\n",
      "File \u001b[0;32m~/Documents/Programming/Data_Analytics/Animal Welfare Inspections/myenv/lib/python3.10/site-packages/jinja2/environment.py:40\u001b[0m\n\u001b[1;32m     38\u001b[0m \u001b[39mfrom\u001b[39;00m \u001b[39m.\u001b[39;00m\u001b[39mexceptions\u001b[39;00m \u001b[39mimport\u001b[39;00m TemplateSyntaxError\n\u001b[1;32m     39\u001b[0m \u001b[39mfrom\u001b[39;00m \u001b[39m.\u001b[39;00m\u001b[39mexceptions\u001b[39;00m \u001b[39mimport\u001b[39;00m UndefinedError\n\u001b[0;32m---> 40\u001b[0m \u001b[39mfrom\u001b[39;00m \u001b[39m.\u001b[39;00m\u001b[39mlexer\u001b[39;00m \u001b[39mimport\u001b[39;00m get_lexer\n\u001b[1;32m     41\u001b[0m \u001b[39mfrom\u001b[39;00m \u001b[39m.\u001b[39;00m\u001b[39mlexer\u001b[39;00m \u001b[39mimport\u001b[39;00m Lexer\n\u001b[1;32m     42\u001b[0m \u001b[39mfrom\u001b[39;00m \u001b[39m.\u001b[39;00m\u001b[39mlexer\u001b[39;00m \u001b[39mimport\u001b[39;00m TokenStream\n",
      "File \u001b[0;32m~/Documents/Programming/Data_Analytics/Animal Welfare Inspections/myenv/lib/python3.10/site-packages/jinja2/lexer.py:9\u001b[0m\n\u001b[1;32m      7\u001b[0m \u001b[39mimport\u001b[39;00m \u001b[39mtyping\u001b[39;00m \u001b[39mas\u001b[39;00m \u001b[39mt\u001b[39;00m\n\u001b[1;32m      8\u001b[0m \u001b[39mfrom\u001b[39;00m \u001b[39mast\u001b[39;00m \u001b[39mimport\u001b[39;00m literal_eval\n\u001b[0;32m----> 9\u001b[0m \u001b[39mfrom\u001b[39;00m \u001b[39mcollections\u001b[39;00m \u001b[39mimport\u001b[39;00m deque\n\u001b[1;32m     10\u001b[0m \u001b[39mfrom\u001b[39;00m \u001b[39msys\u001b[39;00m \u001b[39mimport\u001b[39;00m intern\n\u001b[1;32m     12\u001b[0m \u001b[39mfrom\u001b[39;00m \u001b[39m.\u001b[39;00m\u001b[39m_identifier\u001b[39;00m \u001b[39mimport\u001b[39;00m pattern \u001b[39mas\u001b[39;00m name_re\n",
      "File \u001b[0;32m<frozen importlib._bootstrap>:1053\u001b[0m, in \u001b[0;36m_handle_fromlist\u001b[0;34m(module, fromlist, import_, recursive)\u001b[0m\n",
      "\u001b[0;31mKeyboardInterrupt\u001b[0m: "
     ]
    }
   ],
   "source": [
    "# find any entries that have null data and review associated reports\n",
    "\n",
    "def make_clickable(hyperlink):\n",
    "    return f'<a target=\"_blank\" href=\"{hyperlink}\">{hyperlink}</a>'.lstrip()\n",
    "\n",
    "multiple_criticals[multiple_criticals.isna().any(axis=1)].style.format({'reportLink':make_clickable})"
   ]
  },
  {
   "cell_type": "code",
   "execution_count": null,
   "metadata": {},
   "outputs": [],
   "source": [
    "# The 'City of El Paso' entry has very limited information, so it will be dropped\n",
    "# The license type can easily be imputed from the report. In this case, they refer to an exotic animal sanctuary that was exhibiting without a license\n",
    "# Class A refers to a breeder, B to a dealer, R to research, and C to an exhibitor\n",
    "# Because it helps categorize them, we'll replace license type here with a C\n",
    "\n",
    "# Reading the report on Nolan and Gina Den Boer reveals that they own dog breeding kennels, which the report indicates contain at least 16 animals, so that value will be updated\n",
    "\n",
    "try:\n",
    "    multiple_criticals = multiple_criticals.drop(18013)\n",
    "except:\n",
    "    pass\n",
    "multiple_criticals.at[38578,'animals_total'] = 16.0\n",
    "multiple_criticals.at[64913,'licenseType'] = 'C'\n",
    "multiple_criticals.at[40371,'licenseType'] = 'C'\n",
    "multiple_criticals.at[40372,'licenseType'] = 'C'\n",
    "multiple_criticals.at[64914,'licenseType'] = 'C'"
   ]
  },
  {
   "cell_type": "code",
   "execution_count": null,
   "metadata": {},
   "outputs": [],
   "source": [
    "# Also because I'm interested in publishing this, we'll replace the license type letters with the type of animal handler\n",
    "\n",
    "type_dict = {\n",
    "    'A': 'Breeder',\n",
    "    'B': 'Dealer',\n",
    "    'C': 'Exhibitor',\n",
    "    'R': 'Research',\n",
    "}\n",
    "\n",
    "multiple_criticals['type'] = multiple_criticals['licenseType'].map(type_dict)"
   ]
  },
  {
   "cell_type": "code",
   "execution_count": null,
   "metadata": {},
   "outputs": [],
   "source": [
    "#geotag the location using a call to ARCGIS geocoder\n",
    "\n",
    "multiple_criticals['loc'] = multiple_criticals['customer_addr'].apply(geocoder.arcgis)"
   ]
  },
  {
   "cell_type": "code",
   "execution_count": null,
   "metadata": {},
   "outputs": [
    {
     "data": {
      "text/plain": [
       "{'address': '1501 S Agnew Ave, Oklahoma City, Oklahoma, 73108',\n",
       " 'bbox': {'northeast': [35.45137699185795, -97.55402696035198],\n",
       "  'southwest': [35.44937699185795, -97.55602696035199]},\n",
       " 'confidence': 9,\n",
       " 'lat': 35.45037699185795,\n",
       " 'lng': -97.55502696035198,\n",
       " 'ok': True,\n",
       " 'quality': 'PointAddress',\n",
       " 'raw': {'name': '1501 S Agnew Ave, Oklahoma City, Oklahoma, 73108',\n",
       "  'extent': {'xmin': -97.55602696035199,\n",
       "   'ymin': 35.44937699185795,\n",
       "   'xmax': -97.55402696035198,\n",
       "   'ymax': 35.45137699185795},\n",
       "  'feature': {'geometry': {'x': -97.55502696035198, 'y': 35.45037699185795},\n",
       "   'attributes': {'Score': 98.84, 'Addr_Type': 'PointAddress'}}},\n",
       " 'score': 98.84,\n",
       " 'status': 'OK'}"
      ]
     },
     "execution_count": 29,
     "metadata": {},
     "output_type": "execute_result"
    }
   ],
   "source": [
    "# This is what a location looks like, a JSON object with lots of information enabling data mapping\n",
    "multiple_criticals['loc'].iloc[20].json"
   ]
  },
  {
   "cell_type": "code",
   "execution_count": null,
   "metadata": {},
   "outputs": [
    {
     "data": {
      "text/html": [
       "<div>\n",
       "<style scoped>\n",
       "    .dataframe tbody tr th:only-of-type {\n",
       "        vertical-align: middle;\n",
       "    }\n",
       "\n",
       "    .dataframe tbody tr th {\n",
       "        vertical-align: top;\n",
       "    }\n",
       "\n",
       "    .dataframe thead th {\n",
       "        text-align: right;\n",
       "    }\n",
       "</style>\n",
       "<table border=\"1\" class=\"dataframe\">\n",
       "  <thead>\n",
       "    <tr style=\"text-align: right;\">\n",
       "      <th></th>\n",
       "      <th>inspectionDate</th>\n",
       "      <th>insp_type</th>\n",
       "      <th>licenseType</th>\n",
       "      <th>critical</th>\n",
       "      <th>nonCritical</th>\n",
       "      <th>teachableMoments</th>\n",
       "      <th>animals_total</th>\n",
       "      <th>legalName</th>\n",
       "      <th>siteName</th>\n",
       "      <th>customer_addr</th>\n",
       "      <th>reportLink</th>\n",
       "      <th>type</th>\n",
       "      <th>loc</th>\n",
       "    </tr>\n",
       "  </thead>\n",
       "  <tbody>\n",
       "    <tr>\n",
       "      <th>5881</th>\n",
       "      <td>2022-07-22</td>\n",
       "      <td>ROUTINE INSPECTION</td>\n",
       "      <td>R</td>\n",
       "      <td>2</td>\n",
       "      <td>0</td>\n",
       "      <td>0</td>\n",
       "      <td>2392.0</td>\n",
       "      <td>University of Puerto Rico</td>\n",
       "      <td>SABANA SECA</td>\n",
       "      <td>PO Box 365067 - Medical Science Campus\\nSan Ju...</td>\n",
       "      <td>https://aphis--c.na107.content.force.com/sfc/d...</td>\n",
       "      <td>Research</td>\n",
       "      <td>[[00936]]</td>\n",
       "    </tr>\n",
       "    <tr>\n",
       "      <th>24517</th>\n",
       "      <td>2015-02-03</td>\n",
       "      <td>ROUTINE INSPECTION</td>\n",
       "      <td>A</td>\n",
       "      <td>2</td>\n",
       "      <td>8</td>\n",
       "      <td>0</td>\n",
       "      <td>1189.0</td>\n",
       "      <td>Oakwood Research Facility Inc</td>\n",
       "      <td>OAKWOOD RESEARCH FACILITY INC</td>\n",
       "      <td>P.O. Box 455\\nOxford, MI 48371</td>\n",
       "      <td>https://aphis--c.na107.content.force.com/sfc/d...</td>\n",
       "      <td>Breeder</td>\n",
       "      <td>[[48371, Oxford, Michigan]]</td>\n",
       "    </tr>\n",
       "    <tr>\n",
       "      <th>11437</th>\n",
       "      <td>2022-09-15</td>\n",
       "      <td>FOCUSED INSPECTION</td>\n",
       "      <td>B</td>\n",
       "      <td>1</td>\n",
       "      <td>10</td>\n",
       "      <td>0</td>\n",
       "      <td>1026.0</td>\n",
       "      <td>MOUNT HOPE AUCTION INC</td>\n",
       "      <td>MOUNT HOPE AUCTION, INC.</td>\n",
       "      <td>PO Box 82\\nMt Hope, OH 44660</td>\n",
       "      <td>https://aphis--c.na107.content.force.com/sfc/d...</td>\n",
       "      <td>Dealer</td>\n",
       "      <td>[[44660, Mount Hope, Ohio]]</td>\n",
       "    </tr>\n",
       "    <tr>\n",
       "      <th>5956</th>\n",
       "      <td>2014-02-28</td>\n",
       "      <td>ROUTINE INSPECTION</td>\n",
       "      <td>R</td>\n",
       "      <td>2</td>\n",
       "      <td>2</td>\n",
       "      <td>0</td>\n",
       "      <td>887.0</td>\n",
       "      <td>University of Washington</td>\n",
       "      <td>UNIVERSITY OF WASHINGTON</td>\n",
       "      <td>Box 357160\\nSeattle, WA 98195</td>\n",
       "      <td>https://aphis--c.na107.content.force.com/sfc/d...</td>\n",
       "      <td>Research</td>\n",
       "      <td>[[98195, Seattle, Washington]]</td>\n",
       "    </tr>\n",
       "    <tr>\n",
       "      <th>5977</th>\n",
       "      <td>2021-01-26</td>\n",
       "      <td>ROUTINE INSPECTION</td>\n",
       "      <td>R</td>\n",
       "      <td>2</td>\n",
       "      <td>1</td>\n",
       "      <td>0</td>\n",
       "      <td>625.0</td>\n",
       "      <td>University of Washington</td>\n",
       "      <td>UNIVERSITY OF WASHINGTON</td>\n",
       "      <td>BOX 357160\\nSEATTLE, WA 98195</td>\n",
       "      <td>https://aphis--c.na107.content.force.com/sfc/d...</td>\n",
       "      <td>Research</td>\n",
       "      <td>[[98195, Seattle, Washington]]</td>\n",
       "    </tr>\n",
       "    <tr>\n",
       "      <th>12549</th>\n",
       "      <td>2015-01-06</td>\n",
       "      <td>ROUTINE INSPECTION</td>\n",
       "      <td>C</td>\n",
       "      <td>0</td>\n",
       "      <td>23</td>\n",
       "      <td>0</td>\n",
       "      <td>478.0</td>\n",
       "      <td>KARL  MOGENSEN</td>\n",
       "      <td>KARL MOGENSEN</td>\n",
       "      <td>Po Box 88\\nNatural Bridge, VA 24578</td>\n",
       "      <td>https://aphis--c.na107.content.force.com/sfc/d...</td>\n",
       "      <td>Exhibitor</td>\n",
       "      <td>[[24578, Natural Bridge, Virginia]]</td>\n",
       "    </tr>\n",
       "    <tr>\n",
       "      <th>5110</th>\n",
       "      <td>2022-05-11</td>\n",
       "      <td>ROUTINE INSPECTION</td>\n",
       "      <td>R</td>\n",
       "      <td>2</td>\n",
       "      <td>2</td>\n",
       "      <td>0</td>\n",
       "      <td>424.0</td>\n",
       "      <td>NORTH CAROLINA STATE UNIVERSITY</td>\n",
       "      <td>NORTH CAROLINA STATE UNIVERSITY</td>\n",
       "      <td>CAMPUS BOX 7514\\nRALEIGH, NC 27695</td>\n",
       "      <td>https://aphis--c.na107.content.force.com/sfc/d...</td>\n",
       "      <td>Research</td>\n",
       "      <td>[[27695, Raleigh, North Carolina]]</td>\n",
       "    </tr>\n",
       "    <tr>\n",
       "      <th>8126</th>\n",
       "      <td>2015-01-20</td>\n",
       "      <td>ROUTINE INSPECTION</td>\n",
       "      <td>R</td>\n",
       "      <td>2</td>\n",
       "      <td>2</td>\n",
       "      <td>0</td>\n",
       "      <td>365.0</td>\n",
       "      <td>UNIVERSITY OF OKLAHOMA</td>\n",
       "      <td>RESEARCH BUILDING</td>\n",
       "      <td>P. O. Box 26901\\nOklahoma City, OK 73190</td>\n",
       "      <td>https://aphis--c.na107.content.force.com/sfc/d...</td>\n",
       "      <td>Research</td>\n",
       "      <td>[[73190, Oklahoma City, Oklahoma]]</td>\n",
       "    </tr>\n",
       "    <tr>\n",
       "      <th>12551</th>\n",
       "      <td>2015-03-10</td>\n",
       "      <td>ROUTINE INSPECTION</td>\n",
       "      <td>C</td>\n",
       "      <td>0</td>\n",
       "      <td>11</td>\n",
       "      <td>0</td>\n",
       "      <td>355.0</td>\n",
       "      <td>KARL  MOGENSEN</td>\n",
       "      <td>KARL MOGENSEN</td>\n",
       "      <td>Po Box 88\\nNatural Bridge, VA 24578</td>\n",
       "      <td>https://aphis--c.na107.content.force.com/sfc/d...</td>\n",
       "      <td>Exhibitor</td>\n",
       "      <td>[[24578, Natural Bridge, Virginia]]</td>\n",
       "    </tr>\n",
       "    <tr>\n",
       "      <th>8505</th>\n",
       "      <td>2019-12-17</td>\n",
       "      <td>ROUTINE INSPECTION</td>\n",
       "      <td>R</td>\n",
       "      <td>2</td>\n",
       "      <td>1</td>\n",
       "      <td>0</td>\n",
       "      <td>280.0</td>\n",
       "      <td>Texas Biomedical Research Institute</td>\n",
       "      <td>SOUTHWEST FOUNDATION FOR BIOMEDICAL RESEARCH</td>\n",
       "      <td>P. O. Box 760549\\nSan Antonio, TX 78245</td>\n",
       "      <td>https://aphis--c.na107.content.force.com/sfc/d...</td>\n",
       "      <td>Research</td>\n",
       "      <td>[[78245, San Antonio, Texas]]</td>\n",
       "    </tr>\n",
       "    <tr>\n",
       "      <th>58324</th>\n",
       "      <td>2017-06-19</td>\n",
       "      <td>ROUTINE INSPECTION</td>\n",
       "      <td>A</td>\n",
       "      <td>0</td>\n",
       "      <td>11</td>\n",
       "      <td>0</td>\n",
       "      <td>244.0</td>\n",
       "      <td>Classy Creations</td>\n",
       "      <td>Classy Creations</td>\n",
       "      <td>Po Box 194\\nLyons, NY 14489</td>\n",
       "      <td>https://aphis--c.na107.content.force.com/sfc/d...</td>\n",
       "      <td>Breeder</td>\n",
       "      <td>[[14489, Lyons, New York]]</td>\n",
       "    </tr>\n",
       "    <tr>\n",
       "      <th>30035</th>\n",
       "      <td>2019-02-05</td>\n",
       "      <td>FOCUSED INSPECTION</td>\n",
       "      <td>C</td>\n",
       "      <td>2</td>\n",
       "      <td>2</td>\n",
       "      <td>0</td>\n",
       "      <td>240.0</td>\n",
       "      <td>Save the Chimps Inc.</td>\n",
       "      <td>SAVE THE CHIMPS INC</td>\n",
       "      <td>Po Box 12220\\nFt Pierce, FL 34979</td>\n",
       "      <td>https://aphis--c.na107.content.force.com/sfc/d...</td>\n",
       "      <td>Exhibitor</td>\n",
       "      <td>[[34979, Fort Pierce, Florida]]</td>\n",
       "    </tr>\n",
       "    <tr>\n",
       "      <th>12496</th>\n",
       "      <td>2015-07-13</td>\n",
       "      <td>ROUTINE INSPECTION</td>\n",
       "      <td>C</td>\n",
       "      <td>1</td>\n",
       "      <td>16</td>\n",
       "      <td>0</td>\n",
       "      <td>199.0</td>\n",
       "      <td>Living Treasures II, Inc</td>\n",
       "      <td>LIVING TREASURE ANIMAL PARK</td>\n",
       "      <td>P O Box 346\\nDonegal, PA 15628</td>\n",
       "      <td>https://aphis--c.na107.content.force.com/sfc/d...</td>\n",
       "      <td>Exhibitor</td>\n",
       "      <td>[[15628, Donegal, Pennsylvania]]</td>\n",
       "    </tr>\n",
       "    <tr>\n",
       "      <th>14167</th>\n",
       "      <td>2014-03-13</td>\n",
       "      <td>ROUTINE INSPECTION</td>\n",
       "      <td>C</td>\n",
       "      <td>0</td>\n",
       "      <td>11</td>\n",
       "      <td>0</td>\n",
       "      <td>182.0</td>\n",
       "      <td>Montgomery Zoo</td>\n",
       "      <td>MONTGOMERY  ZOO</td>\n",
       "      <td>P.O. Box 3313\\nMontgomery, AL 36109</td>\n",
       "      <td>https://aphis--c.na107.content.force.com/sfc/d...</td>\n",
       "      <td>Exhibitor</td>\n",
       "      <td>[[36109, Montgomery, Alabama]]</td>\n",
       "    </tr>\n",
       "    <tr>\n",
       "      <th>75419</th>\n",
       "      <td>2020-09-15</td>\n",
       "      <td>ROUTINE INSPECTION</td>\n",
       "      <td>C</td>\n",
       "      <td>3</td>\n",
       "      <td>5</td>\n",
       "      <td>0</td>\n",
       "      <td>158.0</td>\n",
       "      <td>Wilstem Inc.</td>\n",
       "      <td>Wilstem Inc.</td>\n",
       "      <td>P.O. BOX 88\\nFRENCH LICK, IN 47432</td>\n",
       "      <td>https://aphis--c.na107.content.force.com/sfc/d...</td>\n",
       "      <td>Exhibitor</td>\n",
       "      <td>[[47432, French Lick, Indiana]]</td>\n",
       "    </tr>\n",
       "    <tr>\n",
       "      <th>15140</th>\n",
       "      <td>2017-02-07</td>\n",
       "      <td>ROUTINE INSPECTION</td>\n",
       "      <td>C</td>\n",
       "      <td>0</td>\n",
       "      <td>10</td>\n",
       "      <td>0</td>\n",
       "      <td>143.0</td>\n",
       "      <td>Zoologico De Puerto Rico Dr Juan A Rivero</td>\n",
       "      <td>ZOOLOGICAL DE P.R. AT MAYAGUEZ</td>\n",
       "      <td>Po Box 9023207\\nSan Juan, PR 00902</td>\n",
       "      <td>https://aphis--c.na107.content.force.com/sfc/d...</td>\n",
       "      <td>Exhibitor</td>\n",
       "      <td>[[00902]]</td>\n",
       "    </tr>\n",
       "    <tr>\n",
       "      <th>31139</th>\n",
       "      <td>2022-03-01</td>\n",
       "      <td>ROUTINE INSPECTION</td>\n",
       "      <td>C</td>\n",
       "      <td>3</td>\n",
       "      <td>3</td>\n",
       "      <td>0</td>\n",
       "      <td>122.0</td>\n",
       "      <td>Indian Cliffs Ranch Inc.</td>\n",
       "      <td>Indian Cliffs Ranch Inc.</td>\n",
       "      <td>P. O. BOX 1056\\nFABENS, TX 79838</td>\n",
       "      <td>https://aphis--c.na107.content.force.com/sfc/d...</td>\n",
       "      <td>Exhibitor</td>\n",
       "      <td>[[79838, Fabens, Texas]]</td>\n",
       "    </tr>\n",
       "    <tr>\n",
       "      <th>48775</th>\n",
       "      <td>2015-08-12</td>\n",
       "      <td>ROUTINE INSPECTION</td>\n",
       "      <td>C</td>\n",
       "      <td>0</td>\n",
       "      <td>13</td>\n",
       "      <td>0</td>\n",
       "      <td>105.0</td>\n",
       "      <td>Jessica Mason Janell Knudsen</td>\n",
       "      <td>Janell Knudsen &amp; Jessica Mason</td>\n",
       "      <td>Jessica Mason\\nP O Box 2529\\nLiberal, KS 67905</td>\n",
       "      <td>https://aphis--c.na107.content.force.com/sfc/d...</td>\n",
       "      <td>Exhibitor</td>\n",
       "      <td>[[67905, Liberal, Kansas]]</td>\n",
       "    </tr>\n",
       "    <tr>\n",
       "      <th>48773</th>\n",
       "      <td>2015-01-21</td>\n",
       "      <td>ROUTINE INSPECTION</td>\n",
       "      <td>C</td>\n",
       "      <td>0</td>\n",
       "      <td>11</td>\n",
       "      <td>0</td>\n",
       "      <td>99.0</td>\n",
       "      <td>Jessica Mason Janell Knudsen</td>\n",
       "      <td>Janell Knudsen &amp; Jessica Mason</td>\n",
       "      <td>Jessica Mason\\nP O Box 2529\\nLiberal, KS 67905</td>\n",
       "      <td>https://aphis--c.na107.content.force.com/sfc/d...</td>\n",
       "      <td>Exhibitor</td>\n",
       "      <td>[[67905, Liberal, Kansas]]</td>\n",
       "    </tr>\n",
       "    <tr>\n",
       "      <th>5833</th>\n",
       "      <td>2022-09-26</td>\n",
       "      <td>ROUTINE INSPECTION</td>\n",
       "      <td>R</td>\n",
       "      <td>0</td>\n",
       "      <td>12</td>\n",
       "      <td>0</td>\n",
       "      <td>97.0</td>\n",
       "      <td>Blue Ridge Kennel</td>\n",
       "      <td>BLUE RIDGE KENNEL</td>\n",
       "      <td>P.O. Box 1207\\nWetumpka, AL 36092</td>\n",
       "      <td>https://aphis--c.na107.content.force.com/sfc/d...</td>\n",
       "      <td>Research</td>\n",
       "      <td>[[36092, Wetumpka, Alabama]]</td>\n",
       "    </tr>\n",
       "    <tr>\n",
       "      <th>16153</th>\n",
       "      <td>2015-10-27</td>\n",
       "      <td>ROUTINE INSPECTION</td>\n",
       "      <td>C</td>\n",
       "      <td>3</td>\n",
       "      <td>3</td>\n",
       "      <td>0</td>\n",
       "      <td>96.0</td>\n",
       "      <td>City Of Idaho Falls</td>\n",
       "      <td>CITY OF IDAHO FALLS</td>\n",
       "      <td>P. O. Box 50220\\nIdaho Falls, ID 83405</td>\n",
       "      <td>https://aphis--c.na107.content.force.com/sfc/d...</td>\n",
       "      <td>Exhibitor</td>\n",
       "      <td>[[83405, Idaho Falls, Idaho]]</td>\n",
       "    </tr>\n",
       "    <tr>\n",
       "      <th>72160</th>\n",
       "      <td>2017-07-18</td>\n",
       "      <td>ROUTINE INSPECTION</td>\n",
       "      <td>A</td>\n",
       "      <td>3</td>\n",
       "      <td>2</td>\n",
       "      <td>2</td>\n",
       "      <td>95.0</td>\n",
       "      <td>SANDSTONE VALLEY LLC</td>\n",
       "      <td>Dan Yoder</td>\n",
       "      <td>Po Box 642\\nSaint Charles, MN 55972</td>\n",
       "      <td>https://aphis--c.na107.content.force.com/sfc/d...</td>\n",
       "      <td>Breeder</td>\n",
       "      <td>[[55972, Saint Charles, Minnesota]]</td>\n",
       "    </tr>\n",
       "    <tr>\n",
       "      <th>3459</th>\n",
       "      <td>2022-02-08</td>\n",
       "      <td>FOCUSED INSPECTION</td>\n",
       "      <td>R</td>\n",
       "      <td>2</td>\n",
       "      <td>0</td>\n",
       "      <td>0</td>\n",
       "      <td>88.0</td>\n",
       "      <td>UNIVERSITY OF ILLINOIS AT URBANA-CHAMPAIGN</td>\n",
       "      <td>UNIV. OF ILLINOIS - URBANA-CHAMPAIGN</td>\n",
       "      <td>1 OBSERVATORY BUILDING\\n901 S. MATHEWS\\nURBANA...</td>\n",
       "      <td>https://aphis--c.na107.content.force.com/sfc/d...</td>\n",
       "      <td>Research</td>\n",
       "      <td>[[61801, Urbana, Illinois]]</td>\n",
       "    </tr>\n",
       "    <tr>\n",
       "      <th>10504</th>\n",
       "      <td>2018-02-20</td>\n",
       "      <td>ROUTINE INSPECTION</td>\n",
       "      <td>C</td>\n",
       "      <td>0</td>\n",
       "      <td>12</td>\n",
       "      <td>0</td>\n",
       "      <td>82.0</td>\n",
       "      <td>Forest Park Zoological Society</td>\n",
       "      <td>Forest Park Zoological Society</td>\n",
       "      <td>The Zoo In Forest Park\\nPo Box 80295\\nSpringfi...</td>\n",
       "      <td>https://aphis--c.na107.content.force.com/sfc/d...</td>\n",
       "      <td>Exhibitor</td>\n",
       "      <td>[[Zoo in Forest Park]]</td>\n",
       "    </tr>\n",
       "    <tr>\n",
       "      <th>61904</th>\n",
       "      <td>2015-02-18</td>\n",
       "      <td>ROUTINE INSPECTION</td>\n",
       "      <td>A</td>\n",
       "      <td>2</td>\n",
       "      <td>1</td>\n",
       "      <td>0</td>\n",
       "      <td>81.0</td>\n",
       "      <td>Robert and Dawn Troupe</td>\n",
       "      <td>DAWN and ROBERT TROUPE</td>\n",
       "      <td>Robert Troupe\\nPo Box 125\\nDibble, OK 73031</td>\n",
       "      <td>https://aphis--c.na107.content.force.com/sfc/d...</td>\n",
       "      <td>Breeder</td>\n",
       "      <td>[[73031, Dibble, Oklahoma]]</td>\n",
       "    </tr>\n",
       "    <tr>\n",
       "      <th>83694</th>\n",
       "      <td>2021-11-27</td>\n",
       "      <td>ROUTINE INSPECTION</td>\n",
       "      <td>B</td>\n",
       "      <td>0</td>\n",
       "      <td>9</td>\n",
       "      <td>0</td>\n",
       "      <td>65.0</td>\n",
       "      <td>Magnolia Stockyard</td>\n",
       "      <td>Magnolia Stockyard</td>\n",
       "      <td>PO Box 87\\nCarthage, MS 39051</td>\n",
       "      <td>https://aphis--c.na107.content.force.com/sfc/d...</td>\n",
       "      <td>Dealer</td>\n",
       "      <td>[[39051, Carthage, Mississippi]]</td>\n",
       "    </tr>\n",
       "    <tr>\n",
       "      <th>18533</th>\n",
       "      <td>2015-10-08</td>\n",
       "      <td>ROUTINE INSPECTION</td>\n",
       "      <td>C</td>\n",
       "      <td>0</td>\n",
       "      <td>13</td>\n",
       "      <td>0</td>\n",
       "      <td>58.0</td>\n",
       "      <td>CITY OF CLAY CENTER</td>\n",
       "      <td>City of Clay Center</td>\n",
       "      <td>Post Office Box 37\\nClay Center, KS 67432</td>\n",
       "      <td>https://aphis--c.na107.content.force.com/sfc/d...</td>\n",
       "      <td>Exhibitor</td>\n",
       "      <td>[[67432, Clay Center, Kansas]]</td>\n",
       "    </tr>\n",
       "    <tr>\n",
       "      <th>35761</th>\n",
       "      <td>2022-12-20</td>\n",
       "      <td>ROUTINE INSPECTION</td>\n",
       "      <td>A</td>\n",
       "      <td>0</td>\n",
       "      <td>10</td>\n",
       "      <td>0</td>\n",
       "      <td>53.0</td>\n",
       "      <td>Patricia Bingham</td>\n",
       "      <td>Patricia Bingham.</td>\n",
       "      <td>P. O. Box 1611\\nALVIN, TX 77512</td>\n",
       "      <td>https://aphis--c.na107.content.force.com/sfc/d...</td>\n",
       "      <td>Breeder</td>\n",
       "      <td>[[77512, Alvin, Texas]]</td>\n",
       "    </tr>\n",
       "    <tr>\n",
       "      <th>40371</th>\n",
       "      <td>2014-05-25</td>\n",
       "      <td>ROUTINE INSPECTION</td>\n",
       "      <td>C</td>\n",
       "      <td>0</td>\n",
       "      <td>16</td>\n",
       "      <td>0</td>\n",
       "      <td>39.0</td>\n",
       "      <td>DEER FOREST AMUSEMENTS INC</td>\n",
       "      <td>DEER FOREST AMUSEMENTS INC</td>\n",
       "      <td>P O Box 817\\nColoma, MI 49046</td>\n",
       "      <td>https://aphis--c.na107.content.force.com/sfc/d...</td>\n",
       "      <td>Exhibitor</td>\n",
       "      <td>[[Coloma, Michigan]]</td>\n",
       "    </tr>\n",
       "    <tr>\n",
       "      <th>40372</th>\n",
       "      <td>2014-06-17</td>\n",
       "      <td>ROUTINE INSPECTION</td>\n",
       "      <td>C</td>\n",
       "      <td>0</td>\n",
       "      <td>14</td>\n",
       "      <td>0</td>\n",
       "      <td>38.0</td>\n",
       "      <td>DEER FOREST AMUSEMENTS INC</td>\n",
       "      <td>DEER FOREST AMUSEMENTS INC</td>\n",
       "      <td>P O Box 817\\nColoma, MI 49046</td>\n",
       "      <td>https://aphis--c.na107.content.force.com/sfc/d...</td>\n",
       "      <td>Exhibitor</td>\n",
       "      <td>[[Coloma, Michigan]]</td>\n",
       "    </tr>\n",
       "    <tr>\n",
       "      <th>24393</th>\n",
       "      <td>2022-04-18</td>\n",
       "      <td>FOCUSED INSPECTION</td>\n",
       "      <td>C</td>\n",
       "      <td>3</td>\n",
       "      <td>2</td>\n",
       "      <td>0</td>\n",
       "      <td>31.0</td>\n",
       "      <td>Catty Shack Ranch Wildlife Sanctuary</td>\n",
       "      <td>THE CATTY SHACK RANCH WILDLIFE SANCTUARY</td>\n",
       "      <td>PO BOX 77057\\nJacksonville, FL 32226</td>\n",
       "      <td>https://aphis--c.na107.content.force.com/sfc/d...</td>\n",
       "      <td>Exhibitor</td>\n",
       "      <td>[[32226, Jacksonville, Florida]]</td>\n",
       "    </tr>\n",
       "    <tr>\n",
       "      <th>10600</th>\n",
       "      <td>2021-10-06</td>\n",
       "      <td>ROUTINE INSPECTION</td>\n",
       "      <td>C</td>\n",
       "      <td>2</td>\n",
       "      <td>4</td>\n",
       "      <td>0</td>\n",
       "      <td>28.0</td>\n",
       "      <td>Squam Lakes Natural Science Center</td>\n",
       "      <td>Squam Lakes Natural Science Center</td>\n",
       "      <td>P.O. Box 173\\nHolderness, NH 03245</td>\n",
       "      <td>https://aphis--c.na107.content.force.com/sfc/d...</td>\n",
       "      <td>Exhibitor</td>\n",
       "      <td>[[03245, Holderness, New Hampshire]]</td>\n",
       "    </tr>\n",
       "    <tr>\n",
       "      <th>22507</th>\n",
       "      <td>2014-02-27</td>\n",
       "      <td>ROUTINE INSPECTION</td>\n",
       "      <td>C</td>\n",
       "      <td>3</td>\n",
       "      <td>1</td>\n",
       "      <td>0</td>\n",
       "      <td>23.0</td>\n",
       "      <td>WILLIAM LEE</td>\n",
       "      <td>WILLIAM LEE III</td>\n",
       "      <td>P.O. Box 1810\\nIdaho Springs, CO 80452</td>\n",
       "      <td>https://aphis--c.na107.content.force.com/sfc/d...</td>\n",
       "      <td>Exhibitor</td>\n",
       "      <td>[[80452, Idaho Springs, Colorado]]</td>\n",
       "    </tr>\n",
       "    <tr>\n",
       "      <th>17401</th>\n",
       "      <td>2015-04-21</td>\n",
       "      <td>ROUTINE INSPECTION</td>\n",
       "      <td>C</td>\n",
       "      <td>2</td>\n",
       "      <td>0</td>\n",
       "      <td>0</td>\n",
       "      <td>22.0</td>\n",
       "      <td>Yellowstone Wildlife Sanctuary</td>\n",
       "      <td>Yellowstone Wildlife Sanctuary</td>\n",
       "      <td>P. O. Box 675\\nRed Lodge, MT 59068</td>\n",
       "      <td>https://aphis--c.na107.content.force.com/sfc/d...</td>\n",
       "      <td>Exhibitor</td>\n",
       "      <td>[[59068, Red Lodge, Montana]]</td>\n",
       "    </tr>\n",
       "    <tr>\n",
       "      <th>57201</th>\n",
       "      <td>2014-12-11</td>\n",
       "      <td>ROUTINE INSPECTION</td>\n",
       "      <td>C</td>\n",
       "      <td>2</td>\n",
       "      <td>0</td>\n",
       "      <td>0</td>\n",
       "      <td>21.0</td>\n",
       "      <td>Ashley Clement Raegan Clement</td>\n",
       "      <td>Raegan Clement &amp; Ashley Clement</td>\n",
       "      <td>Raegan Clement\\nP.O. Box 1147\\nBlanchard, OK 7...</td>\n",
       "      <td>https://aphis--c.na107.content.force.com/sfc/d...</td>\n",
       "      <td>Exhibitor</td>\n",
       "      <td>[[73010, Blanchard, Oklahoma]]</td>\n",
       "    </tr>\n",
       "    <tr>\n",
       "      <th>30059</th>\n",
       "      <td>2015-10-06</td>\n",
       "      <td>ROUTINE INSPECTION</td>\n",
       "      <td>B</td>\n",
       "      <td>0</td>\n",
       "      <td>9</td>\n",
       "      <td>0</td>\n",
       "      <td>15.0</td>\n",
       "      <td>Pam Reynolds</td>\n",
       "      <td>Pam Reynolds</td>\n",
       "      <td>P O Box 147\\nCuba, KS 66940</td>\n",
       "      <td>https://aphis--c.na107.content.force.com/sfc/d...</td>\n",
       "      <td>Dealer</td>\n",
       "      <td>[[66940, Cuba, Kansas]]</td>\n",
       "    </tr>\n",
       "    <tr>\n",
       "      <th>53031</th>\n",
       "      <td>2015-03-10</td>\n",
       "      <td>ROUTINE INSPECTION</td>\n",
       "      <td>C</td>\n",
       "      <td>3</td>\n",
       "      <td>0</td>\n",
       "      <td>0</td>\n",
       "      <td>10.0</td>\n",
       "      <td>FRAGILE PLANET WILDLIFE FOUNDATION</td>\n",
       "      <td>FRAGILE PLANET WILDLIFE FOUNDATION</td>\n",
       "      <td>Po Box 666\\nAlexandria Bay, NY 13607</td>\n",
       "      <td>https://aphis--c.na107.content.force.com/sfc/d...</td>\n",
       "      <td>Exhibitor</td>\n",
       "      <td>[[13607, Alexandria Bay, New York]]</td>\n",
       "    </tr>\n",
       "    <tr>\n",
       "      <th>24359</th>\n",
       "      <td>2019-04-02</td>\n",
       "      <td>ROUTINE INSPECTION</td>\n",
       "      <td>C</td>\n",
       "      <td>2</td>\n",
       "      <td>1</td>\n",
       "      <td>1</td>\n",
       "      <td>9.0</td>\n",
       "      <td>RICHARD ENGLISH</td>\n",
       "      <td>RICHARD D ENGLISH</td>\n",
       "      <td>P O Box 103\\nLaura, OH 45337</td>\n",
       "      <td>https://aphis--c.na107.content.force.com/sfc/d...</td>\n",
       "      <td>Exhibitor</td>\n",
       "      <td>[[45337, Laura, Ohio]]</td>\n",
       "    </tr>\n",
       "    <tr>\n",
       "      <th>69465</th>\n",
       "      <td>2017-11-15</td>\n",
       "      <td>FOCUSED INSPECTION</td>\n",
       "      <td>A</td>\n",
       "      <td>2</td>\n",
       "      <td>0</td>\n",
       "      <td>0</td>\n",
       "      <td>4.0</td>\n",
       "      <td>CHERYL RONDY</td>\n",
       "      <td>CHERYL RONDY</td>\n",
       "      <td>P O Box 314\\nVestaburg, MI 48891</td>\n",
       "      <td>https://aphis--c.na107.content.force.com/sfc/d...</td>\n",
       "      <td>Breeder</td>\n",
       "      <td>[[48891, Vestaburg, Michigan]]</td>\n",
       "    </tr>\n",
       "    <tr>\n",
       "      <th>18482</th>\n",
       "      <td>2014-12-04</td>\n",
       "      <td>ROUTINE INSPECTION</td>\n",
       "      <td>C</td>\n",
       "      <td>3</td>\n",
       "      <td>0</td>\n",
       "      <td>0</td>\n",
       "      <td>3.0</td>\n",
       "      <td>City of Hutchinson</td>\n",
       "      <td>City of Hutchinson</td>\n",
       "      <td>P O Box 1567\\nHutchinson, KS 67504</td>\n",
       "      <td>https://aphis--c.na107.content.force.com/sfc/d...</td>\n",
       "      <td>Exhibitor</td>\n",
       "      <td>[[67504, Hutchinson, Kansas]]</td>\n",
       "    </tr>\n",
       "    <tr>\n",
       "      <th>5966</th>\n",
       "      <td>2017-04-04</td>\n",
       "      <td>FOCUSED INSPECTION</td>\n",
       "      <td>R</td>\n",
       "      <td>2</td>\n",
       "      <td>0</td>\n",
       "      <td>0</td>\n",
       "      <td>0.0</td>\n",
       "      <td>University of Washington</td>\n",
       "      <td>UNIVERSITY OF WASHINGTON</td>\n",
       "      <td>Box 357160\\nSeattle, WA 98195</td>\n",
       "      <td>https://aphis--c.na107.content.force.com/sfc/d...</td>\n",
       "      <td>Research</td>\n",
       "      <td>[[98195, Seattle, Washington]]</td>\n",
       "    </tr>\n",
       "    <tr>\n",
       "      <th>8155</th>\n",
       "      <td>2018-09-18</td>\n",
       "      <td>ROUTINE INSPECTION</td>\n",
       "      <td>R</td>\n",
       "      <td>2</td>\n",
       "      <td>0</td>\n",
       "      <td>0</td>\n",
       "      <td>0.0</td>\n",
       "      <td>University Of Arkansas Fayettville</td>\n",
       "      <td>UNIVERSITY OF ARKANSAS</td>\n",
       "      <td>109 Mlkg\\nFayetteville, AR 72701</td>\n",
       "      <td>https://aphis--c.na107.content.force.com/sfc/d...</td>\n",
       "      <td>Research</td>\n",
       "      <td>[[72701, Fayetteville, Arkansas]]</td>\n",
       "    </tr>\n",
       "    <tr>\n",
       "      <th>6650</th>\n",
       "      <td>2014-04-09</td>\n",
       "      <td>ROUTINE INSPECTION</td>\n",
       "      <td>R</td>\n",
       "      <td>2</td>\n",
       "      <td>5</td>\n",
       "      <td>0</td>\n",
       "      <td>0.0</td>\n",
       "      <td>ALLERGAN</td>\n",
       "      <td>ALLERGAN</td>\n",
       "      <td>P.O. Box 19534\\nIrvine, CA 92623</td>\n",
       "      <td>https://aphis--c.na107.content.force.com/sfc/d...</td>\n",
       "      <td>Research</td>\n",
       "      <td>[[92623, Irvine, California]]</td>\n",
       "    </tr>\n",
       "  </tbody>\n",
       "</table>\n",
       "</div>"
      ],
      "text/plain": [
       "      inspectionDate           insp_type licenseType  critical  nonCritical  \\\n",
       "5881      2022-07-22  ROUTINE INSPECTION           R         2            0   \n",
       "24517     2015-02-03  ROUTINE INSPECTION           A         2            8   \n",
       "11437     2022-09-15  FOCUSED INSPECTION           B         1           10   \n",
       "5956      2014-02-28  ROUTINE INSPECTION           R         2            2   \n",
       "5977      2021-01-26  ROUTINE INSPECTION           R         2            1   \n",
       "12549     2015-01-06  ROUTINE INSPECTION           C         0           23   \n",
       "5110      2022-05-11  ROUTINE INSPECTION           R         2            2   \n",
       "8126      2015-01-20  ROUTINE INSPECTION           R         2            2   \n",
       "12551     2015-03-10  ROUTINE INSPECTION           C         0           11   \n",
       "8505      2019-12-17  ROUTINE INSPECTION           R         2            1   \n",
       "58324     2017-06-19  ROUTINE INSPECTION           A         0           11   \n",
       "30035     2019-02-05  FOCUSED INSPECTION           C         2            2   \n",
       "12496     2015-07-13  ROUTINE INSPECTION           C         1           16   \n",
       "14167     2014-03-13  ROUTINE INSPECTION           C         0           11   \n",
       "75419     2020-09-15  ROUTINE INSPECTION           C         3            5   \n",
       "15140     2017-02-07  ROUTINE INSPECTION           C         0           10   \n",
       "31139     2022-03-01  ROUTINE INSPECTION           C         3            3   \n",
       "48775     2015-08-12  ROUTINE INSPECTION           C         0           13   \n",
       "48773     2015-01-21  ROUTINE INSPECTION           C         0           11   \n",
       "5833      2022-09-26  ROUTINE INSPECTION           R         0           12   \n",
       "16153     2015-10-27  ROUTINE INSPECTION           C         3            3   \n",
       "72160     2017-07-18  ROUTINE INSPECTION           A         3            2   \n",
       "3459      2022-02-08  FOCUSED INSPECTION           R         2            0   \n",
       "10504     2018-02-20  ROUTINE INSPECTION           C         0           12   \n",
       "61904     2015-02-18  ROUTINE INSPECTION           A         2            1   \n",
       "83694     2021-11-27  ROUTINE INSPECTION           B         0            9   \n",
       "18533     2015-10-08  ROUTINE INSPECTION           C         0           13   \n",
       "35761     2022-12-20  ROUTINE INSPECTION           A         0           10   \n",
       "40371     2014-05-25  ROUTINE INSPECTION           C         0           16   \n",
       "40372     2014-06-17  ROUTINE INSPECTION           C         0           14   \n",
       "24393     2022-04-18  FOCUSED INSPECTION           C         3            2   \n",
       "10600     2021-10-06  ROUTINE INSPECTION           C         2            4   \n",
       "22507     2014-02-27  ROUTINE INSPECTION           C         3            1   \n",
       "17401     2015-04-21  ROUTINE INSPECTION           C         2            0   \n",
       "57201     2014-12-11  ROUTINE INSPECTION           C         2            0   \n",
       "30059     2015-10-06  ROUTINE INSPECTION           B         0            9   \n",
       "53031     2015-03-10  ROUTINE INSPECTION           C         3            0   \n",
       "24359     2019-04-02  ROUTINE INSPECTION           C         2            1   \n",
       "69465     2017-11-15  FOCUSED INSPECTION           A         2            0   \n",
       "18482     2014-12-04  ROUTINE INSPECTION           C         3            0   \n",
       "5966      2017-04-04  FOCUSED INSPECTION           R         2            0   \n",
       "8155      2018-09-18  ROUTINE INSPECTION           R         2            0   \n",
       "6650      2014-04-09  ROUTINE INSPECTION           R         2            5   \n",
       "\n",
       "       teachableMoments  animals_total  \\\n",
       "5881                  0         2392.0   \n",
       "24517                 0         1189.0   \n",
       "11437                 0         1026.0   \n",
       "5956                  0          887.0   \n",
       "5977                  0          625.0   \n",
       "12549                 0          478.0   \n",
       "5110                  0          424.0   \n",
       "8126                  0          365.0   \n",
       "12551                 0          355.0   \n",
       "8505                  0          280.0   \n",
       "58324                 0          244.0   \n",
       "30035                 0          240.0   \n",
       "12496                 0          199.0   \n",
       "14167                 0          182.0   \n",
       "75419                 0          158.0   \n",
       "15140                 0          143.0   \n",
       "31139                 0          122.0   \n",
       "48775                 0          105.0   \n",
       "48773                 0           99.0   \n",
       "5833                  0           97.0   \n",
       "16153                 0           96.0   \n",
       "72160                 2           95.0   \n",
       "3459                  0           88.0   \n",
       "10504                 0           82.0   \n",
       "61904                 0           81.0   \n",
       "83694                 0           65.0   \n",
       "18533                 0           58.0   \n",
       "35761                 0           53.0   \n",
       "40371                 0           39.0   \n",
       "40372                 0           38.0   \n",
       "24393                 0           31.0   \n",
       "10600                 0           28.0   \n",
       "22507                 0           23.0   \n",
       "17401                 0           22.0   \n",
       "57201                 0           21.0   \n",
       "30059                 0           15.0   \n",
       "53031                 0           10.0   \n",
       "24359                 1            9.0   \n",
       "69465                 0            4.0   \n",
       "18482                 0            3.0   \n",
       "5966                  0            0.0   \n",
       "8155                  0            0.0   \n",
       "6650                  0            0.0   \n",
       "\n",
       "                                        legalName  \\\n",
       "5881                    University of Puerto Rico   \n",
       "24517               Oakwood Research Facility Inc   \n",
       "11437                      MOUNT HOPE AUCTION INC   \n",
       "5956                     University of Washington   \n",
       "5977                     University of Washington   \n",
       "12549                              KARL  MOGENSEN   \n",
       "5110              NORTH CAROLINA STATE UNIVERSITY   \n",
       "8126                       UNIVERSITY OF OKLAHOMA   \n",
       "12551                              KARL  MOGENSEN   \n",
       "8505          Texas Biomedical Research Institute   \n",
       "58324                            Classy Creations   \n",
       "30035                        Save the Chimps Inc.   \n",
       "12496                    Living Treasures II, Inc   \n",
       "14167                              Montgomery Zoo   \n",
       "75419                                Wilstem Inc.   \n",
       "15140   Zoologico De Puerto Rico Dr Juan A Rivero   \n",
       "31139                    Indian Cliffs Ranch Inc.   \n",
       "48775                Jessica Mason Janell Knudsen   \n",
       "48773                Jessica Mason Janell Knudsen   \n",
       "5833                            Blue Ridge Kennel   \n",
       "16153                         City Of Idaho Falls   \n",
       "72160                        SANDSTONE VALLEY LLC   \n",
       "3459   UNIVERSITY OF ILLINOIS AT URBANA-CHAMPAIGN   \n",
       "10504              Forest Park Zoological Society   \n",
       "61904                      Robert and Dawn Troupe   \n",
       "83694                          Magnolia Stockyard   \n",
       "18533                         CITY OF CLAY CENTER   \n",
       "35761                            Patricia Bingham   \n",
       "40371                  DEER FOREST AMUSEMENTS INC   \n",
       "40372                  DEER FOREST AMUSEMENTS INC   \n",
       "24393        Catty Shack Ranch Wildlife Sanctuary   \n",
       "10600          Squam Lakes Natural Science Center   \n",
       "22507                                 WILLIAM LEE   \n",
       "17401              Yellowstone Wildlife Sanctuary   \n",
       "57201               Ashley Clement Raegan Clement   \n",
       "30059                                Pam Reynolds   \n",
       "53031          FRAGILE PLANET WILDLIFE FOUNDATION   \n",
       "24359                             RICHARD ENGLISH   \n",
       "69465                                CHERYL RONDY   \n",
       "18482                          City of Hutchinson   \n",
       "5966                     University of Washington   \n",
       "8155           University Of Arkansas Fayettville   \n",
       "6650                                     ALLERGAN   \n",
       "\n",
       "                                           siteName  \\\n",
       "5881                                    SABANA SECA   \n",
       "24517                 OAKWOOD RESEARCH FACILITY INC   \n",
       "11437                      MOUNT HOPE AUCTION, INC.   \n",
       "5956                       UNIVERSITY OF WASHINGTON   \n",
       "5977                       UNIVERSITY OF WASHINGTON   \n",
       "12549                                 KARL MOGENSEN   \n",
       "5110                NORTH CAROLINA STATE UNIVERSITY   \n",
       "8126                              RESEARCH BUILDING   \n",
       "12551                                 KARL MOGENSEN   \n",
       "8505   SOUTHWEST FOUNDATION FOR BIOMEDICAL RESEARCH   \n",
       "58324                              Classy Creations   \n",
       "30035                           SAVE THE CHIMPS INC   \n",
       "12496                   LIVING TREASURE ANIMAL PARK   \n",
       "14167                               MONTGOMERY  ZOO   \n",
       "75419                                  Wilstem Inc.   \n",
       "15140                ZOOLOGICAL DE P.R. AT MAYAGUEZ   \n",
       "31139                      Indian Cliffs Ranch Inc.   \n",
       "48775                Janell Knudsen & Jessica Mason   \n",
       "48773                Janell Knudsen & Jessica Mason   \n",
       "5833                              BLUE RIDGE KENNEL   \n",
       "16153                           CITY OF IDAHO FALLS   \n",
       "72160                                     Dan Yoder   \n",
       "3459           UNIV. OF ILLINOIS - URBANA-CHAMPAIGN   \n",
       "10504                Forest Park Zoological Society   \n",
       "61904                        DAWN and ROBERT TROUPE   \n",
       "83694                            Magnolia Stockyard   \n",
       "18533                           City of Clay Center   \n",
       "35761                             Patricia Bingham.   \n",
       "40371                    DEER FOREST AMUSEMENTS INC   \n",
       "40372                    DEER FOREST AMUSEMENTS INC   \n",
       "24393      THE CATTY SHACK RANCH WILDLIFE SANCTUARY   \n",
       "10600            Squam Lakes Natural Science Center   \n",
       "22507                               WILLIAM LEE III   \n",
       "17401                Yellowstone Wildlife Sanctuary   \n",
       "57201               Raegan Clement & Ashley Clement   \n",
       "30059                                  Pam Reynolds   \n",
       "53031            FRAGILE PLANET WILDLIFE FOUNDATION   \n",
       "24359                             RICHARD D ENGLISH   \n",
       "69465                                  CHERYL RONDY   \n",
       "18482                            City of Hutchinson   \n",
       "5966                       UNIVERSITY OF WASHINGTON   \n",
       "8155                         UNIVERSITY OF ARKANSAS   \n",
       "6650                                       ALLERGAN   \n",
       "\n",
       "                                           customer_addr  \\\n",
       "5881   PO Box 365067 - Medical Science Campus\\nSan Ju...   \n",
       "24517                     P.O. Box 455\\nOxford, MI 48371   \n",
       "11437                       PO Box 82\\nMt Hope, OH 44660   \n",
       "5956                       Box 357160\\nSeattle, WA 98195   \n",
       "5977                       BOX 357160\\nSEATTLE, WA 98195   \n",
       "12549                Po Box 88\\nNatural Bridge, VA 24578   \n",
       "5110                  CAMPUS BOX 7514\\nRALEIGH, NC 27695   \n",
       "8126            P. O. Box 26901\\nOklahoma City, OK 73190   \n",
       "12551                Po Box 88\\nNatural Bridge, VA 24578   \n",
       "8505             P. O. Box 760549\\nSan Antonio, TX 78245   \n",
       "58324                        Po Box 194\\nLyons, NY 14489   \n",
       "30035                  Po Box 12220\\nFt Pierce, FL 34979   \n",
       "12496                     P O Box 346\\nDonegal, PA 15628   \n",
       "14167                P.O. Box 3313\\nMontgomery, AL 36109   \n",
       "75419                 P.O. BOX 88\\nFRENCH LICK, IN 47432   \n",
       "15140                 Po Box 9023207\\nSan Juan, PR 00902   \n",
       "31139                   P. O. BOX 1056\\nFABENS, TX 79838   \n",
       "48775     Jessica Mason\\nP O Box 2529\\nLiberal, KS 67905   \n",
       "48773     Jessica Mason\\nP O Box 2529\\nLiberal, KS 67905   \n",
       "5833                   P.O. Box 1207\\nWetumpka, AL 36092   \n",
       "16153             P. O. Box 50220\\nIdaho Falls, ID 83405   \n",
       "72160                Po Box 642\\nSaint Charles, MN 55972   \n",
       "3459   1 OBSERVATORY BUILDING\\n901 S. MATHEWS\\nURBANA...   \n",
       "10504  The Zoo In Forest Park\\nPo Box 80295\\nSpringfi...   \n",
       "61904        Robert Troupe\\nPo Box 125\\nDibble, OK 73031   \n",
       "83694                      PO Box 87\\nCarthage, MS 39051   \n",
       "18533          Post Office Box 37\\nClay Center, KS 67432   \n",
       "35761                    P. O. Box 1611\\nALVIN, TX 77512   \n",
       "40371                      P O Box 817\\nColoma, MI 49046   \n",
       "40372                      P O Box 817\\nColoma, MI 49046   \n",
       "24393               PO BOX 77057\\nJacksonville, FL 32226   \n",
       "10600                 P.O. Box 173\\nHolderness, NH 03245   \n",
       "22507             P.O. Box 1810\\nIdaho Springs, CO 80452   \n",
       "17401                 P. O. Box 675\\nRed Lodge, MT 59068   \n",
       "57201  Raegan Clement\\nP.O. Box 1147\\nBlanchard, OK 7...   \n",
       "30059                        P O Box 147\\nCuba, KS 66940   \n",
       "53031               Po Box 666\\nAlexandria Bay, NY 13607   \n",
       "24359                       P O Box 103\\nLaura, OH 45337   \n",
       "69465                   P O Box 314\\nVestaburg, MI 48891   \n",
       "18482                 P O Box 1567\\nHutchinson, KS 67504   \n",
       "5966                       Box 357160\\nSeattle, WA 98195   \n",
       "8155                    109 Mlkg\\nFayetteville, AR 72701   \n",
       "6650                    P.O. Box 19534\\nIrvine, CA 92623   \n",
       "\n",
       "                                              reportLink       type  \\\n",
       "5881   https://aphis--c.na107.content.force.com/sfc/d...   Research   \n",
       "24517  https://aphis--c.na107.content.force.com/sfc/d...    Breeder   \n",
       "11437  https://aphis--c.na107.content.force.com/sfc/d...     Dealer   \n",
       "5956   https://aphis--c.na107.content.force.com/sfc/d...   Research   \n",
       "5977   https://aphis--c.na107.content.force.com/sfc/d...   Research   \n",
       "12549  https://aphis--c.na107.content.force.com/sfc/d...  Exhibitor   \n",
       "5110   https://aphis--c.na107.content.force.com/sfc/d...   Research   \n",
       "8126   https://aphis--c.na107.content.force.com/sfc/d...   Research   \n",
       "12551  https://aphis--c.na107.content.force.com/sfc/d...  Exhibitor   \n",
       "8505   https://aphis--c.na107.content.force.com/sfc/d...   Research   \n",
       "58324  https://aphis--c.na107.content.force.com/sfc/d...    Breeder   \n",
       "30035  https://aphis--c.na107.content.force.com/sfc/d...  Exhibitor   \n",
       "12496  https://aphis--c.na107.content.force.com/sfc/d...  Exhibitor   \n",
       "14167  https://aphis--c.na107.content.force.com/sfc/d...  Exhibitor   \n",
       "75419  https://aphis--c.na107.content.force.com/sfc/d...  Exhibitor   \n",
       "15140  https://aphis--c.na107.content.force.com/sfc/d...  Exhibitor   \n",
       "31139  https://aphis--c.na107.content.force.com/sfc/d...  Exhibitor   \n",
       "48775  https://aphis--c.na107.content.force.com/sfc/d...  Exhibitor   \n",
       "48773  https://aphis--c.na107.content.force.com/sfc/d...  Exhibitor   \n",
       "5833   https://aphis--c.na107.content.force.com/sfc/d...   Research   \n",
       "16153  https://aphis--c.na107.content.force.com/sfc/d...  Exhibitor   \n",
       "72160  https://aphis--c.na107.content.force.com/sfc/d...    Breeder   \n",
       "3459   https://aphis--c.na107.content.force.com/sfc/d...   Research   \n",
       "10504  https://aphis--c.na107.content.force.com/sfc/d...  Exhibitor   \n",
       "61904  https://aphis--c.na107.content.force.com/sfc/d...    Breeder   \n",
       "83694  https://aphis--c.na107.content.force.com/sfc/d...     Dealer   \n",
       "18533  https://aphis--c.na107.content.force.com/sfc/d...  Exhibitor   \n",
       "35761  https://aphis--c.na107.content.force.com/sfc/d...    Breeder   \n",
       "40371  https://aphis--c.na107.content.force.com/sfc/d...  Exhibitor   \n",
       "40372  https://aphis--c.na107.content.force.com/sfc/d...  Exhibitor   \n",
       "24393  https://aphis--c.na107.content.force.com/sfc/d...  Exhibitor   \n",
       "10600  https://aphis--c.na107.content.force.com/sfc/d...  Exhibitor   \n",
       "22507  https://aphis--c.na107.content.force.com/sfc/d...  Exhibitor   \n",
       "17401  https://aphis--c.na107.content.force.com/sfc/d...  Exhibitor   \n",
       "57201  https://aphis--c.na107.content.force.com/sfc/d...  Exhibitor   \n",
       "30059  https://aphis--c.na107.content.force.com/sfc/d...     Dealer   \n",
       "53031  https://aphis--c.na107.content.force.com/sfc/d...  Exhibitor   \n",
       "24359  https://aphis--c.na107.content.force.com/sfc/d...  Exhibitor   \n",
       "69465  https://aphis--c.na107.content.force.com/sfc/d...    Breeder   \n",
       "18482  https://aphis--c.na107.content.force.com/sfc/d...  Exhibitor   \n",
       "5966   https://aphis--c.na107.content.force.com/sfc/d...   Research   \n",
       "8155   https://aphis--c.na107.content.force.com/sfc/d...   Research   \n",
       "6650   https://aphis--c.na107.content.force.com/sfc/d...   Research   \n",
       "\n",
       "                                        loc  \n",
       "5881                              [[00936]]  \n",
       "24517           [[48371, Oxford, Michigan]]  \n",
       "11437           [[44660, Mount Hope, Ohio]]  \n",
       "5956         [[98195, Seattle, Washington]]  \n",
       "5977         [[98195, Seattle, Washington]]  \n",
       "12549   [[24578, Natural Bridge, Virginia]]  \n",
       "5110     [[27695, Raleigh, North Carolina]]  \n",
       "8126     [[73190, Oklahoma City, Oklahoma]]  \n",
       "12551   [[24578, Natural Bridge, Virginia]]  \n",
       "8505          [[78245, San Antonio, Texas]]  \n",
       "58324            [[14489, Lyons, New York]]  \n",
       "30035       [[34979, Fort Pierce, Florida]]  \n",
       "12496      [[15628, Donegal, Pennsylvania]]  \n",
       "14167        [[36109, Montgomery, Alabama]]  \n",
       "75419       [[47432, French Lick, Indiana]]  \n",
       "15140                             [[00902]]  \n",
       "31139              [[79838, Fabens, Texas]]  \n",
       "48775            [[67905, Liberal, Kansas]]  \n",
       "48773            [[67905, Liberal, Kansas]]  \n",
       "5833           [[36092, Wetumpka, Alabama]]  \n",
       "16153         [[83405, Idaho Falls, Idaho]]  \n",
       "72160   [[55972, Saint Charles, Minnesota]]  \n",
       "3459            [[61801, Urbana, Illinois]]  \n",
       "10504                [[Zoo in Forest Park]]  \n",
       "61904           [[73031, Dibble, Oklahoma]]  \n",
       "83694      [[39051, Carthage, Mississippi]]  \n",
       "18533        [[67432, Clay Center, Kansas]]  \n",
       "35761               [[77512, Alvin, Texas]]  \n",
       "40371                  [[Coloma, Michigan]]  \n",
       "40372                  [[Coloma, Michigan]]  \n",
       "24393      [[32226, Jacksonville, Florida]]  \n",
       "10600  [[03245, Holderness, New Hampshire]]  \n",
       "22507    [[80452, Idaho Springs, Colorado]]  \n",
       "17401         [[59068, Red Lodge, Montana]]  \n",
       "57201        [[73010, Blanchard, Oklahoma]]  \n",
       "30059               [[66940, Cuba, Kansas]]  \n",
       "53031   [[13607, Alexandria Bay, New York]]  \n",
       "24359                [[45337, Laura, Ohio]]  \n",
       "69465        [[48891, Vestaburg, Michigan]]  \n",
       "18482         [[67504, Hutchinson, Kansas]]  \n",
       "5966         [[98195, Seattle, Washington]]  \n",
       "8155      [[72701, Fayetteville, Arkansas]]  \n",
       "6650          [[92623, Irvine, California]]  "
      ]
     },
     "execution_count": 30,
     "metadata": {},
     "output_type": "execute_result"
    }
   ],
   "source": [
    "# See the locations that have no confident geotag and seed if we can retag them using a different method\n",
    "multiple_criticals[multiple_criticals['loc'].apply(lambda x: x.confidence < 8)]\n",
    "\n"
   ]
  },
  {
   "cell_type": "code",
   "execution_count": null,
   "metadata": {},
   "outputs": [],
   "source": [
    "#They're mostly PO Boxes, which can be located to the City, State level at least, but our geocoder should already have done that for us.\n",
    "#There are a couple of universities in there, but locating them to the ZIP code level should also be fine.\n",
    "# We'll extract the latitude and longitude data\n",
    "multiple_criticals['lat'] = multiple_criticals['loc'].apply(lambda x: x.lat)\n",
    "multiple_criticals['lng'] = multiple_criticals['loc'].apply(lambda x: x.lng)\n"
   ]
  },
  {
   "cell_type": "code",
   "execution_count": null,
   "metadata": {},
   "outputs": [],
   "source": [
    "# The names of the sites are also bothering me. Some are upper case, some lower case, I'm going to make them all Camel Case for readability\n",
    "\n",
    "multiple_criticals['siteName'] = multiple_criticals['siteName'].str.upper().str.title()\n",
    "multiple_criticals['legalName'] = multiple_criticals['legalName'].str.upper().str.title()\n"
   ]
  },
  {
   "cell_type": "code",
   "execution_count": null,
   "metadata": {},
   "outputs": [],
   "source": [
    "# I should have everything I need to map these locations. I'm going to checkpoint my notebook here so I don't have to keep making API calls\n",
    "# I'll export the small dataset I'm using as well. The full location information is stored as a ARCGIS object, so it won't export cleanly.\n",
    "# I really only need the JSON data from it, so I'll extract that, then export the data\n",
    "\n",
    "multiple_criticals['loc_json'] = multiple_criticals['loc'].apply(lambda x: x.json)\n",
    "multiple_criticals.to_csv('multiple_criticals.csv') "
   ]
  },
  {
   "cell_type": "code",
   "execution_count": 2,
   "metadata": {},
   "outputs": [],
   "source": [
    "# Starting from here when I reload the notebook\n",
    "multiple_criticals = pd.read_csv('multiple_criticals.csv')\n"
   ]
  },
  {
   "cell_type": "code",
   "execution_count": 3,
   "metadata": {},
   "outputs": [],
   "source": [
    "multiple_criticals['type'] = multiple_criticals['type'].astype('category')\n"
   ]
  },
  {
   "cell_type": "code",
   "execution_count": 61,
   "metadata": {},
   "outputs": [
    {
     "name": "stderr",
     "output_type": "stream",
     "text": [
      "/tmp/ipykernel_74036/2462027868.py:3: FutureWarning:\n",
      "\n",
      "In a future version of pandas, a length 1 tuple will be returned when iterating over a groupby with a grouper equal to a list of length 1. Don't supply a list with a single grouper to avoid this warning.\n",
      "\n"
     ]
    },
    {
     "data": {
      "text/plain": [
       "[18.417640000000063,\n",
       " 18.464000000000052,\n",
       " 25.434923994091776,\n",
       " 25.614738993167293,\n",
       " 25.73159097960759,\n",
       " 26.061239999747485,\n",
       " 26.26166702074076,\n",
       " 27.20239486856311,\n",
       " 27.374507008000023,\n",
       " 28.118867016452768,\n",
       " 28.730281004090926,\n",
       " 28.80874999277701,\n",
       " 29.39792368998654,\n",
       " 29.41432160000005,\n",
       " 29.42381000000006,\n",
       " 29.43591728897649,\n",
       " 29.4393909727128,\n",
       " 29.577221986640808,\n",
       " 29.651519008749872,\n",
       " 29.669317016224056,\n",
       " 29.71652301480832,\n",
       " 29.727370999626515,\n",
       " 29.75921099994295,\n",
       " 29.93901732422094,\n",
       " 30.12698699260456,\n",
       " 30.201571011078343,\n",
       " 30.403978005239736,\n",
       " 30.44440199641716,\n",
       " 30.46341970000003,\n",
       " 30.494034262604103,\n",
       " 30.824257392643894,\n",
       " 30.83478901108484,\n",
       " 30.86954963848484,\n",
       " 31.00805300800505,\n",
       " 31.506210000000067,\n",
       " 31.77039699245728,\n",
       " 31.827552980663043,\n",
       " 31.874248018429725,\n",
       " 32.2545526878344,\n",
       " 32.38457500000004,\n",
       " 32.39749800525489,\n",
       " 32.429900226234615,\n",
       " 32.53895100324365,\n",
       " 32.539810000000045,\n",
       " 32.60091773128008,\n",
       " 32.68081798343026,\n",
       " 32.73721500000005,\n",
       " 32.78793698772226,\n",
       " 32.89880345992812,\n",
       " 32.93754800825266,\n",
       " 33.26580198633755,\n",
       " 33.3053180078535,\n",
       " 33.50369401904926,\n",
       " 33.55050221250882,\n",
       " 33.68570650000004,\n",
       " 33.72536278716445,\n",
       " 33.75956900592874,\n",
       " 33.79815099006433,\n",
       " 33.94265998804134,\n",
       " 33.949423010437485,\n",
       " 34.43652901539417,\n",
       " 34.44788691979775,\n",
       " 34.82216101829995,\n",
       " 35.0255289976604,\n",
       " 35.031212700000026,\n",
       " 35.056133002534565,\n",
       " 35.07809199629263,\n",
       " 35.12152027566615,\n",
       " 35.13843990000004,\n",
       " 35.2512489982188,\n",
       " 35.25349798856932,\n",
       " 35.30091596548488,\n",
       " 35.428112980643334,\n",
       " 35.446426014158135,\n",
       " 35.45037699185795,\n",
       " 35.468270000000075,\n",
       " 35.46910899480298,\n",
       " 35.58915100786329,\n",
       " 35.65749499278958,\n",
       " 35.74663171376892,\n",
       " 35.76842600282674,\n",
       " 35.785510000000045,\n",
       " 35.91017631193181,\n",
       " 36.03610300274384,\n",
       " 36.04941501563853,\n",
       " 36.06487500000003,\n",
       " 36.08955178691299,\n",
       " 36.10825601783965,\n",
       " 36.13048272419477,\n",
       " 36.26126900141186,\n",
       " 36.29635904277505,\n",
       " 36.57963456803587,\n",
       " 36.58059770680676,\n",
       " 36.71532000727734,\n",
       " 36.84988235564765,\n",
       " 36.85643601084894,\n",
       " 36.954651003216696,\n",
       " 37.03240000000005,\n",
       " 37.42086100737605,\n",
       " 37.49637399217876,\n",
       " 37.62604199239334,\n",
       " 37.63346381480928,\n",
       " 37.64716370000008,\n",
       " 37.65005798900968,\n",
       " 37.65225098824699,\n",
       " 38.02105401550469,\n",
       " 38.05725000000007,\n",
       " 38.113195327070805,\n",
       " 38.4361000025813,\n",
       " 38.48738798801199,\n",
       " 38.53552198900633,\n",
       " 38.536784010257946,\n",
       " 38.54671500000006,\n",
       " 38.631350988816166,\n",
       " 38.72483401965576,\n",
       " 38.74576849338868,\n",
       " 38.77110698668804,\n",
       " 38.83621698191215,\n",
       " 38.94440827213181,\n",
       " 38.996844002509874,\n",
       " 39.02383192642892,\n",
       " 39.173950012388616,\n",
       " 39.193022991154805,\n",
       " 39.238762994873696,\n",
       " 39.38037500000007,\n",
       " 39.52551699687052,\n",
       " 39.54471800920774,\n",
       " 39.57227800021519,\n",
       " 39.74205500000005,\n",
       " 39.78243900918514,\n",
       " 39.80096000000003,\n",
       " 39.81785301110608,\n",
       " 39.855639007806616,\n",
       " 39.90062371515877,\n",
       " 39.909484018529525,\n",
       " 39.93561472326049,\n",
       " 39.96129398698048,\n",
       " 39.99676830000004,\n",
       " 40.00697301235374,\n",
       " 40.02685798799007,\n",
       " 40.10708500000004,\n",
       " 40.10710000000006,\n",
       " 40.13244698919651,\n",
       " 40.2015159792274,\n",
       " 40.21087742479512,\n",
       " 40.26323800918797,\n",
       " 40.28761400854569,\n",
       " 40.369659010493024,\n",
       " 40.52574899072096,\n",
       " 40.52659598203684,\n",
       " 40.59615299599065,\n",
       " 40.62287999346054,\n",
       " 40.62414000000007,\n",
       " 40.6398150001838,\n",
       " 40.64737199835824,\n",
       " 40.66198375622479,\n",
       " 40.725777997041945,\n",
       " 40.74616999400135,\n",
       " 40.74837682337889,\n",
       " 40.75885998586139,\n",
       " 40.76786198223377,\n",
       " 40.82408891816598,\n",
       " 40.85857127367453,\n",
       " 40.98860899963816,\n",
       " 40.99611901724529,\n",
       " 41.13053764882066,\n",
       " 41.22280668695454,\n",
       " 41.27941799875322,\n",
       " 41.373696011199485,\n",
       " 41.4845390112533,\n",
       " 41.53769020994088,\n",
       " 41.74009200732229,\n",
       " 41.758372016138566,\n",
       " 42.07766000000004,\n",
       " 42.11031507730343,\n",
       " 42.18644000000006,\n",
       " 42.20828102073085,\n",
       " 42.21646519481041,\n",
       " 42.22772729294535,\n",
       " 42.229798497739154,\n",
       " 42.35180900076023,\n",
       " 42.43783699927752,\n",
       " 42.448341996617785,\n",
       " 42.474376984161495,\n",
       " 42.47841002069339,\n",
       " 42.48335199080563,\n",
       " 42.54712100725021,\n",
       " 42.583943085085565,\n",
       " 42.601567000430805,\n",
       " 42.66338294961648,\n",
       " 42.78443699366619,\n",
       " 42.7874010022671,\n",
       " 42.82219500000008,\n",
       " 42.93824089687848,\n",
       " 42.9739719829401,\n",
       " 43.00896399794564,\n",
       " 43.02767299256644,\n",
       " 43.06496500000003,\n",
       " 43.07372698237828,\n",
       " 43.09641499216502,\n",
       " 43.14835613740067,\n",
       " 43.15795500909815,\n",
       " 43.17552901020997,\n",
       " 43.19944199323629,\n",
       " 43.22412636281183,\n",
       " 43.23116301243712,\n",
       " 43.372466267725656,\n",
       " 43.4005646283741,\n",
       " 43.40240500000005,\n",
       " 43.49700500000006,\n",
       " 43.60808600839604,\n",
       " 43.71846750000003,\n",
       " 43.94092300158968,\n",
       " 43.96136964855779,\n",
       " 43.969565000000046,\n",
       " 44.26739800454462,\n",
       " 44.31434399649237,\n",
       " 44.33480990000004,\n",
       " 44.4151989949938,\n",
       " 44.4723960126156,\n",
       " 45.04331698410368,\n",
       " 45.18533500000007,\n",
       " 45.3829910118985,\n",
       " 45.49907798203597,\n",
       " 46.07447899695228,\n",
       " 46.72984507900003,\n",
       " 46.90187136964028,\n",
       " 47.65037000000007,\n",
       " 47.69012901358778,\n",
       " 47.748668015817486,\n",
       " 47.93832098037856,\n",
       " 48.8109099999121]"
      ]
     },
     "execution_count": 61,
     "metadata": {},
     "output_type": "execute_result"
    }
   ],
   "source": [
    "test = multiple_criticals.groupby(['lat'])\n",
    "\n",
    "[i[0] for i in test]"
   ]
  },
  {
   "cell_type": "code",
   "execution_count": 69,
   "metadata": {},
   "outputs": [],
   "source": [
    "# Several reports are for the same location. Ideally I'll display them on the map in a way that prevents overlap\n",
    "# I want to allow users to access each report individually by clicking\n",
    "\n",
    "# Add a column that includes the number of reports for each location\n",
    "multiple_criticals['reportCount']=multiple_criticals.groupby('lat')['lng'].transform('count')\n",
    "\n",
    "multiple_criticals = multiple_criticals.sort_values('lat')\n",
    "\n",
    "# Write a function to slightly alter the latitude and longitude for overlapping points, so that they'll show up in a cluster\n",
    "\n",
    "    \n",
    "    \n",
    "\n",
    "\n",
    "\n",
    "def jitter_points(lat,lng, jitter=0.00002):\n",
    "    \"\"\"Takes lat, long series and returns lat, long series with slight offset\"\"\"\n",
    "    transformation_matrix = np.array((\n",
    "        [0,0],\n",
    "        [1,0],\n",
    "        [0,1],\n",
    "        [1,1],\n",
    "        [0,2],\n",
    "        [1,2],\n",
    "        [2,0],\n",
    "        [2,1],\n",
    "        [2,2],\n",
    "        [0,3],\n",
    "        [1,3],\n",
    "        [2,3],\n",
    "    ))\n",
    "\n",
    "    jitter_lat = []\n",
    "    jitter_lng = []\n",
    "\n",
    "    points = {'lat':lat, 'lng':lng}\n",
    "    points = pd.DataFrame(points)\n",
    "    grouped = points.groupby('lat')\n",
    "\n",
    "    for _,frame in grouped:\n",
    "        for i in range(len(frame)):\n",
    "            jitter_lat.append(frame['lat'] + transformation_matrix[i][0] * jitter)\n",
    "            jitter_lng.append(frame['lng'] + transformation_matrix[i][1] * jitter)\n",
    "\n",
    "\n",
    "    return pd.Series(jitter_lat), pd.Series(jitter_lng)\n",
    "\n",
    "\n",
    "multiple_criticals['jitter_lat'], multiple_criticals['jitter_lng'] = jitter_points(multiple_criticals['lat'],multiple_criticals['lng'])\n",
    "\n",
    "\n",
    "\n",
    "\n",
    "    \n",
    "#AHHHHHH\n",
    "\n",
    "    "
   ]
  },
  {
   "cell_type": "code",
   "execution_count": 70,
   "metadata": {},
   "outputs": [
    {
     "data": {
      "text/plain": [
       "[18.464000000000052]"
      ]
     },
     "execution_count": 70,
     "metadata": {},
     "output_type": "execute_result"
    }
   ],
   "source": [
    "[i for i in multiple_criticals['jitter_lat'][1]]\n"
   ]
  },
  {
   "cell_type": "markdown",
   "metadata": {},
   "source": []
  },
  {
   "cell_type": "code",
   "execution_count": 71,
   "metadata": {},
   "outputs": [
    {
     "data": {
      "text/html": [
       "<div>\n",
       "<style scoped>\n",
       "    .dataframe tbody tr th:only-of-type {\n",
       "        vertical-align: middle;\n",
       "    }\n",
       "\n",
       "    .dataframe tbody tr th {\n",
       "        vertical-align: top;\n",
       "    }\n",
       "\n",
       "    .dataframe thead th {\n",
       "        text-align: right;\n",
       "    }\n",
       "</style>\n",
       "<table border=\"1\" class=\"dataframe\">\n",
       "  <thead>\n",
       "    <tr style=\"text-align: right;\">\n",
       "      <th></th>\n",
       "      <th>Unnamed: 0</th>\n",
       "      <th>inspectionDate</th>\n",
       "      <th>insp_type</th>\n",
       "      <th>licenseType</th>\n",
       "      <th>critical</th>\n",
       "      <th>nonCritical</th>\n",
       "      <th>teachableMoments</th>\n",
       "      <th>animals_total</th>\n",
       "      <th>legalName</th>\n",
       "      <th>siteName</th>\n",
       "      <th>customer_addr</th>\n",
       "      <th>reportLink</th>\n",
       "      <th>type</th>\n",
       "      <th>loc</th>\n",
       "      <th>lat</th>\n",
       "      <th>lng</th>\n",
       "      <th>loc_json</th>\n",
       "      <th>reportCount</th>\n",
       "      <th>jitter_lat</th>\n",
       "      <th>jitter_lng</th>\n",
       "    </tr>\n",
       "  </thead>\n",
       "  <tbody>\n",
       "    <tr>\n",
       "      <th>11</th>\n",
       "      <td>5881</td>\n",
       "      <td>2022-07-22</td>\n",
       "      <td>ROUTINE INSPECTION</td>\n",
       "      <td>R</td>\n",
       "      <td>2</td>\n",
       "      <td>0</td>\n",
       "      <td>0</td>\n",
       "      <td>2392.0</td>\n",
       "      <td>University Of Puerto Rico</td>\n",
       "      <td>Sabana Seca</td>\n",
       "      <td>PO Box 365067 - Medical Science Campus\\nSan Ju...</td>\n",
       "      <td>https://aphis--c.na107.content.force.com/sfc/d...</td>\n",
       "      <td>Research</td>\n",
       "      <td>&lt;[OK] Arcgis - Geocode [00936]&gt;</td>\n",
       "      <td>18.417640</td>\n",
       "      <td>-66.076030</td>\n",
       "      <td>{'address': '00936', 'bbox': {'northeast': [18...</td>\n",
       "      <td>1</td>\n",
       "      <td>216    28.730301\n",
       "218    28.730301\n",
       "Name: lat, d...</td>\n",
       "      <td>216   -81.58715\n",
       "218   -81.58715\n",
       "Name: lng, dty...</td>\n",
       "    </tr>\n",
       "    <tr>\n",
       "      <th>132</th>\n",
       "      <td>15140</td>\n",
       "      <td>2017-02-07</td>\n",
       "      <td>ROUTINE INSPECTION</td>\n",
       "      <td>C</td>\n",
       "      <td>0</td>\n",
       "      <td>10</td>\n",
       "      <td>0</td>\n",
       "      <td>143.0</td>\n",
       "      <td>Zoologico De Puerto Rico Dr Juan A Rivero</td>\n",
       "      <td>Zoological De P.R. At Mayaguez</td>\n",
       "      <td>Po Box 9023207\\nSan Juan, PR 00902</td>\n",
       "      <td>https://aphis--c.na107.content.force.com/sfc/d...</td>\n",
       "      <td>Exhibitor</td>\n",
       "      <td>&lt;[OK] Arcgis - Geocode [00902]&gt;</td>\n",
       "      <td>18.464000</td>\n",
       "      <td>-66.112780</td>\n",
       "      <td>{'address': '00902', 'bbox': {'northeast': [18...</td>\n",
       "      <td>1</td>\n",
       "      <td>205    36.856436\n",
       "Name: lat, dtype: float64</td>\n",
       "      <td>205   -76.294784\n",
       "Name: lng, dtype: float64</td>\n",
       "    </tr>\n",
       "    <tr>\n",
       "      <th>13</th>\n",
       "      <td>5327</td>\n",
       "      <td>2015-09-28</td>\n",
       "      <td>ROUTINE INSPECTION</td>\n",
       "      <td>A</td>\n",
       "      <td>2</td>\n",
       "      <td>1</td>\n",
       "      <td>0</td>\n",
       "      <td>2316.0</td>\n",
       "      <td>The Mannheimer Foundation Inc</td>\n",
       "      <td>Mannheimer Foundation Inc</td>\n",
       "      <td>20255 S W 360 Street\\nHomestead, FL 33034</td>\n",
       "      <td>https://aphis--c.na107.content.force.com/sfc/d...</td>\n",
       "      <td>Breeder</td>\n",
       "      <td>&lt;[OK] Arcgis - Geocode [20255 SW 360th St, Hom...</td>\n",
       "      <td>25.434924</td>\n",
       "      <td>-80.519220</td>\n",
       "      <td>{'address': '20255 SW 360th St, Homestead, Flo...</td>\n",
       "      <td>1</td>\n",
       "      <td>257    29.397924\n",
       "Name: lat, dtype: float64</td>\n",
       "      <td>257   -82.099775\n",
       "Name: lng, dtype: float64</td>\n",
       "    </tr>\n",
       "    <tr>\n",
       "      <th>175</th>\n",
       "      <td>28753</td>\n",
       "      <td>2021-07-15</td>\n",
       "      <td>ROUTINE INSPECTION</td>\n",
       "      <td>B</td>\n",
       "      <td>2</td>\n",
       "      <td>1</td>\n",
       "      <td>2</td>\n",
       "      <td>79.0</td>\n",
       "      <td>Zoological Wildlife Foundation Inc</td>\n",
       "      <td>Zoological Wildlife Foundation Inc</td>\n",
       "      <td>16225 S W 172 Ave\\nMiami, FL 33187</td>\n",
       "      <td>https://aphis--c.na107.content.force.com/sfc/d...</td>\n",
       "      <td>Dealer</td>\n",
       "      <td>&lt;[OK] Arcgis - Geocode [16225 SW 172nd Ave, Mi...</td>\n",
       "      <td>25.614739</td>\n",
       "      <td>-80.470226</td>\n",
       "      <td>{'address': '16225 SW 172nd Ave, Miami, Florid...</td>\n",
       "      <td>1</td>\n",
       "      <td>211    39.380375\n",
       "Name: lat, dtype: float64</td>\n",
       "      <td>211   -97.124705\n",
       "Name: lng, dtype: float64</td>\n",
       "    </tr>\n",
       "    <tr>\n",
       "      <th>209</th>\n",
       "      <td>10171</td>\n",
       "      <td>2021-06-08</td>\n",
       "      <td>ROUTINE INSPECTION</td>\n",
       "      <td>C</td>\n",
       "      <td>3</td>\n",
       "      <td>3</td>\n",
       "      <td>0</td>\n",
       "      <td>58.0</td>\n",
       "      <td>Festival Fun Parks Llc</td>\n",
       "      <td>Miami Seaquarium</td>\n",
       "      <td>4400 Richenbacker Causeway\\nMiami, FL 33149</td>\n",
       "      <td>https://aphis--c.na107.content.force.com/sfc/d...</td>\n",
       "      <td>Exhibitor</td>\n",
       "      <td>&lt;[OK] Arcgis - Geocode [4400 Rickenbacker Cswy...</td>\n",
       "      <td>25.731591</td>\n",
       "      <td>-80.165475</td>\n",
       "      <td>{'address': '4400 Rickenbacker Cswy, Key Bisca...</td>\n",
       "      <td>1</td>\n",
       "      <td>37     40.526616\n",
       "300    40.526616\n",
       "41     40.52...</td>\n",
       "      <td>37    -83.215946\n",
       "300   -83.215946\n",
       "41    -83.21...</td>\n",
       "    </tr>\n",
       "    <tr>\n",
       "      <th>...</th>\n",
       "      <td>...</td>\n",
       "      <td>...</td>\n",
       "      <td>...</td>\n",
       "      <td>...</td>\n",
       "      <td>...</td>\n",
       "      <td>...</td>\n",
       "      <td>...</td>\n",
       "      <td>...</td>\n",
       "      <td>...</td>\n",
       "      <td>...</td>\n",
       "      <td>...</td>\n",
       "      <td>...</td>\n",
       "      <td>...</td>\n",
       "      <td>...</td>\n",
       "      <td>...</td>\n",
       "      <td>...</td>\n",
       "      <td>...</td>\n",
       "      <td>...</td>\n",
       "      <td>...</td>\n",
       "      <td>...</td>\n",
       "    </tr>\n",
       "    <tr>\n",
       "      <th>243</th>\n",
       "      <td>54924</td>\n",
       "      <td>2015-03-20</td>\n",
       "      <td>ROUTINE INSPECTION</td>\n",
       "      <td>C</td>\n",
       "      <td>0</td>\n",
       "      <td>9</td>\n",
       "      <td>0</td>\n",
       "      <td>42.0</td>\n",
       "      <td>Kirsty Lee L L C</td>\n",
       "      <td>Kirsty Lee, L L C</td>\n",
       "      <td>8311 N.E. 166th St.\\nKenmore, WA 98028</td>\n",
       "      <td>https://aphis--c.na107.content.force.com/sfc/d...</td>\n",
       "      <td>Exhibitor</td>\n",
       "      <td>&lt;[OK] Arcgis - Geocode [8311 NE 166th St, Kenm...</td>\n",
       "      <td>47.748668</td>\n",
       "      <td>-122.229615</td>\n",
       "      <td>{'address': '8311 NE 166th St, Kenmore, Washin...</td>\n",
       "      <td>3</td>\n",
       "      <td>312    41.373696\n",
       "Name: lat, dtype: float64</td>\n",
       "      <td>312   -71.954111\n",
       "Name: lng, dtype: float64</td>\n",
       "    </tr>\n",
       "    <tr>\n",
       "      <th>153</th>\n",
       "      <td>54928</td>\n",
       "      <td>2015-11-30</td>\n",
       "      <td>ROUTINE INSPECTION</td>\n",
       "      <td>C</td>\n",
       "      <td>0</td>\n",
       "      <td>12</td>\n",
       "      <td>0</td>\n",
       "      <td>103.0</td>\n",
       "      <td>Kirsty Lee L L C</td>\n",
       "      <td>Kirsty Lee, L L C</td>\n",
       "      <td>8311 N.E. 166th St.\\nKenmore, WA 98028</td>\n",
       "      <td>https://aphis--c.na107.content.force.com/sfc/d...</td>\n",
       "      <td>Exhibitor</td>\n",
       "      <td>&lt;[OK] Arcgis - Geocode [8311 NE 166th St, Kenm...</td>\n",
       "      <td>47.748668</td>\n",
       "      <td>-122.229615</td>\n",
       "      <td>{'address': '8311 NE 166th St, Kenmore, Washin...</td>\n",
       "      <td>3</td>\n",
       "      <td>34    38.113215\n",
       "35    38.113215\n",
       "14    38.11321...</td>\n",
       "      <td>34   -88.767207\n",
       "35   -88.767207\n",
       "14   -88.76720...</td>\n",
       "    </tr>\n",
       "    <tr>\n",
       "      <th>65</th>\n",
       "      <td>28638</td>\n",
       "      <td>2017-05-01</td>\n",
       "      <td>FOCUSED INSPECTION</td>\n",
       "      <td>R</td>\n",
       "      <td>2</td>\n",
       "      <td>0</td>\n",
       "      <td>0</td>\n",
       "      <td>342.0</td>\n",
       "      <td>Snbl Usa Ltd</td>\n",
       "      <td>Snbl Usa, Ltd</td>\n",
       "      <td>6605 Merrill Creek Parkway\\nEverett, WA 98203</td>\n",
       "      <td>https://aphis--c.na107.content.force.com/sfc/d...</td>\n",
       "      <td>Research</td>\n",
       "      <td>&lt;[OK] Arcgis - Geocode [6605 Merrill Creek Pkw...</td>\n",
       "      <td>47.938321</td>\n",
       "      <td>-122.266999</td>\n",
       "      <td>{'address': '6605 Merrill Creek Pkwy, Everett,...</td>\n",
       "      <td>2</td>\n",
       "      <td>220    33.305318\n",
       "Name: lat, dtype: float64</td>\n",
       "      <td>220   -84.127287\n",
       "Name: lng, dtype: float64</td>\n",
       "    </tr>\n",
       "    <tr>\n",
       "      <th>17</th>\n",
       "      <td>80270</td>\n",
       "      <td>2021-07-14</td>\n",
       "      <td>ROUTINE INSPECTION</td>\n",
       "      <td>R</td>\n",
       "      <td>4</td>\n",
       "      <td>0</td>\n",
       "      <td>0</td>\n",
       "      <td>2081.0</td>\n",
       "      <td>Altasciences Preclinical Seattle Llc</td>\n",
       "      <td>Altasciences Preclinical Seattle Llc</td>\n",
       "      <td>6605 Merrill Creek Parkway\\nEverett, WA 98203</td>\n",
       "      <td>https://aphis--c.na107.content.force.com/sfc/d...</td>\n",
       "      <td>Research</td>\n",
       "      <td>&lt;[OK] Arcgis - Geocode [6605 Merrill Creek Pkw...</td>\n",
       "      <td>47.938321</td>\n",
       "      <td>-122.266999</td>\n",
       "      <td>{'address': '6605 Merrill Creek Pkwy, Everett,...</td>\n",
       "      <td>2</td>\n",
       "      <td>75     29.435937\n",
       "108    29.435937\n",
       "105    29.43...</td>\n",
       "      <td>75    -95.170922\n",
       "108   -95.170922\n",
       "105   -95.17...</td>\n",
       "    </tr>\n",
       "    <tr>\n",
       "      <th>184</th>\n",
       "      <td>13543</td>\n",
       "      <td>2015-09-09</td>\n",
       "      <td>ROUTINE INSPECTION</td>\n",
       "      <td>A</td>\n",
       "      <td>2</td>\n",
       "      <td>9</td>\n",
       "      <td>0</td>\n",
       "      <td>74.0</td>\n",
       "      <td>S Glenice Viken</td>\n",
       "      <td>S Glenice Viken</td>\n",
       "      <td>28401 380th Avenue\\nRoseau, MN 56751</td>\n",
       "      <td>https://aphis--c.na107.content.force.com/sfc/d...</td>\n",
       "      <td>Breeder</td>\n",
       "      <td>&lt;[OK] Arcgis - Geocode [28401 380th Ave, Rosea...</td>\n",
       "      <td>48.810910</td>\n",
       "      <td>-95.792068</td>\n",
       "      <td>{'address': '28401 380th Ave, Roseau, Minnesot...</td>\n",
       "      <td>1</td>\n",
       "      <td>214    39.572298\n",
       "188    39.572298\n",
       "215    39.57...</td>\n",
       "      <td>214   -77.288439\n",
       "188   -77.288439\n",
       "215   -77.28...</td>\n",
       "    </tr>\n",
       "  </tbody>\n",
       "</table>\n",
       "<p>342 rows × 20 columns</p>\n",
       "</div>"
      ],
      "text/plain": [
       "     Unnamed: 0 inspectionDate           insp_type licenseType  critical  \\\n",
       "11         5881     2022-07-22  ROUTINE INSPECTION           R         2   \n",
       "132       15140     2017-02-07  ROUTINE INSPECTION           C         0   \n",
       "13         5327     2015-09-28  ROUTINE INSPECTION           A         2   \n",
       "175       28753     2021-07-15  ROUTINE INSPECTION           B         2   \n",
       "209       10171     2021-06-08  ROUTINE INSPECTION           C         3   \n",
       "..          ...            ...                 ...         ...       ...   \n",
       "243       54924     2015-03-20  ROUTINE INSPECTION           C         0   \n",
       "153       54928     2015-11-30  ROUTINE INSPECTION           C         0   \n",
       "65        28638     2017-05-01  FOCUSED INSPECTION           R         2   \n",
       "17        80270     2021-07-14  ROUTINE INSPECTION           R         4   \n",
       "184       13543     2015-09-09  ROUTINE INSPECTION           A         2   \n",
       "\n",
       "     nonCritical  teachableMoments  animals_total  \\\n",
       "11             0                 0         2392.0   \n",
       "132           10                 0          143.0   \n",
       "13             1                 0         2316.0   \n",
       "175            1                 2           79.0   \n",
       "209            3                 0           58.0   \n",
       "..           ...               ...            ...   \n",
       "243            9                 0           42.0   \n",
       "153           12                 0          103.0   \n",
       "65             0                 0          342.0   \n",
       "17             0                 0         2081.0   \n",
       "184            9                 0           74.0   \n",
       "\n",
       "                                     legalName  \\\n",
       "11                   University Of Puerto Rico   \n",
       "132  Zoologico De Puerto Rico Dr Juan A Rivero   \n",
       "13               The Mannheimer Foundation Inc   \n",
       "175         Zoological Wildlife Foundation Inc   \n",
       "209                     Festival Fun Parks Llc   \n",
       "..                                         ...   \n",
       "243                           Kirsty Lee L L C   \n",
       "153                           Kirsty Lee L L C   \n",
       "65                                Snbl Usa Ltd   \n",
       "17        Altasciences Preclinical Seattle Llc   \n",
       "184                            S Glenice Viken   \n",
       "\n",
       "                                 siteName  \\\n",
       "11                            Sabana Seca   \n",
       "132        Zoological De P.R. At Mayaguez   \n",
       "13              Mannheimer Foundation Inc   \n",
       "175    Zoological Wildlife Foundation Inc   \n",
       "209                      Miami Seaquarium   \n",
       "..                                    ...   \n",
       "243                     Kirsty Lee, L L C   \n",
       "153                     Kirsty Lee, L L C   \n",
       "65                          Snbl Usa, Ltd   \n",
       "17   Altasciences Preclinical Seattle Llc   \n",
       "184                       S Glenice Viken   \n",
       "\n",
       "                                         customer_addr  \\\n",
       "11   PO Box 365067 - Medical Science Campus\\nSan Ju...   \n",
       "132                 Po Box 9023207\\nSan Juan, PR 00902   \n",
       "13           20255 S W 360 Street\\nHomestead, FL 33034   \n",
       "175                 16225 S W 172 Ave\\nMiami, FL 33187   \n",
       "209        4400 Richenbacker Causeway\\nMiami, FL 33149   \n",
       "..                                                 ...   \n",
       "243             8311 N.E. 166th St.\\nKenmore, WA 98028   \n",
       "153             8311 N.E. 166th St.\\nKenmore, WA 98028   \n",
       "65       6605 Merrill Creek Parkway\\nEverett, WA 98203   \n",
       "17       6605 Merrill Creek Parkway\\nEverett, WA 98203   \n",
       "184               28401 380th Avenue\\nRoseau, MN 56751   \n",
       "\n",
       "                                            reportLink       type  \\\n",
       "11   https://aphis--c.na107.content.force.com/sfc/d...   Research   \n",
       "132  https://aphis--c.na107.content.force.com/sfc/d...  Exhibitor   \n",
       "13   https://aphis--c.na107.content.force.com/sfc/d...    Breeder   \n",
       "175  https://aphis--c.na107.content.force.com/sfc/d...     Dealer   \n",
       "209  https://aphis--c.na107.content.force.com/sfc/d...  Exhibitor   \n",
       "..                                                 ...        ...   \n",
       "243  https://aphis--c.na107.content.force.com/sfc/d...  Exhibitor   \n",
       "153  https://aphis--c.na107.content.force.com/sfc/d...  Exhibitor   \n",
       "65   https://aphis--c.na107.content.force.com/sfc/d...   Research   \n",
       "17   https://aphis--c.na107.content.force.com/sfc/d...   Research   \n",
       "184  https://aphis--c.na107.content.force.com/sfc/d...    Breeder   \n",
       "\n",
       "                                                   loc        lat         lng  \\\n",
       "11                     <[OK] Arcgis - Geocode [00936]>  18.417640  -66.076030   \n",
       "132                    <[OK] Arcgis - Geocode [00902]>  18.464000  -66.112780   \n",
       "13   <[OK] Arcgis - Geocode [20255 SW 360th St, Hom...  25.434924  -80.519220   \n",
       "175  <[OK] Arcgis - Geocode [16225 SW 172nd Ave, Mi...  25.614739  -80.470226   \n",
       "209  <[OK] Arcgis - Geocode [4400 Rickenbacker Cswy...  25.731591  -80.165475   \n",
       "..                                                 ...        ...         ...   \n",
       "243  <[OK] Arcgis - Geocode [8311 NE 166th St, Kenm...  47.748668 -122.229615   \n",
       "153  <[OK] Arcgis - Geocode [8311 NE 166th St, Kenm...  47.748668 -122.229615   \n",
       "65   <[OK] Arcgis - Geocode [6605 Merrill Creek Pkw...  47.938321 -122.266999   \n",
       "17   <[OK] Arcgis - Geocode [6605 Merrill Creek Pkw...  47.938321 -122.266999   \n",
       "184  <[OK] Arcgis - Geocode [28401 380th Ave, Rosea...  48.810910  -95.792068   \n",
       "\n",
       "                                              loc_json  reportCount  \\\n",
       "11   {'address': '00936', 'bbox': {'northeast': [18...            1   \n",
       "132  {'address': '00902', 'bbox': {'northeast': [18...            1   \n",
       "13   {'address': '20255 SW 360th St, Homestead, Flo...            1   \n",
       "175  {'address': '16225 SW 172nd Ave, Miami, Florid...            1   \n",
       "209  {'address': '4400 Rickenbacker Cswy, Key Bisca...            1   \n",
       "..                                                 ...          ...   \n",
       "243  {'address': '8311 NE 166th St, Kenmore, Washin...            3   \n",
       "153  {'address': '8311 NE 166th St, Kenmore, Washin...            3   \n",
       "65   {'address': '6605 Merrill Creek Pkwy, Everett,...            2   \n",
       "17   {'address': '6605 Merrill Creek Pkwy, Everett,...            2   \n",
       "184  {'address': '28401 380th Ave, Roseau, Minnesot...            1   \n",
       "\n",
       "                                            jitter_lat  \\\n",
       "11   216    28.730301\n",
       "218    28.730301\n",
       "Name: lat, d...   \n",
       "132         205    36.856436\n",
       "Name: lat, dtype: float64   \n",
       "13          257    29.397924\n",
       "Name: lat, dtype: float64   \n",
       "175         211    39.380375\n",
       "Name: lat, dtype: float64   \n",
       "209  37     40.526616\n",
       "300    40.526616\n",
       "41     40.52...   \n",
       "..                                                 ...   \n",
       "243         312    41.373696\n",
       "Name: lat, dtype: float64   \n",
       "153  34    38.113215\n",
       "35    38.113215\n",
       "14    38.11321...   \n",
       "65          220    33.305318\n",
       "Name: lat, dtype: float64   \n",
       "17   75     29.435937\n",
       "108    29.435937\n",
       "105    29.43...   \n",
       "184  214    39.572298\n",
       "188    39.572298\n",
       "215    39.57...   \n",
       "\n",
       "                                            jitter_lng  \n",
       "11   216   -81.58715\n",
       "218   -81.58715\n",
       "Name: lng, dty...  \n",
       "132         205   -76.294784\n",
       "Name: lng, dtype: float64  \n",
       "13          257   -82.099775\n",
       "Name: lng, dtype: float64  \n",
       "175         211   -97.124705\n",
       "Name: lng, dtype: float64  \n",
       "209  37    -83.215946\n",
       "300   -83.215946\n",
       "41    -83.21...  \n",
       "..                                                 ...  \n",
       "243         312   -71.954111\n",
       "Name: lng, dtype: float64  \n",
       "153  34   -88.767207\n",
       "35   -88.767207\n",
       "14   -88.76720...  \n",
       "65          220   -84.127287\n",
       "Name: lng, dtype: float64  \n",
       "17   75    -95.170922\n",
       "108   -95.170922\n",
       "105   -95.17...  \n",
       "184  214   -77.288439\n",
       "188   -77.288439\n",
       "215   -77.28...  \n",
       "\n",
       "[342 rows x 20 columns]"
      ]
     },
     "execution_count": 71,
     "metadata": {},
     "output_type": "execute_result"
    }
   ],
   "source": [
    "multiple_criticals"
   ]
  },
  {
   "cell_type": "code",
   "execution_count": 52,
   "metadata": {},
   "outputs": [
    {
     "data": {
      "application/vnd.plotly.v1+json": {
       "config": {
        "plotlyServerURL": "https://plot.ly"
       },
       "data": [
        {
         "customdata": [
          [
           0,
           2,
           2,
           2,
           2,
           2,
           3,
           2,
           0,
           1,
           3,
           2,
           3,
           2,
           2,
           2,
           3,
           4,
           2,
           0,
           2,
           2,
           2,
           1,
           2,
           1,
           1,
           0,
           2,
           0,
           2,
           2,
           0,
           3,
           2,
           2,
           2,
           1,
           1,
           0,
           2,
           0,
           2,
           0,
           0,
           0,
           1,
           0,
           1,
           2,
           0,
           2,
           0,
           3,
           2,
           0,
           2,
           3,
           1,
           3,
           2,
           0,
           0,
           2,
           0,
           2,
           2,
           0,
           0,
           0,
           2,
           4,
           2,
           8,
           4,
           0,
           3,
           2,
           0,
           1,
           0,
           2,
           0,
           2,
           0,
           0,
           0,
           2,
           0,
           3,
           0,
           1,
           5,
           0,
           0,
           3,
           0,
           0,
           2,
           1,
           2,
           1,
           3,
           0,
           4,
           1,
           0,
           2,
           2,
           2,
           2,
           2,
           0,
           0,
           0,
           2,
           1,
           3,
           0,
           0,
           0,
           0,
           0,
           3,
           0,
           0,
           2,
           4,
           0,
           2,
           2,
           2,
           0,
           0,
           0,
           0,
           0,
           0,
           0,
           0,
           1,
           3,
           0,
           0,
           2,
           0,
           1,
           1,
           2,
           2,
           2,
           2,
           0,
           0,
           0,
           5,
           0,
           0,
           0,
           3,
           3,
           2,
           4,
           2,
           2,
           2,
           2,
           2,
           1,
           1,
           0,
           0,
           2,
           2,
           0,
           2,
           0,
           3,
           2,
           2,
           2,
           5,
           3,
           0,
           2,
           0,
           0,
           3,
           1,
           2,
           2,
           0,
           0,
           2,
           1,
           0,
           2,
           0,
           6,
           0,
           2,
           2,
           0,
           0,
           2,
           2,
           2,
           2,
           2,
           3,
           3,
           0,
           0,
           4,
           0,
           1,
           0,
           1,
           0,
           0,
           1,
           2,
           2,
           2,
           1,
           1,
           0,
           0,
           2,
           0,
           1,
           1,
           2,
           0,
           3,
           1,
           1,
           0,
           4,
           2,
           3,
           0,
           2,
           0,
           1,
           0,
           0,
           2,
           0,
           2,
           1,
           0,
           0,
           0,
           0,
           0,
           3,
           1,
           0,
           2,
           0,
           0,
           0,
           0,
           3,
           3,
           2,
           0,
           0,
           4,
           2,
           3,
           0,
           1,
           0,
           0,
           0,
           3,
           0,
           3,
           2,
           2,
           2,
           0,
           2,
           0,
           0,
           3,
           1,
           1,
           2,
           0,
           1,
           2,
           2,
           2,
           3,
           2,
           2,
           2,
           2,
           2,
           3,
           2,
           3,
           2,
           2,
           4,
           2,
           2,
           0,
           4,
           3,
           2,
           2,
           3,
           2,
           2,
           3,
           2,
           2,
           2,
           2,
           2,
           2,
           2,
           2,
           2,
           3,
           2,
           2,
           2,
           2,
           3,
           2,
           3,
           2,
           2,
           2,
           5,
           2,
           0
          ],
          [
           13,
           0,
           3,
           1,
           1,
           5,
           8,
           2,
           12,
           10,
           0,
           0,
           5,
           1,
           0,
           0,
           2,
           0,
           0,
           12,
           0,
           3,
           1,
           10,
           8,
           10,
           13,
           9,
           1,
           10,
           0,
           2,
           9,
           2,
           0,
           0,
           1,
           9,
           10,
           9,
           6,
           10,
           1,
           21,
           12,
           11,
           31,
           11,
           9,
           0,
           12,
           0,
           23,
           6,
           0,
           9,
           2,
           14,
           10,
           3,
           2,
           9,
           11,
           0,
           15,
           0,
           1,
           22,
           16,
           9,
           1,
           3,
           1,
           3,
           3,
           18,
           2,
           1,
           18,
           16,
           10,
           0,
           10,
           1,
           9,
           11,
           9,
           2,
           9,
           8,
           10,
           15,
           7,
           10,
           10,
           0,
           10,
           12,
           0,
           9,
           0,
           16,
           6,
           12,
           2,
           9,
           10,
           1,
           1,
           1,
           0,
           0,
           11,
           13,
           9,
           2,
           10,
           0,
           14,
           16,
           15,
           16,
           10,
           5,
           11,
           9,
           1,
           1,
           9,
           1,
           8,
           2,
           10,
           13,
           9,
           9,
           9,
           9,
           10,
           11,
           10,
           3,
           9,
           11,
           0,
           9,
           12,
           11,
           4,
           1,
           2,
           10,
           13,
           12,
           10,
           5,
           11,
           12,
           9,
           3,
           2,
           4,
           5,
           9,
           1,
           2,
           0,
           3,
           13,
           9,
           12,
           11,
           1,
           2,
           9,
           1,
           16,
           0,
           0,
           0,
           8,
           12,
           5,
           10,
           9,
           9,
           11,
           0,
           19,
           3,
           7,
           9,
           10,
           1,
           13,
           13,
           7,
           15,
           3,
           9,
           3,
           0,
           12,
           13,
           7,
           0,
           1,
           1,
           2,
           3,
           12,
           13,
           9,
           19,
           11,
           12,
           11,
           12,
           9,
           10,
           9,
           6,
           0,
           2,
           9,
           9,
           10,
           9,
           2,
           9,
           11,
           10,
           2,
           9,
           2,
           10,
           14,
           9,
           0,
           2,
           10,
           9,
           1,
           9,
           13,
           11,
           9,
           14,
           10,
           0,
           9,
           16,
           16,
           11,
           14,
           14,
           0,
           10,
           12,
           5,
           10,
           11,
           9,
           9,
           1,
           2,
           4,
           11,
           9,
           1,
           4,
           3,
           10,
           9,
           14,
           14,
           9,
           0,
           11,
           1,
           5,
           2,
           0,
           11,
           0,
           12,
           9,
           0,
           10,
           12,
           0,
           9,
           12,
           0,
           2,
           2,
           2,
           3,
           3,
           1,
           0,
           3,
           0,
           1,
           3,
           1,
           0,
           0,
           0,
           0,
           9,
           1,
           2,
           0,
           0,
           0,
           1,
           0,
           0,
           0,
           1,
           0,
           0,
           0,
           0,
           1,
           2,
           0,
           0,
           0,
           0,
           5,
           0,
           0,
           0,
           1,
           0,
           0,
           0,
           0,
           0,
           10
          ],
          [
           "Dealer",
           "Breeder",
           "Research",
           "Dealer",
           "Research",
           "Dealer",
           "Breeder",
           "Research",
           "Breeder",
           "Dealer",
           "Dealer",
           "Research",
           "Dealer",
           "Breeder",
           "Breeder",
           "Breeder",
           "Research",
           "Research",
           "Breeder",
           "Dealer",
           "Dealer",
           "Research",
           null,
           "Dealer",
           "Breeder",
           "Dealer",
           "Dealer",
           "Breeder",
           "Research",
           "Dealer",
           "Research",
           "Research",
           "Exhibitor",
           "Research",
           "Breeder",
           "Breeder",
           "Research",
           "Breeder",
           "Breeder",
           "Breeder",
           "Breeder",
           "Breeder",
           "Research",
           "Breeder",
           "Breeder",
           "Breeder",
           "Breeder",
           "Breeder",
           "Exhibitor",
           "Research",
           "Dealer",
           "Research",
           "Exhibitor",
           "Research",
           "Research",
           "Dealer",
           "Research",
           "Exhibitor",
           "Exhibitor",
           "Research",
           "Research",
           "Breeder",
           "Exhibitor",
           "Research",
           "Breeder",
           "Research",
           "Exhibitor",
           "Breeder",
           "Breeder",
           "Breeder",
           "Exhibitor",
           "Exhibitor",
           "Research",
           "Exhibitor",
           "Exhibitor",
           "Exhibitor",
           "Research",
           "Exhibitor",
           "Breeder",
           "Breeder",
           "Breeder",
           "Research",
           "Breeder",
           "Research",
           "Exhibitor",
           "Breeder",
           "Exhibitor",
           "Exhibitor",
           "Exhibitor",
           "Exhibitor",
           "Exhibitor",
           "Exhibitor",
           "Exhibitor",
           "Exhibitor",
           "Exhibitor",
           "Research",
           "Exhibitor",
           "Exhibitor",
           "Research",
           "Exhibitor",
           "Exhibitor",
           "Exhibitor",
           "Research",
           "Exhibitor",
           "Exhibitor",
           "Exhibitor",
           "Exhibitor",
           "Dealer",
           "Exhibitor",
           "Exhibitor",
           "Research",
           "Research",
           "Exhibitor",
           "Exhibitor",
           "Exhibitor",
           "Research",
           "Breeder",
           "Research",
           "Breeder",
           "Dealer",
           "Exhibitor",
           "Exhibitor",
           "Breeder",
           "Exhibitor",
           "Exhibitor",
           "Breeder",
           "Research",
           "Exhibitor",
           "Breeder",
           "Exhibitor",
           "Dealer",
           "Research",
           "Exhibitor",
           "Exhibitor",
           "Dealer",
           "Exhibitor",
           "Exhibitor",
           "Exhibitor",
           "Exhibitor",
           "Exhibitor",
           "Exhibitor",
           "Exhibitor",
           "Breeder",
           "Exhibitor",
           "Exhibitor",
           "Exhibitor",
           "Exhibitor",
           "Exhibitor",
           "Breeder",
           "Exhibitor",
           "Exhibitor",
           "Dealer",
           "Exhibitor",
           "Exhibitor",
           "Exhibitor",
           "Dealer",
           "Exhibitor",
           "Research",
           "Breeder",
           "Exhibitor",
           "Breeder",
           "Research",
           "Exhibitor",
           "Exhibitor",
           "Research",
           "Exhibitor",
           "Research",
           "Exhibitor",
           "Dealer",
           "Dealer",
           "Exhibitor",
           "Dealer",
           "Breeder",
           "Exhibitor",
           "Breeder",
           "Dealer",
           "Breeder",
           "Exhibitor",
           "Breeder",
           "Exhibitor",
           "Exhibitor",
           "Exhibitor",
           "Exhibitor",
           "Breeder",
           "Breeder",
           "Dealer",
           "Dealer",
           "Exhibitor",
           "Exhibitor",
           "Dealer",
           "Dealer",
           "Exhibitor",
           "Exhibitor",
           "Dealer",
           "Exhibitor",
           "Dealer",
           "Dealer",
           "Exhibitor",
           "Exhibitor",
           "Dealer",
           "Research",
           "Exhibitor",
           "Exhibitor",
           "Exhibitor",
           "Exhibitor",
           "Research",
           "Research",
           "Exhibitor",
           "Exhibitor",
           "Exhibitor",
           "Exhibitor",
           "Exhibitor",
           "Exhibitor",
           "Exhibitor",
           "Exhibitor",
           "Exhibitor",
           "Exhibitor",
           "Exhibitor",
           "Exhibitor",
           "Breeder",
           "Exhibitor",
           "Research",
           "Dealer",
           "Exhibitor",
           "Exhibitor",
           "Exhibitor",
           "Research",
           "Exhibitor",
           "Breeder",
           "Dealer",
           "Exhibitor",
           "Exhibitor",
           "Breeder",
           "Research",
           "Research",
           "Exhibitor",
           "Breeder",
           "Exhibitor",
           "Exhibitor",
           "Exhibitor",
           "Exhibitor",
           "Breeder",
           "Research",
           "Exhibitor",
           "Exhibitor",
           "Exhibitor",
           "Breeder",
           "Exhibitor",
           "Breeder",
           "Dealer",
           "Exhibitor",
           "Exhibitor",
           "Exhibitor",
           "Breeder",
           "Exhibitor",
           "Exhibitor",
           "Dealer",
           "Exhibitor",
           "Exhibitor",
           "Exhibitor",
           "Exhibitor",
           "Breeder",
           "Breeder",
           "Exhibitor",
           "Dealer",
           "Exhibitor",
           "Exhibitor",
           "Exhibitor",
           "Breeder",
           "Exhibitor",
           "Exhibitor",
           "Exhibitor",
           "Breeder",
           "Exhibitor",
           "Dealer",
           "Exhibitor",
           "Exhibitor",
           "Exhibitor",
           "Exhibitor",
           "Exhibitor",
           "Exhibitor",
           "Exhibitor",
           "Exhibitor",
           "Breeder",
           "Exhibitor",
           "Dealer",
           "Exhibitor",
           "Exhibitor",
           "Exhibitor",
           "Exhibitor",
           "Dealer",
           "Dealer",
           "Exhibitor",
           "Exhibitor",
           "Exhibitor",
           "Exhibitor",
           "Exhibitor",
           "Exhibitor",
           "Exhibitor",
           "Research",
           "Breeder",
           "Exhibitor",
           "Exhibitor",
           "Exhibitor",
           "Research",
           "Research",
           "Dealer",
           "Research",
           "Exhibitor",
           "Exhibitor",
           "Exhibitor",
           "Dealer",
           "Exhibitor",
           "Exhibitor",
           "Breeder",
           "Exhibitor",
           "Exhibitor",
           "Exhibitor",
           "Exhibitor",
           null,
           "Research",
           "Research",
           null,
           "Research",
           null,
           "Breeder",
           "Research",
           "Research",
           "Dealer",
           "Research",
           "Research",
           "Research",
           "Research",
           "Research",
           "Breeder",
           "Exhibitor",
           "Exhibitor",
           "Exhibitor",
           null,
           "Research",
           "Research",
           "Breeder"
          ]
         ],
         "lat": [
          [
           18.417640000000063
          ],
          [
           18.464000000000052
          ],
          [
           25.434923994091776
          ],
          [
           25.614738993167293
          ],
          [
           25.73159097960759
          ],
          [
           26.061239999747485
          ],
          [
           26.26166702074076
          ],
          [
           27.20239486856311
          ],
          [
           27.374507008000023
          ],
          [
           28.118867016452768
          ],
          [
           28.730281004090926,
           28.730281004090926
          ],
          [
           28.730301004090926,
           28.730301004090926
          ],
          [
           28.80874999277701
          ],
          [
           29.39792368998654
          ],
          [
           29.41432160000005
          ],
          [
           29.42381000000006
          ],
          [
           29.43591728897649,
           29.43591728897649,
           29.43591728897649
          ],
          [
           29.43593728897649,
           29.43593728897649,
           29.43593728897649
          ],
          [
           29.43591728897649,
           29.43591728897649,
           29.43591728897649
          ],
          [
           29.4393909727128
          ],
          [
           29.577221986640808
          ],
          [
           29.651519008749872,
           29.651519008749872,
           29.651519008749872,
           29.651519008749872
          ],
          [
           29.65153900874987,
           29.65153900874987,
           29.65153900874987,
           29.65153900874987
          ],
          [
           29.651519008749872,
           29.651519008749872,
           29.651519008749872,
           29.651519008749872
          ],
          [
           29.65153900874987,
           29.65153900874987,
           29.65153900874987,
           29.65153900874987
          ],
          [
           29.669317016224056
          ],
          [
           29.71652301480832
          ],
          [
           29.727370999626515
          ],
          [
           29.75921099994295
          ],
          [
           29.93901732422094
          ],
          [
           30.12698699260456,
           30.12698699260456
          ],
          [
           30.12700699260456,
           30.12700699260456
          ],
          [
           30.201571011078343
          ],
          [
           30.403978005239736
          ],
          [
           30.44440199641716
          ],
          [
           30.46341970000003
          ],
          [
           30.494034262604103
          ],
          [
           30.824257392643894,
           30.824257392643894,
           30.824257392643894
          ],
          [
           30.824277392643893,
           30.824277392643893,
           30.824277392643893
          ],
          [
           30.824257392643894,
           30.824257392643894,
           30.824257392643894
          ],
          [
           30.83478901108484
          ],
          [
           30.86954963848484
          ],
          [
           31.00805300800505
          ],
          [
           31.506210000000067
          ],
          [
           31.77039699245728
          ],
          [
           31.827552980663043,
           31.827552980663043,
           31.827552980663043
          ],
          [
           31.827572980663042,
           31.827572980663042,
           31.827572980663042
          ],
          [
           31.827552980663043,
           31.827552980663043,
           31.827552980663043
          ],
          [
           31.874248018429725
          ],
          [
           32.2545526878344
          ],
          [
           32.38457500000004
          ],
          [
           32.39749800525489
          ],
          [
           32.429900226234615
          ],
          [
           32.53895100324365
          ],
          [
           32.539810000000045
          ],
          [
           32.60091773128008,
           32.60091773128008,
           32.60091773128008
          ],
          [
           32.60093773128008,
           32.60093773128008,
           32.60093773128008
          ],
          [
           32.60091773128008,
           32.60091773128008,
           32.60091773128008
          ],
          [
           32.68081798343026,
           32.68081798343026
          ],
          [
           32.68083798343026,
           32.68083798343026
          ],
          [
           32.73721500000005
          ],
          [
           32.78793698772226
          ],
          [
           32.89880345992812
          ],
          [
           32.93754800825266
          ],
          [
           33.26580198633755
          ],
          [
           33.3053180078535
          ],
          [
           33.50369401904926
          ],
          [
           33.55050221250882
          ],
          [
           33.68570650000004
          ],
          [
           33.72536278716445
          ],
          [
           33.75956900592874,
           33.75956900592874
          ],
          [
           33.75958900592874,
           33.75958900592874
          ],
          [
           33.79815099006433
          ],
          [
           33.94265998804134,
           33.94265998804134,
           33.94265998804134
          ],
          [
           33.94267998804134,
           33.94267998804134,
           33.94267998804134
          ],
          [
           33.94265998804134,
           33.94265998804134,
           33.94265998804134
          ],
          [
           33.949423010437485
          ],
          [
           34.43652901539417
          ],
          [
           34.44788691979775,
           34.44788691979775,
           34.44788691979775,
           34.44788691979775,
           34.44788691979775,
           34.44788691979775,
           34.44788691979775,
           34.44788691979775,
           34.44788691979775
          ],
          [
           34.44790691979775,
           34.44790691979775,
           34.44790691979775,
           34.44790691979775,
           34.44790691979775,
           34.44790691979775,
           34.44790691979775,
           34.44790691979775,
           34.44790691979775
          ],
          [
           34.44788691979775,
           34.44788691979775,
           34.44788691979775,
           34.44788691979775,
           34.44788691979775,
           34.44788691979775,
           34.44788691979775,
           34.44788691979775,
           34.44788691979775
          ],
          [
           34.44790691979775,
           34.44790691979775,
           34.44790691979775,
           34.44790691979775,
           34.44790691979775,
           34.44790691979775,
           34.44790691979775,
           34.44790691979775,
           34.44790691979775
          ],
          [
           34.44788691979775,
           34.44788691979775,
           34.44788691979775,
           34.44788691979775,
           34.44788691979775,
           34.44788691979775,
           34.44788691979775,
           34.44788691979775,
           34.44788691979775
          ],
          [
           34.44790691979775,
           34.44790691979775,
           34.44790691979775,
           34.44790691979775,
           34.44790691979775,
           34.44790691979775,
           34.44790691979775,
           34.44790691979775,
           34.44790691979775
          ],
          [
           34.44792691979775,
           34.44792691979775,
           34.44792691979775,
           34.44792691979775,
           34.44792691979775,
           34.44792691979775,
           34.44792691979775,
           34.44792691979775,
           34.44792691979775
          ],
          [
           34.44792691979775,
           34.44792691979775,
           34.44792691979775,
           34.44792691979775,
           34.44792691979775,
           34.44792691979775,
           34.44792691979775,
           34.44792691979775,
           34.44792691979775
          ],
          [
           34.44792691979775,
           34.44792691979775,
           34.44792691979775,
           34.44792691979775,
           34.44792691979775,
           34.44792691979775,
           34.44792691979775,
           34.44792691979775,
           34.44792691979775
          ],
          [
           34.82216101829995,
           34.82216101829995
          ],
          [
           34.82218101829995,
           34.82218101829995
          ],
          [
           35.0255289976604,
           35.0255289976604
          ],
          [
           35.0255489976604,
           35.0255489976604
          ],
          [
           35.031212700000026
          ],
          [
           35.056133002534565,
           35.056133002534565,
           35.056133002534565,
           35.056133002534565
          ],
          [
           35.056153002534565,
           35.056153002534565,
           35.056153002534565,
           35.056153002534565
          ],
          [
           35.056133002534565,
           35.056133002534565,
           35.056133002534565,
           35.056133002534565
          ],
          [
           35.056153002534565,
           35.056153002534565,
           35.056153002534565,
           35.056153002534565
          ],
          [
           35.07809199629263
          ],
          [
           35.12152027566615
          ],
          [
           35.13843990000004
          ],
          [
           35.2512489982188
          ],
          [
           35.25349798856932,
           35.25349798856932,
           35.25349798856932,
           35.25349798856932,
           35.25349798856932
          ],
          [
           35.25351798856932,
           35.25351798856932,
           35.25351798856932,
           35.25351798856932,
           35.25351798856932
          ],
          [
           35.25349798856932,
           35.25349798856932,
           35.25349798856932,
           35.25349798856932,
           35.25349798856932
          ],
          [
           35.25351798856932,
           35.25351798856932,
           35.25351798856932,
           35.25351798856932,
           35.25351798856932
          ],
          [
           35.25349798856932,
           35.25349798856932,
           35.25349798856932,
           35.25349798856932,
           35.25349798856932
          ],
          [
           35.30091596548488
          ],
          [
           35.428112980643334,
           35.428112980643334
          ],
          [
           35.42813298064333,
           35.42813298064333
          ],
          [
           35.446426014158135,
           35.446426014158135
          ],
          [
           35.446446014158134,
           35.446446014158134
          ],
          [
           35.45037699185795
          ],
          [
           35.468270000000075
          ],
          [
           35.46910899480298
          ],
          [
           35.58915100786329
          ],
          [
           35.65749499278958
          ],
          [
           35.74663171376892
          ],
          [
           35.76842600282674
          ],
          [
           35.785510000000045
          ],
          [
           35.91017631193181
          ],
          [
           36.03610300274384
          ],
          [
           36.04941501563853
          ],
          [
           36.06487500000003
          ],
          [
           36.08955178691299
          ],
          [
           36.10825601783965,
           36.10825601783965
          ],
          [
           36.10827601783965,
           36.10827601783965
          ],
          [
           36.13048272419477
          ],
          [
           36.26126900141186
          ],
          [
           36.29635904277505
          ],
          [
           36.57963456803587
          ],
          [
           36.58059770680676
          ],
          [
           36.71532000727734
          ],
          [
           36.84988235564765
          ],
          [
           36.85643601084894
          ],
          [
           36.954651003216696,
           36.954651003216696,
           36.954651003216696
          ],
          [
           36.954671003216696,
           36.954671003216696,
           36.954671003216696
          ],
          [
           36.954651003216696,
           36.954651003216696,
           36.954651003216696
          ],
          [
           37.03240000000005,
           37.03240000000005
          ],
          [
           37.03242000000005,
           37.03242000000005
          ],
          [
           37.42086100737605
          ],
          [
           37.49637399217876
          ],
          [
           37.62604199239334
          ],
          [
           37.63346381480928
          ],
          [
           37.64716370000008,
           37.64716370000008
          ],
          [
           37.64718370000008,
           37.64718370000008
          ],
          [
           37.65005798900968,
           37.65005798900968
          ],
          [
           37.65007798900968,
           37.65007798900968
          ],
          [
           37.65225098824699
          ],
          [
           38.02105401550469,
           38.02105401550469
          ],
          [
           38.02107401550469,
           38.02107401550469
          ],
          [
           38.05725000000007
          ],
          [
           38.113195327070805,
           38.113195327070805,
           38.113195327070805,
           38.113195327070805
          ],
          [
           38.113215327070805,
           38.113215327070805,
           38.113215327070805,
           38.113215327070805
          ],
          [
           38.113195327070805,
           38.113195327070805,
           38.113195327070805,
           38.113195327070805
          ],
          [
           38.113215327070805,
           38.113215327070805,
           38.113215327070805,
           38.113215327070805
          ],
          [
           38.4361000025813
          ],
          [
           38.48738798801199,
           38.48738798801199
          ],
          [
           38.48740798801199,
           38.48740798801199
          ],
          [
           38.53552198900633,
           38.53552198900633
          ],
          [
           38.535541989006326,
           38.535541989006326
          ],
          [
           38.536784010257946
          ],
          [
           38.54671500000006
          ],
          [
           38.631350988816166
          ],
          [
           38.72483401965576
          ],
          [
           38.74576849338868,
           38.74576849338868
          ],
          [
           38.74578849338868,
           38.74578849338868
          ],
          [
           38.77110698668804
          ],
          [
           38.83621698191215
          ],
          [
           38.94440827213181
          ],
          [
           38.996844002509874,
           38.996844002509874,
           38.996844002509874
          ],
          [
           38.996864002509874,
           38.996864002509874,
           38.996864002509874
          ],
          [
           38.996844002509874,
           38.996844002509874,
           38.996844002509874
          ],
          [
           39.02383192642892
          ],
          [
           39.173950012388616
          ],
          [
           39.193022991154805
          ],
          [
           39.238762994873696
          ],
          [
           39.38037500000007
          ],
          [
           39.52551699687052,
           39.52551699687052
          ],
          [
           39.52553699687052,
           39.52553699687052
          ],
          [
           39.54471800920774
          ],
          [
           39.57227800021519,
           39.57227800021519,
           39.57227800021519,
           39.57227800021519,
           39.57227800021519,
           39.57227800021519
          ],
          [
           39.57229800021519,
           39.57229800021519,
           39.57229800021519,
           39.57229800021519,
           39.57229800021519,
           39.57229800021519
          ],
          [
           39.57227800021519,
           39.57227800021519,
           39.57227800021519,
           39.57227800021519,
           39.57227800021519,
           39.57227800021519
          ],
          [
           39.57229800021519,
           39.57229800021519,
           39.57229800021519,
           39.57229800021519,
           39.57229800021519,
           39.57229800021519
          ],
          [
           39.57227800021519,
           39.57227800021519,
           39.57227800021519,
           39.57227800021519,
           39.57227800021519,
           39.57227800021519
          ],
          [
           39.57229800021519,
           39.57229800021519,
           39.57229800021519,
           39.57229800021519,
           39.57229800021519,
           39.57229800021519
          ],
          [
           39.74205500000005
          ],
          [
           39.78243900918514
          ],
          [
           39.80096000000003
          ],
          [
           39.81785301110608
          ],
          [
           39.855639007806616
          ],
          [
           39.90062371515877
          ],
          [
           39.909484018529525,
           39.909484018529525
          ],
          [
           39.909504018529525,
           39.909504018529525
          ],
          [
           39.93561472326049
          ],
          [
           39.96129398698048,
           39.96129398698048
          ],
          [
           39.96131398698048,
           39.96131398698048
          ],
          [
           39.99676830000004
          ],
          [
           40.00697301235374
          ],
          [
           40.02685798799007
          ],
          [
           40.10708500000004
          ],
          [
           40.10710000000006
          ],
          [
           40.13244698919651
          ],
          [
           40.2015159792274
          ],
          [
           40.21087742479512
          ],
          [
           40.26323800918797
          ],
          [
           40.28761400854569
          ],
          [
           40.369659010493024
          ],
          [
           40.52574899072096
          ],
          [
           40.52659598203684,
           40.52659598203684,
           40.52659598203684,
           40.52659598203684,
           40.52659598203684
          ],
          [
           40.52661598203684,
           40.52661598203684,
           40.52661598203684,
           40.52661598203684,
           40.52661598203684
          ],
          [
           40.52659598203684,
           40.52659598203684,
           40.52659598203684,
           40.52659598203684,
           40.52659598203684
          ],
          [
           40.52661598203684,
           40.52661598203684,
           40.52661598203684,
           40.52661598203684,
           40.52661598203684
          ],
          [
           40.52659598203684,
           40.52659598203684,
           40.52659598203684,
           40.52659598203684,
           40.52659598203684
          ],
          [
           40.59615299599065,
           40.59615299599065,
           40.59615299599065
          ],
          [
           40.59617299599065,
           40.59617299599065,
           40.59617299599065
          ],
          [
           40.59615299599065,
           40.59615299599065,
           40.59615299599065
          ],
          [
           40.62287999346054,
           40.62287999346054,
           40.62287999346054,
           40.62287999346054,
           40.62287999346054,
           40.62287999346054,
           40.62287999346054
          ],
          [
           40.62289999346054,
           40.62289999346054,
           40.62289999346054,
           40.62289999346054,
           40.62289999346054,
           40.62289999346054,
           40.62289999346054
          ],
          [
           40.62287999346054,
           40.62287999346054,
           40.62287999346054,
           40.62287999346054,
           40.62287999346054,
           40.62287999346054,
           40.62287999346054
          ],
          [
           40.62289999346054,
           40.62289999346054,
           40.62289999346054,
           40.62289999346054,
           40.62289999346054,
           40.62289999346054,
           40.62289999346054
          ],
          [
           40.62287999346054,
           40.62287999346054,
           40.62287999346054,
           40.62287999346054,
           40.62287999346054,
           40.62287999346054,
           40.62287999346054
          ],
          [
           40.62289999346054,
           40.62289999346054,
           40.62289999346054,
           40.62289999346054,
           40.62289999346054,
           40.62289999346054,
           40.62289999346054
          ],
          [
           40.62291999346054,
           40.62291999346054,
           40.62291999346054,
           40.62291999346054,
           40.62291999346054,
           40.62291999346054,
           40.62291999346054
          ],
          [
           40.62414000000007
          ],
          [
           40.6398150001838
          ],
          [
           40.64737199835824
          ],
          [
           40.66198375622479,
           40.66198375622479
          ],
          [
           40.66200375622479,
           40.66200375622479
          ],
          [
           40.725777997041945
          ],
          [
           40.74616999400135
          ],
          [
           40.74837682337889,
           40.74837682337889
          ],
          [
           40.74839682337889,
           40.74839682337889
          ],
          [
           40.75885998586139
          ],
          [
           40.76786198223377,
           40.76786198223377
          ],
          [
           40.76788198223377,
           40.76788198223377
          ],
          [
           40.82408891816598
          ],
          [
           40.85857127367453
          ],
          [
           40.98860899963816
          ],
          [
           40.99611901724529
          ],
          [
           41.13053764882066,
           41.13053764882066
          ],
          [
           41.13055764882066,
           41.13055764882066
          ],
          [
           41.22280668695454
          ],
          [
           41.27941799875322
          ],
          [
           41.373696011199485
          ],
          [
           41.4845390112533,
           41.4845390112533,
           41.4845390112533
          ],
          [
           41.484559011253296,
           41.484559011253296,
           41.484559011253296
          ],
          [
           41.4845390112533,
           41.4845390112533,
           41.4845390112533
          ],
          [
           41.53769020994088
          ],
          [
           41.74009200732229
          ],
          [
           41.758372016138566,
           41.758372016138566
          ],
          [
           41.758392016138565,
           41.758392016138565
          ],
          [
           42.07766000000004
          ],
          [
           42.11031507730343
          ],
          [
           42.18644000000006,
           42.18644000000006
          ],
          [
           42.18646000000006,
           42.18646000000006
          ],
          [
           42.20828102073085,
           42.20828102073085
          ],
          [
           42.20830102073085,
           42.20830102073085
          ],
          [
           42.21646519481041,
           42.21646519481041
          ],
          [
           42.21648519481041,
           42.21648519481041
          ],
          [
           42.22772729294535
          ],
          [
           42.229798497739154
          ],
          [
           42.35180900076023
          ],
          [
           42.43783699927752
          ],
          [
           42.448341996617785
          ],
          [
           42.474376984161495
          ],
          [
           42.47841002069339
          ],
          [
           42.48335199080563,
           42.48335199080563,
           42.48335199080563,
           42.48335199080563
          ],
          [
           42.48337199080563,
           42.48337199080563,
           42.48337199080563,
           42.48337199080563
          ],
          [
           42.48335199080563,
           42.48335199080563,
           42.48335199080563,
           42.48335199080563
          ],
          [
           42.48337199080563,
           42.48337199080563,
           42.48337199080563,
           42.48337199080563
          ],
          [
           42.54712100725021
          ],
          [
           42.583943085085565
          ],
          [
           42.601567000430805
          ],
          [
           42.66338294961648
          ],
          [
           42.78443699366619,
           42.78443699366619,
           42.78443699366619
          ],
          [
           42.78445699366619,
           42.78445699366619,
           42.78445699366619
          ],
          [
           42.78443699366619,
           42.78443699366619,
           42.78443699366619
          ],
          [
           42.7874010022671
          ],
          [
           42.82219500000008
          ],
          [
           42.93824089687848
          ],
          [
           42.9739719829401
          ],
          [
           43.00896399794564
          ],
          [
           43.02767299256644
          ],
          [
           43.06496500000003
          ],
          [
           43.07372698237828,
           43.07372698237828
          ],
          [
           43.07374698237828,
           43.07374698237828
          ],
          [
           43.09641499216502
          ],
          [
           43.14835613740067,
           43.14835613740067,
           43.14835613740067,
           43.14835613740067
          ],
          [
           43.14837613740067,
           43.14837613740067,
           43.14837613740067,
           43.14837613740067
          ],
          [
           43.14835613740067,
           43.14835613740067,
           43.14835613740067,
           43.14835613740067
          ],
          [
           43.14837613740067,
           43.14837613740067,
           43.14837613740067,
           43.14837613740067
          ],
          [
           43.15795500909815,
           43.15795500909815,
           43.15795500909815
          ],
          [
           43.15797500909815,
           43.15797500909815,
           43.15797500909815
          ],
          [
           43.15795500909815,
           43.15795500909815,
           43.15795500909815
          ],
          [
           43.17552901020997
          ],
          [
           43.19944199323629
          ],
          [
           43.22412636281183
          ],
          [
           43.23116301243712,
           43.23116301243712,
           43.23116301243712,
           43.23116301243712,
           43.23116301243712,
           43.23116301243712,
           43.23116301243712,
           43.23116301243712,
           43.23116301243712,
           43.23116301243712,
           43.23116301243712
          ],
          [
           43.23118301243712,
           43.23118301243712,
           43.23118301243712,
           43.23118301243712,
           43.23118301243712,
           43.23118301243712,
           43.23118301243712,
           43.23118301243712,
           43.23118301243712,
           43.23118301243712,
           43.23118301243712
          ],
          [
           43.23116301243712,
           43.23116301243712,
           43.23116301243712,
           43.23116301243712,
           43.23116301243712,
           43.23116301243712,
           43.23116301243712,
           43.23116301243712,
           43.23116301243712,
           43.23116301243712,
           43.23116301243712
          ],
          [
           43.23118301243712,
           43.23118301243712,
           43.23118301243712,
           43.23118301243712,
           43.23118301243712,
           43.23118301243712,
           43.23118301243712,
           43.23118301243712,
           43.23118301243712,
           43.23118301243712,
           43.23118301243712
          ],
          [
           43.23116301243712,
           43.23116301243712,
           43.23116301243712,
           43.23116301243712,
           43.23116301243712,
           43.23116301243712,
           43.23116301243712,
           43.23116301243712,
           43.23116301243712,
           43.23116301243712,
           43.23116301243712
          ],
          [
           43.23118301243712,
           43.23118301243712,
           43.23118301243712,
           43.23118301243712,
           43.23118301243712,
           43.23118301243712,
           43.23118301243712,
           43.23118301243712,
           43.23118301243712,
           43.23118301243712,
           43.23118301243712
          ],
          [
           43.23120301243712,
           43.23120301243712,
           43.23120301243712,
           43.23120301243712,
           43.23120301243712,
           43.23120301243712,
           43.23120301243712,
           43.23120301243712,
           43.23120301243712,
           43.23120301243712,
           43.23120301243712
          ],
          [
           43.23120301243712,
           43.23120301243712,
           43.23120301243712,
           43.23120301243712,
           43.23120301243712,
           43.23120301243712,
           43.23120301243712,
           43.23120301243712,
           43.23120301243712,
           43.23120301243712,
           43.23120301243712
          ],
          [
           43.23120301243712,
           43.23120301243712,
           43.23120301243712,
           43.23120301243712,
           43.23120301243712,
           43.23120301243712,
           43.23120301243712,
           43.23120301243712,
           43.23120301243712,
           43.23120301243712,
           43.23120301243712
          ],
          [
           43.23116301243712,
           43.23116301243712,
           43.23116301243712,
           43.23116301243712,
           43.23116301243712,
           43.23116301243712,
           43.23116301243712,
           43.23116301243712,
           43.23116301243712,
           43.23116301243712,
           43.23116301243712
          ],
          [
           43.23118301243712,
           43.23118301243712,
           43.23118301243712,
           43.23118301243712,
           43.23118301243712,
           43.23118301243712,
           43.23118301243712,
           43.23118301243712,
           43.23118301243712,
           43.23118301243712,
           43.23118301243712
          ],
          [
           43.372466267725656
          ],
          [
           43.4005646283741,
           43.4005646283741
          ],
          [
           43.4005846283741,
           43.4005846283741
          ],
          [
           43.40240500000005
          ],
          [
           43.49700500000006
          ],
          [
           43.60808600839604
          ],
          [
           43.71846750000003
          ],
          [
           43.94092300158968
          ],
          [
           43.96136964855779
          ],
          [
           43.969565000000046
          ],
          [
           44.26739800454462
          ],
          [
           44.31434399649237
          ],
          [
           44.33480990000004
          ],
          [
           44.4151989949938
          ],
          [
           44.4723960126156
          ],
          [
           45.04331698410368
          ],
          [
           45.18533500000007
          ],
          [
           45.3829910118985
          ],
          [
           45.49907798203597,
           45.49907798203597
          ],
          [
           45.49909798203597,
           45.49909798203597
          ],
          [
           46.07447899695228,
           46.07447899695228
          ],
          [
           46.07449899695228,
           46.07449899695228
          ],
          [
           46.72984507900003
          ],
          [
           46.90187136964028
          ],
          [
           47.65037000000007,
           47.65037000000007,
           47.65037000000007
          ],
          [
           47.65039000000007,
           47.65039000000007,
           47.65039000000007
          ],
          [
           47.65037000000007,
           47.65037000000007,
           47.65037000000007
          ],
          [
           47.69012901358778
          ],
          [
           47.748668015817486,
           47.748668015817486,
           47.748668015817486
          ],
          [
           47.748688015817486,
           47.748688015817486,
           47.748688015817486
          ],
          [
           47.748668015817486,
           47.748668015817486,
           47.748668015817486
          ],
          [
           47.93832098037856,
           47.93832098037856
          ],
          [
           47.93834098037856,
           47.93834098037856
          ],
          [
           48.8109099999121
          ]
         ],
         "lon": [
          [
           -66.07602999999995
          ],
          [
           -66.11277999999999
          ],
          [
           -80.51921997243502
          ],
          [
           -80.47022598817489
          ],
          [
           -80.16547499232249
          ],
          [
           -81.71532501546449
          ],
          [
           -81.21244301144613
          ],
          [
           -80.97998190006747
          ],
          [
           -80.37575994199995
          ],
          [
           -82.76303500065721
          ],
          [
           -81.58715004175303,
           -81.58715004175303
          ],
          [
           -81.58715004175303,
           -81.58715004175303
          ],
          [
           -97.01841198700406
          ],
          [
           -82.09977483474638
          ],
          [
           -98.67414449999995
          ],
          [
           -95.24537999999995
          ],
          [
           -95.17092198281073,
           -95.17092198281073,
           -95.17092198281073
          ],
          [
           -95.17092198281073,
           -95.17092198281073,
           -95.17092198281073
          ],
          [
           -95.17090198281072,
           -95.17090198281072,
           -95.17090198281072
          ],
          [
           -98.64078952182992
          ],
          [
           -98.2663450195763
          ],
          [
           -95.5828480401928,
           -95.5828480401928,
           -95.5828480401928,
           -95.5828480401928
          ],
          [
           -95.5828480401928,
           -95.5828480401928,
           -95.5828480401928,
           -95.5828480401928
          ],
          [
           -95.5828280401928,
           -95.5828280401928,
           -95.5828280401928,
           -95.5828280401928
          ],
          [
           -95.5828280401928,
           -95.5828280401928,
           -95.5828280401928,
           -95.5828280401928
          ],
          [
           -81.21295598392047
          ],
          [
           -95.33888101360708
          ],
          [
           -97.80409202808704
          ],
          [
           -81.96816202344753
          ],
          [
           -95.3109781118127
          ],
          [
           -82.69504997073442,
           -82.69504997073442
          ],
          [
           -82.69504997073442,
           -82.69504997073442
          ],
          [
           -95.51401300146895
          ],
          [
           -81.64370601141998
          ],
          [
           -84.3018570376103
          ],
          [
           -81.57409389999998
          ],
          [
           -97.39905457822562
          ],
          [
           -88.40338431075156,
           -88.40338431075156,
           -88.40338431075156
          ],
          [
           -88.40338431075156,
           -88.40338431075156,
           -88.40338431075156
          ],
          [
           -88.40336431075156,
           -88.40336431075156,
           -88.40336431075156
          ],
          [
           -87.14930898842836
          ],
          [
           -88.22040001257508
          ],
          [
           -96.52096799412789
          ],
          [
           -106.16194499999996
          ],
          [
           -106.50422597606862
          ],
          [
           -102.4755979899669,
           -102.4755979899669,
           -102.4755979899669
          ],
          [
           -102.4755979899669,
           -102.4755979899669,
           -102.4755979899669
          ],
          [
           -102.4755779899669,
           -102.4755779899669,
           -102.4755779899669
          ],
          [
           -85.8070500408332
          ],
          [
           -93.94438774667312
          ],
          [
           -86.26047999999997
          ],
          [
           -89.93433897846114
          ],
          [
           -85.70464627507342
          ],
          [
           -96.77590098081896
          ],
          [
           -86.21069499999999
          ],
          [
           -114.61518541095955,
           -114.61518541095955,
           -114.61518541095955
          ],
          [
           -114.61518541095955,
           -114.61518541095955,
           -114.61518541095955
          ],
          [
           -114.61516541095955,
           -114.61516541095955,
           -114.61516541095955
          ],
          [
           -80.84191402459606,
           -80.84191402459606
          ],
          [
           -80.84191402459606,
           -80.84191402459606
          ],
          [
           -89.53095999999994
          ],
          [
           -108.25736598496202
          ],
          [
           -105.94398916585686
          ],
          [
           -117.04065302249074
          ],
          [
           -97.22305598539442
          ],
          [
           -84.1272869725373
          ],
          [
           -86.79741498399406
          ],
          [
           -112.41659030896452
          ],
          [
           -117.83152619999998
          ],
          [
           -116.37375210931602
          ],
          [
           -97.10314296982398,
           -97.10314296982398
          ],
          [
           -97.10314296982398,
           -97.10314296982398
          ],
          [
           -84.31528501413543
          ],
          [
           -83.37115003884358,
           -83.37115003884358,
           -83.37115003884358
          ],
          [
           -83.37115003884358,
           -83.37115003884358,
           -83.37115003884358
          ],
          [
           -83.37113003884357,
           -83.37113003884357,
           -83.37113003884357
          ],
          [
           -83.54888301507984
          ],
          [
           -88.72041996043195
          ],
          [
           -97.1249675257824,
           -97.1249675257824,
           -97.1249675257824,
           -97.1249675257824,
           -97.1249675257824,
           -97.1249675257824,
           -97.1249675257824,
           -97.1249675257824,
           -97.1249675257824
          ],
          [
           -97.1249675257824,
           -97.1249675257824,
           -97.1249675257824,
           -97.1249675257824,
           -97.1249675257824,
           -97.1249675257824,
           -97.1249675257824,
           -97.1249675257824,
           -97.1249675257824
          ],
          [
           -97.12494752578239,
           -97.12494752578239,
           -97.12494752578239,
           -97.12494752578239,
           -97.12494752578239,
           -97.12494752578239,
           -97.12494752578239,
           -97.12494752578239,
           -97.12494752578239
          ],
          [
           -97.12494752578239,
           -97.12494752578239,
           -97.12494752578239,
           -97.12494752578239,
           -97.12494752578239,
           -97.12494752578239,
           -97.12494752578239,
           -97.12494752578239,
           -97.12494752578239
          ],
          [
           -97.1249275257824,
           -97.1249275257824,
           -97.1249275257824,
           -97.1249275257824,
           -97.1249275257824,
           -97.1249275257824,
           -97.1249275257824,
           -97.1249275257824,
           -97.1249275257824
          ],
          [
           -97.1249275257824,
           -97.1249275257824,
           -97.1249275257824,
           -97.1249275257824,
           -97.1249275257824,
           -97.1249275257824,
           -97.1249275257824,
           -97.1249275257824,
           -97.1249275257824
          ],
          [
           -97.1249675257824,
           -97.1249675257824,
           -97.1249675257824,
           -97.1249675257824,
           -97.1249675257824,
           -97.1249675257824,
           -97.1249675257824,
           -97.1249675257824,
           -97.1249675257824
          ],
          [
           -97.12494752578239,
           -97.12494752578239,
           -97.12494752578239,
           -97.12494752578239,
           -97.12494752578239,
           -97.12494752578239,
           -97.12494752578239,
           -97.12494752578239,
           -97.12494752578239
          ],
          [
           -97.1249275257824,
           -97.1249275257824,
           -97.1249275257824,
           -97.1249275257824,
           -97.1249275257824,
           -97.1249275257824,
           -97.1249275257824,
           -97.1249275257824,
           -97.1249275257824
          ],
          [
           -86.48534097079437,
           -86.48534097079437
          ],
          [
           -86.48534097079437,
           -86.48534097079437
          ],
          [
           -82.14455397899475,
           -82.14455397899475
          ],
          [
           -82.14455397899475,
           -82.14455397899475
          ],
          [
           -97.63092299999994
          ],
          [
           -106.57876196623722,
           -106.57876196623722,
           -106.57876196623722,
           -106.57876196623722
          ],
          [
           -106.57876196623722,
           -106.57876196623722,
           -106.57876196623722,
           -106.57876196623722
          ],
          [
           -106.57874196623722,
           -106.57874196623722,
           -106.57874196623722,
           -106.57874196623722
          ],
          [
           -106.57874196623722,
           -106.57874196623722,
           -106.57874196623722,
           -106.57874196623722
          ],
          [
           -106.66230799940524
          ],
          [
           -89.93956024336576
          ],
          [
           -97.65829999999994
          ],
          [
           -97.47655097277676
          ],
          [
           -97.7727199894249,
           -97.7727199894249,
           -97.7727199894249,
           -97.7727199894249,
           -97.7727199894249
          ],
          [
           -97.7727199894249,
           -97.7727199894249,
           -97.7727199894249,
           -97.7727199894249,
           -97.7727199894249
          ],
          [
           -97.7726999894249,
           -97.7726999894249,
           -97.7726999894249,
           -97.7726999894249,
           -97.7726999894249
          ],
          [
           -97.7726999894249,
           -97.7726999894249,
           -97.7726999894249,
           -97.7726999894249,
           -97.7726999894249
          ],
          [
           -97.7726799894249,
           -97.7726799894249,
           -97.7726799894249,
           -97.7726799894249,
           -97.7726799894249
          ],
          [
           -93.56662984637852
          ],
          [
           -118.93277697215451,
           -118.93277697215451
          ],
          [
           -118.93277697215451,
           -118.93277697215451
          ],
          [
           -85.06453302924733,
           -85.06453302924733
          ],
          [
           -85.06453302924733,
           -85.06453302924733
          ],
          [
           -97.55502696035198
          ],
          [
           -97.50040499999994
          ],
          [
           -97.58243301770764
          ],
          [
           -81.14052795858147
          ],
          [
           -80.72953298721906
          ],
          [
           -95.76611996342278
          ],
          [
           -89.12494896404675
          ],
          [
           -78.64266999999995
          ],
          [
           -79.04514332145452
          ],
          [
           -83.86196503595541
          ],
          [
           -89.41531703314526
          ],
          [
           -94.16178999999994
          ],
          [
           -80.27134686918126
          ],
          [
           -85.53611801263696,
           -85.53611801263696
          ],
          [
           -85.53611801263696,
           -85.53611801263696
          ],
          [
           -97.05920095433392
          ],
          [
           -89.42450896344357
          ],
          [
           -94.49612431903188
          ],
          [
           -91.91290749692295
          ],
          [
           -83.6566115847676
          ],
          [
           -94.23999397747218
          ],
          [
           -94.32511455261398
          ],
          [
           -76.29478402263241
          ],
          [
           -122.0516539747136,
           -122.0516539747136,
           -122.0516539747136
          ],
          [
           -122.0516539747136,
           -122.0516539747136,
           -122.0516539747136
          ],
          [
           -122.0516339747136,
           -122.0516339747136,
           -122.0516339747136
          ],
          [
           -100.92679999999996,
           -100.92679999999996
          ],
          [
           -100.92679999999996,
           -100.92679999999996
          ],
          [
           -122.1413339684444
          ],
          [
           -122.2442580397447
          ],
          [
           -94.7011340198578
          ],
          [
           -92.8674210915596
          ],
          [
           -79.52853359999995,
           -79.52853359999995
          ],
          [
           -79.52853359999995,
           -79.52853359999995
          ],
          [
           -77.55208701712642,
           -77.55208701712642
          ],
          [
           -77.55208701712642,
           -77.55208701712642
          ],
          [
           -91.81194304107314
          ],
          [
           -122.27938600921976,
           -122.27938600921976
          ],
          [
           -122.27938600921976,
           -122.27938600921976
          ],
          [
           -97.93267999999996
          ],
          [
           -88.76722714713446,
           -88.76722714713446,
           -88.76722714713446,
           -88.76722714713446
          ],
          [
           -88.76722714713446,
           -88.76722714713446,
           -88.76722714713446,
           -88.76722714713446
          ],
          [
           -88.76720714713446,
           -88.76720714713446,
           -88.76720714713446,
           -88.76720714713446
          ],
          [
           -88.76720714713446,
           -88.76720714713446,
           -88.76720714713446,
           -88.76720714713446
          ],
          [
           -92.66509002664364
          ],
          [
           -85.67688998099271,
           -85.67688998099271
          ],
          [
           -85.67688998099271,
           -85.67688998099271
          ],
          [
           -121.7462230388756,
           -121.7462230388756
          ],
          [
           -121.7462230388756,
           -121.7462230388756
          ],
          [
           -85.67801902335044
          ],
          [
           -86.61907999999994
          ],
          [
           -90.18537203324276
          ],
          [
           -86.97967100282185
          ],
          [
           -76.77707764169996,
           -76.77707764169996
          ],
          [
           -76.77707764169996,
           -76.77707764169996
          ],
          [
           -104.85465402009648
          ],
          [
           -98.39571097790996
          ],
          [
           -92.3289619321256
          ],
          [
           -104.37669300678031,
           -104.37669300678031,
           -104.37669300678031
          ],
          [
           -104.37669300678031,
           -104.37669300678031,
           -104.37669300678031
          ],
          [
           -104.37667300678031,
           -104.37667300678031,
           -104.37667300678031
          ],
          [
           -76.9234678425904
          ],
          [
           -86.52268603747835
          ],
          [
           -82.31645901795312
          ],
          [
           -87.66545895844021
          ],
          [
           -97.12470499999996
          ],
          [
           -84.67934199826762,
           -84.67934199826762
          ],
          [
           -84.67934199826762,
           -84.67934199826762
          ],
          [
           -76.78609397112676
          ],
          [
           -77.28847901210584,
           -77.28847901210584,
           -77.28847901210584,
           -77.28847901210584,
           -77.28847901210584,
           -77.28847901210584
          ],
          [
           -77.28847901210584,
           -77.28847901210584,
           -77.28847901210584,
           -77.28847901210584,
           -77.28847901210584,
           -77.28847901210584
          ],
          [
           -77.28845901210583,
           -77.28845901210583,
           -77.28845901210583,
           -77.28845901210583,
           -77.28845901210583,
           -77.28845901210583
          ],
          [
           -77.28845901210583,
           -77.28845901210583,
           -77.28845901210583,
           -77.28845901210583,
           -77.28845901210583,
           -77.28845901210583
          ],
          [
           -77.28843901210584,
           -77.28843901210584,
           -77.28843901210584,
           -77.28843901210584,
           -77.28843901210584,
           -77.28843901210584
          ],
          [
           -77.28843901210584,
           -77.28843901210584,
           -77.28843901210584,
           -77.28843901210584,
           -77.28843901210584,
           -77.28843901210584
          ],
          [
           -105.514435
          ],
          [
           -105.06153397497792
          ],
          [
           -97.45646499999998
          ],
          [
           -93.59644301868808
          ],
          [
           -76.03780099006268
          ],
          [
           -74.81929910788871
          ],
          [
           -86.08529100477942,
           -86.08529100477942
          ],
          [
           -86.08529100477942,
           -86.08529100477942
          ],
          [
           -76.1643602240608
          ],
          [
           -104.61145896679324,
           -104.61145896679324
          ],
          [
           -104.61145896679324,
           -104.61145896679324
          ],
          [
           -84.40878999999995
          ],
          [
           -75.15213096288598
          ],
          [
           -105.246008013024
          ],
          [
           -79.37676499999998
          ],
          [
           -88.21026999999998
          ],
          [
           -75.33736647914395
          ],
          [
           -82.16005999695513
          ],
          [
           -93.1510773271446
          ],
          [
           -76.13709402090734
          ],
          [
           -76.65608696483825
          ],
          [
           -75.54738698319876
          ],
          [
           -74.47028199884588
          ],
          [
           -83.2159460257813,
           -83.2159460257813,
           -83.2159460257813,
           -83.2159460257813,
           -83.2159460257813
          ],
          [
           -83.2159460257813,
           -83.2159460257813,
           -83.2159460257813,
           -83.2159460257813,
           -83.2159460257813
          ],
          [
           -83.2159260257813,
           -83.2159260257813,
           -83.2159260257813,
           -83.2159260257813,
           -83.2159260257813
          ],
          [
           -83.2159260257813,
           -83.2159260257813,
           -83.2159260257813,
           -83.2159260257813,
           -83.2159260257813
          ],
          [
           -83.21590602578131,
           -83.21590602578131,
           -83.21590602578131,
           -83.21590602578131,
           -83.21590602578131
          ],
          [
           -84.1661629938363,
           -84.1661629938363,
           -84.1661629938363
          ],
          [
           -84.1661629938363,
           -84.1661629938363,
           -84.1661629938363
          ],
          [
           -84.16614299383629,
           -84.16614299383629,
           -84.16614299383629
          ],
          [
           -93.14892398805772,
           -93.14892398805772,
           -93.14892398805772,
           -93.14892398805772,
           -93.14892398805772,
           -93.14892398805772,
           -93.14892398805772
          ],
          [
           -93.14892398805772,
           -93.14892398805772,
           -93.14892398805772,
           -93.14892398805772,
           -93.14892398805772,
           -93.14892398805772,
           -93.14892398805772
          ],
          [
           -93.14890398805771,
           -93.14890398805771,
           -93.14890398805771,
           -93.14890398805771,
           -93.14890398805771,
           -93.14890398805771,
           -93.14890398805771
          ],
          [
           -93.14890398805771,
           -93.14890398805771,
           -93.14890398805771,
           -93.14890398805771,
           -93.14890398805771,
           -93.14890398805771,
           -93.14890398805771
          ],
          [
           -93.14888398805772,
           -93.14888398805772,
           -93.14888398805772,
           -93.14888398805772,
           -93.14888398805772,
           -93.14888398805772,
           -93.14888398805772
          ],
          [
           -93.14888398805772,
           -93.14888398805772,
           -93.14888398805772,
           -93.14888398805772,
           -93.14888398805772,
           -93.14888398805772,
           -93.14888398805772
          ],
          [
           -93.14892398805772,
           -93.14892398805772,
           -93.14892398805772,
           -93.14892398805772,
           -93.14892398805772,
           -93.14892398805772,
           -93.14892398805772
          ],
          [
           -81.78471999999994
          ],
          [
           -81.96475603709219
          ],
          [
           -93.6352850094602
          ],
          [
           -77.13163282467417,
           -77.13163282467417
          ],
          [
           -77.13163282467417,
           -77.13163282467417
          ],
          [
           -91.46835298811476
          ],
          [
           -81.47929799811882
          ],
          [
           -73.98485413472395,
           -73.98485413472395
          ],
          [
           -73.98485413472395,
           -73.98485413472395
          ],
          [
           -74.43685002365935
          ],
          [
           -111.83258397124362,
           -111.83258397124362
          ],
          [
           -111.83258397124362,
           -111.83258397124362
          ],
          [
           -73.2106043247214
          ],
          [
           -77.2621715707994
          ],
          [
           -77.42192997477107
          ],
          [
           -80.98620496736197
          ],
          [
           -100.76283390027808,
           -100.76283390027808
          ],
          [
           -100.76283390027808,
           -100.76283390027808
          ],
          [
           -92.10913460561122
          ],
          [
           -93.1535529779054
          ],
          [
           -71.95411102471598
          ],
          [
           -80.42084702310191,
           -80.42084702310191,
           -80.42084702310191
          ],
          [
           -80.42084702310191,
           -80.42084702310191,
           -80.42084702310191
          ],
          [
           -80.42082702310191,
           -80.42082702310191,
           -80.42082702310191
          ],
          [
           -91.63484398817404
          ],
          [
           -87.84874796301534
          ],
          [
           -84.59310101559065,
           -84.59310101559065
          ],
          [
           -84.59310101559065,
           -84.59310101559065
          ],
          [
           -72.56511999999998
          ],
          [
           -77.47751437073966
          ],
          [
           -86.30628999999999,
           -86.30628999999999
          ],
          [
           -86.30628999999999,
           -86.30628999999999
          ],
          [
           -86.29422502885303,
           -86.29422502885303
          ],
          [
           -86.29422502885303,
           -86.29422502885303
          ],
          [
           -74.00626520347141,
           -74.00626520347141
          ],
          [
           -74.00626520347141,
           -74.00626520347141
          ],
          [
           -83.48997330641897
          ],
          [
           -70.98071742382865
          ],
          [
           -88.82260902264277
          ],
          [
           -92.89370802831544
          ],
          [
           -86.01689400431556
          ],
          [
           -94.68292701741817
          ],
          [
           -71.2624757696234
          ],
          [
           -91.50736001856036,
           -91.50736001856036,
           -91.50736001856036,
           -91.50736001856036
          ],
          [
           -91.50736001856036,
           -91.50736001856036,
           -91.50736001856036,
           -91.50736001856036
          ],
          [
           -91.50734001856036,
           -91.50734001856036,
           -91.50734001856036,
           -91.50734001856036
          ],
          [
           -91.50734001856036,
           -91.50734001856036,
           -91.50734001856036,
           -91.50734001856036
          ],
          [
           -77.04324900034966
          ],
          [
           -71.38845854037835
          ],
          [
           -88.549072988587
          ],
          [
           -93.45908650823826
          ],
          [
           -86.0102980332497,
           -86.0102980332497,
           -86.0102980332497
          ],
          [
           -86.0102980332497,
           -86.0102980332497,
           -86.0102980332497
          ],
          [
           -86.01027803324969,
           -86.01027803324969,
           -86.01027803324969
          ],
          [
           -95.87567301275008
          ],
          [
           -83.26514499999996
          ],
          [
           -78.85074562275032
          ],
          [
           -88.03556499445604
          ],
          [
           -124.41741102580792
          ],
          [
           -96.12993703974874
          ],
          [
           -76.99032999999997
          ],
          [
           -89.4155610303467,
           -89.4155610303467
          ],
          [
           -89.4155610303467,
           -89.4155610303467
          ],
          [
           -92.53282602528708
          ],
          [
           -77.24719109816812,
           -77.24719109816812,
           -77.24719109816812,
           -77.24719109816812
          ],
          [
           -77.24719109816812,
           -77.24719109816812,
           -77.24719109816812,
           -77.24719109816812
          ],
          [
           -77.24717109816811,
           -77.24717109816811,
           -77.24717109816811,
           -77.24717109816811
          ],
          [
           -77.24717109816811,
           -77.24717109816811,
           -77.24717109816811,
           -77.24717109816811
          ],
          [
           -93.20177297722633,
           -93.20177297722633,
           -93.20177297722633
          ],
          [
           -93.20177297722633,
           -93.20177297722633,
           -93.20177297722633
          ],
          [
           -93.20175297722632,
           -93.20175297722632,
           -93.20175297722632
          ],
          [
           -96.39315604064296
          ],
          [
           -71.0182009595531
          ],
          [
           -75.54591880903855
          ],
          [
           -82.8846200382731,
           -82.8846200382731,
           -82.8846200382731,
           -82.8846200382731,
           -82.8846200382731,
           -82.8846200382731,
           -82.8846200382731,
           -82.8846200382731,
           -82.8846200382731,
           -82.8846200382731,
           -82.8846200382731
          ],
          [
           -82.8846200382731,
           -82.8846200382731,
           -82.8846200382731,
           -82.8846200382731,
           -82.8846200382731,
           -82.8846200382731,
           -82.8846200382731,
           -82.8846200382731,
           -82.8846200382731,
           -82.8846200382731,
           -82.8846200382731
          ],
          [
           -82.88460003827309,
           -82.88460003827309,
           -82.88460003827309,
           -82.88460003827309,
           -82.88460003827309,
           -82.88460003827309,
           -82.88460003827309,
           -82.88460003827309,
           -82.88460003827309,
           -82.88460003827309,
           -82.88460003827309
          ],
          [
           -82.88460003827309,
           -82.88460003827309,
           -82.88460003827309,
           -82.88460003827309,
           -82.88460003827309,
           -82.88460003827309,
           -82.88460003827309,
           -82.88460003827309,
           -82.88460003827309,
           -82.88460003827309,
           -82.88460003827309
          ],
          [
           -82.8845800382731,
           -82.8845800382731,
           -82.8845800382731,
           -82.8845800382731,
           -82.8845800382731,
           -82.8845800382731,
           -82.8845800382731,
           -82.8845800382731,
           -82.8845800382731,
           -82.8845800382731,
           -82.8845800382731
          ],
          [
           -82.8845800382731,
           -82.8845800382731,
           -82.8845800382731,
           -82.8845800382731,
           -82.8845800382731,
           -82.8845800382731,
           -82.8845800382731,
           -82.8845800382731,
           -82.8845800382731,
           -82.8845800382731,
           -82.8845800382731
          ],
          [
           -82.8846200382731,
           -82.8846200382731,
           -82.8846200382731,
           -82.8846200382731,
           -82.8846200382731,
           -82.8846200382731,
           -82.8846200382731,
           -82.8846200382731,
           -82.8846200382731,
           -82.8846200382731,
           -82.8846200382731
          ],
          [
           -82.88460003827309,
           -82.88460003827309,
           -82.88460003827309,
           -82.88460003827309,
           -82.88460003827309,
           -82.88460003827309,
           -82.88460003827309,
           -82.88460003827309,
           -82.88460003827309,
           -82.88460003827309,
           -82.88460003827309
          ],
          [
           -82.8845800382731,
           -82.8845800382731,
           -82.8845800382731,
           -82.8845800382731,
           -82.8845800382731,
           -82.8845800382731,
           -82.8845800382731,
           -82.8845800382731,
           -82.8845800382731,
           -82.8845800382731,
           -82.8845800382731
          ],
          [
           -82.8845600382731,
           -82.8845600382731,
           -82.8845600382731,
           -82.8845600382731,
           -82.8845600382731,
           -82.8845600382731,
           -82.8845600382731,
           -82.8845600382731,
           -82.8845600382731,
           -82.8845600382731,
           -82.8845600382731
          ],
          [
           -82.8845600382731,
           -82.8845600382731,
           -82.8845600382731,
           -82.8845600382731,
           -82.8845600382731,
           -82.8845600382731,
           -82.8845600382731,
           -82.8845600382731,
           -82.8845600382731,
           -82.8845600382731,
           -82.8845600382731
          ],
          [
           -73.33418694014391
          ],
          [
           -76.5736053495545,
           -76.5736053495545
          ],
          [
           -76.5736053495545,
           -76.5736053495545
          ],
          [
           -84.90521999999999
          ],
          [
           -112.03894999999994
          ],
          [
           -116.20325001711176
          ],
          [
           -71.53621419999996
          ],
          [
           -95.2244709689284
          ],
          [
           -75.89071065927423
          ],
          [
           -92.06338499999998
          ],
          [
           -85.26114599092917
          ],
          [
           -83.56025398874667
          ],
          [
           -75.91381429999996
          ],
          [
           -95.82942502378926
          ],
          [
           -103.8973830099671
          ],
          [
           -90.28719698557966
          ],
          [
           -109.24837499999995
          ],
          [
           -93.04786296237626
          ],
          [
           -122.68543196967124,
           -122.68543196967124
          ],
          [
           -122.68543196967124,
           -122.68543196967124
          ],
          [
           -122.99984000762916,
           -122.99984000762916
          ],
          [
           -122.99984000762916,
           -122.99984000762916
          ],
          [
           -117.15810286899996
          ],
          [
           -96.80602436736508
          ],
          [
           -122.30729499999995,
           -122.30729499999995,
           -122.30729499999995
          ],
          [
           -122.30729499999995,
           -122.30729499999995,
           -122.30729499999995
          ],
          [
           -122.30727499999995,
           -122.30727499999995,
           -122.30727499999995
          ],
          [
           -122.30887304167676
          ],
          [
           -122.22961502253526,
           -122.22961502253526,
           -122.22961502253526
          ],
          [
           -122.22961502253526,
           -122.22961502253526,
           -122.22961502253526
          ],
          [
           -122.22959502253525,
           -122.22959502253525,
           -122.22959502253525
          ],
          [
           -122.26699898124998,
           -122.26699898124998
          ],
          [
           -122.26699898124998,
           -122.26699898124998
          ],
          [
           -95.79206797098372
          ]
         ],
         "mode": "markers",
         "text": [
          "Martha Holmes",
          "Elm Hill Labs Inc",
          "Santa Cruz Biotechnology Inc.",
          "Santa Cruz Biotechnology Inc.",
          "Santa Cruz Biotechnology Inc.",
          "Alpha Genesis Inc",
          "Envigo Rms Llc",
          "Oregon Health And Science University",
          "Envigo Rms Llc",
          "Perfect Birds L L C",
          "Alpha Genesis Inc",
          "University Of Puerto Rico",
          "Primate Products Inc",
          "The Mannheimer Foundation Inc",
          "Eugene Burkholder",
          "Eugene Burkholder",
          "University Of Wisconsin Madison",
          "Altasciences Preclinical Seattle Llc",
          "Texas Biomedical Research Institute",
          "Tyler Cleckley",
          "Quality Pets Inc.",
          "Labcorp Bedford Llc",
          "Northeast Area Beltsville Location",
          "Wilson Horse & Mule Sale Inc",
          "Oakwood Research Facility Inc",
          "Mount Hope Auction Inc",
          "Wilson Horse & Mule Sale Inc",
          "Vernon Zeiset",
          "University Of Georgia",
          "Pro Sci Inc.",
          "Intervet Inc",
          "University Of Washington",
          "Wild Wilderness Drive-Through Safari",
          "Wake Forest University",
          "Eugene Burkholder",
          "Eugene Burkholder",
          "University Of Georgia",
          "Craig Kokas",
          "Craig Kokas",
          "Malinda King David King",
          "Jesse Zook",
          "Craig Kokas",
          "University Of Washington",
          "Tyler Cleckley",
          "Tyler Cleckley",
          "Tyler Cleckley",
          "Daniel  Gingerich",
          "Craig Kokas",
          "Jon Conley Claude Conley",
          "University Of Colorado-Boulder",
          "Henry Hampton",
          "Pacific Biolabs",
          "Karl  Mogensen",
          "University Of Memphis",
          "Pacific Biolabs",
          "Janda Exotics Animal Ranch Llc",
          "North Carolina State University",
          "Hollywild Animal Park Inc",
          "Sally Reaves",
          "Lovelace Biomedical Research Institute",
          "University Of Oklahoma",
          "Moses Fisher",
          "Karl  Mogensen",
          "Florida State University",
          "Daniel  Gingerich",
          "Snbl Usa Ltd",
          "Chimp Haven Inc.",
          "Daniel  Gingerich",
          "Daniel  Gingerich",
          "David Petroski",
          "Jacksonville Zoological Society",
          "Arbuckle Adventures Llc",
          "Texas Biomedical Research Institute",
          "Arbuckle Adventures Llc",
          "Arbuckle Adventures Llc",
          "Clinton Wolston I I I",
          "Stanford University",
          "Arbuckle Adventures Llc",
          "Daniel  Gingerich",
          "Daniel  Gingerich",
          "Daniel  Gingerich",
          "Emory University",
          "Phil Weymouth & Yolanda Weymouth",
          "University Of North Carolina",
          "Hollywild Animal Park Inc",
          "Classy Creations",
          "Sally Reaves",
          "Save The Chimps Inc.",
          "Critter Barn",
          "Pymatuning Deer Park",
          "Pymatuning Deer Park",
          "Terry K Beal",
          "Pymatuning Deer Park",
          "Megan Guardiola",
          "Critter Barn",
          "Southern Research Institute",
          "Critter Barn",
          "Cheyenne Mountain Zoological Society",
          "University Of Wisconsin Madison",
          "Sally Reaves",
          "City Of Albuquerque",
          "Living Treasures Ii, Inc",
          "Equitech-Bio Inc.",
          "Thomas Sellner Pamela Sellner",
          "Joseph Maldonado Passage",
          "Clinton Wolston I I I",
          "Thomas Sellner Pamela Sellner",
          "Jurassic Pets L L C",
          "Clinton Wolston I I I",
          "Zoological Society Of Buffalo Inc",
          "Indiana University At Bloomington",
          "University Of Utah",
          "Montgomery Zoo",
          "Thomas Sellner Pamela Sellner",
          "Terrill Al-Saihati",
          "Lovelace Biomedical Research Institute",
          "Jerry Holly",
          "Oklahoma State University",
          "Pamela L. Baldwin",
          "Valleyview Premium Puppies",
          "Spirit Of The Hills Wildlife Sanctuary",
          "Thomas Sellner Pamela Sellner",
          "Jerry Holly",
          "Wilstem Inc.",
          "Jeffrey Lowe",
          "A G Beukelman",
          "Washington State University",
          "West Coast Game Park Inc",
          "Bob Loutsch Leslie Loutsch",
          "Wildlife Science Center",
          "Daniel Pradon Bobbi Pradon",
          "Oregon Health And Science University",
          "Zoologico De Puerto Rico Dr Juan A Rivero",
          "Noah'S Lost Ark, Inc.",
          "Daniel Pradon Bobbi Pradon",
          "Terrill Al-Saihati",
          "Wildlife World Zoo, Inc.",
          "Terrill Al-Saihati",
          "Richard Evola",
          "Nick Sculac",
          "Kirsty Lee L L C",
          "Indian Cliffs Ranch Inc.",
          "Fedler Ag Inc.",
          "Jason Clay",
          "Timothy Stark",
          "Briarwood Ranch",
          "Nick Sculac",
          "Nick Sculac",
          "David Petroski",
          "Hershey Entertainment And Resorts Co",
          "Norristown Zoological Society",
          "Daniel Pradon Bobbi Pradon",
          "Jessica Mason Janell Knudsen",
          "Kirsty Lee L L C",
          "John Mark Johnson",
          "Coastal Farms And Exotics",
          "Jessica Mason Janell Knudsen",
          "Blue Ridge Kennel",
          "Terri Naylor",
          "City Of Idaho Falls",
          "Sandstone Valley Llc",
          "T. B. Holdings L L C",
          "Arbuckle Adventures Llc",
          "Arbuckle Adventures Llc",
          "North Dakota State University",
          "Single Vision Inc.",
          "University Of Illinois At Urbana-Champaign",
          "Houston Interactive Aquarium And Animal Preserve",
          "Anton Hash",
          "A & A Exotics Llc",
          "Forest Park Zoological Society",
          "Thomas Edmonds",
          "Robert And Dawn Troupe",
          "William Meadows",
          "Ruth Hargrove",
          "Zoological Wildlife Foundation Inc",
          "Daniel Coblentz",
          "William Meadows",
          "Delmar Wagler",
          "South Texas Zoological Society",
          "William Meadows",
          "William Meadows",
          "Sally Reaves",
          "Deloris Richards Dick Richards",
          "S Glenice Viken",
          "David  Manser",
          "256 Exotics, Llc",
          "Kern County Superintendent Of Schools Calm",
          "Deer Haven Mini Zoo",
          "Kellie Caron Raegan Royale",
          "256 Exotics, Llc",
          "Javon Stacks",
          "Wild Things Zoofari Inc.",
          "Kellie Caron Raegan Royale",
          "Stump Hill Farm",
          "A & A Exotics Llc",
          "Frances Reed Higgins",
          "Richard Evola",
          "William Meadows",
          "Magnolia Stockyard",
          "Equitech-Bio Inc.",
          "Kern County Superintendent Of Schools Calm",
          "Deer Haven Mini Zoo",
          "Jeffrey Lowe",
          "Suncoast Primate Sanctuary Foundation Inc",
          "Eastern Virginia Medical School",
          "University Of Texas- El Paso",
          "Delavan Lake Animal Park",
          "Bailiwick Ranch Inc",
          "Festival Fun Parks Llc",
          "Deer Haven Mini Zoo",
          "City Of Clay Center",
          "Mike Mc Clelland",
          "Deer Haven Mini Zoo",
          "Deer Haven Mini Zoo",
          "Deer Haven Mini Zoo",
          "The Care Foundation",
          "April Cicchelli Ryan Cicchelli",
          "The Care Foundation",
          "Patricia Bingham",
          "Noahs Ark Animal Rehab Center And Sanctuary Inc",
          "Envigo Global Services Inc",
          "Aaron Hostetler",
          "City Of Alamogordo",
          "Summer Wind Farm Sanctuary",
          "Summer Wind Farm Sanctuary",
          "Lincoln Memorial University",
          "Shirley Farms",
          "Leon Nolt",
          "David  Manser",
          "Summer Wind Farm Sanctuary",
          "Summer Wind Farm Sanctuary",
          "Levi Hershberger",
          "Pi Bioscientific Inc.",
          "University Of Houston",
          "Summer Wind Farm Sanctuary",
          "Carolyn Anderson",
          "Bailiwick Ranch Inc",
          "Ms Leisure Company, Inc.",
          "Wildlife Encounters, Llc",
          "Summer Wind Farm Sanctuary",
          "Alta Z. Martin",
          "Lovelace Biomedical Research Institute",
          "Kirsty Lee L L C",
          "The Mobile Zoo",
          "Christy Davis",
          "Carolyn Anderson",
          "Summer Wind Farm Sanctuary",
          "Scott Swanson",
          "Jim Kramer",
          "St Louis Aquacenter Inc.",
          "Deer Forest Amusements Inc",
          "Deer Forest Exotic Animal Sanctuary",
          "Carolyn Anderson",
          "Deer Forest Amusements Inc",
          "Deer Forest Exotic Animal Sanctuary",
          "Billy Johnston Cheryl Ullrich",
          "Skunkie Acres Inc",
          "The Mobile Zoo",
          "Summer Wind Farm Sanctuary",
          "Robert Sawmiller",
          "Marilyn Soukup",
          "Wilma Jinson",
          "Christy Davis",
          "Jurassic Pets L L C",
          "Catty Shack Ranch Wildlife Sanctuary",
          "Memory Lane Stables",
          "The Mobile Zoo",
          "Ted Johnson",
          "City Of North Platte",
          "Squam Lakes Natural Science Center",
          "Thompson Park Conservancy, Inc",
          "Merle Miller",
          "Summer Wind Farm Sanctuary",
          "Gail Connolly Dennis Connolly",
          "Robert Sawmiller",
          "Sue Pearce",
          "Cy",
          "Rocking Dirt Road Farms Llc",
          "William Lee",
          "Fort Rickey Discovery Zoo",
          "Johnsons Corner Farm Llc",
          "Yellowstone Wildlife Sanctuary",
          "Clayton Yoder",
          "Ashley Clement Raegan Clement",
          "Josh L. Souza",
          "Union County Sportsmen'S Club Inc",
          "City Of North Platte",
          "Summer Wind Farm Sanctuary",
          "Summer Wind Farm Sanctuary",
          "Animal Source Texas Inc.",
          "Pam Reynolds",
          "Marek Lipold",
          "The Learning Zoo Llc",
          "Arbuckle Adventures Llc",
          "Robert Sawmiller",
          "Cindy Bardin",
          "Arbuckle Adventures Llc",
          "Grace & Glory Ministries",
          "Immuno-Mycologics Inc.",
          "Craig Kokas",
          "Grace & Glory Ministries",
          "Fragile Planet Wildlife Foundation",
          "Richard English",
          "Weston Educational Inc.",
          "Thomas D Morris Inc",
          "Gary Rosenblum",
          "University Of California Davis",
          "Larry Wallach",
          "Arbuckle Adventures Llc",
          "Roberta Locke Anthony Locke",
          "Vincent Losacco",
          "Sea Research Foundation, Inc",
          "Mcclain Lodge Llc",
          "Cheryl Rondy",
          "City Of Hutchinson",
          "Rodney Stahl",
          "The Living Desert Zoo And Gardens",
          "James Svoboda",
          "Turk Hava Yollari A O Turkish Airlines",
          "University Of Utah",
          "Lovelace Biomedical Research Institute",
          "Qatar Airways Cargo",
          "Temple University",
          "Renee Ray",
          "Barbara Hammen Martin Hammen",
          "Tuskegee University",
          "University Of Georgia",
          "Morgan Machnik",
          "University Of Washington",
          "University Of Arkansas Fayettville",
          "Allergan",
          "University Of Missouri-Columbia",
          "University Of California Davis",
          "Randy Stoen",
          "Wendy Russeff",
          "Timothy Stark",
          "Zoo Boise",
          "Ashley Ram",
          "Oklahoma State University - Oklahoma City",
          "R B H S New Jersey Medical School",
          "Nolan Den Boer Gina Den Boer"
         ],
         "type": "scattergeo"
        }
       ],
       "layout": {
        "template": {
         "data": {
          "bar": [
           {
            "error_x": {
             "color": "#2a3f5f"
            },
            "error_y": {
             "color": "#2a3f5f"
            },
            "marker": {
             "line": {
              "color": "#E5ECF6",
              "width": 0.5
             },
             "pattern": {
              "fillmode": "overlay",
              "size": 10,
              "solidity": 0.2
             }
            },
            "type": "bar"
           }
          ],
          "barpolar": [
           {
            "marker": {
             "line": {
              "color": "#E5ECF6",
              "width": 0.5
             },
             "pattern": {
              "fillmode": "overlay",
              "size": 10,
              "solidity": 0.2
             }
            },
            "type": "barpolar"
           }
          ],
          "carpet": [
           {
            "aaxis": {
             "endlinecolor": "#2a3f5f",
             "gridcolor": "white",
             "linecolor": "white",
             "minorgridcolor": "white",
             "startlinecolor": "#2a3f5f"
            },
            "baxis": {
             "endlinecolor": "#2a3f5f",
             "gridcolor": "white",
             "linecolor": "white",
             "minorgridcolor": "white",
             "startlinecolor": "#2a3f5f"
            },
            "type": "carpet"
           }
          ],
          "choropleth": [
           {
            "colorbar": {
             "outlinewidth": 0,
             "ticks": ""
            },
            "type": "choropleth"
           }
          ],
          "contour": [
           {
            "colorbar": {
             "outlinewidth": 0,
             "ticks": ""
            },
            "colorscale": [
             [
              0,
              "#0d0887"
             ],
             [
              0.1111111111111111,
              "#46039f"
             ],
             [
              0.2222222222222222,
              "#7201a8"
             ],
             [
              0.3333333333333333,
              "#9c179e"
             ],
             [
              0.4444444444444444,
              "#bd3786"
             ],
             [
              0.5555555555555556,
              "#d8576b"
             ],
             [
              0.6666666666666666,
              "#ed7953"
             ],
             [
              0.7777777777777778,
              "#fb9f3a"
             ],
             [
              0.8888888888888888,
              "#fdca26"
             ],
             [
              1,
              "#f0f921"
             ]
            ],
            "type": "contour"
           }
          ],
          "contourcarpet": [
           {
            "colorbar": {
             "outlinewidth": 0,
             "ticks": ""
            },
            "type": "contourcarpet"
           }
          ],
          "heatmap": [
           {
            "colorbar": {
             "outlinewidth": 0,
             "ticks": ""
            },
            "colorscale": [
             [
              0,
              "#0d0887"
             ],
             [
              0.1111111111111111,
              "#46039f"
             ],
             [
              0.2222222222222222,
              "#7201a8"
             ],
             [
              0.3333333333333333,
              "#9c179e"
             ],
             [
              0.4444444444444444,
              "#bd3786"
             ],
             [
              0.5555555555555556,
              "#d8576b"
             ],
             [
              0.6666666666666666,
              "#ed7953"
             ],
             [
              0.7777777777777778,
              "#fb9f3a"
             ],
             [
              0.8888888888888888,
              "#fdca26"
             ],
             [
              1,
              "#f0f921"
             ]
            ],
            "type": "heatmap"
           }
          ],
          "heatmapgl": [
           {
            "colorbar": {
             "outlinewidth": 0,
             "ticks": ""
            },
            "colorscale": [
             [
              0,
              "#0d0887"
             ],
             [
              0.1111111111111111,
              "#46039f"
             ],
             [
              0.2222222222222222,
              "#7201a8"
             ],
             [
              0.3333333333333333,
              "#9c179e"
             ],
             [
              0.4444444444444444,
              "#bd3786"
             ],
             [
              0.5555555555555556,
              "#d8576b"
             ],
             [
              0.6666666666666666,
              "#ed7953"
             ],
             [
              0.7777777777777778,
              "#fb9f3a"
             ],
             [
              0.8888888888888888,
              "#fdca26"
             ],
             [
              1,
              "#f0f921"
             ]
            ],
            "type": "heatmapgl"
           }
          ],
          "histogram": [
           {
            "marker": {
             "pattern": {
              "fillmode": "overlay",
              "size": 10,
              "solidity": 0.2
             }
            },
            "type": "histogram"
           }
          ],
          "histogram2d": [
           {
            "colorbar": {
             "outlinewidth": 0,
             "ticks": ""
            },
            "colorscale": [
             [
              0,
              "#0d0887"
             ],
             [
              0.1111111111111111,
              "#46039f"
             ],
             [
              0.2222222222222222,
              "#7201a8"
             ],
             [
              0.3333333333333333,
              "#9c179e"
             ],
             [
              0.4444444444444444,
              "#bd3786"
             ],
             [
              0.5555555555555556,
              "#d8576b"
             ],
             [
              0.6666666666666666,
              "#ed7953"
             ],
             [
              0.7777777777777778,
              "#fb9f3a"
             ],
             [
              0.8888888888888888,
              "#fdca26"
             ],
             [
              1,
              "#f0f921"
             ]
            ],
            "type": "histogram2d"
           }
          ],
          "histogram2dcontour": [
           {
            "colorbar": {
             "outlinewidth": 0,
             "ticks": ""
            },
            "colorscale": [
             [
              0,
              "#0d0887"
             ],
             [
              0.1111111111111111,
              "#46039f"
             ],
             [
              0.2222222222222222,
              "#7201a8"
             ],
             [
              0.3333333333333333,
              "#9c179e"
             ],
             [
              0.4444444444444444,
              "#bd3786"
             ],
             [
              0.5555555555555556,
              "#d8576b"
             ],
             [
              0.6666666666666666,
              "#ed7953"
             ],
             [
              0.7777777777777778,
              "#fb9f3a"
             ],
             [
              0.8888888888888888,
              "#fdca26"
             ],
             [
              1,
              "#f0f921"
             ]
            ],
            "type": "histogram2dcontour"
           }
          ],
          "mesh3d": [
           {
            "colorbar": {
             "outlinewidth": 0,
             "ticks": ""
            },
            "type": "mesh3d"
           }
          ],
          "parcoords": [
           {
            "line": {
             "colorbar": {
              "outlinewidth": 0,
              "ticks": ""
             }
            },
            "type": "parcoords"
           }
          ],
          "pie": [
           {
            "automargin": true,
            "type": "pie"
           }
          ],
          "scatter": [
           {
            "fillpattern": {
             "fillmode": "overlay",
             "size": 10,
             "solidity": 0.2
            },
            "type": "scatter"
           }
          ],
          "scatter3d": [
           {
            "line": {
             "colorbar": {
              "outlinewidth": 0,
              "ticks": ""
             }
            },
            "marker": {
             "colorbar": {
              "outlinewidth": 0,
              "ticks": ""
             }
            },
            "type": "scatter3d"
           }
          ],
          "scattercarpet": [
           {
            "marker": {
             "colorbar": {
              "outlinewidth": 0,
              "ticks": ""
             }
            },
            "type": "scattercarpet"
           }
          ],
          "scattergeo": [
           {
            "marker": {
             "colorbar": {
              "outlinewidth": 0,
              "ticks": ""
             }
            },
            "type": "scattergeo"
           }
          ],
          "scattergl": [
           {
            "marker": {
             "colorbar": {
              "outlinewidth": 0,
              "ticks": ""
             }
            },
            "type": "scattergl"
           }
          ],
          "scattermapbox": [
           {
            "marker": {
             "colorbar": {
              "outlinewidth": 0,
              "ticks": ""
             }
            },
            "type": "scattermapbox"
           }
          ],
          "scatterpolar": [
           {
            "marker": {
             "colorbar": {
              "outlinewidth": 0,
              "ticks": ""
             }
            },
            "type": "scatterpolar"
           }
          ],
          "scatterpolargl": [
           {
            "marker": {
             "colorbar": {
              "outlinewidth": 0,
              "ticks": ""
             }
            },
            "type": "scatterpolargl"
           }
          ],
          "scatterternary": [
           {
            "marker": {
             "colorbar": {
              "outlinewidth": 0,
              "ticks": ""
             }
            },
            "type": "scatterternary"
           }
          ],
          "surface": [
           {
            "colorbar": {
             "outlinewidth": 0,
             "ticks": ""
            },
            "colorscale": [
             [
              0,
              "#0d0887"
             ],
             [
              0.1111111111111111,
              "#46039f"
             ],
             [
              0.2222222222222222,
              "#7201a8"
             ],
             [
              0.3333333333333333,
              "#9c179e"
             ],
             [
              0.4444444444444444,
              "#bd3786"
             ],
             [
              0.5555555555555556,
              "#d8576b"
             ],
             [
              0.6666666666666666,
              "#ed7953"
             ],
             [
              0.7777777777777778,
              "#fb9f3a"
             ],
             [
              0.8888888888888888,
              "#fdca26"
             ],
             [
              1,
              "#f0f921"
             ]
            ],
            "type": "surface"
           }
          ],
          "table": [
           {
            "cells": {
             "fill": {
              "color": "#EBF0F8"
             },
             "line": {
              "color": "white"
             }
            },
            "header": {
             "fill": {
              "color": "#C8D4E3"
             },
             "line": {
              "color": "white"
             }
            },
            "type": "table"
           }
          ]
         },
         "layout": {
          "annotationdefaults": {
           "arrowcolor": "#2a3f5f",
           "arrowhead": 0,
           "arrowwidth": 1
          },
          "autotypenumbers": "strict",
          "coloraxis": {
           "colorbar": {
            "outlinewidth": 0,
            "ticks": ""
           }
          },
          "colorscale": {
           "diverging": [
            [
             0,
             "#8e0152"
            ],
            [
             0.1,
             "#c51b7d"
            ],
            [
             0.2,
             "#de77ae"
            ],
            [
             0.3,
             "#f1b6da"
            ],
            [
             0.4,
             "#fde0ef"
            ],
            [
             0.5,
             "#f7f7f7"
            ],
            [
             0.6,
             "#e6f5d0"
            ],
            [
             0.7,
             "#b8e186"
            ],
            [
             0.8,
             "#7fbc41"
            ],
            [
             0.9,
             "#4d9221"
            ],
            [
             1,
             "#276419"
            ]
           ],
           "sequential": [
            [
             0,
             "#0d0887"
            ],
            [
             0.1111111111111111,
             "#46039f"
            ],
            [
             0.2222222222222222,
             "#7201a8"
            ],
            [
             0.3333333333333333,
             "#9c179e"
            ],
            [
             0.4444444444444444,
             "#bd3786"
            ],
            [
             0.5555555555555556,
             "#d8576b"
            ],
            [
             0.6666666666666666,
             "#ed7953"
            ],
            [
             0.7777777777777778,
             "#fb9f3a"
            ],
            [
             0.8888888888888888,
             "#fdca26"
            ],
            [
             1,
             "#f0f921"
            ]
           ],
           "sequentialminus": [
            [
             0,
             "#0d0887"
            ],
            [
             0.1111111111111111,
             "#46039f"
            ],
            [
             0.2222222222222222,
             "#7201a8"
            ],
            [
             0.3333333333333333,
             "#9c179e"
            ],
            [
             0.4444444444444444,
             "#bd3786"
            ],
            [
             0.5555555555555556,
             "#d8576b"
            ],
            [
             0.6666666666666666,
             "#ed7953"
            ],
            [
             0.7777777777777778,
             "#fb9f3a"
            ],
            [
             0.8888888888888888,
             "#fdca26"
            ],
            [
             1,
             "#f0f921"
            ]
           ]
          },
          "colorway": [
           "#636efa",
           "#EF553B",
           "#00cc96",
           "#ab63fa",
           "#FFA15A",
           "#19d3f3",
           "#FF6692",
           "#B6E880",
           "#FF97FF",
           "#FECB52"
          ],
          "font": {
           "color": "#2a3f5f"
          },
          "geo": {
           "bgcolor": "white",
           "lakecolor": "white",
           "landcolor": "#E5ECF6",
           "showlakes": true,
           "showland": true,
           "subunitcolor": "white"
          },
          "hoverlabel": {
           "align": "left"
          },
          "hovermode": "closest",
          "mapbox": {
           "style": "light"
          },
          "paper_bgcolor": "white",
          "plot_bgcolor": "#E5ECF6",
          "polar": {
           "angularaxis": {
            "gridcolor": "white",
            "linecolor": "white",
            "ticks": ""
           },
           "bgcolor": "#E5ECF6",
           "radialaxis": {
            "gridcolor": "white",
            "linecolor": "white",
            "ticks": ""
           }
          },
          "scene": {
           "xaxis": {
            "backgroundcolor": "#E5ECF6",
            "gridcolor": "white",
            "gridwidth": 2,
            "linecolor": "white",
            "showbackground": true,
            "ticks": "",
            "zerolinecolor": "white"
           },
           "yaxis": {
            "backgroundcolor": "#E5ECF6",
            "gridcolor": "white",
            "gridwidth": 2,
            "linecolor": "white",
            "showbackground": true,
            "ticks": "",
            "zerolinecolor": "white"
           },
           "zaxis": {
            "backgroundcolor": "#E5ECF6",
            "gridcolor": "white",
            "gridwidth": 2,
            "linecolor": "white",
            "showbackground": true,
            "ticks": "",
            "zerolinecolor": "white"
           }
          },
          "shapedefaults": {
           "line": {
            "color": "#2a3f5f"
           }
          },
          "ternary": {
           "aaxis": {
            "gridcolor": "white",
            "linecolor": "white",
            "ticks": ""
           },
           "baxis": {
            "gridcolor": "white",
            "linecolor": "white",
            "ticks": ""
           },
           "bgcolor": "#E5ECF6",
           "caxis": {
            "gridcolor": "white",
            "linecolor": "white",
            "ticks": ""
           }
          },
          "title": {
           "x": 0.05
          },
          "xaxis": {
           "automargin": true,
           "gridcolor": "white",
           "linecolor": "white",
           "ticks": "",
           "title": {
            "standoff": 15
           },
           "zerolinecolor": "white",
           "zerolinewidth": 2
          },
          "yaxis": {
           "automargin": true,
           "gridcolor": "white",
           "linecolor": "white",
           "ticks": "",
           "title": {
            "standoff": 15
           },
           "zerolinecolor": "white",
           "zerolinewidth": 2
          }
         }
        }
       }
      }
     },
     "metadata": {},
     "output_type": "display_data"
    }
   ],
   "source": [
    "# Quick sanity check, are they all in the US? Are they plotted correctly? I'll create the plot structure I'm ultimately going to use to create the final map\n",
    "\n",
    "# fig1 = go.FigureWidget([go.scattergeo(multiple_criticals, title='Animal Welfare Inspections 2014-2022', lat='lat', lon='lng', scope='north america', color='type', size = 'animals_total', size_max=30, hover_name= \"siteName\", hover_data=hover_data, fitbounds='locations', projection='natural earth', width=1000, height=800\n",
    "# )])\n",
    "\n",
    "fig = go.Figure(data=go.Scattergeo(\n",
    "    lat=multiple_criticals['jitter_lat'],\n",
    "    lon=multiple_criticals['jitter_lng'],\n",
    "    text=multiple_criticals['legalName'],\n",
    "    mode='markers',\n",
    "    customdata=[multiple_criticals['critical'], multiple_criticals['nonCritical'], multiple_criticals['type']]\n",
    ")\n",
    "\n",
    ")\n",
    "\n",
    "fig.show()"
   ]
  },
  {
   "attachments": {},
   "cell_type": "markdown",
   "metadata": {},
   "source": [
    "They're all there! Now to fine-tune the map. \n",
    "\n",
    "* The area should include just the United States - the map will be specified as a geo object\n",
    "* Marker size depends on # of animals total (logarithmic scale)\n",
    "* Marker color depends on type of animal handler\n",
    "* There should be some jitter to allow users to access multiple reports from the same site\n",
    "* On hover, each marker should show the name of the site and the number of critical and noncritical violations\n",
    "* On click, each marker should open a new tab with the PDF report\n",
    "* The legend will explain the types of site"
   ]
  },
  {
   "cell_type": "code",
   "execution_count": null,
   "metadata": {},
   "outputs": [],
   "source": [
    "# Original code used when I was trying to do this with plotly express\n",
    "# labels = {\n",
    "#     'animals_total': '# of Animals',\n",
    "#     'type': 'Category of animal handler',\n",
    "#     'critical': \"Critical violations\",\n",
    "#     'nonCritical': \"Noncritical violations\",\n",
    "\n",
    "# }\n",
    "\n",
    "# hover_data = {\n",
    "#     'animals_total': ':.0f',\n",
    "#     'critical': True,\n",
    "#     'nonCritical': True,\n",
    "#     'type': False,\n",
    "#     'lat': False,\n",
    "#     'lng': False,\n",
    "# }\n",
    "\n",
    "\n",
    "\n",
    "\n",
    "\n",
    "# fig = px.scatter_geo(multiple_criticals, title='Animal Welfare Inspections 2014-2022', labels=labels, lat='lat', lon='lng', scope='north america', color='type', size = 'animals_total', size_max=30, hover_name= \"siteName\", hover_data=hover_data, fitbounds='locations', projection='natural earth', custom_data=['reportLink'], width=1000, height=800)\n",
    "# fig.show()\n"
   ]
  },
  {
   "cell_type": "code",
   "execution_count": 99,
   "metadata": {},
   "outputs": [
    {
     "data": {
      "application/vnd.plotly.v1+json": {
       "config": {
        "plotlyServerURL": "https://plot.ly"
       },
       "data": [
        {
         "customdata": [
          [
           0,
           2,
           2,
           2,
           2,
           2,
           3,
           2,
           0,
           1,
           3,
           2,
           3,
           2,
           2,
           2,
           3,
           4,
           2,
           0,
           2,
           2,
           2,
           1,
           2,
           1,
           1,
           0,
           2,
           0,
           2,
           2,
           0,
           3,
           2,
           2,
           2,
           1,
           1,
           0,
           2,
           0,
           2,
           0,
           0,
           0,
           1,
           0,
           1,
           2,
           0,
           2,
           0,
           3,
           2,
           0,
           2,
           3,
           1,
           3,
           2,
           0,
           0,
           2,
           0,
           2,
           2,
           0,
           0,
           0,
           2,
           4,
           2,
           8,
           4,
           0,
           3,
           2,
           0,
           1,
           0,
           2,
           0,
           2,
           0,
           0,
           0,
           2,
           0,
           3,
           0,
           1,
           5,
           0,
           0,
           3,
           0,
           0,
           2,
           1,
           2,
           1,
           3,
           0,
           4,
           1,
           0,
           2,
           2,
           2,
           2,
           2,
           0,
           0,
           0,
           2,
           1,
           3,
           0,
           0,
           0,
           0,
           0,
           3,
           0,
           0,
           2,
           4,
           0,
           2,
           2,
           2,
           0,
           0,
           0,
           0,
           0,
           0,
           0,
           0,
           1,
           3,
           0,
           0,
           2,
           0,
           1,
           1,
           2,
           2,
           2,
           2,
           0,
           0,
           0,
           5,
           0,
           0,
           0,
           3,
           3,
           2,
           4,
           2,
           2,
           2,
           2,
           2,
           1,
           1,
           0,
           0,
           2,
           2,
           0,
           2,
           0,
           3,
           2,
           2,
           2,
           5,
           3,
           0,
           2,
           0,
           0,
           3,
           1,
           2,
           2,
           0,
           0,
           2,
           1,
           0,
           2,
           0,
           6,
           0,
           2,
           2,
           0,
           0,
           2,
           2,
           2,
           2,
           2,
           3,
           3,
           0,
           0,
           4,
           0,
           1,
           0,
           1,
           0,
           0,
           1,
           2,
           2,
           2,
           1,
           1,
           0,
           0,
           2,
           0,
           1,
           1,
           2,
           0,
           3,
           1,
           1,
           0,
           4,
           2,
           3,
           0,
           2,
           0,
           1,
           0,
           0,
           2,
           0,
           2,
           1,
           0,
           0,
           0,
           0,
           0,
           3,
           1,
           0,
           2,
           0,
           0,
           0,
           0,
           3,
           3,
           2,
           0,
           0,
           4,
           2,
           3,
           0,
           1,
           0,
           0,
           0,
           3,
           0,
           3,
           2,
           2,
           2,
           0,
           2,
           0,
           0,
           3,
           1,
           1,
           2,
           0,
           1,
           2,
           2,
           2,
           3,
           2,
           2,
           2,
           2,
           2,
           3,
           2,
           3,
           2,
           2,
           4,
           2,
           2,
           0,
           4,
           3,
           2,
           2,
           3,
           2,
           2,
           3,
           2,
           2,
           2,
           2,
           2,
           2,
           2,
           2,
           2,
           3,
           2,
           2,
           2,
           2,
           3,
           2,
           3,
           2,
           2,
           2,
           5,
           2,
           0
          ],
          [
           13,
           0,
           3,
           1,
           1,
           5,
           8,
           2,
           12,
           10,
           0,
           0,
           5,
           1,
           0,
           0,
           2,
           0,
           0,
           12,
           0,
           3,
           1,
           10,
           8,
           10,
           13,
           9,
           1,
           10,
           0,
           2,
           9,
           2,
           0,
           0,
           1,
           9,
           10,
           9,
           6,
           10,
           1,
           21,
           12,
           11,
           31,
           11,
           9,
           0,
           12,
           0,
           23,
           6,
           0,
           9,
           2,
           14,
           10,
           3,
           2,
           9,
           11,
           0,
           15,
           0,
           1,
           22,
           16,
           9,
           1,
           3,
           1,
           3,
           3,
           18,
           2,
           1,
           18,
           16,
           10,
           0,
           10,
           1,
           9,
           11,
           9,
           2,
           9,
           8,
           10,
           15,
           7,
           10,
           10,
           0,
           10,
           12,
           0,
           9,
           0,
           16,
           6,
           12,
           2,
           9,
           10,
           1,
           1,
           1,
           0,
           0,
           11,
           13,
           9,
           2,
           10,
           0,
           14,
           16,
           15,
           16,
           10,
           5,
           11,
           9,
           1,
           1,
           9,
           1,
           8,
           2,
           10,
           13,
           9,
           9,
           9,
           9,
           10,
           11,
           10,
           3,
           9,
           11,
           0,
           9,
           12,
           11,
           4,
           1,
           2,
           10,
           13,
           12,
           10,
           5,
           11,
           12,
           9,
           3,
           2,
           4,
           5,
           9,
           1,
           2,
           0,
           3,
           13,
           9,
           12,
           11,
           1,
           2,
           9,
           1,
           16,
           0,
           0,
           0,
           8,
           12,
           5,
           10,
           9,
           9,
           11,
           0,
           19,
           3,
           7,
           9,
           10,
           1,
           13,
           13,
           7,
           15,
           3,
           9,
           3,
           0,
           12,
           13,
           7,
           0,
           1,
           1,
           2,
           3,
           12,
           13,
           9,
           19,
           11,
           12,
           11,
           12,
           9,
           10,
           9,
           6,
           0,
           2,
           9,
           9,
           10,
           9,
           2,
           9,
           11,
           10,
           2,
           9,
           2,
           10,
           14,
           9,
           0,
           2,
           10,
           9,
           1,
           9,
           13,
           11,
           9,
           14,
           10,
           0,
           9,
           16,
           16,
           11,
           14,
           14,
           0,
           10,
           12,
           5,
           10,
           11,
           9,
           9,
           1,
           2,
           4,
           11,
           9,
           1,
           4,
           3,
           10,
           9,
           14,
           14,
           9,
           0,
           11,
           1,
           5,
           2,
           0,
           11,
           0,
           12,
           9,
           0,
           10,
           12,
           0,
           9,
           12,
           0,
           2,
           2,
           2,
           3,
           3,
           1,
           0,
           3,
           0,
           1,
           3,
           1,
           0,
           0,
           0,
           0,
           9,
           1,
           2,
           0,
           0,
           0,
           1,
           0,
           0,
           0,
           1,
           0,
           0,
           0,
           0,
           1,
           2,
           0,
           0,
           0,
           0,
           5,
           0,
           0,
           0,
           1,
           0,
           0,
           0,
           0,
           0,
           10
          ]
         ],
         "lat": [
          40.369659010493024,
          42.583943085085565,
          36.954651003216696,
          36.954651003216696,
          36.954651003216696,
          32.68081798343026,
          39.909484018529525,
          45.49907798203597,
          39.909484018529525,
          30.83478901108484,
          32.68081798343026,
          18.417640000000063,
          26.26166702074076,
          25.434923994091776,
          38.113195327070805,
          38.113195327070805,
          43.07372698237828,
          47.93832098037856,
          29.4393909727128,
          29.651519008749872,
          35.45037699185795,
          42.47841002069339,
          39.02383192642892,
          36.10825601783965,
          42.82219500000008,
          40.62414000000007,
          36.10825601783965,
          38.4361000025813,
          33.94265998804134,
          32.93754800825266,
          40.75885998586139,
          47.65037000000007,
          36.29635904277505,
          36.08955178691299,
          38.113195327070805,
          38.113195327070805,
          33.94265998804134,
          40.52659598203684,
          40.52659598203684,
          39.855639007806616,
          39.93561472326049,
          40.52659598203684,
          47.65037000000007,
          29.651519008749872,
          29.651519008749872,
          29.651519008749872,
          40.62287999346054,
          40.52659598203684,
          35.76842600282674,
          40.02685798799007,
          35.65749499278958,
          38.02105401550469,
          37.64716370000008,
          35.12152027566615,
          38.02105401550469,
          29.727370999626515,
          35.785510000000045,
          35.0255289976604,
          43.14835613740067,
          35.056133002534565,
          35.468270000000075,
          40.98860899963816,
          37.64716370000008,
          30.44440199641716,
          40.62287999346054,
          47.93832098037856,
          32.2545526878344,
          40.62287999346054,
          40.62287999346054,
          40.66198375622479,
          30.403978005239736,
          34.44788691979775,
          29.41432160000005,
          34.44788691979775,
          34.44788691979775,
          29.43591728897649,
          37.42086100737605,
          34.44788691979775,
          40.62287999346054,
          40.62287999346054,
          40.62287999346054,
          33.79815099006433,
          35.30091596548488,
          35.91017631193181,
          35.0255289976604,
          43.06496500000003,
          43.14835613740067,
          27.374507008000023,
          42.78443699366619,
          41.4845390112533,
          41.4845390112533,
          35.58915100786329,
          41.4845390112533,
          32.53895100324365,
          42.78443699366619,
          33.50369401904926,
          42.78443699366619,
          38.77110698668804,
          43.07372698237828,
          43.14835613740067,
          35.07809199629263,
          40.10708500000004,
          39.52551699687052,
          42.48335199080563,
          42.229798497739154,
          29.43591728897649,
          42.48335199080563,
          39.96129398698048,
          29.43591728897649,
          42.93824089687848,
          39.173950012388616,
          40.76786198223377,
          32.38457500000004,
          42.48335199080563,
          32.60091773128008,
          35.056133002534565,
          38.74576849338868,
          36.13048272419477,
          37.65225098824699,
          41.53769020994088,
          44.4723960126156,
          42.48335199080563,
          38.74576849338868,
          38.54671500000006,
          33.75956900592874,
          43.02767299256644,
          46.72984507900003,
          43.00896399794564,
          42.7874010022671,
          45.3829910118985,
          31.827552980663043,
          45.49907798203597,
          18.464000000000052,
          40.99611901724529,
          31.827552980663043,
          32.60091773128008,
          33.55050221250882,
          32.60091773128008,
          41.758372016138566,
          38.996844002509874,
          47.748668015817486,
          31.506210000000067,
          40.725777997041945,
          31.00805300800505,
          38.48738798801199,
          36.03610300274384,
          38.996844002509874,
          38.996844002509874,
          40.66198375622479,
          40.28761400854569,
          40.13244698919651,
          31.827552980663043,
          37.03240000000005,
          47.748668015817486,
          34.43652901539417,
          30.86954963848484,
          37.03240000000005,
          32.539810000000045,
          40.64737199835824,
          43.49700500000006,
          43.969565000000046,
          37.49637399217876,
          34.44788691979775,
          34.44788691979775,
          46.90187136964028,
          29.75921099994295,
          40.10710000000006,
          29.93901732422094,
          40.2015159792274,
          30.12698699260456,
          42.07766000000004,
          39.238762994873696,
          35.031212700000026,
          35.25349798856932,
          35.74663171376892,
          25.614738993167293,
          42.448341996617785,
          35.25349798856932,
          38.72483401965576,
          28.80874999277701,
          35.25349798856932,
          35.25349798856932,
          43.14835613740067,
          44.4151989949938,
          48.8109099999121,
          35.446426014158135,
          34.82216101829995,
          35.428112980643334,
          39.57227800021519,
          46.07447899695228,
          34.82216101829995,
          42.22772729294535,
          30.494034262604103,
          46.07447899695228,
          40.74616999400135,
          30.12698699260456,
          32.78793698772226,
          41.758372016138566,
          35.25349798856932,
          32.73721500000005,
          39.52551699687052,
          35.428112980643334,
          39.57227800021519,
          33.75956900592874,
          28.118867016452768,
          36.85643601084894,
          31.77039699245728,
          42.601567000430805,
          42.21646519481041,
          25.73159097960759,
          39.57227800021519,
          39.38037500000007,
          31.874248018429725,
          39.57227800021519,
          39.57227800021519,
          39.57227800021519,
          28.730281004090926,
          44.26739800454462,
          28.730281004090926,
          29.42381000000006,
          33.3053180078535,
          40.26323800918797,
          45.04331698410368,
          32.89880345992812,
          43.23116301243712,
          43.23116301243712,
          36.58059770680676,
          36.26126900141186,
          42.54712100725021,
          35.446426014158135,
          43.23116301243712,
          43.23116301243712,
          42.11031507730343,
          47.69012901358778,
          29.71652301480832,
          43.23116301243712,
          43.15795500909815,
          42.21646519481041,
          29.669317016224056,
          43.19944199323629,
          43.23116301243712,
          43.09641499216502,
          35.056133002534565,
          47.748668015817486,
          30.824257392643894,
          37.65005798900968,
          43.15795500909815,
          43.23116301243712,
          41.22280668695454,
          37.62604199239334,
          38.631350988816166,
          42.18644000000006,
          42.20828102073085,
          43.15795500909815,
          42.18644000000006,
          42.20828102073085,
          39.81785301110608,
          29.39792368998654,
          30.824257392643894,
          43.23116301243712,
          40.59615299599065,
          38.83621698191215,
          36.71532000727734,
          37.65005798900968,
          39.96129398698048,
          30.46341970000003,
          41.74009200732229,
          30.824257392643894,
          43.94092300158968,
          41.13053764882066,
          43.71846750000003,
          43.96136964855779,
          40.6398150001838,
          43.23116301243712,
          41.27941799875322,
          40.59615299599065,
          27.20239486856311,
          39.193022991154805,
          36.04941501563853,
          39.74205500000005,
          43.22412636281183,
          39.90062371515877,
          45.18533500000007,
          36.57963456803587,
          35.13843990000004,
          37.63346381480928,
          40.85857127367453,
          41.13053764882066,
          43.23116301243712,
          43.23116301243712,
          33.26580198633755,
          39.80096000000003,
          33.949423010437485,
          30.201571011078343,
          34.44788691979775,
          40.59615299599065,
          43.372466267725656,
          34.44788691979775,
          43.4005646283741,
          35.2512489982188,
          40.52659598203684,
          43.4005646283741,
          44.33480990000004,
          39.99676830000004,
          39.78243900918514,
          39.54471800920774,
          26.061239999747485,
          38.53552198900633,
          40.82408891816598,
          34.44788691979775,
          38.536784010257946,
          40.21087742479512,
          41.373696011199485,
          32.39749800525489,
          43.40240500000005,
          38.05725000000007,
          42.43783699927752,
          33.72536278716445,
          44.31434399649237,
          40.74837682337889,
          40.76786198223377,
          35.056133002534565,
          40.74837682337889,
          40.00697301235374,
          36.84988235564765,
          42.474376984161495,
          32.429900226234615,
          33.94265998804134,
          42.9739719829401,
          47.65037000000007,
          36.06487500000003,
          33.68570650000004,
          38.94440827213181,
          38.53552198900633,
          42.66338294961648,
          42.35180900076023,
          38.48738798801199,
          43.60808600839604,
          29.577221986640808,
          35.46910899480298,
          40.52574899072096,
          43.17552901020997
         ],
         "lon": [
          -75.54738698319876,
          -71.38845854037835,
          -122.0516539747136,
          -122.0516539747136,
          -122.0516539747136,
          -80.84191402459606,
          -86.08529100477942,
          -122.68543196967124,
          -86.08529100477942,
          -87.14930898842836,
          -80.84191402459606,
          -66.07602999999995,
          -81.21244301144613,
          -80.51921997243502,
          -88.76722714713446,
          -88.76722714713446,
          -89.4155610303467,
          -122.26699898124998,
          -98.64078952182992,
          -95.5828480401928,
          -97.55502696035198,
          -71.2624757696234,
          -76.9234678425904,
          -85.53611801263696,
          -83.26514499999996,
          -81.78471999999994,
          -85.53611801263696,
          -92.66509002664364,
          -83.37115003884358,
          -117.04065302249074,
          -74.43685002365935,
          -122.30729499999995,
          -94.49612431903188,
          -80.27134686918126,
          -88.76722714713446,
          -88.76722714713446,
          -83.37115003884358,
          -83.2159460257813,
          -83.2159460257813,
          -76.03780099006268,
          -76.1643602240608,
          -83.2159460257813,
          -122.30729499999995,
          -95.5828480401928,
          -95.5828480401928,
          -95.5828480401928,
          -93.14892398805772,
          -83.2159460257813,
          -89.12494896404675,
          -105.246008013024,
          -80.72953298721906,
          -122.27938600921976,
          -79.52853359999995,
          -89.93956024336576,
          -122.27938600921976,
          -97.80409202808704,
          -78.64266999999995,
          -82.14455397899475,
          -77.24719109816812,
          -106.57876196623722,
          -97.50040499999994,
          -77.42192997477107,
          -79.52853359999995,
          -84.3018570376103,
          -93.14892398805772,
          -122.26699898124998,
          -93.94438774667312,
          -93.14892398805772,
          -93.14892398805772,
          -77.13163282467417,
          -81.64370601141998,
          -97.1249675257824,
          -98.67414449999995,
          -97.1249675257824,
          -97.1249675257824,
          -95.17092198281073,
          -122.1413339684444,
          -97.1249675257824,
          -93.14892398805772,
          -93.14892398805772,
          -93.14892398805772,
          -84.31528501413543,
          -93.56662984637852,
          -79.04514332145452,
          -82.14455397899475,
          -76.99032999999997,
          -77.24719109816812,
          -80.37575994199995,
          -86.0102980332497,
          -80.42084702310191,
          -80.42084702310191,
          -81.14052795858147,
          -80.42084702310191,
          -96.77590098081896,
          -86.0102980332497,
          -86.79741498399406,
          -86.0102980332497,
          -104.85465402009648,
          -89.4155610303467,
          -77.24719109816812,
          -106.66230799940524,
          -79.37676499999998,
          -84.67934199826762,
          -91.50736001856036,
          -70.98071742382865,
          -95.17092198281073,
          -91.50736001856036,
          -104.61145896679324,
          -95.17092198281073,
          -78.85074562275032,
          -86.52268603747835,
          -111.83258397124362,
          -86.26047999999997,
          -91.50736001856036,
          -114.61518541095955,
          -106.57876196623722,
          -76.77707764169996,
          -97.05920095433392,
          -91.81194304107314,
          -91.63484398817404,
          -103.8973830099671,
          -91.50736001856036,
          -76.77707764169996,
          -86.61907999999994,
          -97.10314296982398,
          -96.12993703974874,
          -117.15810286899996,
          -124.41741102580792,
          -95.87567301275008,
          -93.04786296237626,
          -102.4755979899669,
          -122.68543196967124,
          -66.11277999999999,
          -80.98620496736197,
          -102.4755979899669,
          -114.61518541095955,
          -112.41659030896452,
          -114.61518541095955,
          -84.59310101559065,
          -104.37669300678031,
          -122.22961502253526,
          -106.16194499999996,
          -91.46835298811476,
          -96.52096799412789,
          -85.67688998099271,
          -83.86196503595541,
          -104.37669300678031,
          -104.37669300678031,
          -77.13163282467417,
          -76.65608696483825,
          -75.33736647914395,
          -102.4755979899669,
          -100.92679999999996,
          -122.22961502253526,
          -88.72041996043195,
          -88.22040001257508,
          -100.92679999999996,
          -86.21069499999999,
          -93.6352850094602,
          -112.03894999999994,
          -92.06338499999998,
          -122.2442580397447,
          -97.1249675257824,
          -97.1249675257824,
          -96.80602436736508,
          -81.96816202344753,
          -88.21026999999998,
          -95.3109781118127,
          -82.16005999695513,
          -82.69504997073442,
          -72.56511999999998,
          -87.66545895844021,
          -97.63092299999994,
          -97.7727199894249,
          -95.76611996342278,
          -80.47022598817489,
          -86.01689400431556,
          -97.7727199894249,
          -86.97967100282185,
          -97.01841198700406,
          -97.7727199894249,
          -97.7727199894249,
          -77.24719109816812,
          -95.82942502378926,
          -95.79206797098372,
          -85.06453302924733,
          -86.48534097079437,
          -118.93277697215451,
          -77.28847901210584,
          -122.99984000762916,
          -86.48534097079437,
          -83.48997330641897,
          -97.39905457822562,
          -122.99984000762916,
          -81.47929799811882,
          -82.69504997073442,
          -108.25736598496202,
          -84.59310101559065,
          -97.7727199894249,
          -89.53095999999994,
          -84.67934199826762,
          -118.93277697215451,
          -77.28847901210584,
          -97.10314296982398,
          -82.76303500065721,
          -76.29478402263241,
          -106.50422597606862,
          -88.549072988587,
          -74.00626520347141,
          -80.16547499232249,
          -77.28847901210584,
          -97.12470499999996,
          -85.8070500408332,
          -77.28847901210584,
          -77.28847901210584,
          -77.28847901210584,
          -81.58715004175303,
          -85.26114599092917,
          -81.58715004175303,
          -95.24537999999995,
          -84.1272869725373,
          -76.13709402090734,
          -90.28719698557966,
          -105.94398916585686,
          -82.8846200382731,
          -82.8846200382731,
          -83.6566115847676,
          -89.42450896344357,
          -77.04324900034966,
          -85.06453302924733,
          -82.8846200382731,
          -82.8846200382731,
          -77.47751437073966,
          -122.30887304167676,
          -95.33888101360708,
          -82.8846200382731,
          -93.20177297722633,
          -74.00626520347141,
          -81.21295598392047,
          -71.0182009595531,
          -82.8846200382731,
          -92.53282602528708,
          -106.57876196623722,
          -122.22961502253526,
          -88.40338431075156,
          -77.55208701712642,
          -93.20177297722633,
          -82.8846200382731,
          -92.10913460561122,
          -94.7011340198578,
          -90.18537203324276,
          -86.30628999999999,
          -86.29422502885303,
          -93.20177297722633,
          -86.30628999999999,
          -86.29422502885303,
          -93.59644301868808,
          -82.09977483474638,
          -88.40338431075156,
          -82.8846200382731,
          -84.1661629938363,
          -98.39571097790996,
          -94.23999397747218,
          -77.55208701712642,
          -104.61145896679324,
          -81.57409389999998,
          -87.84874796301534,
          -88.40338431075156,
          -95.2244709689284,
          -100.76283390027808,
          -71.53621419999996,
          -75.89071065927423,
          -81.96475603709219,
          -82.8846200382731,
          -93.1535529779054,
          -84.1661629938363,
          -80.97998190006747,
          -82.31645901795312,
          -89.41531703314526,
          -105.514435,
          -75.54591880903855,
          -74.81929910788871,
          -109.24837499999995,
          -91.91290749692295,
          -97.65829999999994,
          -92.8674210915596,
          -77.2621715707994,
          -100.76283390027808,
          -82.8846200382731,
          -82.8846200382731,
          -97.22305598539442,
          -97.45646499999998,
          -83.54888301507984,
          -95.51401300146895,
          -97.1249675257824,
          -84.1661629938363,
          -73.33418694014391,
          -97.1249675257824,
          -76.5736053495545,
          -97.47655097277676,
          -83.2159460257813,
          -76.5736053495545,
          -75.91381429999996,
          -84.40878999999995,
          -105.06153397497792,
          -76.78609397112676,
          -81.71532501546449,
          -121.7462230388756,
          -73.2106043247214,
          -97.1249675257824,
          -85.67801902335044,
          -93.1510773271446,
          -71.95411102471598,
          -89.93433897846114,
          -84.90521999999999,
          -97.93267999999996,
          -92.89370802831544,
          -116.37375210931602,
          -83.56025398874667,
          -73.98485413472395,
          -111.83258397124362,
          -106.57876196623722,
          -73.98485413472395,
          -75.15213096288598,
          -94.32511455261398,
          -94.68292701741817,
          -85.70464627507342,
          -83.37115003884358,
          -88.03556499445604,
          -122.30729499999995,
          -94.16178999999994,
          -117.83152619999998,
          -92.3289619321256,
          -121.7462230388756,
          -93.45908650823826,
          -88.82260902264277,
          -85.67688998099271,
          -116.20325001711176,
          -98.2663450195763,
          -97.58243301770764,
          -74.47028199884588,
          -96.39315604064296
         ],
         "marker": {
          "color": [
           1,
           0,
           3,
           1,
           3,
           1,
           0,
           3,
           0,
           1,
           1,
           3,
           1,
           0,
           0,
           0,
           3,
           3,
           0,
           1,
           1,
           3,
           -1,
           1,
           0,
           1,
           1,
           0,
           3,
           1,
           3,
           3,
           2,
           3,
           0,
           0,
           3,
           0,
           0,
           0,
           0,
           0,
           3,
           0,
           0,
           0,
           0,
           0,
           2,
           3,
           1,
           3,
           2,
           3,
           3,
           1,
           3,
           2,
           2,
           3,
           3,
           0,
           2,
           3,
           0,
           3,
           2,
           0,
           0,
           0,
           2,
           2,
           3,
           2,
           2,
           2,
           3,
           2,
           0,
           0,
           0,
           3,
           0,
           3,
           2,
           0,
           2,
           2,
           2,
           2,
           2,
           2,
           2,
           2,
           2,
           3,
           2,
           2,
           3,
           2,
           2,
           2,
           3,
           2,
           2,
           2,
           2,
           1,
           2,
           2,
           3,
           3,
           2,
           2,
           2,
           3,
           0,
           3,
           0,
           1,
           2,
           2,
           0,
           2,
           2,
           0,
           3,
           2,
           0,
           2,
           1,
           3,
           2,
           2,
           1,
           2,
           2,
           2,
           2,
           2,
           2,
           2,
           0,
           2,
           2,
           2,
           2,
           2,
           0,
           2,
           2,
           1,
           2,
           2,
           2,
           1,
           2,
           3,
           0,
           2,
           0,
           3,
           2,
           2,
           3,
           2,
           3,
           2,
           1,
           1,
           2,
           1,
           0,
           2,
           0,
           1,
           0,
           2,
           0,
           2,
           2,
           2,
           2,
           0,
           0,
           1,
           1,
           2,
           2,
           1,
           1,
           2,
           2,
           1,
           2,
           1,
           1,
           2,
           2,
           1,
           3,
           2,
           2,
           2,
           2,
           3,
           3,
           2,
           2,
           2,
           2,
           2,
           2,
           2,
           2,
           2,
           2,
           2,
           2,
           0,
           2,
           3,
           1,
           2,
           2,
           2,
           3,
           2,
           0,
           1,
           2,
           2,
           0,
           3,
           3,
           2,
           0,
           2,
           2,
           2,
           2,
           0,
           3,
           2,
           2,
           2,
           0,
           2,
           0,
           1,
           2,
           2,
           2,
           0,
           2,
           2,
           1,
           2,
           2,
           2,
           2,
           0,
           0,
           2,
           1,
           2,
           2,
           2,
           0,
           2,
           2,
           2,
           0,
           2,
           1,
           2,
           2,
           2,
           2,
           2,
           2,
           2,
           2,
           0,
           2,
           1,
           2,
           2,
           2,
           2,
           1,
           1,
           2,
           2,
           2,
           2,
           2,
           2,
           2,
           3,
           0,
           2,
           2,
           2,
           3,
           3,
           1,
           3,
           2,
           2,
           2,
           1,
           2,
           2,
           0,
           2,
           2,
           2,
           2,
           -1,
           3,
           3,
           -1,
           3,
           -1,
           0,
           3,
           3,
           1,
           3,
           3,
           3,
           3,
           3,
           0,
           2,
           2,
           2,
           -1,
           3,
           3,
           0
          ],
          "colorscale": [
           [
            0,
            "red"
           ],
           [
            0.3333333333333333,
            "blue"
           ],
           [
            0.6666666666666666,
            "green"
           ],
           [
            1,
            "yellow"
           ]
          ],
          "opacity": 0.7,
          "size": [
           15780,
           10000,
           6400,
           5673,
           5673,
           5216,
           5035,
           4895,
           4652,
           3953,
           3000,
           2392,
           2347,
           2316,
           2150,
           2150,
           2122,
           2081,
           1985,
           1809,
           1678,
           1588,
           1537,
           1230,
           1189,
           1026,
           1007,
           1003,
           942,
           916,
           898,
           887,
           853,
           821,
           800,
           800,
           723,
           703,
           699,
           667,
           663,
           642,
           625,
           616,
           609,
           609,
           603,
           595,
           580,
           529,
           515,
           483,
           478,
           475,
           448,
           427,
           424,
           398,
           383,
           376,
           365,
           364,
           355,
           349,
           346,
           342,
           329,
           305,
           301,
           287,
           283,
           281,
           280,
           274,
           273,
           273,
           272,
           272,
           262,
           262,
           261,
           261,
           259,
           256,
           253,
           244,
           242,
           240,
           236,
           232,
           231,
           229,
           227,
           222,
           221,
           216,
           215,
           212,
           208,
           205,
           199,
           199,
           196,
           194,
           193,
           191,
           191,
           191,
           190,
           187,
           186,
           185,
           182,
           180,
           179,
           177,
           175,
           175,
           171,
           170,
           165,
           163,
           162,
           158,
           156,
           154,
           153,
           152,
           152,
           149,
           145,
           143,
           143,
           139,
           138,
           137,
           136,
           133,
           132,
           127,
           124,
           122,
           120,
           119,
           116,
           114,
           113,
           111,
           110,
           109,
           106,
           106,
           105,
           103,
           100,
           100,
           99,
           97,
           97,
           96,
           95,
           95,
           93,
           91,
           90,
           88,
           88,
           86,
           85,
           85,
           82,
           82,
           81,
           81,
           80,
           79,
           78,
           78,
           77,
           77,
           77,
           77,
           75,
           75,
           74,
           73,
           73,
           73,
           72,
           72,
           71,
           71,
           70,
           70,
           68,
           68,
           68,
           66,
           66,
           65,
           63,
           62,
           62,
           62,
           62,
           62,
           60,
           59,
           59,
           58,
           58,
           58,
           57,
           57,
           57,
           56,
           56,
           55,
           55,
           53,
           53,
           53,
           50,
           49,
           48,
           48,
           48,
           48,
           48,
           47,
           47,
           47,
           46,
           46,
           46,
           46,
           45,
           44,
           44,
           44,
           44,
           44,
           43,
           42,
           42,
           41,
           40,
           39,
           39,
           39,
           39,
           39,
           39,
           38,
           38,
           38,
           37,
           37,
           36,
           36,
           35,
           35,
           33,
           32,
           31,
           31,
           31,
           29,
           29,
           29,
           28,
           28,
           28,
           27,
           27,
           26,
           25,
           24,
           24,
           23,
           22,
           22,
           22,
           22,
           21,
           19,
           18,
           18,
           18,
           16,
           15,
           15,
           15,
           15,
           13,
           13,
           13,
           12,
           11,
           11,
           11,
           10,
           10,
           9,
           9,
           8,
           8,
           8,
           7,
           7,
           6,
           6,
           4,
           4,
           4,
           3,
           2,
           2,
           1,
           1,
           0,
           0,
           0,
           0,
           0,
           0,
           0,
           0,
           0,
           0,
           0,
           0,
           0,
           0,
           0,
           0,
           0,
           0,
           0,
           0,
           0,
           16
          ],
          "sizemin": 3,
          "sizemode": "area",
          "sizeref": 30,
          "symbol": "circle"
         },
         "mode": "markers",
         "text": [
          "Martha Holmes",
          "Elm Hill Labs Inc",
          "Santa Cruz Biotechnology Inc.",
          "Santa Cruz Biotechnology Inc.",
          "Santa Cruz Biotechnology Inc.",
          "Alpha Genesis Inc",
          "Envigo Rms Llc",
          "Oregon Health And Science University",
          "Envigo Rms Llc",
          "Perfect Birds L L C",
          "Alpha Genesis Inc",
          "University Of Puerto Rico",
          "Primate Products Inc",
          "The Mannheimer Foundation Inc",
          "Eugene Burkholder",
          "Eugene Burkholder",
          "University Of Wisconsin Madison",
          "Altasciences Preclinical Seattle Llc",
          "Texas Biomedical Research Institute",
          "Tyler Cleckley",
          "Quality Pets Inc.",
          "Labcorp Bedford Llc",
          "Northeast Area Beltsville Location",
          "Wilson Horse & Mule Sale Inc",
          "Oakwood Research Facility Inc",
          "Mount Hope Auction Inc",
          "Wilson Horse & Mule Sale Inc",
          "Vernon Zeiset",
          "University Of Georgia",
          "Pro Sci Inc.",
          "Intervet Inc",
          "University Of Washington",
          "Wild Wilderness Drive-Through Safari",
          "Wake Forest University",
          "Eugene Burkholder",
          "Eugene Burkholder",
          "University Of Georgia",
          "Craig Kokas",
          "Craig Kokas",
          "Malinda King David King",
          "Jesse Zook",
          "Craig Kokas",
          "University Of Washington",
          "Tyler Cleckley",
          "Tyler Cleckley",
          "Tyler Cleckley",
          "Daniel  Gingerich",
          "Craig Kokas",
          "Jon Conley Claude Conley",
          "University Of Colorado-Boulder",
          "Henry Hampton",
          "Pacific Biolabs",
          "Karl  Mogensen",
          "University Of Memphis",
          "Pacific Biolabs",
          "Janda Exotics Animal Ranch Llc",
          "North Carolina State University",
          "Hollywild Animal Park Inc",
          "Sally Reaves",
          "Lovelace Biomedical Research Institute",
          "University Of Oklahoma",
          "Moses Fisher",
          "Karl  Mogensen",
          "Florida State University",
          "Daniel  Gingerich",
          "Snbl Usa Ltd",
          "Chimp Haven Inc.",
          "Daniel  Gingerich",
          "Daniel  Gingerich",
          "David Petroski",
          "Jacksonville Zoological Society",
          "Arbuckle Adventures Llc",
          "Texas Biomedical Research Institute",
          "Arbuckle Adventures Llc",
          "Arbuckle Adventures Llc",
          "Clinton Wolston I I I",
          "Stanford University",
          "Arbuckle Adventures Llc",
          "Daniel  Gingerich",
          "Daniel  Gingerich",
          "Daniel  Gingerich",
          "Emory University",
          "Phil Weymouth & Yolanda Weymouth",
          "University Of North Carolina",
          "Hollywild Animal Park Inc",
          "Classy Creations",
          "Sally Reaves",
          "Save The Chimps Inc.",
          "Critter Barn",
          "Pymatuning Deer Park",
          "Pymatuning Deer Park",
          "Terry K Beal",
          "Pymatuning Deer Park",
          "Megan Guardiola",
          "Critter Barn",
          "Southern Research Institute",
          "Critter Barn",
          "Cheyenne Mountain Zoological Society",
          "University Of Wisconsin Madison",
          "Sally Reaves",
          "City Of Albuquerque",
          "Living Treasures Ii, Inc",
          "Equitech-Bio Inc.",
          "Thomas Sellner Pamela Sellner",
          "Joseph Maldonado Passage",
          "Clinton Wolston I I I",
          "Thomas Sellner Pamela Sellner",
          "Jurassic Pets L L C",
          "Clinton Wolston I I I",
          "Zoological Society Of Buffalo Inc",
          "Indiana University At Bloomington",
          "University Of Utah",
          "Montgomery Zoo",
          "Thomas Sellner Pamela Sellner",
          "Terrill Al-Saihati",
          "Lovelace Biomedical Research Institute",
          "Jerry Holly",
          "Oklahoma State University",
          "Pamela L. Baldwin",
          "Valleyview Premium Puppies",
          "Spirit Of The Hills Wildlife Sanctuary",
          "Thomas Sellner Pamela Sellner",
          "Jerry Holly",
          "Wilstem Inc.",
          "Jeffrey Lowe",
          "A G Beukelman",
          "Washington State University",
          "West Coast Game Park Inc",
          "Bob Loutsch Leslie Loutsch",
          "Wildlife Science Center",
          "Daniel Pradon Bobbi Pradon",
          "Oregon Health And Science University",
          "Zoologico De Puerto Rico Dr Juan A Rivero",
          "Noah'S Lost Ark, Inc.",
          "Daniel Pradon Bobbi Pradon",
          "Terrill Al-Saihati",
          "Wildlife World Zoo, Inc.",
          "Terrill Al-Saihati",
          "Richard Evola",
          "Nick Sculac",
          "Kirsty Lee L L C",
          "Indian Cliffs Ranch Inc.",
          "Fedler Ag Inc.",
          "Jason Clay",
          "Timothy Stark",
          "Briarwood Ranch",
          "Nick Sculac",
          "Nick Sculac",
          "David Petroski",
          "Hershey Entertainment And Resorts Co",
          "Norristown Zoological Society",
          "Daniel Pradon Bobbi Pradon",
          "Jessica Mason Janell Knudsen",
          "Kirsty Lee L L C",
          "John Mark Johnson",
          "Coastal Farms And Exotics",
          "Jessica Mason Janell Knudsen",
          "Blue Ridge Kennel",
          "Terri Naylor",
          "City Of Idaho Falls",
          "Sandstone Valley Llc",
          "T. B. Holdings L L C",
          "Arbuckle Adventures Llc",
          "Arbuckle Adventures Llc",
          "North Dakota State University",
          "Single Vision Inc.",
          "University Of Illinois At Urbana-Champaign",
          "Houston Interactive Aquarium And Animal Preserve",
          "Anton Hash",
          "A & A Exotics Llc",
          "Forest Park Zoological Society",
          "Thomas Edmonds",
          "Robert And Dawn Troupe",
          "William Meadows",
          "Ruth Hargrove",
          "Zoological Wildlife Foundation Inc",
          "Daniel Coblentz",
          "William Meadows",
          "Delmar Wagler",
          "South Texas Zoological Society",
          "William Meadows",
          "William Meadows",
          "Sally Reaves",
          "Deloris Richards Dick Richards",
          "S Glenice Viken",
          "David  Manser",
          "256 Exotics, Llc",
          "Kern County Superintendent Of Schools Calm",
          "Deer Haven Mini Zoo",
          "Kellie Caron Raegan Royale",
          "256 Exotics, Llc",
          "Javon Stacks",
          "Wild Things Zoofari Inc.",
          "Kellie Caron Raegan Royale",
          "Stump Hill Farm",
          "A & A Exotics Llc",
          "Frances Reed Higgins",
          "Richard Evola",
          "William Meadows",
          "Magnolia Stockyard",
          "Equitech-Bio Inc.",
          "Kern County Superintendent Of Schools Calm",
          "Deer Haven Mini Zoo",
          "Jeffrey Lowe",
          "Suncoast Primate Sanctuary Foundation Inc",
          "Eastern Virginia Medical School",
          "University Of Texas- El Paso",
          "Delavan Lake Animal Park",
          "Bailiwick Ranch Inc",
          "Festival Fun Parks Llc",
          "Deer Haven Mini Zoo",
          "City Of Clay Center",
          "Mike Mc Clelland",
          "Deer Haven Mini Zoo",
          "Deer Haven Mini Zoo",
          "Deer Haven Mini Zoo",
          "The Care Foundation",
          "April Cicchelli Ryan Cicchelli",
          "The Care Foundation",
          "Patricia Bingham",
          "Noahs Ark Animal Rehab Center And Sanctuary Inc",
          "Envigo Global Services Inc",
          "Aaron Hostetler",
          "City Of Alamogordo",
          "Summer Wind Farm Sanctuary",
          "Summer Wind Farm Sanctuary",
          "Lincoln Memorial University",
          "Shirley Farms",
          "Leon Nolt",
          "David  Manser",
          "Summer Wind Farm Sanctuary",
          "Summer Wind Farm Sanctuary",
          "Levi Hershberger",
          "Pi Bioscientific Inc.",
          "University Of Houston",
          "Summer Wind Farm Sanctuary",
          "Carolyn Anderson",
          "Bailiwick Ranch Inc",
          "Ms Leisure Company, Inc.",
          "Wildlife Encounters, Llc",
          "Summer Wind Farm Sanctuary",
          "Alta Z. Martin",
          "Lovelace Biomedical Research Institute",
          "Kirsty Lee L L C",
          "The Mobile Zoo",
          "Christy Davis",
          "Carolyn Anderson",
          "Summer Wind Farm Sanctuary",
          "Scott Swanson",
          "Jim Kramer",
          "St Louis Aquacenter Inc.",
          "Deer Forest Amusements Inc",
          "Deer Forest Exotic Animal Sanctuary",
          "Carolyn Anderson",
          "Deer Forest Amusements Inc",
          "Deer Forest Exotic Animal Sanctuary",
          "Billy Johnston Cheryl Ullrich",
          "Skunkie Acres Inc",
          "The Mobile Zoo",
          "Summer Wind Farm Sanctuary",
          "Robert Sawmiller",
          "Marilyn Soukup",
          "Wilma Jinson",
          "Christy Davis",
          "Jurassic Pets L L C",
          "Catty Shack Ranch Wildlife Sanctuary",
          "Memory Lane Stables",
          "The Mobile Zoo",
          "Ted Johnson",
          "City Of North Platte",
          "Squam Lakes Natural Science Center",
          "Thompson Park Conservancy, Inc",
          "Merle Miller",
          "Summer Wind Farm Sanctuary",
          "Gail Connolly Dennis Connolly",
          "Robert Sawmiller",
          "Sue Pearce",
          "Cy",
          "Rocking Dirt Road Farms Llc",
          "William Lee",
          "Fort Rickey Discovery Zoo",
          "Johnsons Corner Farm Llc",
          "Yellowstone Wildlife Sanctuary",
          "Clayton Yoder",
          "Ashley Clement Raegan Clement",
          "Josh L. Souza",
          "Union County Sportsmen'S Club Inc",
          "City Of North Platte",
          "Summer Wind Farm Sanctuary",
          "Summer Wind Farm Sanctuary",
          "Animal Source Texas Inc.",
          "Pam Reynolds",
          "Marek Lipold",
          "The Learning Zoo Llc",
          "Arbuckle Adventures Llc",
          "Robert Sawmiller",
          "Cindy Bardin",
          "Arbuckle Adventures Llc",
          "Grace & Glory Ministries",
          "Immuno-Mycologics Inc.",
          "Craig Kokas",
          "Grace & Glory Ministries",
          "Fragile Planet Wildlife Foundation",
          "Richard English",
          "Weston Educational Inc.",
          "Thomas D Morris Inc",
          "Gary Rosenblum",
          "University Of California Davis",
          "Larry Wallach",
          "Arbuckle Adventures Llc",
          "Roberta Locke Anthony Locke",
          "Vincent Losacco",
          "Sea Research Foundation, Inc",
          "Mcclain Lodge Llc",
          "Cheryl Rondy",
          "City Of Hutchinson",
          "Rodney Stahl",
          "The Living Desert Zoo And Gardens",
          "James Svoboda",
          "Turk Hava Yollari A O Turkish Airlines",
          "University Of Utah",
          "Lovelace Biomedical Research Institute",
          "Qatar Airways Cargo",
          "Temple University",
          "Renee Ray",
          "Barbara Hammen Martin Hammen",
          "Tuskegee University",
          "University Of Georgia",
          "Morgan Machnik",
          "University Of Washington",
          "University Of Arkansas Fayettville",
          "Allergan",
          "University Of Missouri-Columbia",
          "University Of California Davis",
          "Randy Stoen",
          "Wendy Russeff",
          "Timothy Stark",
          "Zoo Boise",
          "Ashley Ram",
          "Oklahoma State University - Oklahoma City",
          "R B H S New Jersey Medical School",
          "Nolan Den Boer Gina Den Boer"
         ],
         "type": "scattergeo"
        }
       ],
       "layout": {
        "geo": {
         "landcolor": "rgb(230,230,230)",
         "projection": {
          "type": "albers usa"
         },
         "scope": "usa",
         "showland": true,
         "subunitwidth": 0.5
        },
        "template": {
         "data": {
          "bar": [
           {
            "error_x": {
             "color": "#2a3f5f"
            },
            "error_y": {
             "color": "#2a3f5f"
            },
            "marker": {
             "line": {
              "color": "#E5ECF6",
              "width": 0.5
             },
             "pattern": {
              "fillmode": "overlay",
              "size": 10,
              "solidity": 0.2
             }
            },
            "type": "bar"
           }
          ],
          "barpolar": [
           {
            "marker": {
             "line": {
              "color": "#E5ECF6",
              "width": 0.5
             },
             "pattern": {
              "fillmode": "overlay",
              "size": 10,
              "solidity": 0.2
             }
            },
            "type": "barpolar"
           }
          ],
          "carpet": [
           {
            "aaxis": {
             "endlinecolor": "#2a3f5f",
             "gridcolor": "white",
             "linecolor": "white",
             "minorgridcolor": "white",
             "startlinecolor": "#2a3f5f"
            },
            "baxis": {
             "endlinecolor": "#2a3f5f",
             "gridcolor": "white",
             "linecolor": "white",
             "minorgridcolor": "white",
             "startlinecolor": "#2a3f5f"
            },
            "type": "carpet"
           }
          ],
          "choropleth": [
           {
            "colorbar": {
             "outlinewidth": 0,
             "ticks": ""
            },
            "type": "choropleth"
           }
          ],
          "contour": [
           {
            "colorbar": {
             "outlinewidth": 0,
             "ticks": ""
            },
            "colorscale": [
             [
              0,
              "#0d0887"
             ],
             [
              0.1111111111111111,
              "#46039f"
             ],
             [
              0.2222222222222222,
              "#7201a8"
             ],
             [
              0.3333333333333333,
              "#9c179e"
             ],
             [
              0.4444444444444444,
              "#bd3786"
             ],
             [
              0.5555555555555556,
              "#d8576b"
             ],
             [
              0.6666666666666666,
              "#ed7953"
             ],
             [
              0.7777777777777778,
              "#fb9f3a"
             ],
             [
              0.8888888888888888,
              "#fdca26"
             ],
             [
              1,
              "#f0f921"
             ]
            ],
            "type": "contour"
           }
          ],
          "contourcarpet": [
           {
            "colorbar": {
             "outlinewidth": 0,
             "ticks": ""
            },
            "type": "contourcarpet"
           }
          ],
          "heatmap": [
           {
            "colorbar": {
             "outlinewidth": 0,
             "ticks": ""
            },
            "colorscale": [
             [
              0,
              "#0d0887"
             ],
             [
              0.1111111111111111,
              "#46039f"
             ],
             [
              0.2222222222222222,
              "#7201a8"
             ],
             [
              0.3333333333333333,
              "#9c179e"
             ],
             [
              0.4444444444444444,
              "#bd3786"
             ],
             [
              0.5555555555555556,
              "#d8576b"
             ],
             [
              0.6666666666666666,
              "#ed7953"
             ],
             [
              0.7777777777777778,
              "#fb9f3a"
             ],
             [
              0.8888888888888888,
              "#fdca26"
             ],
             [
              1,
              "#f0f921"
             ]
            ],
            "type": "heatmap"
           }
          ],
          "heatmapgl": [
           {
            "colorbar": {
             "outlinewidth": 0,
             "ticks": ""
            },
            "colorscale": [
             [
              0,
              "#0d0887"
             ],
             [
              0.1111111111111111,
              "#46039f"
             ],
             [
              0.2222222222222222,
              "#7201a8"
             ],
             [
              0.3333333333333333,
              "#9c179e"
             ],
             [
              0.4444444444444444,
              "#bd3786"
             ],
             [
              0.5555555555555556,
              "#d8576b"
             ],
             [
              0.6666666666666666,
              "#ed7953"
             ],
             [
              0.7777777777777778,
              "#fb9f3a"
             ],
             [
              0.8888888888888888,
              "#fdca26"
             ],
             [
              1,
              "#f0f921"
             ]
            ],
            "type": "heatmapgl"
           }
          ],
          "histogram": [
           {
            "marker": {
             "pattern": {
              "fillmode": "overlay",
              "size": 10,
              "solidity": 0.2
             }
            },
            "type": "histogram"
           }
          ],
          "histogram2d": [
           {
            "colorbar": {
             "outlinewidth": 0,
             "ticks": ""
            },
            "colorscale": [
             [
              0,
              "#0d0887"
             ],
             [
              0.1111111111111111,
              "#46039f"
             ],
             [
              0.2222222222222222,
              "#7201a8"
             ],
             [
              0.3333333333333333,
              "#9c179e"
             ],
             [
              0.4444444444444444,
              "#bd3786"
             ],
             [
              0.5555555555555556,
              "#d8576b"
             ],
             [
              0.6666666666666666,
              "#ed7953"
             ],
             [
              0.7777777777777778,
              "#fb9f3a"
             ],
             [
              0.8888888888888888,
              "#fdca26"
             ],
             [
              1,
              "#f0f921"
             ]
            ],
            "type": "histogram2d"
           }
          ],
          "histogram2dcontour": [
           {
            "colorbar": {
             "outlinewidth": 0,
             "ticks": ""
            },
            "colorscale": [
             [
              0,
              "#0d0887"
             ],
             [
              0.1111111111111111,
              "#46039f"
             ],
             [
              0.2222222222222222,
              "#7201a8"
             ],
             [
              0.3333333333333333,
              "#9c179e"
             ],
             [
              0.4444444444444444,
              "#bd3786"
             ],
             [
              0.5555555555555556,
              "#d8576b"
             ],
             [
              0.6666666666666666,
              "#ed7953"
             ],
             [
              0.7777777777777778,
              "#fb9f3a"
             ],
             [
              0.8888888888888888,
              "#fdca26"
             ],
             [
              1,
              "#f0f921"
             ]
            ],
            "type": "histogram2dcontour"
           }
          ],
          "mesh3d": [
           {
            "colorbar": {
             "outlinewidth": 0,
             "ticks": ""
            },
            "type": "mesh3d"
           }
          ],
          "parcoords": [
           {
            "line": {
             "colorbar": {
              "outlinewidth": 0,
              "ticks": ""
             }
            },
            "type": "parcoords"
           }
          ],
          "pie": [
           {
            "automargin": true,
            "type": "pie"
           }
          ],
          "scatter": [
           {
            "fillpattern": {
             "fillmode": "overlay",
             "size": 10,
             "solidity": 0.2
            },
            "type": "scatter"
           }
          ],
          "scatter3d": [
           {
            "line": {
             "colorbar": {
              "outlinewidth": 0,
              "ticks": ""
             }
            },
            "marker": {
             "colorbar": {
              "outlinewidth": 0,
              "ticks": ""
             }
            },
            "type": "scatter3d"
           }
          ],
          "scattercarpet": [
           {
            "marker": {
             "colorbar": {
              "outlinewidth": 0,
              "ticks": ""
             }
            },
            "type": "scattercarpet"
           }
          ],
          "scattergeo": [
           {
            "marker": {
             "colorbar": {
              "outlinewidth": 0,
              "ticks": ""
             }
            },
            "type": "scattergeo"
           }
          ],
          "scattergl": [
           {
            "marker": {
             "colorbar": {
              "outlinewidth": 0,
              "ticks": ""
             }
            },
            "type": "scattergl"
           }
          ],
          "scattermapbox": [
           {
            "marker": {
             "colorbar": {
              "outlinewidth": 0,
              "ticks": ""
             }
            },
            "type": "scattermapbox"
           }
          ],
          "scatterpolar": [
           {
            "marker": {
             "colorbar": {
              "outlinewidth": 0,
              "ticks": ""
             }
            },
            "type": "scatterpolar"
           }
          ],
          "scatterpolargl": [
           {
            "marker": {
             "colorbar": {
              "outlinewidth": 0,
              "ticks": ""
             }
            },
            "type": "scatterpolargl"
           }
          ],
          "scatterternary": [
           {
            "marker": {
             "colorbar": {
              "outlinewidth": 0,
              "ticks": ""
             }
            },
            "type": "scatterternary"
           }
          ],
          "surface": [
           {
            "colorbar": {
             "outlinewidth": 0,
             "ticks": ""
            },
            "colorscale": [
             [
              0,
              "#0d0887"
             ],
             [
              0.1111111111111111,
              "#46039f"
             ],
             [
              0.2222222222222222,
              "#7201a8"
             ],
             [
              0.3333333333333333,
              "#9c179e"
             ],
             [
              0.4444444444444444,
              "#bd3786"
             ],
             [
              0.5555555555555556,
              "#d8576b"
             ],
             [
              0.6666666666666666,
              "#ed7953"
             ],
             [
              0.7777777777777778,
              "#fb9f3a"
             ],
             [
              0.8888888888888888,
              "#fdca26"
             ],
             [
              1,
              "#f0f921"
             ]
            ],
            "type": "surface"
           }
          ],
          "table": [
           {
            "cells": {
             "fill": {
              "color": "#EBF0F8"
             },
             "line": {
              "color": "white"
             }
            },
            "header": {
             "fill": {
              "color": "#C8D4E3"
             },
             "line": {
              "color": "white"
             }
            },
            "type": "table"
           }
          ]
         },
         "layout": {
          "annotationdefaults": {
           "arrowcolor": "#2a3f5f",
           "arrowhead": 0,
           "arrowwidth": 1
          },
          "autotypenumbers": "strict",
          "coloraxis": {
           "colorbar": {
            "outlinewidth": 0,
            "ticks": ""
           }
          },
          "colorscale": {
           "diverging": [
            [
             0,
             "#8e0152"
            ],
            [
             0.1,
             "#c51b7d"
            ],
            [
             0.2,
             "#de77ae"
            ],
            [
             0.3,
             "#f1b6da"
            ],
            [
             0.4,
             "#fde0ef"
            ],
            [
             0.5,
             "#f7f7f7"
            ],
            [
             0.6,
             "#e6f5d0"
            ],
            [
             0.7,
             "#b8e186"
            ],
            [
             0.8,
             "#7fbc41"
            ],
            [
             0.9,
             "#4d9221"
            ],
            [
             1,
             "#276419"
            ]
           ],
           "sequential": [
            [
             0,
             "#0d0887"
            ],
            [
             0.1111111111111111,
             "#46039f"
            ],
            [
             0.2222222222222222,
             "#7201a8"
            ],
            [
             0.3333333333333333,
             "#9c179e"
            ],
            [
             0.4444444444444444,
             "#bd3786"
            ],
            [
             0.5555555555555556,
             "#d8576b"
            ],
            [
             0.6666666666666666,
             "#ed7953"
            ],
            [
             0.7777777777777778,
             "#fb9f3a"
            ],
            [
             0.8888888888888888,
             "#fdca26"
            ],
            [
             1,
             "#f0f921"
            ]
           ],
           "sequentialminus": [
            [
             0,
             "#0d0887"
            ],
            [
             0.1111111111111111,
             "#46039f"
            ],
            [
             0.2222222222222222,
             "#7201a8"
            ],
            [
             0.3333333333333333,
             "#9c179e"
            ],
            [
             0.4444444444444444,
             "#bd3786"
            ],
            [
             0.5555555555555556,
             "#d8576b"
            ],
            [
             0.6666666666666666,
             "#ed7953"
            ],
            [
             0.7777777777777778,
             "#fb9f3a"
            ],
            [
             0.8888888888888888,
             "#fdca26"
            ],
            [
             1,
             "#f0f921"
            ]
           ]
          },
          "colorway": [
           "#636efa",
           "#EF553B",
           "#00cc96",
           "#ab63fa",
           "#FFA15A",
           "#19d3f3",
           "#FF6692",
           "#B6E880",
           "#FF97FF",
           "#FECB52"
          ],
          "font": {
           "color": "#2a3f5f"
          },
          "geo": {
           "bgcolor": "white",
           "lakecolor": "white",
           "landcolor": "#E5ECF6",
           "showlakes": true,
           "showland": true,
           "subunitcolor": "white"
          },
          "hoverlabel": {
           "align": "left"
          },
          "hovermode": "closest",
          "mapbox": {
           "style": "light"
          },
          "paper_bgcolor": "white",
          "plot_bgcolor": "#E5ECF6",
          "polar": {
           "angularaxis": {
            "gridcolor": "white",
            "linecolor": "white",
            "ticks": ""
           },
           "bgcolor": "#E5ECF6",
           "radialaxis": {
            "gridcolor": "white",
            "linecolor": "white",
            "ticks": ""
           }
          },
          "scene": {
           "xaxis": {
            "backgroundcolor": "#E5ECF6",
            "gridcolor": "white",
            "gridwidth": 2,
            "linecolor": "white",
            "showbackground": true,
            "ticks": "",
            "zerolinecolor": "white"
           },
           "yaxis": {
            "backgroundcolor": "#E5ECF6",
            "gridcolor": "white",
            "gridwidth": 2,
            "linecolor": "white",
            "showbackground": true,
            "ticks": "",
            "zerolinecolor": "white"
           },
           "zaxis": {
            "backgroundcolor": "#E5ECF6",
            "gridcolor": "white",
            "gridwidth": 2,
            "linecolor": "white",
            "showbackground": true,
            "ticks": "",
            "zerolinecolor": "white"
           }
          },
          "shapedefaults": {
           "line": {
            "color": "#2a3f5f"
           }
          },
          "ternary": {
           "aaxis": {
            "gridcolor": "white",
            "linecolor": "white",
            "ticks": ""
           },
           "baxis": {
            "gridcolor": "white",
            "linecolor": "white",
            "ticks": ""
           },
           "bgcolor": "#E5ECF6",
           "caxis": {
            "gridcolor": "white",
            "linecolor": "white",
            "ticks": ""
           }
          },
          "title": {
           "x": 0.05
          },
          "xaxis": {
           "automargin": true,
           "gridcolor": "white",
           "linecolor": "white",
           "ticks": "",
           "title": {
            "standoff": 15
           },
           "zerolinecolor": "white",
           "zerolinewidth": 2
          },
          "yaxis": {
           "automargin": true,
           "gridcolor": "white",
           "linecolor": "white",
           "ticks": "",
           "title": {
            "standoff": 15
           },
           "zerolinecolor": "white",
           "zerolinewidth": 2
          }
         }
        },
        "title": {
         "text": "U.S. Animal Welfare Inspections 2014-2022<br><sup>All reports that found 2+ critical issues or 8+ non-critical ones</sup>"
        }
       }
      }
     },
     "metadata": {},
     "output_type": "display_data"
    }
   ],
   "source": [
    "# Start with the map\n",
    "\n",
    "title = (\"U.S. Animal Welfare Inspections 2014-2022<br>\" +\n",
    "        \"<sup>All reports that found 2+ critical issues or 8+ non-critical ones</sup>\")\n",
    "geo = dict(\n",
    "    scope ='usa',\n",
    "    projection_type='albers usa',\n",
    "    showland = True,\n",
    "    landcolor = 'rgb(230,230,230)',\n",
    "    subunitwidth = 0.5,\n",
    "    \n",
    ")\n",
    "\n",
    "fig.update_layout(title=title,geo=geo)"
   ]
  },
  {
   "cell_type": "code",
   "execution_count": 100,
   "metadata": {},
   "outputs": [
    {
     "data": {
      "application/vnd.plotly.v1+json": {
       "config": {
        "plotlyServerURL": "https://plot.ly"
       },
       "data": [
        {
         "customdata": [
          [
           0,
           2,
           2,
           2,
           2,
           2,
           3,
           2,
           0,
           1,
           3,
           2,
           3,
           2,
           2,
           2,
           3,
           4,
           2,
           0,
           2,
           2,
           2,
           1,
           2,
           1,
           1,
           0,
           2,
           0,
           2,
           2,
           0,
           3,
           2,
           2,
           2,
           1,
           1,
           0,
           2,
           0,
           2,
           0,
           0,
           0,
           1,
           0,
           1,
           2,
           0,
           2,
           0,
           3,
           2,
           0,
           2,
           3,
           1,
           3,
           2,
           0,
           0,
           2,
           0,
           2,
           2,
           0,
           0,
           0,
           2,
           4,
           2,
           8,
           4,
           0,
           3,
           2,
           0,
           1,
           0,
           2,
           0,
           2,
           0,
           0,
           0,
           2,
           0,
           3,
           0,
           1,
           5,
           0,
           0,
           3,
           0,
           0,
           2,
           1,
           2,
           1,
           3,
           0,
           4,
           1,
           0,
           2,
           2,
           2,
           2,
           2,
           0,
           0,
           0,
           2,
           1,
           3,
           0,
           0,
           0,
           0,
           0,
           3,
           0,
           0,
           2,
           4,
           0,
           2,
           2,
           2,
           0,
           0,
           0,
           0,
           0,
           0,
           0,
           0,
           1,
           3,
           0,
           0,
           2,
           0,
           1,
           1,
           2,
           2,
           2,
           2,
           0,
           0,
           0,
           5,
           0,
           0,
           0,
           3,
           3,
           2,
           4,
           2,
           2,
           2,
           2,
           2,
           1,
           1,
           0,
           0,
           2,
           2,
           0,
           2,
           0,
           3,
           2,
           2,
           2,
           5,
           3,
           0,
           2,
           0,
           0,
           3,
           1,
           2,
           2,
           0,
           0,
           2,
           1,
           0,
           2,
           0,
           6,
           0,
           2,
           2,
           0,
           0,
           2,
           2,
           2,
           2,
           2,
           3,
           3,
           0,
           0,
           4,
           0,
           1,
           0,
           1,
           0,
           0,
           1,
           2,
           2,
           2,
           1,
           1,
           0,
           0,
           2,
           0,
           1,
           1,
           2,
           0,
           3,
           1,
           1,
           0,
           4,
           2,
           3,
           0,
           2,
           0,
           1,
           0,
           0,
           2,
           0,
           2,
           1,
           0,
           0,
           0,
           0,
           0,
           3,
           1,
           0,
           2,
           0,
           0,
           0,
           0,
           3,
           3,
           2,
           0,
           0,
           4,
           2,
           3,
           0,
           1,
           0,
           0,
           0,
           3,
           0,
           3,
           2,
           2,
           2,
           0,
           2,
           0,
           0,
           3,
           1,
           1,
           2,
           0,
           1,
           2,
           2,
           2,
           3,
           2,
           2,
           2,
           2,
           2,
           3,
           2,
           3,
           2,
           2,
           4,
           2,
           2,
           0,
           4,
           3,
           2,
           2,
           3,
           2,
           2,
           3,
           2,
           2,
           2,
           2,
           2,
           2,
           2,
           2,
           2,
           3,
           2,
           2,
           2,
           2,
           3,
           2,
           3,
           2,
           2,
           2,
           5,
           2,
           0
          ],
          [
           13,
           0,
           3,
           1,
           1,
           5,
           8,
           2,
           12,
           10,
           0,
           0,
           5,
           1,
           0,
           0,
           2,
           0,
           0,
           12,
           0,
           3,
           1,
           10,
           8,
           10,
           13,
           9,
           1,
           10,
           0,
           2,
           9,
           2,
           0,
           0,
           1,
           9,
           10,
           9,
           6,
           10,
           1,
           21,
           12,
           11,
           31,
           11,
           9,
           0,
           12,
           0,
           23,
           6,
           0,
           9,
           2,
           14,
           10,
           3,
           2,
           9,
           11,
           0,
           15,
           0,
           1,
           22,
           16,
           9,
           1,
           3,
           1,
           3,
           3,
           18,
           2,
           1,
           18,
           16,
           10,
           0,
           10,
           1,
           9,
           11,
           9,
           2,
           9,
           8,
           10,
           15,
           7,
           10,
           10,
           0,
           10,
           12,
           0,
           9,
           0,
           16,
           6,
           12,
           2,
           9,
           10,
           1,
           1,
           1,
           0,
           0,
           11,
           13,
           9,
           2,
           10,
           0,
           14,
           16,
           15,
           16,
           10,
           5,
           11,
           9,
           1,
           1,
           9,
           1,
           8,
           2,
           10,
           13,
           9,
           9,
           9,
           9,
           10,
           11,
           10,
           3,
           9,
           11,
           0,
           9,
           12,
           11,
           4,
           1,
           2,
           10,
           13,
           12,
           10,
           5,
           11,
           12,
           9,
           3,
           2,
           4,
           5,
           9,
           1,
           2,
           0,
           3,
           13,
           9,
           12,
           11,
           1,
           2,
           9,
           1,
           16,
           0,
           0,
           0,
           8,
           12,
           5,
           10,
           9,
           9,
           11,
           0,
           19,
           3,
           7,
           9,
           10,
           1,
           13,
           13,
           7,
           15,
           3,
           9,
           3,
           0,
           12,
           13,
           7,
           0,
           1,
           1,
           2,
           3,
           12,
           13,
           9,
           19,
           11,
           12,
           11,
           12,
           9,
           10,
           9,
           6,
           0,
           2,
           9,
           9,
           10,
           9,
           2,
           9,
           11,
           10,
           2,
           9,
           2,
           10,
           14,
           9,
           0,
           2,
           10,
           9,
           1,
           9,
           13,
           11,
           9,
           14,
           10,
           0,
           9,
           16,
           16,
           11,
           14,
           14,
           0,
           10,
           12,
           5,
           10,
           11,
           9,
           9,
           1,
           2,
           4,
           11,
           9,
           1,
           4,
           3,
           10,
           9,
           14,
           14,
           9,
           0,
           11,
           1,
           5,
           2,
           0,
           11,
           0,
           12,
           9,
           0,
           10,
           12,
           0,
           9,
           12,
           0,
           2,
           2,
           2,
           3,
           3,
           1,
           0,
           3,
           0,
           1,
           3,
           1,
           0,
           0,
           0,
           0,
           9,
           1,
           2,
           0,
           0,
           0,
           1,
           0,
           0,
           0,
           1,
           0,
           0,
           0,
           0,
           1,
           2,
           0,
           0,
           0,
           0,
           5,
           0,
           0,
           0,
           1,
           0,
           0,
           0,
           0,
           0,
           10
          ]
         ],
         "lat": [
          40.369659010493024,
          42.583943085085565,
          36.954651003216696,
          36.954651003216696,
          36.954651003216696,
          32.68081798343026,
          39.909484018529525,
          45.49907798203597,
          39.909484018529525,
          30.83478901108484,
          32.68081798343026,
          18.417640000000063,
          26.26166702074076,
          25.434923994091776,
          38.113195327070805,
          38.113195327070805,
          43.07372698237828,
          47.93832098037856,
          29.4393909727128,
          29.651519008749872,
          35.45037699185795,
          42.47841002069339,
          39.02383192642892,
          36.10825601783965,
          42.82219500000008,
          40.62414000000007,
          36.10825601783965,
          38.4361000025813,
          33.94265998804134,
          32.93754800825266,
          40.75885998586139,
          47.65037000000007,
          36.29635904277505,
          36.08955178691299,
          38.113195327070805,
          38.113195327070805,
          33.94265998804134,
          40.52659598203684,
          40.52659598203684,
          39.855639007806616,
          39.93561472326049,
          40.52659598203684,
          47.65037000000007,
          29.651519008749872,
          29.651519008749872,
          29.651519008749872,
          40.62287999346054,
          40.52659598203684,
          35.76842600282674,
          40.02685798799007,
          35.65749499278958,
          38.02105401550469,
          37.64716370000008,
          35.12152027566615,
          38.02105401550469,
          29.727370999626515,
          35.785510000000045,
          35.0255289976604,
          43.14835613740067,
          35.056133002534565,
          35.468270000000075,
          40.98860899963816,
          37.64716370000008,
          30.44440199641716,
          40.62287999346054,
          47.93832098037856,
          32.2545526878344,
          40.62287999346054,
          40.62287999346054,
          40.66198375622479,
          30.403978005239736,
          34.44788691979775,
          29.41432160000005,
          34.44788691979775,
          34.44788691979775,
          29.43591728897649,
          37.42086100737605,
          34.44788691979775,
          40.62287999346054,
          40.62287999346054,
          40.62287999346054,
          33.79815099006433,
          35.30091596548488,
          35.91017631193181,
          35.0255289976604,
          43.06496500000003,
          43.14835613740067,
          27.374507008000023,
          42.78443699366619,
          41.4845390112533,
          41.4845390112533,
          35.58915100786329,
          41.4845390112533,
          32.53895100324365,
          42.78443699366619,
          33.50369401904926,
          42.78443699366619,
          38.77110698668804,
          43.07372698237828,
          43.14835613740067,
          35.07809199629263,
          40.10708500000004,
          39.52551699687052,
          42.48335199080563,
          42.229798497739154,
          29.43591728897649,
          42.48335199080563,
          39.96129398698048,
          29.43591728897649,
          42.93824089687848,
          39.173950012388616,
          40.76786198223377,
          32.38457500000004,
          42.48335199080563,
          32.60091773128008,
          35.056133002534565,
          38.74576849338868,
          36.13048272419477,
          37.65225098824699,
          41.53769020994088,
          44.4723960126156,
          42.48335199080563,
          38.74576849338868,
          38.54671500000006,
          33.75956900592874,
          43.02767299256644,
          46.72984507900003,
          43.00896399794564,
          42.7874010022671,
          45.3829910118985,
          31.827552980663043,
          45.49907798203597,
          18.464000000000052,
          40.99611901724529,
          31.827552980663043,
          32.60091773128008,
          33.55050221250882,
          32.60091773128008,
          41.758372016138566,
          38.996844002509874,
          47.748668015817486,
          31.506210000000067,
          40.725777997041945,
          31.00805300800505,
          38.48738798801199,
          36.03610300274384,
          38.996844002509874,
          38.996844002509874,
          40.66198375622479,
          40.28761400854569,
          40.13244698919651,
          31.827552980663043,
          37.03240000000005,
          47.748668015817486,
          34.43652901539417,
          30.86954963848484,
          37.03240000000005,
          32.539810000000045,
          40.64737199835824,
          43.49700500000006,
          43.969565000000046,
          37.49637399217876,
          34.44788691979775,
          34.44788691979775,
          46.90187136964028,
          29.75921099994295,
          40.10710000000006,
          29.93901732422094,
          40.2015159792274,
          30.12698699260456,
          42.07766000000004,
          39.238762994873696,
          35.031212700000026,
          35.25349798856932,
          35.74663171376892,
          25.614738993167293,
          42.448341996617785,
          35.25349798856932,
          38.72483401965576,
          28.80874999277701,
          35.25349798856932,
          35.25349798856932,
          43.14835613740067,
          44.4151989949938,
          48.8109099999121,
          35.446426014158135,
          34.82216101829995,
          35.428112980643334,
          39.57227800021519,
          46.07447899695228,
          34.82216101829995,
          42.22772729294535,
          30.494034262604103,
          46.07447899695228,
          40.74616999400135,
          30.12698699260456,
          32.78793698772226,
          41.758372016138566,
          35.25349798856932,
          32.73721500000005,
          39.52551699687052,
          35.428112980643334,
          39.57227800021519,
          33.75956900592874,
          28.118867016452768,
          36.85643601084894,
          31.77039699245728,
          42.601567000430805,
          42.21646519481041,
          25.73159097960759,
          39.57227800021519,
          39.38037500000007,
          31.874248018429725,
          39.57227800021519,
          39.57227800021519,
          39.57227800021519,
          28.730281004090926,
          44.26739800454462,
          28.730281004090926,
          29.42381000000006,
          33.3053180078535,
          40.26323800918797,
          45.04331698410368,
          32.89880345992812,
          43.23116301243712,
          43.23116301243712,
          36.58059770680676,
          36.26126900141186,
          42.54712100725021,
          35.446426014158135,
          43.23116301243712,
          43.23116301243712,
          42.11031507730343,
          47.69012901358778,
          29.71652301480832,
          43.23116301243712,
          43.15795500909815,
          42.21646519481041,
          29.669317016224056,
          43.19944199323629,
          43.23116301243712,
          43.09641499216502,
          35.056133002534565,
          47.748668015817486,
          30.824257392643894,
          37.65005798900968,
          43.15795500909815,
          43.23116301243712,
          41.22280668695454,
          37.62604199239334,
          38.631350988816166,
          42.18644000000006,
          42.20828102073085,
          43.15795500909815,
          42.18644000000006,
          42.20828102073085,
          39.81785301110608,
          29.39792368998654,
          30.824257392643894,
          43.23116301243712,
          40.59615299599065,
          38.83621698191215,
          36.71532000727734,
          37.65005798900968,
          39.96129398698048,
          30.46341970000003,
          41.74009200732229,
          30.824257392643894,
          43.94092300158968,
          41.13053764882066,
          43.71846750000003,
          43.96136964855779,
          40.6398150001838,
          43.23116301243712,
          41.27941799875322,
          40.59615299599065,
          27.20239486856311,
          39.193022991154805,
          36.04941501563853,
          39.74205500000005,
          43.22412636281183,
          39.90062371515877,
          45.18533500000007,
          36.57963456803587,
          35.13843990000004,
          37.63346381480928,
          40.85857127367453,
          41.13053764882066,
          43.23116301243712,
          43.23116301243712,
          33.26580198633755,
          39.80096000000003,
          33.949423010437485,
          30.201571011078343,
          34.44788691979775,
          40.59615299599065,
          43.372466267725656,
          34.44788691979775,
          43.4005646283741,
          35.2512489982188,
          40.52659598203684,
          43.4005646283741,
          44.33480990000004,
          39.99676830000004,
          39.78243900918514,
          39.54471800920774,
          26.061239999747485,
          38.53552198900633,
          40.82408891816598,
          34.44788691979775,
          38.536784010257946,
          40.21087742479512,
          41.373696011199485,
          32.39749800525489,
          43.40240500000005,
          38.05725000000007,
          42.43783699927752,
          33.72536278716445,
          44.31434399649237,
          40.74837682337889,
          40.76786198223377,
          35.056133002534565,
          40.74837682337889,
          40.00697301235374,
          36.84988235564765,
          42.474376984161495,
          32.429900226234615,
          33.94265998804134,
          42.9739719829401,
          47.65037000000007,
          36.06487500000003,
          33.68570650000004,
          38.94440827213181,
          38.53552198900633,
          42.66338294961648,
          42.35180900076023,
          38.48738798801199,
          43.60808600839604,
          29.577221986640808,
          35.46910899480298,
          40.52574899072096,
          43.17552901020997
         ],
         "lon": [
          -75.54738698319876,
          -71.38845854037835,
          -122.0516539747136,
          -122.0516539747136,
          -122.0516539747136,
          -80.84191402459606,
          -86.08529100477942,
          -122.68543196967124,
          -86.08529100477942,
          -87.14930898842836,
          -80.84191402459606,
          -66.07602999999995,
          -81.21244301144613,
          -80.51921997243502,
          -88.76722714713446,
          -88.76722714713446,
          -89.4155610303467,
          -122.26699898124998,
          -98.64078952182992,
          -95.5828480401928,
          -97.55502696035198,
          -71.2624757696234,
          -76.9234678425904,
          -85.53611801263696,
          -83.26514499999996,
          -81.78471999999994,
          -85.53611801263696,
          -92.66509002664364,
          -83.37115003884358,
          -117.04065302249074,
          -74.43685002365935,
          -122.30729499999995,
          -94.49612431903188,
          -80.27134686918126,
          -88.76722714713446,
          -88.76722714713446,
          -83.37115003884358,
          -83.2159460257813,
          -83.2159460257813,
          -76.03780099006268,
          -76.1643602240608,
          -83.2159460257813,
          -122.30729499999995,
          -95.5828480401928,
          -95.5828480401928,
          -95.5828480401928,
          -93.14892398805772,
          -83.2159460257813,
          -89.12494896404675,
          -105.246008013024,
          -80.72953298721906,
          -122.27938600921976,
          -79.52853359999995,
          -89.93956024336576,
          -122.27938600921976,
          -97.80409202808704,
          -78.64266999999995,
          -82.14455397899475,
          -77.24719109816812,
          -106.57876196623722,
          -97.50040499999994,
          -77.42192997477107,
          -79.52853359999995,
          -84.3018570376103,
          -93.14892398805772,
          -122.26699898124998,
          -93.94438774667312,
          -93.14892398805772,
          -93.14892398805772,
          -77.13163282467417,
          -81.64370601141998,
          -97.1249675257824,
          -98.67414449999995,
          -97.1249675257824,
          -97.1249675257824,
          -95.17092198281073,
          -122.1413339684444,
          -97.1249675257824,
          -93.14892398805772,
          -93.14892398805772,
          -93.14892398805772,
          -84.31528501413543,
          -93.56662984637852,
          -79.04514332145452,
          -82.14455397899475,
          -76.99032999999997,
          -77.24719109816812,
          -80.37575994199995,
          -86.0102980332497,
          -80.42084702310191,
          -80.42084702310191,
          -81.14052795858147,
          -80.42084702310191,
          -96.77590098081896,
          -86.0102980332497,
          -86.79741498399406,
          -86.0102980332497,
          -104.85465402009648,
          -89.4155610303467,
          -77.24719109816812,
          -106.66230799940524,
          -79.37676499999998,
          -84.67934199826762,
          -91.50736001856036,
          -70.98071742382865,
          -95.17092198281073,
          -91.50736001856036,
          -104.61145896679324,
          -95.17092198281073,
          -78.85074562275032,
          -86.52268603747835,
          -111.83258397124362,
          -86.26047999999997,
          -91.50736001856036,
          -114.61518541095955,
          -106.57876196623722,
          -76.77707764169996,
          -97.05920095433392,
          -91.81194304107314,
          -91.63484398817404,
          -103.8973830099671,
          -91.50736001856036,
          -76.77707764169996,
          -86.61907999999994,
          -97.10314296982398,
          -96.12993703974874,
          -117.15810286899996,
          -124.41741102580792,
          -95.87567301275008,
          -93.04786296237626,
          -102.4755979899669,
          -122.68543196967124,
          -66.11277999999999,
          -80.98620496736197,
          -102.4755979899669,
          -114.61518541095955,
          -112.41659030896452,
          -114.61518541095955,
          -84.59310101559065,
          -104.37669300678031,
          -122.22961502253526,
          -106.16194499999996,
          -91.46835298811476,
          -96.52096799412789,
          -85.67688998099271,
          -83.86196503595541,
          -104.37669300678031,
          -104.37669300678031,
          -77.13163282467417,
          -76.65608696483825,
          -75.33736647914395,
          -102.4755979899669,
          -100.92679999999996,
          -122.22961502253526,
          -88.72041996043195,
          -88.22040001257508,
          -100.92679999999996,
          -86.21069499999999,
          -93.6352850094602,
          -112.03894999999994,
          -92.06338499999998,
          -122.2442580397447,
          -97.1249675257824,
          -97.1249675257824,
          -96.80602436736508,
          -81.96816202344753,
          -88.21026999999998,
          -95.3109781118127,
          -82.16005999695513,
          -82.69504997073442,
          -72.56511999999998,
          -87.66545895844021,
          -97.63092299999994,
          -97.7727199894249,
          -95.76611996342278,
          -80.47022598817489,
          -86.01689400431556,
          -97.7727199894249,
          -86.97967100282185,
          -97.01841198700406,
          -97.7727199894249,
          -97.7727199894249,
          -77.24719109816812,
          -95.82942502378926,
          -95.79206797098372,
          -85.06453302924733,
          -86.48534097079437,
          -118.93277697215451,
          -77.28847901210584,
          -122.99984000762916,
          -86.48534097079437,
          -83.48997330641897,
          -97.39905457822562,
          -122.99984000762916,
          -81.47929799811882,
          -82.69504997073442,
          -108.25736598496202,
          -84.59310101559065,
          -97.7727199894249,
          -89.53095999999994,
          -84.67934199826762,
          -118.93277697215451,
          -77.28847901210584,
          -97.10314296982398,
          -82.76303500065721,
          -76.29478402263241,
          -106.50422597606862,
          -88.549072988587,
          -74.00626520347141,
          -80.16547499232249,
          -77.28847901210584,
          -97.12470499999996,
          -85.8070500408332,
          -77.28847901210584,
          -77.28847901210584,
          -77.28847901210584,
          -81.58715004175303,
          -85.26114599092917,
          -81.58715004175303,
          -95.24537999999995,
          -84.1272869725373,
          -76.13709402090734,
          -90.28719698557966,
          -105.94398916585686,
          -82.8846200382731,
          -82.8846200382731,
          -83.6566115847676,
          -89.42450896344357,
          -77.04324900034966,
          -85.06453302924733,
          -82.8846200382731,
          -82.8846200382731,
          -77.47751437073966,
          -122.30887304167676,
          -95.33888101360708,
          -82.8846200382731,
          -93.20177297722633,
          -74.00626520347141,
          -81.21295598392047,
          -71.0182009595531,
          -82.8846200382731,
          -92.53282602528708,
          -106.57876196623722,
          -122.22961502253526,
          -88.40338431075156,
          -77.55208701712642,
          -93.20177297722633,
          -82.8846200382731,
          -92.10913460561122,
          -94.7011340198578,
          -90.18537203324276,
          -86.30628999999999,
          -86.29422502885303,
          -93.20177297722633,
          -86.30628999999999,
          -86.29422502885303,
          -93.59644301868808,
          -82.09977483474638,
          -88.40338431075156,
          -82.8846200382731,
          -84.1661629938363,
          -98.39571097790996,
          -94.23999397747218,
          -77.55208701712642,
          -104.61145896679324,
          -81.57409389999998,
          -87.84874796301534,
          -88.40338431075156,
          -95.2244709689284,
          -100.76283390027808,
          -71.53621419999996,
          -75.89071065927423,
          -81.96475603709219,
          -82.8846200382731,
          -93.1535529779054,
          -84.1661629938363,
          -80.97998190006747,
          -82.31645901795312,
          -89.41531703314526,
          -105.514435,
          -75.54591880903855,
          -74.81929910788871,
          -109.24837499999995,
          -91.91290749692295,
          -97.65829999999994,
          -92.8674210915596,
          -77.2621715707994,
          -100.76283390027808,
          -82.8846200382731,
          -82.8846200382731,
          -97.22305598539442,
          -97.45646499999998,
          -83.54888301507984,
          -95.51401300146895,
          -97.1249675257824,
          -84.1661629938363,
          -73.33418694014391,
          -97.1249675257824,
          -76.5736053495545,
          -97.47655097277676,
          -83.2159460257813,
          -76.5736053495545,
          -75.91381429999996,
          -84.40878999999995,
          -105.06153397497792,
          -76.78609397112676,
          -81.71532501546449,
          -121.7462230388756,
          -73.2106043247214,
          -97.1249675257824,
          -85.67801902335044,
          -93.1510773271446,
          -71.95411102471598,
          -89.93433897846114,
          -84.90521999999999,
          -97.93267999999996,
          -92.89370802831544,
          -116.37375210931602,
          -83.56025398874667,
          -73.98485413472395,
          -111.83258397124362,
          -106.57876196623722,
          -73.98485413472395,
          -75.15213096288598,
          -94.32511455261398,
          -94.68292701741817,
          -85.70464627507342,
          -83.37115003884358,
          -88.03556499445604,
          -122.30729499999995,
          -94.16178999999994,
          -117.83152619999998,
          -92.3289619321256,
          -121.7462230388756,
          -93.45908650823826,
          -88.82260902264277,
          -85.67688998099271,
          -116.20325001711176,
          -98.2663450195763,
          -97.58243301770764,
          -74.47028199884588,
          -96.39315604064296
         ],
         "marker": {
          "color": [
           1,
           0,
           3,
           1,
           3,
           1,
           0,
           3,
           0,
           1,
           1,
           3,
           1,
           0,
           0,
           0,
           3,
           3,
           0,
           1,
           1,
           3,
           -1,
           1,
           0,
           1,
           1,
           0,
           3,
           1,
           3,
           3,
           2,
           3,
           0,
           0,
           3,
           0,
           0,
           0,
           0,
           0,
           3,
           0,
           0,
           0,
           0,
           0,
           2,
           3,
           1,
           3,
           2,
           3,
           3,
           1,
           3,
           2,
           2,
           3,
           3,
           0,
           2,
           3,
           0,
           3,
           2,
           0,
           0,
           0,
           2,
           2,
           3,
           2,
           2,
           2,
           3,
           2,
           0,
           0,
           0,
           3,
           0,
           3,
           2,
           0,
           2,
           2,
           2,
           2,
           2,
           2,
           2,
           2,
           2,
           3,
           2,
           2,
           3,
           2,
           2,
           2,
           3,
           2,
           2,
           2,
           2,
           1,
           2,
           2,
           3,
           3,
           2,
           2,
           2,
           3,
           0,
           3,
           0,
           1,
           2,
           2,
           0,
           2,
           2,
           0,
           3,
           2,
           0,
           2,
           1,
           3,
           2,
           2,
           1,
           2,
           2,
           2,
           2,
           2,
           2,
           2,
           0,
           2,
           2,
           2,
           2,
           2,
           0,
           2,
           2,
           1,
           2,
           2,
           2,
           1,
           2,
           3,
           0,
           2,
           0,
           3,
           2,
           2,
           3,
           2,
           3,
           2,
           1,
           1,
           2,
           1,
           0,
           2,
           0,
           1,
           0,
           2,
           0,
           2,
           2,
           2,
           2,
           0,
           0,
           1,
           1,
           2,
           2,
           1,
           1,
           2,
           2,
           1,
           2,
           1,
           1,
           2,
           2,
           1,
           3,
           2,
           2,
           2,
           2,
           3,
           3,
           2,
           2,
           2,
           2,
           2,
           2,
           2,
           2,
           2,
           2,
           2,
           2,
           0,
           2,
           3,
           1,
           2,
           2,
           2,
           3,
           2,
           0,
           1,
           2,
           2,
           0,
           3,
           3,
           2,
           0,
           2,
           2,
           2,
           2,
           0,
           3,
           2,
           2,
           2,
           0,
           2,
           0,
           1,
           2,
           2,
           2,
           0,
           2,
           2,
           1,
           2,
           2,
           2,
           2,
           0,
           0,
           2,
           1,
           2,
           2,
           2,
           0,
           2,
           2,
           2,
           0,
           2,
           1,
           2,
           2,
           2,
           2,
           2,
           2,
           2,
           2,
           0,
           2,
           1,
           2,
           2,
           2,
           2,
           1,
           1,
           2,
           2,
           2,
           2,
           2,
           2,
           2,
           3,
           0,
           2,
           2,
           2,
           3,
           3,
           1,
           3,
           2,
           2,
           2,
           1,
           2,
           2,
           0,
           2,
           2,
           2,
           2,
           -1,
           3,
           3,
           -1,
           3,
           -1,
           0,
           3,
           3,
           1,
           3,
           3,
           3,
           3,
           3,
           0,
           2,
           2,
           2,
           -1,
           3,
           3,
           0
          ],
          "colorscale": [
           [
            0,
            "red"
           ],
           [
            0.3333333333333333,
            "blue"
           ],
           [
            0.6666666666666666,
            "green"
           ],
           [
            1,
            "yellow"
           ]
          ],
          "opacity": 0.7,
          "size": [
           15780,
           10000,
           6400,
           5673,
           5673,
           5216,
           5035,
           4895,
           4652,
           3953,
           3000,
           2392,
           2347,
           2316,
           2150,
           2150,
           2122,
           2081,
           1985,
           1809,
           1678,
           1588,
           1537,
           1230,
           1189,
           1026,
           1007,
           1003,
           942,
           916,
           898,
           887,
           853,
           821,
           800,
           800,
           723,
           703,
           699,
           667,
           663,
           642,
           625,
           616,
           609,
           609,
           603,
           595,
           580,
           529,
           515,
           483,
           478,
           475,
           448,
           427,
           424,
           398,
           383,
           376,
           365,
           364,
           355,
           349,
           346,
           342,
           329,
           305,
           301,
           287,
           283,
           281,
           280,
           274,
           273,
           273,
           272,
           272,
           262,
           262,
           261,
           261,
           259,
           256,
           253,
           244,
           242,
           240,
           236,
           232,
           231,
           229,
           227,
           222,
           221,
           216,
           215,
           212,
           208,
           205,
           199,
           199,
           196,
           194,
           193,
           191,
           191,
           191,
           190,
           187,
           186,
           185,
           182,
           180,
           179,
           177,
           175,
           175,
           171,
           170,
           165,
           163,
           162,
           158,
           156,
           154,
           153,
           152,
           152,
           149,
           145,
           143,
           143,
           139,
           138,
           137,
           136,
           133,
           132,
           127,
           124,
           122,
           120,
           119,
           116,
           114,
           113,
           111,
           110,
           109,
           106,
           106,
           105,
           103,
           100,
           100,
           99,
           97,
           97,
           96,
           95,
           95,
           93,
           91,
           90,
           88,
           88,
           86,
           85,
           85,
           82,
           82,
           81,
           81,
           80,
           79,
           78,
           78,
           77,
           77,
           77,
           77,
           75,
           75,
           74,
           73,
           73,
           73,
           72,
           72,
           71,
           71,
           70,
           70,
           68,
           68,
           68,
           66,
           66,
           65,
           63,
           62,
           62,
           62,
           62,
           62,
           60,
           59,
           59,
           58,
           58,
           58,
           57,
           57,
           57,
           56,
           56,
           55,
           55,
           53,
           53,
           53,
           50,
           49,
           48,
           48,
           48,
           48,
           48,
           47,
           47,
           47,
           46,
           46,
           46,
           46,
           45,
           44,
           44,
           44,
           44,
           44,
           43,
           42,
           42,
           41,
           40,
           39,
           39,
           39,
           39,
           39,
           39,
           38,
           38,
           38,
           37,
           37,
           36,
           36,
           35,
           35,
           33,
           32,
           31,
           31,
           31,
           29,
           29,
           29,
           28,
           28,
           28,
           27,
           27,
           26,
           25,
           24,
           24,
           23,
           22,
           22,
           22,
           22,
           21,
           19,
           18,
           18,
           18,
           16,
           15,
           15,
           15,
           15,
           13,
           13,
           13,
           12,
           11,
           11,
           11,
           10,
           10,
           9,
           9,
           8,
           8,
           8,
           7,
           7,
           6,
           6,
           4,
           4,
           4,
           3,
           2,
           2,
           1,
           1,
           0,
           0,
           0,
           0,
           0,
           0,
           0,
           0,
           0,
           0,
           0,
           0,
           0,
           0,
           0,
           0,
           0,
           0,
           0,
           0,
           0,
           16
          ],
          "sizemin": 3,
          "sizemode": "area",
          "sizeref": 30,
          "symbol": "circle"
         },
         "mode": "markers",
         "text": [
          "Martha Holmes",
          "Elm Hill Labs Inc",
          "Santa Cruz Biotechnology Inc.",
          "Santa Cruz Biotechnology Inc.",
          "Santa Cruz Biotechnology Inc.",
          "Alpha Genesis Inc",
          "Envigo Rms Llc",
          "Oregon Health And Science University",
          "Envigo Rms Llc",
          "Perfect Birds L L C",
          "Alpha Genesis Inc",
          "University Of Puerto Rico",
          "Primate Products Inc",
          "The Mannheimer Foundation Inc",
          "Eugene Burkholder",
          "Eugene Burkholder",
          "University Of Wisconsin Madison",
          "Altasciences Preclinical Seattle Llc",
          "Texas Biomedical Research Institute",
          "Tyler Cleckley",
          "Quality Pets Inc.",
          "Labcorp Bedford Llc",
          "Northeast Area Beltsville Location",
          "Wilson Horse & Mule Sale Inc",
          "Oakwood Research Facility Inc",
          "Mount Hope Auction Inc",
          "Wilson Horse & Mule Sale Inc",
          "Vernon Zeiset",
          "University Of Georgia",
          "Pro Sci Inc.",
          "Intervet Inc",
          "University Of Washington",
          "Wild Wilderness Drive-Through Safari",
          "Wake Forest University",
          "Eugene Burkholder",
          "Eugene Burkholder",
          "University Of Georgia",
          "Craig Kokas",
          "Craig Kokas",
          "Malinda King David King",
          "Jesse Zook",
          "Craig Kokas",
          "University Of Washington",
          "Tyler Cleckley",
          "Tyler Cleckley",
          "Tyler Cleckley",
          "Daniel  Gingerich",
          "Craig Kokas",
          "Jon Conley Claude Conley",
          "University Of Colorado-Boulder",
          "Henry Hampton",
          "Pacific Biolabs",
          "Karl  Mogensen",
          "University Of Memphis",
          "Pacific Biolabs",
          "Janda Exotics Animal Ranch Llc",
          "North Carolina State University",
          "Hollywild Animal Park Inc",
          "Sally Reaves",
          "Lovelace Biomedical Research Institute",
          "University Of Oklahoma",
          "Moses Fisher",
          "Karl  Mogensen",
          "Florida State University",
          "Daniel  Gingerich",
          "Snbl Usa Ltd",
          "Chimp Haven Inc.",
          "Daniel  Gingerich",
          "Daniel  Gingerich",
          "David Petroski",
          "Jacksonville Zoological Society",
          "Arbuckle Adventures Llc",
          "Texas Biomedical Research Institute",
          "Arbuckle Adventures Llc",
          "Arbuckle Adventures Llc",
          "Clinton Wolston I I I",
          "Stanford University",
          "Arbuckle Adventures Llc",
          "Daniel  Gingerich",
          "Daniel  Gingerich",
          "Daniel  Gingerich",
          "Emory University",
          "Phil Weymouth & Yolanda Weymouth",
          "University Of North Carolina",
          "Hollywild Animal Park Inc",
          "Classy Creations",
          "Sally Reaves",
          "Save The Chimps Inc.",
          "Critter Barn",
          "Pymatuning Deer Park",
          "Pymatuning Deer Park",
          "Terry K Beal",
          "Pymatuning Deer Park",
          "Megan Guardiola",
          "Critter Barn",
          "Southern Research Institute",
          "Critter Barn",
          "Cheyenne Mountain Zoological Society",
          "University Of Wisconsin Madison",
          "Sally Reaves",
          "City Of Albuquerque",
          "Living Treasures Ii, Inc",
          "Equitech-Bio Inc.",
          "Thomas Sellner Pamela Sellner",
          "Joseph Maldonado Passage",
          "Clinton Wolston I I I",
          "Thomas Sellner Pamela Sellner",
          "Jurassic Pets L L C",
          "Clinton Wolston I I I",
          "Zoological Society Of Buffalo Inc",
          "Indiana University At Bloomington",
          "University Of Utah",
          "Montgomery Zoo",
          "Thomas Sellner Pamela Sellner",
          "Terrill Al-Saihati",
          "Lovelace Biomedical Research Institute",
          "Jerry Holly",
          "Oklahoma State University",
          "Pamela L. Baldwin",
          "Valleyview Premium Puppies",
          "Spirit Of The Hills Wildlife Sanctuary",
          "Thomas Sellner Pamela Sellner",
          "Jerry Holly",
          "Wilstem Inc.",
          "Jeffrey Lowe",
          "A G Beukelman",
          "Washington State University",
          "West Coast Game Park Inc",
          "Bob Loutsch Leslie Loutsch",
          "Wildlife Science Center",
          "Daniel Pradon Bobbi Pradon",
          "Oregon Health And Science University",
          "Zoologico De Puerto Rico Dr Juan A Rivero",
          "Noah'S Lost Ark, Inc.",
          "Daniel Pradon Bobbi Pradon",
          "Terrill Al-Saihati",
          "Wildlife World Zoo, Inc.",
          "Terrill Al-Saihati",
          "Richard Evola",
          "Nick Sculac",
          "Kirsty Lee L L C",
          "Indian Cliffs Ranch Inc.",
          "Fedler Ag Inc.",
          "Jason Clay",
          "Timothy Stark",
          "Briarwood Ranch",
          "Nick Sculac",
          "Nick Sculac",
          "David Petroski",
          "Hershey Entertainment And Resorts Co",
          "Norristown Zoological Society",
          "Daniel Pradon Bobbi Pradon",
          "Jessica Mason Janell Knudsen",
          "Kirsty Lee L L C",
          "John Mark Johnson",
          "Coastal Farms And Exotics",
          "Jessica Mason Janell Knudsen",
          "Blue Ridge Kennel",
          "Terri Naylor",
          "City Of Idaho Falls",
          "Sandstone Valley Llc",
          "T. B. Holdings L L C",
          "Arbuckle Adventures Llc",
          "Arbuckle Adventures Llc",
          "North Dakota State University",
          "Single Vision Inc.",
          "University Of Illinois At Urbana-Champaign",
          "Houston Interactive Aquarium And Animal Preserve",
          "Anton Hash",
          "A & A Exotics Llc",
          "Forest Park Zoological Society",
          "Thomas Edmonds",
          "Robert And Dawn Troupe",
          "William Meadows",
          "Ruth Hargrove",
          "Zoological Wildlife Foundation Inc",
          "Daniel Coblentz",
          "William Meadows",
          "Delmar Wagler",
          "South Texas Zoological Society",
          "William Meadows",
          "William Meadows",
          "Sally Reaves",
          "Deloris Richards Dick Richards",
          "S Glenice Viken",
          "David  Manser",
          "256 Exotics, Llc",
          "Kern County Superintendent Of Schools Calm",
          "Deer Haven Mini Zoo",
          "Kellie Caron Raegan Royale",
          "256 Exotics, Llc",
          "Javon Stacks",
          "Wild Things Zoofari Inc.",
          "Kellie Caron Raegan Royale",
          "Stump Hill Farm",
          "A & A Exotics Llc",
          "Frances Reed Higgins",
          "Richard Evola",
          "William Meadows",
          "Magnolia Stockyard",
          "Equitech-Bio Inc.",
          "Kern County Superintendent Of Schools Calm",
          "Deer Haven Mini Zoo",
          "Jeffrey Lowe",
          "Suncoast Primate Sanctuary Foundation Inc",
          "Eastern Virginia Medical School",
          "University Of Texas- El Paso",
          "Delavan Lake Animal Park",
          "Bailiwick Ranch Inc",
          "Festival Fun Parks Llc",
          "Deer Haven Mini Zoo",
          "City Of Clay Center",
          "Mike Mc Clelland",
          "Deer Haven Mini Zoo",
          "Deer Haven Mini Zoo",
          "Deer Haven Mini Zoo",
          "The Care Foundation",
          "April Cicchelli Ryan Cicchelli",
          "The Care Foundation",
          "Patricia Bingham",
          "Noahs Ark Animal Rehab Center And Sanctuary Inc",
          "Envigo Global Services Inc",
          "Aaron Hostetler",
          "City Of Alamogordo",
          "Summer Wind Farm Sanctuary",
          "Summer Wind Farm Sanctuary",
          "Lincoln Memorial University",
          "Shirley Farms",
          "Leon Nolt",
          "David  Manser",
          "Summer Wind Farm Sanctuary",
          "Summer Wind Farm Sanctuary",
          "Levi Hershberger",
          "Pi Bioscientific Inc.",
          "University Of Houston",
          "Summer Wind Farm Sanctuary",
          "Carolyn Anderson",
          "Bailiwick Ranch Inc",
          "Ms Leisure Company, Inc.",
          "Wildlife Encounters, Llc",
          "Summer Wind Farm Sanctuary",
          "Alta Z. Martin",
          "Lovelace Biomedical Research Institute",
          "Kirsty Lee L L C",
          "The Mobile Zoo",
          "Christy Davis",
          "Carolyn Anderson",
          "Summer Wind Farm Sanctuary",
          "Scott Swanson",
          "Jim Kramer",
          "St Louis Aquacenter Inc.",
          "Deer Forest Amusements Inc",
          "Deer Forest Exotic Animal Sanctuary",
          "Carolyn Anderson",
          "Deer Forest Amusements Inc",
          "Deer Forest Exotic Animal Sanctuary",
          "Billy Johnston Cheryl Ullrich",
          "Skunkie Acres Inc",
          "The Mobile Zoo",
          "Summer Wind Farm Sanctuary",
          "Robert Sawmiller",
          "Marilyn Soukup",
          "Wilma Jinson",
          "Christy Davis",
          "Jurassic Pets L L C",
          "Catty Shack Ranch Wildlife Sanctuary",
          "Memory Lane Stables",
          "The Mobile Zoo",
          "Ted Johnson",
          "City Of North Platte",
          "Squam Lakes Natural Science Center",
          "Thompson Park Conservancy, Inc",
          "Merle Miller",
          "Summer Wind Farm Sanctuary",
          "Gail Connolly Dennis Connolly",
          "Robert Sawmiller",
          "Sue Pearce",
          "Cy",
          "Rocking Dirt Road Farms Llc",
          "William Lee",
          "Fort Rickey Discovery Zoo",
          "Johnsons Corner Farm Llc",
          "Yellowstone Wildlife Sanctuary",
          "Clayton Yoder",
          "Ashley Clement Raegan Clement",
          "Josh L. Souza",
          "Union County Sportsmen'S Club Inc",
          "City Of North Platte",
          "Summer Wind Farm Sanctuary",
          "Summer Wind Farm Sanctuary",
          "Animal Source Texas Inc.",
          "Pam Reynolds",
          "Marek Lipold",
          "The Learning Zoo Llc",
          "Arbuckle Adventures Llc",
          "Robert Sawmiller",
          "Cindy Bardin",
          "Arbuckle Adventures Llc",
          "Grace & Glory Ministries",
          "Immuno-Mycologics Inc.",
          "Craig Kokas",
          "Grace & Glory Ministries",
          "Fragile Planet Wildlife Foundation",
          "Richard English",
          "Weston Educational Inc.",
          "Thomas D Morris Inc",
          "Gary Rosenblum",
          "University Of California Davis",
          "Larry Wallach",
          "Arbuckle Adventures Llc",
          "Roberta Locke Anthony Locke",
          "Vincent Losacco",
          "Sea Research Foundation, Inc",
          "Mcclain Lodge Llc",
          "Cheryl Rondy",
          "City Of Hutchinson",
          "Rodney Stahl",
          "The Living Desert Zoo And Gardens",
          "James Svoboda",
          "Turk Hava Yollari A O Turkish Airlines",
          "University Of Utah",
          "Lovelace Biomedical Research Institute",
          "Qatar Airways Cargo",
          "Temple University",
          "Renee Ray",
          "Barbara Hammen Martin Hammen",
          "Tuskegee University",
          "University Of Georgia",
          "Morgan Machnik",
          "University Of Washington",
          "University Of Arkansas Fayettville",
          "Allergan",
          "University Of Missouri-Columbia",
          "University Of California Davis",
          "Randy Stoen",
          "Wendy Russeff",
          "Timothy Stark",
          "Zoo Boise",
          "Ashley Ram",
          "Oklahoma State University - Oklahoma City",
          "R B H S New Jersey Medical School",
          "Nolan Den Boer Gina Den Boer"
         ],
         "type": "scattergeo"
        }
       ],
       "layout": {
        "geo": {
         "landcolor": "rgb(230,230,230)",
         "projection": {
          "type": "albers usa"
         },
         "scope": "usa",
         "showland": true,
         "subunitwidth": 0.5
        },
        "template": {
         "data": {
          "bar": [
           {
            "error_x": {
             "color": "#2a3f5f"
            },
            "error_y": {
             "color": "#2a3f5f"
            },
            "marker": {
             "line": {
              "color": "#E5ECF6",
              "width": 0.5
             },
             "pattern": {
              "fillmode": "overlay",
              "size": 10,
              "solidity": 0.2
             }
            },
            "type": "bar"
           }
          ],
          "barpolar": [
           {
            "marker": {
             "line": {
              "color": "#E5ECF6",
              "width": 0.5
             },
             "pattern": {
              "fillmode": "overlay",
              "size": 10,
              "solidity": 0.2
             }
            },
            "type": "barpolar"
           }
          ],
          "carpet": [
           {
            "aaxis": {
             "endlinecolor": "#2a3f5f",
             "gridcolor": "white",
             "linecolor": "white",
             "minorgridcolor": "white",
             "startlinecolor": "#2a3f5f"
            },
            "baxis": {
             "endlinecolor": "#2a3f5f",
             "gridcolor": "white",
             "linecolor": "white",
             "minorgridcolor": "white",
             "startlinecolor": "#2a3f5f"
            },
            "type": "carpet"
           }
          ],
          "choropleth": [
           {
            "colorbar": {
             "outlinewidth": 0,
             "ticks": ""
            },
            "type": "choropleth"
           }
          ],
          "contour": [
           {
            "colorbar": {
             "outlinewidth": 0,
             "ticks": ""
            },
            "colorscale": [
             [
              0,
              "#0d0887"
             ],
             [
              0.1111111111111111,
              "#46039f"
             ],
             [
              0.2222222222222222,
              "#7201a8"
             ],
             [
              0.3333333333333333,
              "#9c179e"
             ],
             [
              0.4444444444444444,
              "#bd3786"
             ],
             [
              0.5555555555555556,
              "#d8576b"
             ],
             [
              0.6666666666666666,
              "#ed7953"
             ],
             [
              0.7777777777777778,
              "#fb9f3a"
             ],
             [
              0.8888888888888888,
              "#fdca26"
             ],
             [
              1,
              "#f0f921"
             ]
            ],
            "type": "contour"
           }
          ],
          "contourcarpet": [
           {
            "colorbar": {
             "outlinewidth": 0,
             "ticks": ""
            },
            "type": "contourcarpet"
           }
          ],
          "heatmap": [
           {
            "colorbar": {
             "outlinewidth": 0,
             "ticks": ""
            },
            "colorscale": [
             [
              0,
              "#0d0887"
             ],
             [
              0.1111111111111111,
              "#46039f"
             ],
             [
              0.2222222222222222,
              "#7201a8"
             ],
             [
              0.3333333333333333,
              "#9c179e"
             ],
             [
              0.4444444444444444,
              "#bd3786"
             ],
             [
              0.5555555555555556,
              "#d8576b"
             ],
             [
              0.6666666666666666,
              "#ed7953"
             ],
             [
              0.7777777777777778,
              "#fb9f3a"
             ],
             [
              0.8888888888888888,
              "#fdca26"
             ],
             [
              1,
              "#f0f921"
             ]
            ],
            "type": "heatmap"
           }
          ],
          "heatmapgl": [
           {
            "colorbar": {
             "outlinewidth": 0,
             "ticks": ""
            },
            "colorscale": [
             [
              0,
              "#0d0887"
             ],
             [
              0.1111111111111111,
              "#46039f"
             ],
             [
              0.2222222222222222,
              "#7201a8"
             ],
             [
              0.3333333333333333,
              "#9c179e"
             ],
             [
              0.4444444444444444,
              "#bd3786"
             ],
             [
              0.5555555555555556,
              "#d8576b"
             ],
             [
              0.6666666666666666,
              "#ed7953"
             ],
             [
              0.7777777777777778,
              "#fb9f3a"
             ],
             [
              0.8888888888888888,
              "#fdca26"
             ],
             [
              1,
              "#f0f921"
             ]
            ],
            "type": "heatmapgl"
           }
          ],
          "histogram": [
           {
            "marker": {
             "pattern": {
              "fillmode": "overlay",
              "size": 10,
              "solidity": 0.2
             }
            },
            "type": "histogram"
           }
          ],
          "histogram2d": [
           {
            "colorbar": {
             "outlinewidth": 0,
             "ticks": ""
            },
            "colorscale": [
             [
              0,
              "#0d0887"
             ],
             [
              0.1111111111111111,
              "#46039f"
             ],
             [
              0.2222222222222222,
              "#7201a8"
             ],
             [
              0.3333333333333333,
              "#9c179e"
             ],
             [
              0.4444444444444444,
              "#bd3786"
             ],
             [
              0.5555555555555556,
              "#d8576b"
             ],
             [
              0.6666666666666666,
              "#ed7953"
             ],
             [
              0.7777777777777778,
              "#fb9f3a"
             ],
             [
              0.8888888888888888,
              "#fdca26"
             ],
             [
              1,
              "#f0f921"
             ]
            ],
            "type": "histogram2d"
           }
          ],
          "histogram2dcontour": [
           {
            "colorbar": {
             "outlinewidth": 0,
             "ticks": ""
            },
            "colorscale": [
             [
              0,
              "#0d0887"
             ],
             [
              0.1111111111111111,
              "#46039f"
             ],
             [
              0.2222222222222222,
              "#7201a8"
             ],
             [
              0.3333333333333333,
              "#9c179e"
             ],
             [
              0.4444444444444444,
              "#bd3786"
             ],
             [
              0.5555555555555556,
              "#d8576b"
             ],
             [
              0.6666666666666666,
              "#ed7953"
             ],
             [
              0.7777777777777778,
              "#fb9f3a"
             ],
             [
              0.8888888888888888,
              "#fdca26"
             ],
             [
              1,
              "#f0f921"
             ]
            ],
            "type": "histogram2dcontour"
           }
          ],
          "mesh3d": [
           {
            "colorbar": {
             "outlinewidth": 0,
             "ticks": ""
            },
            "type": "mesh3d"
           }
          ],
          "parcoords": [
           {
            "line": {
             "colorbar": {
              "outlinewidth": 0,
              "ticks": ""
             }
            },
            "type": "parcoords"
           }
          ],
          "pie": [
           {
            "automargin": true,
            "type": "pie"
           }
          ],
          "scatter": [
           {
            "fillpattern": {
             "fillmode": "overlay",
             "size": 10,
             "solidity": 0.2
            },
            "type": "scatter"
           }
          ],
          "scatter3d": [
           {
            "line": {
             "colorbar": {
              "outlinewidth": 0,
              "ticks": ""
             }
            },
            "marker": {
             "colorbar": {
              "outlinewidth": 0,
              "ticks": ""
             }
            },
            "type": "scatter3d"
           }
          ],
          "scattercarpet": [
           {
            "marker": {
             "colorbar": {
              "outlinewidth": 0,
              "ticks": ""
             }
            },
            "type": "scattercarpet"
           }
          ],
          "scattergeo": [
           {
            "marker": {
             "colorbar": {
              "outlinewidth": 0,
              "ticks": ""
             }
            },
            "type": "scattergeo"
           }
          ],
          "scattergl": [
           {
            "marker": {
             "colorbar": {
              "outlinewidth": 0,
              "ticks": ""
             }
            },
            "type": "scattergl"
           }
          ],
          "scattermapbox": [
           {
            "marker": {
             "colorbar": {
              "outlinewidth": 0,
              "ticks": ""
             }
            },
            "type": "scattermapbox"
           }
          ],
          "scatterpolar": [
           {
            "marker": {
             "colorbar": {
              "outlinewidth": 0,
              "ticks": ""
             }
            },
            "type": "scatterpolar"
           }
          ],
          "scatterpolargl": [
           {
            "marker": {
             "colorbar": {
              "outlinewidth": 0,
              "ticks": ""
             }
            },
            "type": "scatterpolargl"
           }
          ],
          "scatterternary": [
           {
            "marker": {
             "colorbar": {
              "outlinewidth": 0,
              "ticks": ""
             }
            },
            "type": "scatterternary"
           }
          ],
          "surface": [
           {
            "colorbar": {
             "outlinewidth": 0,
             "ticks": ""
            },
            "colorscale": [
             [
              0,
              "#0d0887"
             ],
             [
              0.1111111111111111,
              "#46039f"
             ],
             [
              0.2222222222222222,
              "#7201a8"
             ],
             [
              0.3333333333333333,
              "#9c179e"
             ],
             [
              0.4444444444444444,
              "#bd3786"
             ],
             [
              0.5555555555555556,
              "#d8576b"
             ],
             [
              0.6666666666666666,
              "#ed7953"
             ],
             [
              0.7777777777777778,
              "#fb9f3a"
             ],
             [
              0.8888888888888888,
              "#fdca26"
             ],
             [
              1,
              "#f0f921"
             ]
            ],
            "type": "surface"
           }
          ],
          "table": [
           {
            "cells": {
             "fill": {
              "color": "#EBF0F8"
             },
             "line": {
              "color": "white"
             }
            },
            "header": {
             "fill": {
              "color": "#C8D4E3"
             },
             "line": {
              "color": "white"
             }
            },
            "type": "table"
           }
          ]
         },
         "layout": {
          "annotationdefaults": {
           "arrowcolor": "#2a3f5f",
           "arrowhead": 0,
           "arrowwidth": 1
          },
          "autotypenumbers": "strict",
          "coloraxis": {
           "colorbar": {
            "outlinewidth": 0,
            "ticks": ""
           }
          },
          "colorscale": {
           "diverging": [
            [
             0,
             "#8e0152"
            ],
            [
             0.1,
             "#c51b7d"
            ],
            [
             0.2,
             "#de77ae"
            ],
            [
             0.3,
             "#f1b6da"
            ],
            [
             0.4,
             "#fde0ef"
            ],
            [
             0.5,
             "#f7f7f7"
            ],
            [
             0.6,
             "#e6f5d0"
            ],
            [
             0.7,
             "#b8e186"
            ],
            [
             0.8,
             "#7fbc41"
            ],
            [
             0.9,
             "#4d9221"
            ],
            [
             1,
             "#276419"
            ]
           ],
           "sequential": [
            [
             0,
             "#0d0887"
            ],
            [
             0.1111111111111111,
             "#46039f"
            ],
            [
             0.2222222222222222,
             "#7201a8"
            ],
            [
             0.3333333333333333,
             "#9c179e"
            ],
            [
             0.4444444444444444,
             "#bd3786"
            ],
            [
             0.5555555555555556,
             "#d8576b"
            ],
            [
             0.6666666666666666,
             "#ed7953"
            ],
            [
             0.7777777777777778,
             "#fb9f3a"
            ],
            [
             0.8888888888888888,
             "#fdca26"
            ],
            [
             1,
             "#f0f921"
            ]
           ],
           "sequentialminus": [
            [
             0,
             "#0d0887"
            ],
            [
             0.1111111111111111,
             "#46039f"
            ],
            [
             0.2222222222222222,
             "#7201a8"
            ],
            [
             0.3333333333333333,
             "#9c179e"
            ],
            [
             0.4444444444444444,
             "#bd3786"
            ],
            [
             0.5555555555555556,
             "#d8576b"
            ],
            [
             0.6666666666666666,
             "#ed7953"
            ],
            [
             0.7777777777777778,
             "#fb9f3a"
            ],
            [
             0.8888888888888888,
             "#fdca26"
            ],
            [
             1,
             "#f0f921"
            ]
           ]
          },
          "colorway": [
           "#636efa",
           "#EF553B",
           "#00cc96",
           "#ab63fa",
           "#FFA15A",
           "#19d3f3",
           "#FF6692",
           "#B6E880",
           "#FF97FF",
           "#FECB52"
          ],
          "font": {
           "color": "#2a3f5f"
          },
          "geo": {
           "bgcolor": "white",
           "lakecolor": "white",
           "landcolor": "#E5ECF6",
           "showlakes": true,
           "showland": true,
           "subunitcolor": "white"
          },
          "hoverlabel": {
           "align": "left"
          },
          "hovermode": "closest",
          "mapbox": {
           "style": "light"
          },
          "paper_bgcolor": "white",
          "plot_bgcolor": "#E5ECF6",
          "polar": {
           "angularaxis": {
            "gridcolor": "white",
            "linecolor": "white",
            "ticks": ""
           },
           "bgcolor": "#E5ECF6",
           "radialaxis": {
            "gridcolor": "white",
            "linecolor": "white",
            "ticks": ""
           }
          },
          "scene": {
           "xaxis": {
            "backgroundcolor": "#E5ECF6",
            "gridcolor": "white",
            "gridwidth": 2,
            "linecolor": "white",
            "showbackground": true,
            "ticks": "",
            "zerolinecolor": "white"
           },
           "yaxis": {
            "backgroundcolor": "#E5ECF6",
            "gridcolor": "white",
            "gridwidth": 2,
            "linecolor": "white",
            "showbackground": true,
            "ticks": "",
            "zerolinecolor": "white"
           },
           "zaxis": {
            "backgroundcolor": "#E5ECF6",
            "gridcolor": "white",
            "gridwidth": 2,
            "linecolor": "white",
            "showbackground": true,
            "ticks": "",
            "zerolinecolor": "white"
           }
          },
          "shapedefaults": {
           "line": {
            "color": "#2a3f5f"
           }
          },
          "ternary": {
           "aaxis": {
            "gridcolor": "white",
            "linecolor": "white",
            "ticks": ""
           },
           "baxis": {
            "gridcolor": "white",
            "linecolor": "white",
            "ticks": ""
           },
           "bgcolor": "#E5ECF6",
           "caxis": {
            "gridcolor": "white",
            "linecolor": "white",
            "ticks": ""
           }
          },
          "title": {
           "x": 0.05
          },
          "xaxis": {
           "automargin": true,
           "gridcolor": "white",
           "linecolor": "white",
           "ticks": "",
           "title": {
            "standoff": 15
           },
           "zerolinecolor": "white",
           "zerolinewidth": 2
          },
          "yaxis": {
           "automargin": true,
           "gridcolor": "white",
           "linecolor": "white",
           "ticks": "",
           "title": {
            "standoff": 15
           },
           "zerolinecolor": "white",
           "zerolinewidth": 2
          }
         }
        },
        "title": {
         "text": "U.S. Animal Welfare Inspections 2014-2022<br><sup>All reports that found 2+ critical issues or 8+ non-critical ones</sup>"
        }
       }
      }
     },
     "metadata": {},
     "output_type": "display_data"
    }
   ],
   "source": [
    "# Then the markers\n",
    "\n",
    "marker = dict(\n",
    "    size = multiple_criticals['animals_total'],\n",
    "    sizeref = 30,\n",
    "    sizemin = 3,\n",
    "    sizemode = 'area',\n",
    "    opacity = 0.7,\n",
    "    symbol = 'circle',\n",
    "    colorscale = ['red','blue','green','yellow'],\n",
    "    color = multiple_criticals['type'].cat.codes\n",
    ")\n",
    "fig.update_traces(overwrite=True,marker=marker)"
   ]
  },
  {
   "cell_type": "code",
   "execution_count": 79,
   "metadata": {},
   "outputs": [
    {
     "data": {
      "text/plain": [
       "Scattergeo({\n",
       "    'hoverinfo': 'text',\n",
       "    'hovertext': array(['Martha Holmes', 'Elm Hill Labs Inc', 'Santa Cruz Biotechnology Inc.',\n",
       "                        ..., 'Oklahoma State University - Oklahoma City',\n",
       "                        'R B H S New Jersey Medical School', 'Nolan Den Boer Gina Den Boer'],\n",
       "                       dtype=object),\n",
       "    'lat': array([40.36965901, 42.58394309, 36.954651  , ..., 35.46910899, 40.52574899,\n",
       "                  43.17552901]),\n",
       "    'lon': array([ -75.54738698,  -71.38845854, -122.05165397, ...,  -97.58243302,\n",
       "                   -74.470282  ,  -96.39315604]),\n",
       "    'marker': {'opacity': 0.7,\n",
       "               'size': array([15780., 10000.,  6400., ...,     0.,     0.,    16.]),\n",
       "               'sizemin': 3,\n",
       "               'sizemode': 'area',\n",
       "               'sizeref': 30,\n",
       "               'symbol': 'circle'},\n",
       "    'mode': 'markers',\n",
       "    'text': array(['Martha Holmes', 'Elm Hill Labs Inc', 'Santa Cruz Biotechnology Inc.',\n",
       "                   ..., 'Oklahoma State University - Oklahoma City',\n",
       "                   'R B H S New Jersey Medical School', 'Nolan Den Boer Gina Den Boer'],\n",
       "                  dtype=object)\n",
       "})"
      ]
     },
     "execution_count": 79,
     "metadata": {},
     "output_type": "execute_result"
    }
   ],
   "source": [
    "fig.data[0]"
   ]
  },
  {
   "cell_type": "code",
   "execution_count": 78,
   "metadata": {},
   "outputs": [
    {
     "data": {
      "application/vnd.plotly.v1+json": {
       "config": {
        "plotlyServerURL": "https://plot.ly"
       },
       "data": [
        {
         "hoverinfo": "text",
         "hovertext": [
          "Martha Holmes",
          "Elm Hill Labs Inc",
          "Santa Cruz Biotechnology Inc.",
          "Santa Cruz Biotechnology Inc.",
          "Santa Cruz Biotechnology Inc.",
          "Alpha Genesis Inc",
          "Envigo Rms Llc",
          "Oregon Health And Science University",
          "Envigo Rms Llc",
          "Perfect Birds L L C",
          "Alpha Genesis Inc",
          "University Of Puerto Rico",
          "Primate Products Inc",
          "The Mannheimer Foundation Inc",
          "Eugene Burkholder",
          "Eugene Burkholder",
          "University Of Wisconsin Madison",
          "Altasciences Preclinical Seattle Llc",
          "Texas Biomedical Research Institute",
          "Tyler Cleckley",
          "Quality Pets Inc.",
          "Labcorp Bedford Llc",
          "Northeast Area Beltsville Location",
          "Wilson Horse & Mule Sale Inc",
          "Oakwood Research Facility Inc",
          "Mount Hope Auction Inc",
          "Wilson Horse & Mule Sale Inc",
          "Vernon Zeiset",
          "University Of Georgia",
          "Pro Sci Inc.",
          "Intervet Inc",
          "University Of Washington",
          "Wild Wilderness Drive-Through Safari",
          "Wake Forest University",
          "Eugene Burkholder",
          "Eugene Burkholder",
          "University Of Georgia",
          "Craig Kokas",
          "Craig Kokas",
          "Malinda King David King",
          "Jesse Zook",
          "Craig Kokas",
          "University Of Washington",
          "Tyler Cleckley",
          "Tyler Cleckley",
          "Tyler Cleckley",
          "Daniel  Gingerich",
          "Craig Kokas",
          "Jon Conley Claude Conley",
          "University Of Colorado-Boulder",
          "Henry Hampton",
          "Pacific Biolabs",
          "Karl  Mogensen",
          "University Of Memphis",
          "Pacific Biolabs",
          "Janda Exotics Animal Ranch Llc",
          "North Carolina State University",
          "Hollywild Animal Park Inc",
          "Sally Reaves",
          "Lovelace Biomedical Research Institute",
          "University Of Oklahoma",
          "Moses Fisher",
          "Karl  Mogensen",
          "Florida State University",
          "Daniel  Gingerich",
          "Snbl Usa Ltd",
          "Chimp Haven Inc.",
          "Daniel  Gingerich",
          "Daniel  Gingerich",
          "David Petroski",
          "Jacksonville Zoological Society",
          "Arbuckle Adventures Llc",
          "Texas Biomedical Research Institute",
          "Arbuckle Adventures Llc",
          "Arbuckle Adventures Llc",
          "Clinton Wolston I I I",
          "Stanford University",
          "Arbuckle Adventures Llc",
          "Daniel  Gingerich",
          "Daniel  Gingerich",
          "Daniel  Gingerich",
          "Emory University",
          "Phil Weymouth & Yolanda Weymouth",
          "University Of North Carolina",
          "Hollywild Animal Park Inc",
          "Classy Creations",
          "Sally Reaves",
          "Save The Chimps Inc.",
          "Critter Barn",
          "Pymatuning Deer Park",
          "Pymatuning Deer Park",
          "Terry K Beal",
          "Pymatuning Deer Park",
          "Megan Guardiola",
          "Critter Barn",
          "Southern Research Institute",
          "Critter Barn",
          "Cheyenne Mountain Zoological Society",
          "University Of Wisconsin Madison",
          "Sally Reaves",
          "City Of Albuquerque",
          "Living Treasures Ii, Inc",
          "Equitech-Bio Inc.",
          "Thomas Sellner Pamela Sellner",
          "Joseph Maldonado Passage",
          "Clinton Wolston I I I",
          "Thomas Sellner Pamela Sellner",
          "Jurassic Pets L L C",
          "Clinton Wolston I I I",
          "Zoological Society Of Buffalo Inc",
          "Indiana University At Bloomington",
          "University Of Utah",
          "Montgomery Zoo",
          "Thomas Sellner Pamela Sellner",
          "Terrill Al-Saihati",
          "Lovelace Biomedical Research Institute",
          "Jerry Holly",
          "Oklahoma State University",
          "Pamela L. Baldwin",
          "Valleyview Premium Puppies",
          "Spirit Of The Hills Wildlife Sanctuary",
          "Thomas Sellner Pamela Sellner",
          "Jerry Holly",
          "Wilstem Inc.",
          "Jeffrey Lowe",
          "A G Beukelman",
          "Washington State University",
          "West Coast Game Park Inc",
          "Bob Loutsch Leslie Loutsch",
          "Wildlife Science Center",
          "Daniel Pradon Bobbi Pradon",
          "Oregon Health And Science University",
          "Zoologico De Puerto Rico Dr Juan A Rivero",
          "Noah'S Lost Ark, Inc.",
          "Daniel Pradon Bobbi Pradon",
          "Terrill Al-Saihati",
          "Wildlife World Zoo, Inc.",
          "Terrill Al-Saihati",
          "Richard Evola",
          "Nick Sculac",
          "Kirsty Lee L L C",
          "Indian Cliffs Ranch Inc.",
          "Fedler Ag Inc.",
          "Jason Clay",
          "Timothy Stark",
          "Briarwood Ranch",
          "Nick Sculac",
          "Nick Sculac",
          "David Petroski",
          "Hershey Entertainment And Resorts Co",
          "Norristown Zoological Society",
          "Daniel Pradon Bobbi Pradon",
          "Jessica Mason Janell Knudsen",
          "Kirsty Lee L L C",
          "John Mark Johnson",
          "Coastal Farms And Exotics",
          "Jessica Mason Janell Knudsen",
          "Blue Ridge Kennel",
          "Terri Naylor",
          "City Of Idaho Falls",
          "Sandstone Valley Llc",
          "T. B. Holdings L L C",
          "Arbuckle Adventures Llc",
          "Arbuckle Adventures Llc",
          "North Dakota State University",
          "Single Vision Inc.",
          "University Of Illinois At Urbana-Champaign",
          "Houston Interactive Aquarium And Animal Preserve",
          "Anton Hash",
          "A & A Exotics Llc",
          "Forest Park Zoological Society",
          "Thomas Edmonds",
          "Robert And Dawn Troupe",
          "William Meadows",
          "Ruth Hargrove",
          "Zoological Wildlife Foundation Inc",
          "Daniel Coblentz",
          "William Meadows",
          "Delmar Wagler",
          "South Texas Zoological Society",
          "William Meadows",
          "William Meadows",
          "Sally Reaves",
          "Deloris Richards Dick Richards",
          "S Glenice Viken",
          "David  Manser",
          "256 Exotics, Llc",
          "Kern County Superintendent Of Schools Calm",
          "Deer Haven Mini Zoo",
          "Kellie Caron Raegan Royale",
          "256 Exotics, Llc",
          "Javon Stacks",
          "Wild Things Zoofari Inc.",
          "Kellie Caron Raegan Royale",
          "Stump Hill Farm",
          "A & A Exotics Llc",
          "Frances Reed Higgins",
          "Richard Evola",
          "William Meadows",
          "Magnolia Stockyard",
          "Equitech-Bio Inc.",
          "Kern County Superintendent Of Schools Calm",
          "Deer Haven Mini Zoo",
          "Jeffrey Lowe",
          "Suncoast Primate Sanctuary Foundation Inc",
          "Eastern Virginia Medical School",
          "University Of Texas- El Paso",
          "Delavan Lake Animal Park",
          "Bailiwick Ranch Inc",
          "Festival Fun Parks Llc",
          "Deer Haven Mini Zoo",
          "City Of Clay Center",
          "Mike Mc Clelland",
          "Deer Haven Mini Zoo",
          "Deer Haven Mini Zoo",
          "Deer Haven Mini Zoo",
          "The Care Foundation",
          "April Cicchelli Ryan Cicchelli",
          "The Care Foundation",
          "Patricia Bingham",
          "Noahs Ark Animal Rehab Center And Sanctuary Inc",
          "Envigo Global Services Inc",
          "Aaron Hostetler",
          "City Of Alamogordo",
          "Summer Wind Farm Sanctuary",
          "Summer Wind Farm Sanctuary",
          "Lincoln Memorial University",
          "Shirley Farms",
          "Leon Nolt",
          "David  Manser",
          "Summer Wind Farm Sanctuary",
          "Summer Wind Farm Sanctuary",
          "Levi Hershberger",
          "Pi Bioscientific Inc.",
          "University Of Houston",
          "Summer Wind Farm Sanctuary",
          "Carolyn Anderson",
          "Bailiwick Ranch Inc",
          "Ms Leisure Company, Inc.",
          "Wildlife Encounters, Llc",
          "Summer Wind Farm Sanctuary",
          "Alta Z. Martin",
          "Lovelace Biomedical Research Institute",
          "Kirsty Lee L L C",
          "The Mobile Zoo",
          "Christy Davis",
          "Carolyn Anderson",
          "Summer Wind Farm Sanctuary",
          "Scott Swanson",
          "Jim Kramer",
          "St Louis Aquacenter Inc.",
          "Deer Forest Amusements Inc",
          "Deer Forest Exotic Animal Sanctuary",
          "Carolyn Anderson",
          "Deer Forest Amusements Inc",
          "Deer Forest Exotic Animal Sanctuary",
          "Billy Johnston Cheryl Ullrich",
          "Skunkie Acres Inc",
          "The Mobile Zoo",
          "Summer Wind Farm Sanctuary",
          "Robert Sawmiller",
          "Marilyn Soukup",
          "Wilma Jinson",
          "Christy Davis",
          "Jurassic Pets L L C",
          "Catty Shack Ranch Wildlife Sanctuary",
          "Memory Lane Stables",
          "The Mobile Zoo",
          "Ted Johnson",
          "City Of North Platte",
          "Squam Lakes Natural Science Center",
          "Thompson Park Conservancy, Inc",
          "Merle Miller",
          "Summer Wind Farm Sanctuary",
          "Gail Connolly Dennis Connolly",
          "Robert Sawmiller",
          "Sue Pearce",
          "Cy",
          "Rocking Dirt Road Farms Llc",
          "William Lee",
          "Fort Rickey Discovery Zoo",
          "Johnsons Corner Farm Llc",
          "Yellowstone Wildlife Sanctuary",
          "Clayton Yoder",
          "Ashley Clement Raegan Clement",
          "Josh L. Souza",
          "Union County Sportsmen'S Club Inc",
          "City Of North Platte",
          "Summer Wind Farm Sanctuary",
          "Summer Wind Farm Sanctuary",
          "Animal Source Texas Inc.",
          "Pam Reynolds",
          "Marek Lipold",
          "The Learning Zoo Llc",
          "Arbuckle Adventures Llc",
          "Robert Sawmiller",
          "Cindy Bardin",
          "Arbuckle Adventures Llc",
          "Grace & Glory Ministries",
          "Immuno-Mycologics Inc.",
          "Craig Kokas",
          "Grace & Glory Ministries",
          "Fragile Planet Wildlife Foundation",
          "Richard English",
          "Weston Educational Inc.",
          "Thomas D Morris Inc",
          "Gary Rosenblum",
          "University Of California Davis",
          "Larry Wallach",
          "Arbuckle Adventures Llc",
          "Roberta Locke Anthony Locke",
          "Vincent Losacco",
          "Sea Research Foundation, Inc",
          "Mcclain Lodge Llc",
          "Cheryl Rondy",
          "City Of Hutchinson",
          "Rodney Stahl",
          "The Living Desert Zoo And Gardens",
          "James Svoboda",
          "Turk Hava Yollari A O Turkish Airlines",
          "University Of Utah",
          "Lovelace Biomedical Research Institute",
          "Qatar Airways Cargo",
          "Temple University",
          "Renee Ray",
          "Barbara Hammen Martin Hammen",
          "Tuskegee University",
          "University Of Georgia",
          "Morgan Machnik",
          "University Of Washington",
          "University Of Arkansas Fayettville",
          "Allergan",
          "University Of Missouri-Columbia",
          "University Of California Davis",
          "Randy Stoen",
          "Wendy Russeff",
          "Timothy Stark",
          "Zoo Boise",
          "Ashley Ram",
          "Oklahoma State University - Oklahoma City",
          "R B H S New Jersey Medical School",
          "Nolan Den Boer Gina Den Boer"
         ],
         "lat": [
          40.369659010493024,
          42.583943085085565,
          36.954651003216696,
          36.954651003216696,
          36.954651003216696,
          32.68081798343026,
          39.909484018529525,
          45.49907798203597,
          39.909484018529525,
          30.83478901108484,
          32.68081798343026,
          18.417640000000063,
          26.26166702074076,
          25.434923994091776,
          38.113195327070805,
          38.113195327070805,
          43.07372698237828,
          47.93832098037856,
          29.4393909727128,
          29.651519008749872,
          35.45037699185795,
          42.47841002069339,
          39.02383192642892,
          36.10825601783965,
          42.82219500000008,
          40.62414000000007,
          36.10825601783965,
          38.4361000025813,
          33.94265998804134,
          32.93754800825266,
          40.75885998586139,
          47.65037000000007,
          36.29635904277505,
          36.08955178691299,
          38.113195327070805,
          38.113195327070805,
          33.94265998804134,
          40.52659598203684,
          40.52659598203684,
          39.855639007806616,
          39.93561472326049,
          40.52659598203684,
          47.65037000000007,
          29.651519008749872,
          29.651519008749872,
          29.651519008749872,
          40.62287999346054,
          40.52659598203684,
          35.76842600282674,
          40.02685798799007,
          35.65749499278958,
          38.02105401550469,
          37.64716370000008,
          35.12152027566615,
          38.02105401550469,
          29.727370999626515,
          35.785510000000045,
          35.0255289976604,
          43.14835613740067,
          35.056133002534565,
          35.468270000000075,
          40.98860899963816,
          37.64716370000008,
          30.44440199641716,
          40.62287999346054,
          47.93832098037856,
          32.2545526878344,
          40.62287999346054,
          40.62287999346054,
          40.66198375622479,
          30.403978005239736,
          34.44788691979775,
          29.41432160000005,
          34.44788691979775,
          34.44788691979775,
          29.43591728897649,
          37.42086100737605,
          34.44788691979775,
          40.62287999346054,
          40.62287999346054,
          40.62287999346054,
          33.79815099006433,
          35.30091596548488,
          35.91017631193181,
          35.0255289976604,
          43.06496500000003,
          43.14835613740067,
          27.374507008000023,
          42.78443699366619,
          41.4845390112533,
          41.4845390112533,
          35.58915100786329,
          41.4845390112533,
          32.53895100324365,
          42.78443699366619,
          33.50369401904926,
          42.78443699366619,
          38.77110698668804,
          43.07372698237828,
          43.14835613740067,
          35.07809199629263,
          40.10708500000004,
          39.52551699687052,
          42.48335199080563,
          42.229798497739154,
          29.43591728897649,
          42.48335199080563,
          39.96129398698048,
          29.43591728897649,
          42.93824089687848,
          39.173950012388616,
          40.76786198223377,
          32.38457500000004,
          42.48335199080563,
          32.60091773128008,
          35.056133002534565,
          38.74576849338868,
          36.13048272419477,
          37.65225098824699,
          41.53769020994088,
          44.4723960126156,
          42.48335199080563,
          38.74576849338868,
          38.54671500000006,
          33.75956900592874,
          43.02767299256644,
          46.72984507900003,
          43.00896399794564,
          42.7874010022671,
          45.3829910118985,
          31.827552980663043,
          45.49907798203597,
          18.464000000000052,
          40.99611901724529,
          31.827552980663043,
          32.60091773128008,
          33.55050221250882,
          32.60091773128008,
          41.758372016138566,
          38.996844002509874,
          47.748668015817486,
          31.506210000000067,
          40.725777997041945,
          31.00805300800505,
          38.48738798801199,
          36.03610300274384,
          38.996844002509874,
          38.996844002509874,
          40.66198375622479,
          40.28761400854569,
          40.13244698919651,
          31.827552980663043,
          37.03240000000005,
          47.748668015817486,
          34.43652901539417,
          30.86954963848484,
          37.03240000000005,
          32.539810000000045,
          40.64737199835824,
          43.49700500000006,
          43.969565000000046,
          37.49637399217876,
          34.44788691979775,
          34.44788691979775,
          46.90187136964028,
          29.75921099994295,
          40.10710000000006,
          29.93901732422094,
          40.2015159792274,
          30.12698699260456,
          42.07766000000004,
          39.238762994873696,
          35.031212700000026,
          35.25349798856932,
          35.74663171376892,
          25.614738993167293,
          42.448341996617785,
          35.25349798856932,
          38.72483401965576,
          28.80874999277701,
          35.25349798856932,
          35.25349798856932,
          43.14835613740067,
          44.4151989949938,
          48.8109099999121,
          35.446426014158135,
          34.82216101829995,
          35.428112980643334,
          39.57227800021519,
          46.07447899695228,
          34.82216101829995,
          42.22772729294535,
          30.494034262604103,
          46.07447899695228,
          40.74616999400135,
          30.12698699260456,
          32.78793698772226,
          41.758372016138566,
          35.25349798856932,
          32.73721500000005,
          39.52551699687052,
          35.428112980643334,
          39.57227800021519,
          33.75956900592874,
          28.118867016452768,
          36.85643601084894,
          31.77039699245728,
          42.601567000430805,
          42.21646519481041,
          25.73159097960759,
          39.57227800021519,
          39.38037500000007,
          31.874248018429725,
          39.57227800021519,
          39.57227800021519,
          39.57227800021519,
          28.730281004090926,
          44.26739800454462,
          28.730281004090926,
          29.42381000000006,
          33.3053180078535,
          40.26323800918797,
          45.04331698410368,
          32.89880345992812,
          43.23116301243712,
          43.23116301243712,
          36.58059770680676,
          36.26126900141186,
          42.54712100725021,
          35.446426014158135,
          43.23116301243712,
          43.23116301243712,
          42.11031507730343,
          47.69012901358778,
          29.71652301480832,
          43.23116301243712,
          43.15795500909815,
          42.21646519481041,
          29.669317016224056,
          43.19944199323629,
          43.23116301243712,
          43.09641499216502,
          35.056133002534565,
          47.748668015817486,
          30.824257392643894,
          37.65005798900968,
          43.15795500909815,
          43.23116301243712,
          41.22280668695454,
          37.62604199239334,
          38.631350988816166,
          42.18644000000006,
          42.20828102073085,
          43.15795500909815,
          42.18644000000006,
          42.20828102073085,
          39.81785301110608,
          29.39792368998654,
          30.824257392643894,
          43.23116301243712,
          40.59615299599065,
          38.83621698191215,
          36.71532000727734,
          37.65005798900968,
          39.96129398698048,
          30.46341970000003,
          41.74009200732229,
          30.824257392643894,
          43.94092300158968,
          41.13053764882066,
          43.71846750000003,
          43.96136964855779,
          40.6398150001838,
          43.23116301243712,
          41.27941799875322,
          40.59615299599065,
          27.20239486856311,
          39.193022991154805,
          36.04941501563853,
          39.74205500000005,
          43.22412636281183,
          39.90062371515877,
          45.18533500000007,
          36.57963456803587,
          35.13843990000004,
          37.63346381480928,
          40.85857127367453,
          41.13053764882066,
          43.23116301243712,
          43.23116301243712,
          33.26580198633755,
          39.80096000000003,
          33.949423010437485,
          30.201571011078343,
          34.44788691979775,
          40.59615299599065,
          43.372466267725656,
          34.44788691979775,
          43.4005646283741,
          35.2512489982188,
          40.52659598203684,
          43.4005646283741,
          44.33480990000004,
          39.99676830000004,
          39.78243900918514,
          39.54471800920774,
          26.061239999747485,
          38.53552198900633,
          40.82408891816598,
          34.44788691979775,
          38.536784010257946,
          40.21087742479512,
          41.373696011199485,
          32.39749800525489,
          43.40240500000005,
          38.05725000000007,
          42.43783699927752,
          33.72536278716445,
          44.31434399649237,
          40.74837682337889,
          40.76786198223377,
          35.056133002534565,
          40.74837682337889,
          40.00697301235374,
          36.84988235564765,
          42.474376984161495,
          32.429900226234615,
          33.94265998804134,
          42.9739719829401,
          47.65037000000007,
          36.06487500000003,
          33.68570650000004,
          38.94440827213181,
          38.53552198900633,
          42.66338294961648,
          42.35180900076023,
          38.48738798801199,
          43.60808600839604,
          29.577221986640808,
          35.46910899480298,
          40.52574899072096,
          43.17552901020997
         ],
         "lon": [
          -75.54738698319876,
          -71.38845854037835,
          -122.0516539747136,
          -122.0516539747136,
          -122.0516539747136,
          -80.84191402459606,
          -86.08529100477942,
          -122.68543196967124,
          -86.08529100477942,
          -87.14930898842836,
          -80.84191402459606,
          -66.07602999999995,
          -81.21244301144613,
          -80.51921997243502,
          -88.76722714713446,
          -88.76722714713446,
          -89.4155610303467,
          -122.26699898124998,
          -98.64078952182992,
          -95.5828480401928,
          -97.55502696035198,
          -71.2624757696234,
          -76.9234678425904,
          -85.53611801263696,
          -83.26514499999996,
          -81.78471999999994,
          -85.53611801263696,
          -92.66509002664364,
          -83.37115003884358,
          -117.04065302249074,
          -74.43685002365935,
          -122.30729499999995,
          -94.49612431903188,
          -80.27134686918126,
          -88.76722714713446,
          -88.76722714713446,
          -83.37115003884358,
          -83.2159460257813,
          -83.2159460257813,
          -76.03780099006268,
          -76.1643602240608,
          -83.2159460257813,
          -122.30729499999995,
          -95.5828480401928,
          -95.5828480401928,
          -95.5828480401928,
          -93.14892398805772,
          -83.2159460257813,
          -89.12494896404675,
          -105.246008013024,
          -80.72953298721906,
          -122.27938600921976,
          -79.52853359999995,
          -89.93956024336576,
          -122.27938600921976,
          -97.80409202808704,
          -78.64266999999995,
          -82.14455397899475,
          -77.24719109816812,
          -106.57876196623722,
          -97.50040499999994,
          -77.42192997477107,
          -79.52853359999995,
          -84.3018570376103,
          -93.14892398805772,
          -122.26699898124998,
          -93.94438774667312,
          -93.14892398805772,
          -93.14892398805772,
          -77.13163282467417,
          -81.64370601141998,
          -97.1249675257824,
          -98.67414449999995,
          -97.1249675257824,
          -97.1249675257824,
          -95.17092198281073,
          -122.1413339684444,
          -97.1249675257824,
          -93.14892398805772,
          -93.14892398805772,
          -93.14892398805772,
          -84.31528501413543,
          -93.56662984637852,
          -79.04514332145452,
          -82.14455397899475,
          -76.99032999999997,
          -77.24719109816812,
          -80.37575994199995,
          -86.0102980332497,
          -80.42084702310191,
          -80.42084702310191,
          -81.14052795858147,
          -80.42084702310191,
          -96.77590098081896,
          -86.0102980332497,
          -86.79741498399406,
          -86.0102980332497,
          -104.85465402009648,
          -89.4155610303467,
          -77.24719109816812,
          -106.66230799940524,
          -79.37676499999998,
          -84.67934199826762,
          -91.50736001856036,
          -70.98071742382865,
          -95.17092198281073,
          -91.50736001856036,
          -104.61145896679324,
          -95.17092198281073,
          -78.85074562275032,
          -86.52268603747835,
          -111.83258397124362,
          -86.26047999999997,
          -91.50736001856036,
          -114.61518541095955,
          -106.57876196623722,
          -76.77707764169996,
          -97.05920095433392,
          -91.81194304107314,
          -91.63484398817404,
          -103.8973830099671,
          -91.50736001856036,
          -76.77707764169996,
          -86.61907999999994,
          -97.10314296982398,
          -96.12993703974874,
          -117.15810286899996,
          -124.41741102580792,
          -95.87567301275008,
          -93.04786296237626,
          -102.4755979899669,
          -122.68543196967124,
          -66.11277999999999,
          -80.98620496736197,
          -102.4755979899669,
          -114.61518541095955,
          -112.41659030896452,
          -114.61518541095955,
          -84.59310101559065,
          -104.37669300678031,
          -122.22961502253526,
          -106.16194499999996,
          -91.46835298811476,
          -96.52096799412789,
          -85.67688998099271,
          -83.86196503595541,
          -104.37669300678031,
          -104.37669300678031,
          -77.13163282467417,
          -76.65608696483825,
          -75.33736647914395,
          -102.4755979899669,
          -100.92679999999996,
          -122.22961502253526,
          -88.72041996043195,
          -88.22040001257508,
          -100.92679999999996,
          -86.21069499999999,
          -93.6352850094602,
          -112.03894999999994,
          -92.06338499999998,
          -122.2442580397447,
          -97.1249675257824,
          -97.1249675257824,
          -96.80602436736508,
          -81.96816202344753,
          -88.21026999999998,
          -95.3109781118127,
          -82.16005999695513,
          -82.69504997073442,
          -72.56511999999998,
          -87.66545895844021,
          -97.63092299999994,
          -97.7727199894249,
          -95.76611996342278,
          -80.47022598817489,
          -86.01689400431556,
          -97.7727199894249,
          -86.97967100282185,
          -97.01841198700406,
          -97.7727199894249,
          -97.7727199894249,
          -77.24719109816812,
          -95.82942502378926,
          -95.79206797098372,
          -85.06453302924733,
          -86.48534097079437,
          -118.93277697215451,
          -77.28847901210584,
          -122.99984000762916,
          -86.48534097079437,
          -83.48997330641897,
          -97.39905457822562,
          -122.99984000762916,
          -81.47929799811882,
          -82.69504997073442,
          -108.25736598496202,
          -84.59310101559065,
          -97.7727199894249,
          -89.53095999999994,
          -84.67934199826762,
          -118.93277697215451,
          -77.28847901210584,
          -97.10314296982398,
          -82.76303500065721,
          -76.29478402263241,
          -106.50422597606862,
          -88.549072988587,
          -74.00626520347141,
          -80.16547499232249,
          -77.28847901210584,
          -97.12470499999996,
          -85.8070500408332,
          -77.28847901210584,
          -77.28847901210584,
          -77.28847901210584,
          -81.58715004175303,
          -85.26114599092917,
          -81.58715004175303,
          -95.24537999999995,
          -84.1272869725373,
          -76.13709402090734,
          -90.28719698557966,
          -105.94398916585686,
          -82.8846200382731,
          -82.8846200382731,
          -83.6566115847676,
          -89.42450896344357,
          -77.04324900034966,
          -85.06453302924733,
          -82.8846200382731,
          -82.8846200382731,
          -77.47751437073966,
          -122.30887304167676,
          -95.33888101360708,
          -82.8846200382731,
          -93.20177297722633,
          -74.00626520347141,
          -81.21295598392047,
          -71.0182009595531,
          -82.8846200382731,
          -92.53282602528708,
          -106.57876196623722,
          -122.22961502253526,
          -88.40338431075156,
          -77.55208701712642,
          -93.20177297722633,
          -82.8846200382731,
          -92.10913460561122,
          -94.7011340198578,
          -90.18537203324276,
          -86.30628999999999,
          -86.29422502885303,
          -93.20177297722633,
          -86.30628999999999,
          -86.29422502885303,
          -93.59644301868808,
          -82.09977483474638,
          -88.40338431075156,
          -82.8846200382731,
          -84.1661629938363,
          -98.39571097790996,
          -94.23999397747218,
          -77.55208701712642,
          -104.61145896679324,
          -81.57409389999998,
          -87.84874796301534,
          -88.40338431075156,
          -95.2244709689284,
          -100.76283390027808,
          -71.53621419999996,
          -75.89071065927423,
          -81.96475603709219,
          -82.8846200382731,
          -93.1535529779054,
          -84.1661629938363,
          -80.97998190006747,
          -82.31645901795312,
          -89.41531703314526,
          -105.514435,
          -75.54591880903855,
          -74.81929910788871,
          -109.24837499999995,
          -91.91290749692295,
          -97.65829999999994,
          -92.8674210915596,
          -77.2621715707994,
          -100.76283390027808,
          -82.8846200382731,
          -82.8846200382731,
          -97.22305598539442,
          -97.45646499999998,
          -83.54888301507984,
          -95.51401300146895,
          -97.1249675257824,
          -84.1661629938363,
          -73.33418694014391,
          -97.1249675257824,
          -76.5736053495545,
          -97.47655097277676,
          -83.2159460257813,
          -76.5736053495545,
          -75.91381429999996,
          -84.40878999999995,
          -105.06153397497792,
          -76.78609397112676,
          -81.71532501546449,
          -121.7462230388756,
          -73.2106043247214,
          -97.1249675257824,
          -85.67801902335044,
          -93.1510773271446,
          -71.95411102471598,
          -89.93433897846114,
          -84.90521999999999,
          -97.93267999999996,
          -92.89370802831544,
          -116.37375210931602,
          -83.56025398874667,
          -73.98485413472395,
          -111.83258397124362,
          -106.57876196623722,
          -73.98485413472395,
          -75.15213096288598,
          -94.32511455261398,
          -94.68292701741817,
          -85.70464627507342,
          -83.37115003884358,
          -88.03556499445604,
          -122.30729499999995,
          -94.16178999999994,
          -117.83152619999998,
          -92.3289619321256,
          -121.7462230388756,
          -93.45908650823826,
          -88.82260902264277,
          -85.67688998099271,
          -116.20325001711176,
          -98.2663450195763,
          -97.58243301770764,
          -74.47028199884588,
          -96.39315604064296
         ],
         "marker": {
          "opacity": 0.7,
          "size": [
           15780,
           10000,
           6400,
           5673,
           5673,
           5216,
           5035,
           4895,
           4652,
           3953,
           3000,
           2392,
           2347,
           2316,
           2150,
           2150,
           2122,
           2081,
           1985,
           1809,
           1678,
           1588,
           1537,
           1230,
           1189,
           1026,
           1007,
           1003,
           942,
           916,
           898,
           887,
           853,
           821,
           800,
           800,
           723,
           703,
           699,
           667,
           663,
           642,
           625,
           616,
           609,
           609,
           603,
           595,
           580,
           529,
           515,
           483,
           478,
           475,
           448,
           427,
           424,
           398,
           383,
           376,
           365,
           364,
           355,
           349,
           346,
           342,
           329,
           305,
           301,
           287,
           283,
           281,
           280,
           274,
           273,
           273,
           272,
           272,
           262,
           262,
           261,
           261,
           259,
           256,
           253,
           244,
           242,
           240,
           236,
           232,
           231,
           229,
           227,
           222,
           221,
           216,
           215,
           212,
           208,
           205,
           199,
           199,
           196,
           194,
           193,
           191,
           191,
           191,
           190,
           187,
           186,
           185,
           182,
           180,
           179,
           177,
           175,
           175,
           171,
           170,
           165,
           163,
           162,
           158,
           156,
           154,
           153,
           152,
           152,
           149,
           145,
           143,
           143,
           139,
           138,
           137,
           136,
           133,
           132,
           127,
           124,
           122,
           120,
           119,
           116,
           114,
           113,
           111,
           110,
           109,
           106,
           106,
           105,
           103,
           100,
           100,
           99,
           97,
           97,
           96,
           95,
           95,
           93,
           91,
           90,
           88,
           88,
           86,
           85,
           85,
           82,
           82,
           81,
           81,
           80,
           79,
           78,
           78,
           77,
           77,
           77,
           77,
           75,
           75,
           74,
           73,
           73,
           73,
           72,
           72,
           71,
           71,
           70,
           70,
           68,
           68,
           68,
           66,
           66,
           65,
           63,
           62,
           62,
           62,
           62,
           62,
           60,
           59,
           59,
           58,
           58,
           58,
           57,
           57,
           57,
           56,
           56,
           55,
           55,
           53,
           53,
           53,
           50,
           49,
           48,
           48,
           48,
           48,
           48,
           47,
           47,
           47,
           46,
           46,
           46,
           46,
           45,
           44,
           44,
           44,
           44,
           44,
           43,
           42,
           42,
           41,
           40,
           39,
           39,
           39,
           39,
           39,
           39,
           38,
           38,
           38,
           37,
           37,
           36,
           36,
           35,
           35,
           33,
           32,
           31,
           31,
           31,
           29,
           29,
           29,
           28,
           28,
           28,
           27,
           27,
           26,
           25,
           24,
           24,
           23,
           22,
           22,
           22,
           22,
           21,
           19,
           18,
           18,
           18,
           16,
           15,
           15,
           15,
           15,
           13,
           13,
           13,
           12,
           11,
           11,
           11,
           10,
           10,
           9,
           9,
           8,
           8,
           8,
           7,
           7,
           6,
           6,
           4,
           4,
           4,
           3,
           2,
           2,
           1,
           1,
           0,
           0,
           0,
           0,
           0,
           0,
           0,
           0,
           0,
           0,
           0,
           0,
           0,
           0,
           0,
           0,
           0,
           0,
           0,
           0,
           0,
           16
          ],
          "sizemin": 3,
          "sizemode": "area",
          "sizeref": 30,
          "symbol": "circle"
         },
         "mode": "markers",
         "text": [
          "Martha Holmes",
          "Elm Hill Labs Inc",
          "Santa Cruz Biotechnology Inc.",
          "Santa Cruz Biotechnology Inc.",
          "Santa Cruz Biotechnology Inc.",
          "Alpha Genesis Inc",
          "Envigo Rms Llc",
          "Oregon Health And Science University",
          "Envigo Rms Llc",
          "Perfect Birds L L C",
          "Alpha Genesis Inc",
          "University Of Puerto Rico",
          "Primate Products Inc",
          "The Mannheimer Foundation Inc",
          "Eugene Burkholder",
          "Eugene Burkholder",
          "University Of Wisconsin Madison",
          "Altasciences Preclinical Seattle Llc",
          "Texas Biomedical Research Institute",
          "Tyler Cleckley",
          "Quality Pets Inc.",
          "Labcorp Bedford Llc",
          "Northeast Area Beltsville Location",
          "Wilson Horse & Mule Sale Inc",
          "Oakwood Research Facility Inc",
          "Mount Hope Auction Inc",
          "Wilson Horse & Mule Sale Inc",
          "Vernon Zeiset",
          "University Of Georgia",
          "Pro Sci Inc.",
          "Intervet Inc",
          "University Of Washington",
          "Wild Wilderness Drive-Through Safari",
          "Wake Forest University",
          "Eugene Burkholder",
          "Eugene Burkholder",
          "University Of Georgia",
          "Craig Kokas",
          "Craig Kokas",
          "Malinda King David King",
          "Jesse Zook",
          "Craig Kokas",
          "University Of Washington",
          "Tyler Cleckley",
          "Tyler Cleckley",
          "Tyler Cleckley",
          "Daniel  Gingerich",
          "Craig Kokas",
          "Jon Conley Claude Conley",
          "University Of Colorado-Boulder",
          "Henry Hampton",
          "Pacific Biolabs",
          "Karl  Mogensen",
          "University Of Memphis",
          "Pacific Biolabs",
          "Janda Exotics Animal Ranch Llc",
          "North Carolina State University",
          "Hollywild Animal Park Inc",
          "Sally Reaves",
          "Lovelace Biomedical Research Institute",
          "University Of Oklahoma",
          "Moses Fisher",
          "Karl  Mogensen",
          "Florida State University",
          "Daniel  Gingerich",
          "Snbl Usa Ltd",
          "Chimp Haven Inc.",
          "Daniel  Gingerich",
          "Daniel  Gingerich",
          "David Petroski",
          "Jacksonville Zoological Society",
          "Arbuckle Adventures Llc",
          "Texas Biomedical Research Institute",
          "Arbuckle Adventures Llc",
          "Arbuckle Adventures Llc",
          "Clinton Wolston I I I",
          "Stanford University",
          "Arbuckle Adventures Llc",
          "Daniel  Gingerich",
          "Daniel  Gingerich",
          "Daniel  Gingerich",
          "Emory University",
          "Phil Weymouth & Yolanda Weymouth",
          "University Of North Carolina",
          "Hollywild Animal Park Inc",
          "Classy Creations",
          "Sally Reaves",
          "Save The Chimps Inc.",
          "Critter Barn",
          "Pymatuning Deer Park",
          "Pymatuning Deer Park",
          "Terry K Beal",
          "Pymatuning Deer Park",
          "Megan Guardiola",
          "Critter Barn",
          "Southern Research Institute",
          "Critter Barn",
          "Cheyenne Mountain Zoological Society",
          "University Of Wisconsin Madison",
          "Sally Reaves",
          "City Of Albuquerque",
          "Living Treasures Ii, Inc",
          "Equitech-Bio Inc.",
          "Thomas Sellner Pamela Sellner",
          "Joseph Maldonado Passage",
          "Clinton Wolston I I I",
          "Thomas Sellner Pamela Sellner",
          "Jurassic Pets L L C",
          "Clinton Wolston I I I",
          "Zoological Society Of Buffalo Inc",
          "Indiana University At Bloomington",
          "University Of Utah",
          "Montgomery Zoo",
          "Thomas Sellner Pamela Sellner",
          "Terrill Al-Saihati",
          "Lovelace Biomedical Research Institute",
          "Jerry Holly",
          "Oklahoma State University",
          "Pamela L. Baldwin",
          "Valleyview Premium Puppies",
          "Spirit Of The Hills Wildlife Sanctuary",
          "Thomas Sellner Pamela Sellner",
          "Jerry Holly",
          "Wilstem Inc.",
          "Jeffrey Lowe",
          "A G Beukelman",
          "Washington State University",
          "West Coast Game Park Inc",
          "Bob Loutsch Leslie Loutsch",
          "Wildlife Science Center",
          "Daniel Pradon Bobbi Pradon",
          "Oregon Health And Science University",
          "Zoologico De Puerto Rico Dr Juan A Rivero",
          "Noah'S Lost Ark, Inc.",
          "Daniel Pradon Bobbi Pradon",
          "Terrill Al-Saihati",
          "Wildlife World Zoo, Inc.",
          "Terrill Al-Saihati",
          "Richard Evola",
          "Nick Sculac",
          "Kirsty Lee L L C",
          "Indian Cliffs Ranch Inc.",
          "Fedler Ag Inc.",
          "Jason Clay",
          "Timothy Stark",
          "Briarwood Ranch",
          "Nick Sculac",
          "Nick Sculac",
          "David Petroski",
          "Hershey Entertainment And Resorts Co",
          "Norristown Zoological Society",
          "Daniel Pradon Bobbi Pradon",
          "Jessica Mason Janell Knudsen",
          "Kirsty Lee L L C",
          "John Mark Johnson",
          "Coastal Farms And Exotics",
          "Jessica Mason Janell Knudsen",
          "Blue Ridge Kennel",
          "Terri Naylor",
          "City Of Idaho Falls",
          "Sandstone Valley Llc",
          "T. B. Holdings L L C",
          "Arbuckle Adventures Llc",
          "Arbuckle Adventures Llc",
          "North Dakota State University",
          "Single Vision Inc.",
          "University Of Illinois At Urbana-Champaign",
          "Houston Interactive Aquarium And Animal Preserve",
          "Anton Hash",
          "A & A Exotics Llc",
          "Forest Park Zoological Society",
          "Thomas Edmonds",
          "Robert And Dawn Troupe",
          "William Meadows",
          "Ruth Hargrove",
          "Zoological Wildlife Foundation Inc",
          "Daniel Coblentz",
          "William Meadows",
          "Delmar Wagler",
          "South Texas Zoological Society",
          "William Meadows",
          "William Meadows",
          "Sally Reaves",
          "Deloris Richards Dick Richards",
          "S Glenice Viken",
          "David  Manser",
          "256 Exotics, Llc",
          "Kern County Superintendent Of Schools Calm",
          "Deer Haven Mini Zoo",
          "Kellie Caron Raegan Royale",
          "256 Exotics, Llc",
          "Javon Stacks",
          "Wild Things Zoofari Inc.",
          "Kellie Caron Raegan Royale",
          "Stump Hill Farm",
          "A & A Exotics Llc",
          "Frances Reed Higgins",
          "Richard Evola",
          "William Meadows",
          "Magnolia Stockyard",
          "Equitech-Bio Inc.",
          "Kern County Superintendent Of Schools Calm",
          "Deer Haven Mini Zoo",
          "Jeffrey Lowe",
          "Suncoast Primate Sanctuary Foundation Inc",
          "Eastern Virginia Medical School",
          "University Of Texas- El Paso",
          "Delavan Lake Animal Park",
          "Bailiwick Ranch Inc",
          "Festival Fun Parks Llc",
          "Deer Haven Mini Zoo",
          "City Of Clay Center",
          "Mike Mc Clelland",
          "Deer Haven Mini Zoo",
          "Deer Haven Mini Zoo",
          "Deer Haven Mini Zoo",
          "The Care Foundation",
          "April Cicchelli Ryan Cicchelli",
          "The Care Foundation",
          "Patricia Bingham",
          "Noahs Ark Animal Rehab Center And Sanctuary Inc",
          "Envigo Global Services Inc",
          "Aaron Hostetler",
          "City Of Alamogordo",
          "Summer Wind Farm Sanctuary",
          "Summer Wind Farm Sanctuary",
          "Lincoln Memorial University",
          "Shirley Farms",
          "Leon Nolt",
          "David  Manser",
          "Summer Wind Farm Sanctuary",
          "Summer Wind Farm Sanctuary",
          "Levi Hershberger",
          "Pi Bioscientific Inc.",
          "University Of Houston",
          "Summer Wind Farm Sanctuary",
          "Carolyn Anderson",
          "Bailiwick Ranch Inc",
          "Ms Leisure Company, Inc.",
          "Wildlife Encounters, Llc",
          "Summer Wind Farm Sanctuary",
          "Alta Z. Martin",
          "Lovelace Biomedical Research Institute",
          "Kirsty Lee L L C",
          "The Mobile Zoo",
          "Christy Davis",
          "Carolyn Anderson",
          "Summer Wind Farm Sanctuary",
          "Scott Swanson",
          "Jim Kramer",
          "St Louis Aquacenter Inc.",
          "Deer Forest Amusements Inc",
          "Deer Forest Exotic Animal Sanctuary",
          "Carolyn Anderson",
          "Deer Forest Amusements Inc",
          "Deer Forest Exotic Animal Sanctuary",
          "Billy Johnston Cheryl Ullrich",
          "Skunkie Acres Inc",
          "The Mobile Zoo",
          "Summer Wind Farm Sanctuary",
          "Robert Sawmiller",
          "Marilyn Soukup",
          "Wilma Jinson",
          "Christy Davis",
          "Jurassic Pets L L C",
          "Catty Shack Ranch Wildlife Sanctuary",
          "Memory Lane Stables",
          "The Mobile Zoo",
          "Ted Johnson",
          "City Of North Platte",
          "Squam Lakes Natural Science Center",
          "Thompson Park Conservancy, Inc",
          "Merle Miller",
          "Summer Wind Farm Sanctuary",
          "Gail Connolly Dennis Connolly",
          "Robert Sawmiller",
          "Sue Pearce",
          "Cy",
          "Rocking Dirt Road Farms Llc",
          "William Lee",
          "Fort Rickey Discovery Zoo",
          "Johnsons Corner Farm Llc",
          "Yellowstone Wildlife Sanctuary",
          "Clayton Yoder",
          "Ashley Clement Raegan Clement",
          "Josh L. Souza",
          "Union County Sportsmen'S Club Inc",
          "City Of North Platte",
          "Summer Wind Farm Sanctuary",
          "Summer Wind Farm Sanctuary",
          "Animal Source Texas Inc.",
          "Pam Reynolds",
          "Marek Lipold",
          "The Learning Zoo Llc",
          "Arbuckle Adventures Llc",
          "Robert Sawmiller",
          "Cindy Bardin",
          "Arbuckle Adventures Llc",
          "Grace & Glory Ministries",
          "Immuno-Mycologics Inc.",
          "Craig Kokas",
          "Grace & Glory Ministries",
          "Fragile Planet Wildlife Foundation",
          "Richard English",
          "Weston Educational Inc.",
          "Thomas D Morris Inc",
          "Gary Rosenblum",
          "University Of California Davis",
          "Larry Wallach",
          "Arbuckle Adventures Llc",
          "Roberta Locke Anthony Locke",
          "Vincent Losacco",
          "Sea Research Foundation, Inc",
          "Mcclain Lodge Llc",
          "Cheryl Rondy",
          "City Of Hutchinson",
          "Rodney Stahl",
          "The Living Desert Zoo And Gardens",
          "James Svoboda",
          "Turk Hava Yollari A O Turkish Airlines",
          "University Of Utah",
          "Lovelace Biomedical Research Institute",
          "Qatar Airways Cargo",
          "Temple University",
          "Renee Ray",
          "Barbara Hammen Martin Hammen",
          "Tuskegee University",
          "University Of Georgia",
          "Morgan Machnik",
          "University Of Washington",
          "University Of Arkansas Fayettville",
          "Allergan",
          "University Of Missouri-Columbia",
          "University Of California Davis",
          "Randy Stoen",
          "Wendy Russeff",
          "Timothy Stark",
          "Zoo Boise",
          "Ashley Ram",
          "Oklahoma State University - Oklahoma City",
          "R B H S New Jersey Medical School",
          "Nolan Den Boer Gina Den Boer"
         ],
         "type": "scattergeo"
        }
       ],
       "layout": {
        "geo": {
         "landcolor": "rgb(230,230,230)",
         "projection": {
          "type": "albers usa"
         },
         "scope": "usa",
         "showland": true,
         "subunitwidth": 0.5
        },
        "template": {
         "data": {
          "bar": [
           {
            "error_x": {
             "color": "#2a3f5f"
            },
            "error_y": {
             "color": "#2a3f5f"
            },
            "marker": {
             "line": {
              "color": "#E5ECF6",
              "width": 0.5
             },
             "pattern": {
              "fillmode": "overlay",
              "size": 10,
              "solidity": 0.2
             }
            },
            "type": "bar"
           }
          ],
          "barpolar": [
           {
            "marker": {
             "line": {
              "color": "#E5ECF6",
              "width": 0.5
             },
             "pattern": {
              "fillmode": "overlay",
              "size": 10,
              "solidity": 0.2
             }
            },
            "type": "barpolar"
           }
          ],
          "carpet": [
           {
            "aaxis": {
             "endlinecolor": "#2a3f5f",
             "gridcolor": "white",
             "linecolor": "white",
             "minorgridcolor": "white",
             "startlinecolor": "#2a3f5f"
            },
            "baxis": {
             "endlinecolor": "#2a3f5f",
             "gridcolor": "white",
             "linecolor": "white",
             "minorgridcolor": "white",
             "startlinecolor": "#2a3f5f"
            },
            "type": "carpet"
           }
          ],
          "choropleth": [
           {
            "colorbar": {
             "outlinewidth": 0,
             "ticks": ""
            },
            "type": "choropleth"
           }
          ],
          "contour": [
           {
            "colorbar": {
             "outlinewidth": 0,
             "ticks": ""
            },
            "colorscale": [
             [
              0,
              "#0d0887"
             ],
             [
              0.1111111111111111,
              "#46039f"
             ],
             [
              0.2222222222222222,
              "#7201a8"
             ],
             [
              0.3333333333333333,
              "#9c179e"
             ],
             [
              0.4444444444444444,
              "#bd3786"
             ],
             [
              0.5555555555555556,
              "#d8576b"
             ],
             [
              0.6666666666666666,
              "#ed7953"
             ],
             [
              0.7777777777777778,
              "#fb9f3a"
             ],
             [
              0.8888888888888888,
              "#fdca26"
             ],
             [
              1,
              "#f0f921"
             ]
            ],
            "type": "contour"
           }
          ],
          "contourcarpet": [
           {
            "colorbar": {
             "outlinewidth": 0,
             "ticks": ""
            },
            "type": "contourcarpet"
           }
          ],
          "heatmap": [
           {
            "colorbar": {
             "outlinewidth": 0,
             "ticks": ""
            },
            "colorscale": [
             [
              0,
              "#0d0887"
             ],
             [
              0.1111111111111111,
              "#46039f"
             ],
             [
              0.2222222222222222,
              "#7201a8"
             ],
             [
              0.3333333333333333,
              "#9c179e"
             ],
             [
              0.4444444444444444,
              "#bd3786"
             ],
             [
              0.5555555555555556,
              "#d8576b"
             ],
             [
              0.6666666666666666,
              "#ed7953"
             ],
             [
              0.7777777777777778,
              "#fb9f3a"
             ],
             [
              0.8888888888888888,
              "#fdca26"
             ],
             [
              1,
              "#f0f921"
             ]
            ],
            "type": "heatmap"
           }
          ],
          "heatmapgl": [
           {
            "colorbar": {
             "outlinewidth": 0,
             "ticks": ""
            },
            "colorscale": [
             [
              0,
              "#0d0887"
             ],
             [
              0.1111111111111111,
              "#46039f"
             ],
             [
              0.2222222222222222,
              "#7201a8"
             ],
             [
              0.3333333333333333,
              "#9c179e"
             ],
             [
              0.4444444444444444,
              "#bd3786"
             ],
             [
              0.5555555555555556,
              "#d8576b"
             ],
             [
              0.6666666666666666,
              "#ed7953"
             ],
             [
              0.7777777777777778,
              "#fb9f3a"
             ],
             [
              0.8888888888888888,
              "#fdca26"
             ],
             [
              1,
              "#f0f921"
             ]
            ],
            "type": "heatmapgl"
           }
          ],
          "histogram": [
           {
            "marker": {
             "pattern": {
              "fillmode": "overlay",
              "size": 10,
              "solidity": 0.2
             }
            },
            "type": "histogram"
           }
          ],
          "histogram2d": [
           {
            "colorbar": {
             "outlinewidth": 0,
             "ticks": ""
            },
            "colorscale": [
             [
              0,
              "#0d0887"
             ],
             [
              0.1111111111111111,
              "#46039f"
             ],
             [
              0.2222222222222222,
              "#7201a8"
             ],
             [
              0.3333333333333333,
              "#9c179e"
             ],
             [
              0.4444444444444444,
              "#bd3786"
             ],
             [
              0.5555555555555556,
              "#d8576b"
             ],
             [
              0.6666666666666666,
              "#ed7953"
             ],
             [
              0.7777777777777778,
              "#fb9f3a"
             ],
             [
              0.8888888888888888,
              "#fdca26"
             ],
             [
              1,
              "#f0f921"
             ]
            ],
            "type": "histogram2d"
           }
          ],
          "histogram2dcontour": [
           {
            "colorbar": {
             "outlinewidth": 0,
             "ticks": ""
            },
            "colorscale": [
             [
              0,
              "#0d0887"
             ],
             [
              0.1111111111111111,
              "#46039f"
             ],
             [
              0.2222222222222222,
              "#7201a8"
             ],
             [
              0.3333333333333333,
              "#9c179e"
             ],
             [
              0.4444444444444444,
              "#bd3786"
             ],
             [
              0.5555555555555556,
              "#d8576b"
             ],
             [
              0.6666666666666666,
              "#ed7953"
             ],
             [
              0.7777777777777778,
              "#fb9f3a"
             ],
             [
              0.8888888888888888,
              "#fdca26"
             ],
             [
              1,
              "#f0f921"
             ]
            ],
            "type": "histogram2dcontour"
           }
          ],
          "mesh3d": [
           {
            "colorbar": {
             "outlinewidth": 0,
             "ticks": ""
            },
            "type": "mesh3d"
           }
          ],
          "parcoords": [
           {
            "line": {
             "colorbar": {
              "outlinewidth": 0,
              "ticks": ""
             }
            },
            "type": "parcoords"
           }
          ],
          "pie": [
           {
            "automargin": true,
            "type": "pie"
           }
          ],
          "scatter": [
           {
            "fillpattern": {
             "fillmode": "overlay",
             "size": 10,
             "solidity": 0.2
            },
            "type": "scatter"
           }
          ],
          "scatter3d": [
           {
            "line": {
             "colorbar": {
              "outlinewidth": 0,
              "ticks": ""
             }
            },
            "marker": {
             "colorbar": {
              "outlinewidth": 0,
              "ticks": ""
             }
            },
            "type": "scatter3d"
           }
          ],
          "scattercarpet": [
           {
            "marker": {
             "colorbar": {
              "outlinewidth": 0,
              "ticks": ""
             }
            },
            "type": "scattercarpet"
           }
          ],
          "scattergeo": [
           {
            "marker": {
             "colorbar": {
              "outlinewidth": 0,
              "ticks": ""
             }
            },
            "type": "scattergeo"
           }
          ],
          "scattergl": [
           {
            "marker": {
             "colorbar": {
              "outlinewidth": 0,
              "ticks": ""
             }
            },
            "type": "scattergl"
           }
          ],
          "scattermapbox": [
           {
            "marker": {
             "colorbar": {
              "outlinewidth": 0,
              "ticks": ""
             }
            },
            "type": "scattermapbox"
           }
          ],
          "scatterpolar": [
           {
            "marker": {
             "colorbar": {
              "outlinewidth": 0,
              "ticks": ""
             }
            },
            "type": "scatterpolar"
           }
          ],
          "scatterpolargl": [
           {
            "marker": {
             "colorbar": {
              "outlinewidth": 0,
              "ticks": ""
             }
            },
            "type": "scatterpolargl"
           }
          ],
          "scatterternary": [
           {
            "marker": {
             "colorbar": {
              "outlinewidth": 0,
              "ticks": ""
             }
            },
            "type": "scatterternary"
           }
          ],
          "surface": [
           {
            "colorbar": {
             "outlinewidth": 0,
             "ticks": ""
            },
            "colorscale": [
             [
              0,
              "#0d0887"
             ],
             [
              0.1111111111111111,
              "#46039f"
             ],
             [
              0.2222222222222222,
              "#7201a8"
             ],
             [
              0.3333333333333333,
              "#9c179e"
             ],
             [
              0.4444444444444444,
              "#bd3786"
             ],
             [
              0.5555555555555556,
              "#d8576b"
             ],
             [
              0.6666666666666666,
              "#ed7953"
             ],
             [
              0.7777777777777778,
              "#fb9f3a"
             ],
             [
              0.8888888888888888,
              "#fdca26"
             ],
             [
              1,
              "#f0f921"
             ]
            ],
            "type": "surface"
           }
          ],
          "table": [
           {
            "cells": {
             "fill": {
              "color": "#EBF0F8"
             },
             "line": {
              "color": "white"
             }
            },
            "header": {
             "fill": {
              "color": "#C8D4E3"
             },
             "line": {
              "color": "white"
             }
            },
            "type": "table"
           }
          ]
         },
         "layout": {
          "annotationdefaults": {
           "arrowcolor": "#2a3f5f",
           "arrowhead": 0,
           "arrowwidth": 1
          },
          "autotypenumbers": "strict",
          "coloraxis": {
           "colorbar": {
            "outlinewidth": 0,
            "ticks": ""
           }
          },
          "colorscale": {
           "diverging": [
            [
             0,
             "#8e0152"
            ],
            [
             0.1,
             "#c51b7d"
            ],
            [
             0.2,
             "#de77ae"
            ],
            [
             0.3,
             "#f1b6da"
            ],
            [
             0.4,
             "#fde0ef"
            ],
            [
             0.5,
             "#f7f7f7"
            ],
            [
             0.6,
             "#e6f5d0"
            ],
            [
             0.7,
             "#b8e186"
            ],
            [
             0.8,
             "#7fbc41"
            ],
            [
             0.9,
             "#4d9221"
            ],
            [
             1,
             "#276419"
            ]
           ],
           "sequential": [
            [
             0,
             "#0d0887"
            ],
            [
             0.1111111111111111,
             "#46039f"
            ],
            [
             0.2222222222222222,
             "#7201a8"
            ],
            [
             0.3333333333333333,
             "#9c179e"
            ],
            [
             0.4444444444444444,
             "#bd3786"
            ],
            [
             0.5555555555555556,
             "#d8576b"
            ],
            [
             0.6666666666666666,
             "#ed7953"
            ],
            [
             0.7777777777777778,
             "#fb9f3a"
            ],
            [
             0.8888888888888888,
             "#fdca26"
            ],
            [
             1,
             "#f0f921"
            ]
           ],
           "sequentialminus": [
            [
             0,
             "#0d0887"
            ],
            [
             0.1111111111111111,
             "#46039f"
            ],
            [
             0.2222222222222222,
             "#7201a8"
            ],
            [
             0.3333333333333333,
             "#9c179e"
            ],
            [
             0.4444444444444444,
             "#bd3786"
            ],
            [
             0.5555555555555556,
             "#d8576b"
            ],
            [
             0.6666666666666666,
             "#ed7953"
            ],
            [
             0.7777777777777778,
             "#fb9f3a"
            ],
            [
             0.8888888888888888,
             "#fdca26"
            ],
            [
             1,
             "#f0f921"
            ]
           ]
          },
          "colorway": [
           "#636efa",
           "#EF553B",
           "#00cc96",
           "#ab63fa",
           "#FFA15A",
           "#19d3f3",
           "#FF6692",
           "#B6E880",
           "#FF97FF",
           "#FECB52"
          ],
          "font": {
           "color": "#2a3f5f"
          },
          "geo": {
           "bgcolor": "white",
           "lakecolor": "white",
           "landcolor": "#E5ECF6",
           "showlakes": true,
           "showland": true,
           "subunitcolor": "white"
          },
          "hoverlabel": {
           "align": "left"
          },
          "hovermode": "closest",
          "mapbox": {
           "style": "light"
          },
          "paper_bgcolor": "white",
          "plot_bgcolor": "#E5ECF6",
          "polar": {
           "angularaxis": {
            "gridcolor": "white",
            "linecolor": "white",
            "ticks": ""
           },
           "bgcolor": "#E5ECF6",
           "radialaxis": {
            "gridcolor": "white",
            "linecolor": "white",
            "ticks": ""
           }
          },
          "scene": {
           "xaxis": {
            "backgroundcolor": "#E5ECF6",
            "gridcolor": "white",
            "gridwidth": 2,
            "linecolor": "white",
            "showbackground": true,
            "ticks": "",
            "zerolinecolor": "white"
           },
           "yaxis": {
            "backgroundcolor": "#E5ECF6",
            "gridcolor": "white",
            "gridwidth": 2,
            "linecolor": "white",
            "showbackground": true,
            "ticks": "",
            "zerolinecolor": "white"
           },
           "zaxis": {
            "backgroundcolor": "#E5ECF6",
            "gridcolor": "white",
            "gridwidth": 2,
            "linecolor": "white",
            "showbackground": true,
            "ticks": "",
            "zerolinecolor": "white"
           }
          },
          "shapedefaults": {
           "line": {
            "color": "#2a3f5f"
           }
          },
          "ternary": {
           "aaxis": {
            "gridcolor": "white",
            "linecolor": "white",
            "ticks": ""
           },
           "baxis": {
            "gridcolor": "white",
            "linecolor": "white",
            "ticks": ""
           },
           "bgcolor": "#E5ECF6",
           "caxis": {
            "gridcolor": "white",
            "linecolor": "white",
            "ticks": ""
           }
          },
          "title": {
           "x": 0.05
          },
          "xaxis": {
           "automargin": true,
           "gridcolor": "white",
           "linecolor": "white",
           "ticks": "",
           "title": {
            "standoff": 15
           },
           "zerolinecolor": "white",
           "zerolinewidth": 2
          },
          "yaxis": {
           "automargin": true,
           "gridcolor": "white",
           "linecolor": "white",
           "ticks": "",
           "title": {
            "standoff": 15
           },
           "zerolinecolor": "white",
           "zerolinewidth": 2
          }
         }
        },
        "title": {
         "text": "U.S. Animal Welfare Inspections 2014-2022<br><sup>All reports that found 2+ critical issues or 8+ non-critical ones</sup>"
        }
       }
      }
     },
     "metadata": {},
     "output_type": "display_data"
    }
   ],
   "source": [
    "# Now the hovertext\n",
    "\n",
    "hovertext = multiple_criticals['legalName']\n",
    "hoverinfo = 'text'\n",
    "\n",
    "fig.update_traces(overwrite=True, hovertext=hovertext, hoverinfo=hoverinfo)"
   ]
  },
  {
   "cell_type": "code",
   "execution_count": 80,
   "metadata": {},
   "outputs": [
    {
     "name": "stdout",
     "output_type": "stream",
     "text": [
      "None\n"
     ]
    }
   ],
   "source": [
    "# Change some of the formatting, like the way the mouseover looks\n",
    "\n",
    "print(fig.data[0].hovertemplate)"
   ]
  },
  {
   "cell_type": "code",
   "execution_count": 92,
   "metadata": {},
   "outputs": [
    {
     "ename": "ValueError",
     "evalue": "\n    Invalid value of type 'plotly.graph_objs._figure.Figure' received for the 'connectgaps' property of scattergeo\n        Received value: Figure({\n    'data': [{'customdata': array([['https://aphis--c.na107.content.force.com/sfc/dist/version/download/?oid=00Dt0000000GyZH&ids=068t000000Dnw9Q&d=%2Fa%2F3d000000pdQs%2FBdTeXYiEOMGHsQXQBDzoqIh9Qc2L6WcjNm8Mre5gLww&asPdf=false',\n                                    15780.0, 0, ..., 'Dealer', 40.369659010493024, -75.54738698319876],\n                                   ['https://aphis--c.na107.content.force.com/sfc/dist/version/download/?oid=00Dt0000000GyZH&ids=068t000000ERYb6&d=%2Fa%2F3d000000pkqz%2F0Xm5lDZkhpTx8FP.LRH45BKoC1Zekv5njEdwxlFr2No&asPdf=false',\n                                    3953.0, 1, ..., 'Dealer', 30.834789011084837, -87.14930898842836],\n                                   ['https://aphis--c.na107.content.force.com/sfc/dist/version/download/?oid=00Dt0000000GyZH&ids=068t000000awYYz&d=%2Fa%2F3d000000pVEW%2F3DsFMhtMOn9ZoAHhDlQ2nm8g6znXBZmmIm1PxsZsCQY&asPdf=false',\n                                    3000.0, 3, ..., 'Dealer', 32.68081798343026, -80.84191402459606],\n                                   ...,\n                                   ['https://aphis--c.na107.content.force.com/sfc/dist/version/download/?oid=00Dt0000000GyZH&ids=068t000000DnwXg&d=%2Fa%2F3d000000pZST%2FUqHgH3DYP2b0AkJO1jF_O9Sr5.rzPMOVIfReJAtY8e4&asPdf=false',\n                                    15.0, 0, ..., 'Dealer', 39.80096000000003, -97.45646499999998],\n                                   ['https://aphis--c.na107.content.force.com/sfc/dist/version/download/?oid=00Dt0000000GyZH&ids=068t000000DnwgG&d=%2Fa%2F3d000000pRyq%2Fuub7ET_v4rBjKohvYjk.yTQ4WH6J93n7_7X2p0MfxPA&asPdf=false',\n                                    6.0, 4, ..., 'Dealer', 40.210877424795115, -93.15107732714459],\n                                   ['https://aphis--c.na107.content.force.com/sfc/dist/version/download/?oid=00Dt0000000GyZH&ids=068t000000gPQIE&d=%2Fa%2F3d000000paQb%2F6VAwsWj9Mpf2s.durYn.UrXhM7pO5tG6NuYAaFcmtvo&asPdf=false',\n                                    0.0, 3, ..., 'Dealer', 42.9739719829401, -88.03556499445604]],\n                                  dtype=object),\n              'geo': 'geo',\n              'hovertemplate': ('<b>%{hovertext}</b><br>Number ' ... 'l Violations: %{customdata[3]}'),\n              'hovertext': array(['Martha Holmes', 'Perfect Birds L L C', 'Alpha Genesis Inc',\n                                  'Primate Products, Inc.', 'Tyler Cleckley',\n                                  'Wilson Horse & Mule Sale Inc', 'Mount Hope Auction, Inc.',\n                                  'Wilson Horse & Mule Sale Inc', 'Pro Sci, Inc.',\n                                  'The Farm At Walnut Creek', 'Ashley Duncan', 'Lloyd Yoder',\n                                  'Bobbi Pradon & Daniel Pradon', 'Bobbi Pradon & Daniel Pradon',\n                                  'Coastal Exotics', 'A & A Exotics L L C', 'Anton F Hash',\n                                  'Thomas F Edmonds', '256 Exotics, Llc', 'David  Manser',\n                                  'A & A Exotics L L C', 'Magnolia Stockyard', 'David  Manser',\n                                  'Cheryl Ullrich & Billy Johnston', 'Jurassic Pets, Llc',\n                                  'Dennis & Gail Connolly', 'Josh Souza', 'Pam Reynolds',\n                                  'Vincent Losacco', 'Morgan R Machnik'], dtype=object),\n              'lat': array([40.36965901, 30.83478901, 32.68081798, 26.26166702, 29.65151901,\n                            36.10825602, 40.62414   , 36.10825602, 32.93754801, 35.65749499,\n                            29.727371  , 41.53769021, 31.82755298, 31.82755298, 30.86954964,\n                            30.12698699, 40.20151598, 39.23876299, 34.82216102, 35.44642601,\n                            30.12698699, 32.737215  , 35.44642601, 39.81785301, 39.96129399,\n                            41.279418  , 37.63346381, 39.80096   , 40.21087742, 42.97397198]),\n              'legendgroup': 'Dealer',\n              'lon': array([ -75.54738698,  -87.14930899,  -80.84191402,  -81.21244301,\n                             -95.58284804,  -85.53611801,  -81.78472   ,  -85.53611801,\n                            -117.04065302,  -80.72953299,  -97.80409203,  -91.63484399,\n                            -102.47559799, -102.47559799,  -88.22040001,  -82.69504997,\n                             -82.16006   ,  -87.66545896,  -86.48534097,  -85.06453303,\n                             -82.69504997,  -89.53096   ,  -85.06453303,  -93.59644302,\n                            -104.61145897,  -93.15355298,  -92.86742109,  -97.456465  ,\n                             -93.15107733,  -88.03556499]),\n              'marker': {'color': '#636efa',\n                         'size': array([1.578e+04, 3.953e+03, 3.000e+03, 2.347e+03, 1.809e+03, 1.230e+03,\n                                        1.026e+03, 1.007e+03, 9.160e+02, 5.150e+02, 4.270e+02, 1.700e+02,\n                                        1.380e+02, 1.060e+02, 1.000e+02, 8.500e+01, 8.500e+01, 8.200e+01,\n                                        7.300e+01, 7.300e+01, 6.800e+01, 6.500e+01, 4.700e+01, 3.700e+01,\n                                        3.100e+01, 2.700e+01, 1.900e+01, 1.500e+01, 6.000e+00, 0.000e+00]),\n                         'sizemode': 'area',\n                         'sizeref': 17.533333333333335,\n                         'symbol': 'circle'},\n              'mode': 'markers',\n              'name': 'Dealer',\n              'showlegend': True,\n              'type': 'scattergeo'},\n             {'customdata': array([['https://aphis--c.na107.content.force.com/sfc/dist/version/download/?oid=00Dt0000000GyZH&ids=068t000000V8ER9&d=%2Fa%2F3d000000pe9X%2F.h0jMlUSlzDh_6PimM1josuHdRiTreVs9cYdyHIaJ6Q&asPdf=false',\n                                    5035.0, 3, ..., 'Breeder', 39.909484018529525, -86.08529100477942],\n                                   ['https://aphis--c.na107.content.force.com/sfc/dist/version/download/?oid=00Dt0000000GyZH&ids=068t000000G09tM&d=%2Fa%2F3d000000pe9a%2F_c13_ag1a02EoStspBU1S.yWA6P1A19gdCrsODl5KRo&asPdf=false',\n                                    4652.0, 0, ..., 'Breeder', 39.909484018529525, -86.08529100477942],\n                                   ['https://aphis--c.na107.content.force.com/sfc/dist/version/download/?oid=00Dt0000000GyZH&ids=068t000000Dnw4b&d=%2Fa%2F3d000000pWgM%2FOSYk711_KE7N5Z4YP2ZYXh2M_wJ66.21R8yDwGgBXEA&asPdf=false',\n                                    1003.0, 0, ..., 'Breeder', 38.4361000025813, -92.66509002664364],\n                                   ...,\n                                   ['https://aphis--c.na107.content.force.com/sfc/dist/version/download/?oid=00Dt0000000GyZH&ids=068t000000DnwPY&d=%2Fa%2F3d000000pmtt%2FSnhYC2HjjKJxG0DhW4uzs7SSawgWwkXjBEwFiLtkxaU&asPdf=false',\n                                    28.0, 0, ..., 'Breeder', 40.6398150001838, -81.96475603709219],\n                                   ['https://aphis--c.na107.content.force.com/sfc/dist/version/download/?oid=00Dt0000000GyZH&ids=068t000000DnwB0&d=%2Fa%2F3d000000pmkB%2FT0mDXFSe9kX2YXIi0E7QjTYJXfchYtFRO2_NMS4LBOo&asPdf=false',\n                                    22.0, 0, ..., 'Breeder', 36.57963456803587, -91.91290749692297],\n                                   ['https://aphis--c.na107.content.force.com/sfc/dist/version/download/?oid=00Dt0000000GyZH&ids=068t000000DnwLp&d=%2Fa%2F3d000000pi5c%2Fev29uNj9Oxv24nxbuonWbICPfSTR8LPkD799tr7O688&asPdf=false',\n                                    16.0, 0, ..., 'Breeder', 43.17552901020997, -96.39315604064295]],\n                                  dtype=object),\n              'geo': 'geo',\n              'hovertemplate': ('<b>%{hovertext}</b><br>Number ' ... 'l Violations: %{customdata[3]}'),\n              'hovertext': array(['Envigo Rms Llc', 'Envigo Rms Llc', 'Vernon Zeiset', 'Craig Kokas',\n                                  'Craig Kokas', 'David And Malinda King', 'Craig Kokas',\n                                  'Tyler Cleckley', 'Tyler Cleckley', 'Tyler Cleckley',\n                                  'Daniel Gingerich', 'Craig Kokas', 'Moses Fisher', 'Daniel Gingerich',\n                                  'Daniel Gingerich', 'Daniel Gingerich', 'David Petroski',\n                                  'Daniel Gingerich', 'Daniel Gingerich', 'Daniel Gingerich',\n                                  'Phil Weymouth, Yolanda Weymouth', 'Classy Creations', 'Jerry Holly',\n                                  'Pamela L. Baldwin', 'Jerry Holly', 'A.G. Beukelman',\n                                  'Bob & Leslie Loutsch', 'Fedler Ag Inc', 'Terri Naylor', 'Dan Yoder',\n                                  'Ruth Hargrove', 'Daniel D Coblentz', 'Deloris And Dick Richards',\n                                  'S Glenice Viken', 'Patricia Bingham.', 'Carolyn Anderson',\n                                  'Alta Z Martin', 'Carolyn Anderson', 'Scott Swanson',\n                                  'Carolyn Anderson', 'Marilyn Soukup', 'Wilma Jinson', 'Ted Johnson',\n                                  'Merle Miller', 'Clayton Yoder', 'Nolan And Gina Den Boer'],\n                                 dtype=object),\n              'lat': array([39.90948402, 39.90948402, 38.4361    , 40.52659598, 40.52659598,\n                            39.85563901, 40.52659598, 29.65151901, 29.65151901, 29.65151901,\n                            40.62287999, 40.52659598, 40.988609  , 40.62287999, 40.62287999,\n                            40.62287999, 40.66198376, 40.62287999, 40.62287999, 40.62287999,\n                            35.30091597, 43.064965  , 38.74576849, 37.65225099, 38.74576849,\n                            43.02767299, 42.787401  , 40.725778  , 40.647372  , 43.969565  ,\n                            35.74663171, 42.448342  , 44.41519899, 48.81091   , 29.42381   ,\n                            43.15795501, 43.09641499, 43.15795501, 41.22280669, 43.15795501,\n                            38.83621698, 36.71532001, 43.940923  , 40.639815  , 36.57963457,\n                            43.17552901]),\n              'legendgroup': 'Breeder',\n              'lon': array([-86.085291  , -86.085291  , -92.66509003, -83.21594603, -83.21594603,\n                            -76.03780099, -83.21594603, -95.58284804, -95.58284804, -95.58284804,\n                            -93.14892399, -83.21594603, -77.42192997, -93.14892399, -93.14892399,\n                            -93.14892399, -77.13163282, -93.14892399, -93.14892399, -93.14892399,\n                            -93.56662985, -76.99033   , -76.77707764, -91.81194304, -76.77707764,\n                            -96.12993704, -95.87567301, -91.46835299, -93.63528501, -92.063385  ,\n                            -95.76611996, -86.016894  , -95.82942502, -95.79206797, -95.24538   ,\n                            -93.20177298, -92.53282603, -93.20177298, -92.10913461, -93.20177298,\n                            -98.39571098, -94.23999398, -95.22447097, -81.96475604, -91.9129075 ,\n                            -96.39315604]),\n              'marker': {'color': '#EF553B',\n                         'size': array([5035., 4652., 1003.,  703.,  699.,  667.,  642.,  616.,  609.,  609.,\n                                         603.,  595.,  364.,  346.,  305.,  301.,  287.,  262.,  262.,  261.,\n                                         259.,  244.,  175.,  171.,  162.,  154.,  152.,  120.,   97.,   95.,\n                                          80.,   78.,   75.,   74.,   53.,   45.,   44.,   40.,   39.,   38.,\n                                          35.,   33.,   29.,   28.,   22.,   16.]),\n                         'sizemode': 'area',\n                         'sizeref': 17.533333333333335,\n                         'symbol': 'circle'},\n              'mode': 'markers',\n              'name': 'Breeder',\n              'showlegend': True,\n              'type': 'scattergeo'},\n             {'customdata': array([['https://aphis--c.na107.content.force.com/sfc/dist/version/download/?oid=00Dt0000000GyZH&ids=068t000000DnwMW&d=%2Fa%2F3d000000pYfa%2FsfPl8v30QCSpl9bqKsyMllTAHKLKvdAlQxksrQ_ABjc&asPdf=false',\n                                    2122.0, 3, 2, 'Research', 43.073726982378275, -89.4155610303467],\n                                   ['https://aphis--c.na107.content.force.com/sfc/dist/version/download/?oid=00Dt0000000GyZH&ids=068t000000V8Qq9&d=%2Fa%2F3d000000pYmB%2FaSnE7_iAhQ4AeW4..cEhZSA9_An6cjubuJv7kZB4.Ss&asPdf=false',\n                                    2081.0, 4, 0, 'Research', 47.93832098037856, -122.26699898124998],\n                                   ['https://aphis--c.na107.content.force.com/sfc/dist/version/download/?oid=00Dt0000000GyZH&ids=068t000000PMzkU&d=%2Fa%2F3d000000pWB4%2F0ENL9PICsDJYe9wJlMzE8DaJ5p_oSSArqO03mf03yPM&asPdf=false',\n                                    821.0, 3, 2, 'Research', 36.08955178691299, -80.27134686918126],\n                                   ['https://aphis--c.na107.content.force.com/sfc/dist/version/download/?oid=00Dt0000000GyZH&ids=068t000000YyAb0&d=%2Fa%2F3d000000pYQd%2FWX30KsEzEG3xtG.3YvTltWPTvAYcJHV90bbnIofg7Dg&asPdf=false',\n                                    475.0, 3, 6, 'Research', 35.12152027566615, -89.93956024336576],\n                                   ['https://aphis--c.na107.content.force.com/sfc/dist/version/download/?oid=00Dt0000000GyZH&ids=068t000000ERYXE&d=%2Fa%2F3d000000pVZj%2Fgy.ZFmmvnp9mo8heVhrreiQBFh058DnQanhPrGZ.4WA&asPdf=false',\n                                    376.0, 3, 3, 'Research', 35.056133002534565, -106.57876196623722],\n                                   ['https://aphis--c.na107.content.force.com/sfc/dist/version/download/?oid=00Dt0000000GyZH&ids=068t000000ERYbB&d=%2Fa%2F3d000000pl4c%2FgHm65jn4803CjdbBPXg0BM21IC8D1X5D2F7JVRqmvmw&asPdf=false',\n                                    272.0, 3, 2, 'Research', 37.42086100737605, -122.14133396844441],\n                                   ['https://aphis--c.na107.content.force.com/sfc/dist/version/download/?oid=00Dt0000000GyZH&ids=068t000000V8rEM&d=%2Fa%2F3d000000pgr1%2FLuMrgHei.ai4FZj3.CZbGjfz7ufTAtwFPusCd1C8unw&asPdf=false',\n                                    216.0, 3, 0, 'Research', 33.50369401904926, -86.79741498399406],\n                                   ['https://aphis--c.na107.content.force.com/sfc/dist/version/download/?oid=00Dt0000000GyZH&ids=068t000000ERYfN&d=%2Fa%2F3d000000pdYr%2FVfZ60UiTYvQYS.SWsbtjvkDCwEpyjeGCHBuV1J_34As&asPdf=false',\n                                    196.0, 3, 6, 'Research', 39.52551699687052, -84.67934199826762],\n                                   ['https://aphis--c.na107.content.force.com/sfc/dist/version/download/?oid=00Dt0000000GyZH&ids=068t000000PMi6f&d=%2Fa%2F3d000000pRsv%2F2I2g2w2hcmq6uUant5Xg4aQFID7.UE9WVaXg_v0D_ss&asPdf=false',\n                                    175.0, 3, 0, 'Research', 36.13048272419477, -97.05920095433392],\n                                   ['https://aphis--c.na107.content.force.com/sfc/dist/version/download/?oid=00Dt0000000GyZH&ids=068t000000gPBWH&d=%2Fa%2F3d000000pVQ9%2FwEbQZH_LTmWn_9JAGtdXpQFvxLC1nFtb4inKCxswbFY&asPdf=false',\n                                    97.0, 0, 12, 'Research', 32.539810000000045, -86.21069499999999],\n                                   ['https://aphis--c.na107.content.force.com/sfc/dist/version/download/?oid=00Dt0000000GyZH&ids=068t000000DnwR7&d=%2Fa%2F3d000000pTYq%2Fmw3yCRyMVp4IsLgr6nodBJK0Hf4tPQtj6znrqh_3JbY&asPdf=false',\n                                    48.0, 0, 10, 'Research', 36.58059770680676, -83.6566115847676],\n                                   ['https://aphis--c.na107.content.force.com/sfc/dist/version/download/?oid=00Dt0000000GyZH&ids=068t000000DnwWd&d=%2Fa%2F3d000000pau9%2FFucrowuCbI0lbEVpDNvXo_NfeoKCvWYFhQRxoHM950I&asPdf=false',\n                                    46.0, 0, 9, 'Research', 47.69012901358778, -122.30887304167676],\n                                   ['https://aphis--c.na107.content.force.com/sfc/dist/version/download/?oid=00Dt0000000GyZH&ids=068t000000awK5X&d=%2Fa%2F3d000000pd6E%2Fcs1glhMfktOBQOBx8FXJ8C7fkNyidanztOHM8D5IXX4&asPdf=false',\n                                    46.0, 3, 2, 'Research', 29.716523014808317, -95.33888101360708],\n                                   ['https://aphis--c.na107.content.force.com/sfc/dist/version/download/?oid=00Dt0000000GyZH&ids=068t000000ERYfg&d=%2Fa%2F3d000000pX0H%2Fu12f4Ze7_DADkuCSbrlyO_Pax5KWps_57xAosqz8dxE&asPdf=false',\n                                    9.0, 3, 3, 'Research', 39.78243900918514, -105.06153397497792],\n                                   ['https://aphis--c.na107.content.force.com/sfc/dist/version/download/?oid=00Dt0000000GyZH&ids=068t000000ERYZF&d=%2Fa%2F3d000000pUvo%2FdcOqqTWTh5PHEbz.y7KXr9ggJl_lAVF9w8DRJQfM0VU&asPdf=false',\n                                    8.0, 4, 0, 'Research', 38.53552198900633, -121.7462230388756],\n                                   ['https://aphis--c.na107.content.force.com/sfc/dist/version/download/?oid=00Dt0000000GyZH&ids=068t000000ERYfH&d=%2Fa%2F3d000000pdQX%2FztdjXk_1AwGRrpOG345FNEnNQxHbXt1H5gNMMWg3sTA&asPdf=false',\n                                    0.0, 5, 0, 'Research', 35.46910899480298, -97.58243301770763],\n                                   ['https://aphis--c.na107.content.force.com/sfc/dist/version/download/?oid=00Dt0000000GyZH&ids=068t000000ERYlS&d=%2Fa%2F3d000000pUuc%2F4F5xDZpgTUiSRvCW2W_GIgQEpmQ5EFTCpWqCJHAJBaI&asPdf=false',\n                                    0.0, 3, 0, 'Research', 38.53552198900633, -121.7462230388756]],\n                                  dtype=object),\n              'geo': 'geo',\n              'hovertemplate': ('<b>%{hovertext}</b><br>Number ' ... 'l Violations: %{customdata[3]}'),\n              'hovertext': array(['All Campus Sites', 'Altasciences Preclinical Seattle Llc',\n                                  'Animal Resources Program/Downtown Campus', 'Univ. Of Memphis',\n                                  'Lovelace Biomedical Research Institute', 'Stanford University',\n                                  'Southern Research Institute', 'Equitech-Bio Inc.',\n                                  'Oklahoma State University', 'Blue Ridge Kennel',\n                                  'Lincoln Memorial University', 'Pi Bioscientific Inc.',\n                                  'University Of Houston', 'Weston Educational Inc.',\n                                  'University Of California, Davis',\n                                  'Oklahoma State University At Oklahoma City',\n                                  'University Of California, Davis'], dtype=object),\n              'lat': array([43.07372698, 47.93832098, 36.08955179, 35.12152028, 35.056133  ,\n                            37.42086101, 33.50369402, 39.525517  , 36.13048272, 32.53981   ,\n                            36.58059771, 47.69012901, 29.71652301, 39.78243901, 38.53552199,\n                            35.46910899, 38.53552199]),\n              'legendgroup': 'Research',\n              'lon': array([ -89.41556103, -122.26699898,  -80.27134687,  -89.93956024,\n                            -106.57876197, -122.14133397,  -86.79741498,  -84.679342  ,\n                             -97.05920095,  -86.210695  ,  -83.65661158, -122.30887304,\n                             -95.33888101, -105.06153397, -121.74622304,  -97.58243302,\n                            -121.74622304]),\n              'marker': {'color': '#00cc96',\n                         'size': array([2122., 2081.,  821.,  475.,  376.,  272.,  216.,  196.,  175.,   97.,\n                                          48.,   46.,   46.,    9.,    8.,    0.,    0.]),\n                         'sizemode': 'area',\n                         'sizeref': 17.533333333333335,\n                         'symbol': 'circle'},\n              'mode': 'markers',\n              'name': 'Research',\n              'showlegend': True,\n              'type': 'scattergeo'},\n             {'customdata': array([['https://aphis--c.na107.content.force.com/sfc/dist/version/download/?oid=00Dt0000000GyZH&ids=068t000000DnwDJ&d=%2Fa%2F3d000000pc3K%2Fg.NtmU.8T2s1JcMo_WLGCD62hpwogSFKnw_SLkRIgGE&asPdf=false',\n                                    853.0, 0, ..., 'Exhibitor', 36.29635904277505, -94.49612431903189],\n                                   ['https://aphis--c.na107.content.force.com/sfc/dist/version/download/?oid=00Dt0000000GyZH&ids=068t000000DnwK8&d=%2Fa%2F3d000000pZlH%2F7DJ4Xkk1PGnlgi6_qs4W4vOOPZnMcu9jpFrbxHhqF6U&asPdf=false',\n                                    580.0, 1, ..., 'Exhibitor', 35.76842600282674, -89.12494896404675],\n                                   ['https://aphis--c.na107.content.force.com/sfc/dist/version/download/?oid=00Dt0000000GyZH&ids=068t000000DnwFN&d=%2Fa%2F3d000000piel%2F879f9i3PU4gg.MHf1aqr6ZK_6xmbKjyoDCO3L92BU10&asPdf=false',\n                                    478.0, 0, ..., 'Exhibitor', 37.64716370000008, -79.52853359999995],\n                                   ...,\n                                   ['https://aphis--c.na107.content.force.com/sfc/dist/version/download/?oid=00Dt0000000GyZH&ids=068t000000ERYX1&d=%2Fa%2F3d000000pmBQ%2FILySSf81WQ.KgXoPe04l3109EWmTWDVw1siovKoiJa4&asPdf=false',\n                                    3.0, 3, ..., 'Exhibitor', 38.05725000000007, -97.93267999999995],\n                                   ['https://aphis--c.na107.content.force.com/sfc/dist/version/download/?oid=00Dt0000000GyZH&ids=068t000000ERYnp&d=%2Fa%2F3d000000pkbh%2FjoQf3PA8wYMwrzUED8vm2RNW54DdCm09QrHXDD__y20&asPdf=false',\n                                    1.0, 3, ..., 'Exhibitor', 44.31434399649237, -83.56025398874667],\n                                   ['https://aphis--c.na107.content.force.com/sfc/dist/version/download/?oid=00Dt0000000GyZH&ids=068t000000V9Ec9&d=%2Fa%2F3d000000ph2c%2F6Af4CITGNbRUx2CwVb1TMHvH9tTkH36FPAuiPbjcHk4&asPdf=false',\n                                    0.0, 3, ..., 'Exhibitor', 42.35180900076023, -88.82260902264277]],\n                                  dtype=object),\n              'geo': 'geo',\n              'hovertemplate': ('<b>%{hovertext}</b><br>Number ' ... 'l Violations: %{customdata[3]}'),\n              'hovertext': array(['Wild Wilderness Inc.', 'Claude & Jon Conley', 'Karl Mogensen',\n                                  'Hollywild Animal Park Inc', 'Sally L Reaves', 'Karl Mogensen',\n                                  'Arbuckle Adventures, L L C', 'Arbuckle Adventures, L L C',\n                                  'Arbuckle Adventures, L L C', 'Clinton Wolston I I I',\n                                  'Hollywild Animal Park Inc', 'Sally L Reaves', 'Critter Barn',\n                                  'Pymatuning Deer Park', 'Pymatuning Deer Park', 'Terry Beal',\n                                  'Pymatuning Deer Park', 'Megan Guardiola', 'Critter Barn',\n                                  'Critter Barn', 'Cheyenne Mountain Zoological Society 001',\n                                  'Sally L Reaves', 'Living Treasure Animal Park',\n                                  'Thomas & Pamela Sellner', 'Joseph Maldonado Passage',\n                                  'Clinton Wolston I I I', 'Thomas & Pamela Sellner', 'Montgomery  Zoo',\n                                  'Thomas & Pamela Sellner', 'Terrill Al-Saihati',\n                                  'Spirit Of The Hills Wildlife Sanctuary', 'Thomas & Pamela Sellner',\n                                  'Wilstem Inc.', 'Jeffrey Lowe- 002', 'West Coast Game Park Inc',\n                                  'Zoological De P.R. At Mayaguez', 'Noahs Lost Ark Inc',\n                                  'Terrill Al-Saihati', 'Wildlife World Zoo Inc.', 'Terrill Al-Saihati',\n                                  'Richard Evola', 'Nick Sculac', 'Kirsty Lee, L L C',\n                                  'Indian Cliffs Ranch Inc.', 'East Texas Zoo And Gator Park',\n                                  'Briarwood Investments Inc', 'Nick Sculac', 'Nick Sculac',\n                                  'Janell Knudsen & Jessica Mason', 'Kirsty Lee, L L C',\n                                  'John Johnson 002', 'Janell Knudsen & Jessica Mason',\n                                  'City Of Idaho Falls', 'Arbuckle Adventures, L L C',\n                                  'Arbuckle Adventures, L L C', 'Forest Park Zoological Society',\n                                  'William Meadows', 'William Meadows', 'Sally L Reaves',\n                                  'Kern County Superintendent Of Schools', 'Deer Haven Mini Zoo',\n                                  'Exotic Zoo', 'Wild Things Zoofari Inc.', 'Stump Hill Farm',\n                                  'Richard Evola', 'William Meadows', 'Deer Haven Mini Zoo',\n                                  'Jeffrey Lowe- 002', 'Miami Seaquarium', 'Deer Haven Mini Zoo',\n                                  'City Of Clay Center', 'Deer Haven Mini Zoo', 'Deer Haven Mini Zoo',\n                                  'Mike Mc Clelland', 'Deer Haven Mini Zoo', 'The C A R E  Foundation',\n                                  'The C A R E  Foundation', 'April And Ryan Cicchelli',\n                                  'Noahs Ark Rehabilitation Center', 'Shirley Farms', 'Summer Wind Farms',\n                                  'Summer Wind Farms', 'Summer Wind Farms', 'Summer Wind Farms',\n                                  'Summer Wind Farms', 'Miami Seaquarium', 'Bailiwick Ranch Inc',\n                                  'Summer Wind Farms', 'The Mobile Zoo', 'Kirsty Lee, L L C',\n                                  'Christy Davis', 'St. Louis Aquacenter, Inc',\n                                  'Deer Forest Amusements Inc', 'Summer Wind Farms',\n                                  'Deer Forest Exotic Animal Sanctuary', 'Deer Forest Amusements Inc',\n                                  'Deer Forest Exotic Animal Sanctuary', 'Skunkie Acres Inc',\n                                  'The Mobile Zoo', 'Robert L Sawmiller', 'Christy Davis',\n                                  'The Catty Shack Ranch Wildlife Sanctuary', 'City Of North Platte',\n                                  'The Mobile Zoo', 'Thompson Park Zoo', 'Summer Wind Farms',\n                                  'Robert L Sawmiller', 'Sue Pearce', 'Union Ridge Wildlife Center, Inc.',\n                                  'Rocking Dirt Road Farms Llc', 'William Lee Iii',\n                                  'City Of North Platte', 'Summer Wind Farms',\n                                  'Union County Sportsmens Club Inc', 'Summer Wind Farms', 'Marek Lipold',\n                                  'Cindy Bardin', 'Fragile Planet Wildlife Foundation',\n                                  '002 - Roberta And Anthony Locke', 'Mystic Life Aquarium',\n                                  'City Of Hutchinson', 'James Svoboda', 'Wendy Russeff'], dtype=object),\n              'lat': array([36.29635904, 35.768426  , 37.6471637 , 35.025529  , 43.14835614,\n                            37.6471637 , 34.44788692, 34.44788692, 34.44788692, 29.43591729,\n                            35.025529  , 43.14835614, 42.78443699, 41.48453901, 41.48453901,\n                            35.58915101, 41.48453901, 32.538951  , 42.78443699, 42.78443699,\n                            38.77110699, 43.14835614, 40.107085  , 42.48335199, 42.2297985 ,\n                            29.43591729, 42.48335199, 32.384575  , 42.48335199, 32.60091773,\n                            44.47239601, 42.48335199, 38.546715  , 33.75956901, 43.008964  ,\n                            18.464     , 40.99611902, 32.60091773, 33.55050221, 32.60091773,\n                            41.75837202, 38.996844  , 47.74866802, 31.50621   , 31.00805301,\n                            36.036103  , 38.996844  , 38.996844  , 37.0324    , 47.74866802,\n                            34.43652902, 37.0324    , 43.497005  , 34.44788692, 34.44788692,\n                            42.07766   , 35.25349799, 35.25349799, 43.14835614, 35.42811298,\n                            39.572278  , 42.22772729, 30.49403426, 40.74616999, 41.75837202,\n                            35.25349799, 39.572278  , 33.75956901, 25.73159098, 39.572278  ,\n                            39.380375  , 39.572278  , 39.572278  , 31.87424802, 39.572278  ,\n                            28.730281  , 28.730281  , 44.267398  , 33.30531801, 36.261269  ,\n                            43.23116301, 43.23116301, 43.23116301, 43.23116301, 43.23116301,\n                            29.66931702, 42.21646519, 43.23116301, 30.82425739, 47.74866802,\n                            37.65005799, 38.63135099, 42.18644   , 43.23116301, 42.20828102,\n                            42.18644   , 42.20828102, 29.39792369, 30.82425739, 40.596153  ,\n                            37.65005799, 30.4634197 , 41.13053765, 30.82425739, 43.96136965,\n                            43.23116301, 40.596153  , 27.20239487, 39.19302299, 36.04941502,\n                            39.742055  , 41.13053765, 43.23116301, 40.85857127, 43.23116301,\n                            33.94942301, 43.37246627, 44.3348099 , 38.53678401, 41.37369601,\n                            38.05725   , 44.314344  , 42.351809  ]),\n              'legendgroup': 'Exhibitor',\n              'lon': array([ -94.49612432,  -89.12494896,  -79.5285336 ,  -82.14455398,\n                             -77.2471911 ,  -79.5285336 ,  -97.12496753,  -97.12496753,\n                             -97.12496753,  -95.17092198,  -82.14455398,  -77.2471911 ,\n                             -86.01029803,  -80.42084702,  -80.42084702,  -81.14052796,\n                             -80.42084702,  -96.77590098,  -86.01029803,  -86.01029803,\n                            -104.85465402,  -77.2471911 ,  -79.376765  ,  -91.50736002,\n                             -70.98071742,  -95.17092198,  -91.50736002,  -86.26048   ,\n                             -91.50736002, -114.61518541, -103.89738301,  -91.50736002,\n                             -86.61908   ,  -97.10314297, -124.41741103,  -66.11278   ,\n                             -80.98620497, -114.61518541, -112.41659031, -114.61518541,\n                             -84.59310102, -104.37669301, -122.22961502, -106.161945  ,\n                             -96.52096799,  -83.86196504, -104.37669301, -104.37669301,\n                            -100.9268    , -122.22961502,  -88.72041996, -100.9268    ,\n                            -112.03895   ,  -97.12496753,  -97.12496753,  -72.56512   ,\n                             -97.77271999,  -97.77271999,  -77.2471911 , -118.93277697,\n                             -77.28847901,  -83.48997331,  -97.39905458,  -81.479298  ,\n                             -84.59310102,  -97.77271999,  -77.28847901,  -97.10314297,\n                             -80.16547499,  -77.28847901,  -97.124705  ,  -77.28847901,\n                             -77.28847901,  -85.80705004,  -77.28847901,  -81.58715004,\n                             -81.58715004,  -85.26114599,  -84.12728697,  -89.42450896,\n                             -82.88462004,  -82.88462004,  -82.88462004,  -82.88462004,\n                             -82.88462004,  -81.21295598,  -74.0062652 ,  -82.88462004,\n                             -88.40338431, -122.22961502,  -77.55208702,  -90.18537203,\n                             -86.30629   ,  -82.88462004,  -86.29422503,  -86.30629   ,\n                             -86.29422503,  -82.09977483,  -88.40338431,  -84.16616299,\n                             -77.55208702,  -81.5740939 , -100.7628339 ,  -88.40338431,\n                             -75.89071066,  -82.88462004,  -84.16616299,  -80.9799819 ,\n                             -82.31645902,  -89.41531703, -105.514435  , -100.7628339 ,\n                             -82.88462004,  -77.26217157,  -82.88462004,  -83.54888302,\n                             -73.33418694,  -75.9138143 ,  -85.67801902,  -71.95411102,\n                             -97.93268   ,  -83.56025399,  -88.82260902]),\n              'marker': {'color': '#ab63fa',\n                         'size': array([853., 580., 478., 398., 383., 355., 281., 274., 273., 273., 253., 242.,\n                                        236., 232., 231., 229., 227., 222., 221., 215., 212., 205., 199., 194.,\n                                        193., 191., 191., 182., 180., 179., 165., 163., 158., 156., 152., 143.,\n                                        139., 137., 136., 133., 132., 127., 124., 122., 119., 114., 113., 111.,\n                                        105., 103., 100.,  99.,  96.,  93.,  91.,  82.,  78.,  77.,  75.,  73.,\n                                         72.,  71.,  70.,  68.,  66.,  66.,  62.,  62.,  58.,  58.,  58.,  57.,\n                                         57.,  57.,  56.,  56.,  55.,  55.,  53.,  48.,  48.,  48.,  47.,  47.,\n                                         46.,  44.,  44.,  44.,  42.,  42.,  41.,  39.,  39.,  39.,  39.,  38.,\n                                         38.,  37.,  36.,  35.,  32.,  31.,  29.,  29.,  28.,  27.,  26.,  25.,\n                                         24.,  24.,  23.,  18.,  18.,  18.,  16.,  15.,  13.,  10.,   6.,   4.,\n                                          3.,   1.,   0.]),\n                         'sizemode': 'area',\n                         'sizeref': 17.533333333333335,\n                         'symbol': 'circle'},\n              'mode': 'markers',\n              'name': 'Exhibitor',\n              'showlegend': True,\n              'type': 'scattergeo'}],\n    'layout': {'geo': {'center': {},\n                       'domain': {'x': [0.0, 1.0], 'y': [0.0, 1.0]},\n                       'fitbounds': 'locations',\n                       'projection': {'type': 'natural earth'},\n                       'scope': 'north america'},\n               'height': 800,\n               'legend': {'itemsizing': 'constant', 'title': {'text': 'Category of animal handler'}, 'tracegroupgap': 0},\n               'template': '...',\n               'title': {'text': 'Animal Welfare Inspections 2014-2022'},\n               'width': 1000}\n})\n\n    The 'connectgaps' property must be specified as a bool\n    (either True, or False)",
     "output_type": "error",
     "traceback": [
      "\u001b[0;31m---------------------------------------------------------------------------\u001b[0m",
      "\u001b[0;31mValueError\u001b[0m                                Traceback (most recent call last)",
      "Cell \u001b[0;32mIn[92], line 2\u001b[0m\n\u001b[1;32m      1\u001b[0m f2 \u001b[39m=\u001b[39m go\u001b[39m.\u001b[39mFigureWidget(fig)\n\u001b[0;32m----> 2\u001b[0m f2\u001b[39m.\u001b[39;49madd_scattergeo(fig)\n",
      "File \u001b[0;32m~/Documents/Programming/Data_Analytics/Animal Welfare Inspections/myenv/lib/python3.10/site-packages/plotly/graph_objs/_figurewidget.py:14567\u001b[0m, in \u001b[0;36mFigureWidget.add_scattergeo\u001b[0;34m(self, connectgaps, customdata, customdatasrc, featureidkey, fill, fillcolor, geo, geojson, hoverinfo, hoverinfosrc, hoverlabel, hovertemplate, hovertemplatesrc, hovertext, hovertextsrc, ids, idssrc, lat, latsrc, legendgroup, legendgrouptitle, legendrank, legendwidth, line, locationmode, locations, locationssrc, lon, lonsrc, marker, meta, metasrc, mode, name, opacity, selected, selectedpoints, showlegend, stream, text, textfont, textposition, textpositionsrc, textsrc, texttemplate, texttemplatesrc, uid, uirevision, unselected, visible, row, col, **kwargs)\u001b[0m\n\u001b[1;32m  14280\u001b[0m \u001b[39m\u001b[39m\u001b[39m\"\"\"\u001b[39;00m\n\u001b[1;32m  14281\u001b[0m \u001b[39mAdd a new Scattergeo trace\u001b[39;00m\n\u001b[1;32m  14282\u001b[0m \n\u001b[0;32m   (...)\u001b[0m\n\u001b[1;32m  14563\u001b[0m \u001b[39mFigureWidget\u001b[39;00m\n\u001b[1;32m  14564\u001b[0m \u001b[39m\"\"\"\u001b[39;00m\n\u001b[1;32m  14565\u001b[0m \u001b[39mfrom\u001b[39;00m \u001b[39mplotly\u001b[39;00m\u001b[39m.\u001b[39;00m\u001b[39mgraph_objs\u001b[39;00m \u001b[39mimport\u001b[39;00m Scattergeo\n\u001b[0;32m> 14567\u001b[0m new_trace \u001b[39m=\u001b[39m Scattergeo(\n\u001b[1;32m  14568\u001b[0m     connectgaps\u001b[39m=\u001b[39;49mconnectgaps,\n\u001b[1;32m  14569\u001b[0m     customdata\u001b[39m=\u001b[39;49mcustomdata,\n\u001b[1;32m  14570\u001b[0m     customdatasrc\u001b[39m=\u001b[39;49mcustomdatasrc,\n\u001b[1;32m  14571\u001b[0m     featureidkey\u001b[39m=\u001b[39;49mfeatureidkey,\n\u001b[1;32m  14572\u001b[0m     fill\u001b[39m=\u001b[39;49mfill,\n\u001b[1;32m  14573\u001b[0m     fillcolor\u001b[39m=\u001b[39;49mfillcolor,\n\u001b[1;32m  14574\u001b[0m     geo\u001b[39m=\u001b[39;49mgeo,\n\u001b[1;32m  14575\u001b[0m     geojson\u001b[39m=\u001b[39;49mgeojson,\n\u001b[1;32m  14576\u001b[0m     hoverinfo\u001b[39m=\u001b[39;49mhoverinfo,\n\u001b[1;32m  14577\u001b[0m     hoverinfosrc\u001b[39m=\u001b[39;49mhoverinfosrc,\n\u001b[1;32m  14578\u001b[0m     hoverlabel\u001b[39m=\u001b[39;49mhoverlabel,\n\u001b[1;32m  14579\u001b[0m     hovertemplate\u001b[39m=\u001b[39;49mhovertemplate,\n\u001b[1;32m  14580\u001b[0m     hovertemplatesrc\u001b[39m=\u001b[39;49mhovertemplatesrc,\n\u001b[1;32m  14581\u001b[0m     hovertext\u001b[39m=\u001b[39;49mhovertext,\n\u001b[1;32m  14582\u001b[0m     hovertextsrc\u001b[39m=\u001b[39;49mhovertextsrc,\n\u001b[1;32m  14583\u001b[0m     ids\u001b[39m=\u001b[39;49mids,\n\u001b[1;32m  14584\u001b[0m     idssrc\u001b[39m=\u001b[39;49midssrc,\n\u001b[1;32m  14585\u001b[0m     lat\u001b[39m=\u001b[39;49mlat,\n\u001b[1;32m  14586\u001b[0m     latsrc\u001b[39m=\u001b[39;49mlatsrc,\n\u001b[1;32m  14587\u001b[0m     legendgroup\u001b[39m=\u001b[39;49mlegendgroup,\n\u001b[1;32m  14588\u001b[0m     legendgrouptitle\u001b[39m=\u001b[39;49mlegendgrouptitle,\n\u001b[1;32m  14589\u001b[0m     legendrank\u001b[39m=\u001b[39;49mlegendrank,\n\u001b[1;32m  14590\u001b[0m     legendwidth\u001b[39m=\u001b[39;49mlegendwidth,\n\u001b[1;32m  14591\u001b[0m     line\u001b[39m=\u001b[39;49mline,\n\u001b[1;32m  14592\u001b[0m     locationmode\u001b[39m=\u001b[39;49mlocationmode,\n\u001b[1;32m  14593\u001b[0m     locations\u001b[39m=\u001b[39;49mlocations,\n\u001b[1;32m  14594\u001b[0m     locationssrc\u001b[39m=\u001b[39;49mlocationssrc,\n\u001b[1;32m  14595\u001b[0m     lon\u001b[39m=\u001b[39;49mlon,\n\u001b[1;32m  14596\u001b[0m     lonsrc\u001b[39m=\u001b[39;49mlonsrc,\n\u001b[1;32m  14597\u001b[0m     marker\u001b[39m=\u001b[39;49mmarker,\n\u001b[1;32m  14598\u001b[0m     meta\u001b[39m=\u001b[39;49mmeta,\n\u001b[1;32m  14599\u001b[0m     metasrc\u001b[39m=\u001b[39;49mmetasrc,\n\u001b[1;32m  14600\u001b[0m     mode\u001b[39m=\u001b[39;49mmode,\n\u001b[1;32m  14601\u001b[0m     name\u001b[39m=\u001b[39;49mname,\n\u001b[1;32m  14602\u001b[0m     opacity\u001b[39m=\u001b[39;49mopacity,\n\u001b[1;32m  14603\u001b[0m     selected\u001b[39m=\u001b[39;49mselected,\n\u001b[1;32m  14604\u001b[0m     selectedpoints\u001b[39m=\u001b[39;49mselectedpoints,\n\u001b[1;32m  14605\u001b[0m     showlegend\u001b[39m=\u001b[39;49mshowlegend,\n\u001b[1;32m  14606\u001b[0m     stream\u001b[39m=\u001b[39;49mstream,\n\u001b[1;32m  14607\u001b[0m     text\u001b[39m=\u001b[39;49mtext,\n\u001b[1;32m  14608\u001b[0m     textfont\u001b[39m=\u001b[39;49mtextfont,\n\u001b[1;32m  14609\u001b[0m     textposition\u001b[39m=\u001b[39;49mtextposition,\n\u001b[1;32m  14610\u001b[0m     textpositionsrc\u001b[39m=\u001b[39;49mtextpositionsrc,\n\u001b[1;32m  14611\u001b[0m     textsrc\u001b[39m=\u001b[39;49mtextsrc,\n\u001b[1;32m  14612\u001b[0m     texttemplate\u001b[39m=\u001b[39;49mtexttemplate,\n\u001b[1;32m  14613\u001b[0m     texttemplatesrc\u001b[39m=\u001b[39;49mtexttemplatesrc,\n\u001b[1;32m  14614\u001b[0m     uid\u001b[39m=\u001b[39;49muid,\n\u001b[1;32m  14615\u001b[0m     uirevision\u001b[39m=\u001b[39;49muirevision,\n\u001b[1;32m  14616\u001b[0m     unselected\u001b[39m=\u001b[39;49munselected,\n\u001b[1;32m  14617\u001b[0m     visible\u001b[39m=\u001b[39;49mvisible,\n\u001b[1;32m  14618\u001b[0m     \u001b[39m*\u001b[39;49m\u001b[39m*\u001b[39;49mkwargs,\n\u001b[1;32m  14619\u001b[0m )\n\u001b[1;32m  14620\u001b[0m \u001b[39mreturn\u001b[39;00m \u001b[39mself\u001b[39m\u001b[39m.\u001b[39madd_trace(new_trace, row\u001b[39m=\u001b[39mrow, col\u001b[39m=\u001b[39mcol)\n",
      "File \u001b[0;32m~/Documents/Programming/Data_Analytics/Animal Welfare Inspections/myenv/lib/python3.10/site-packages/plotly/graph_objs/_scattergeo.py:2180\u001b[0m, in \u001b[0;36mScattergeo.__init__\u001b[0;34m(self, arg, connectgaps, customdata, customdatasrc, featureidkey, fill, fillcolor, geo, geojson, hoverinfo, hoverinfosrc, hoverlabel, hovertemplate, hovertemplatesrc, hovertext, hovertextsrc, ids, idssrc, lat, latsrc, legendgroup, legendgrouptitle, legendrank, legendwidth, line, locationmode, locations, locationssrc, lon, lonsrc, marker, meta, metasrc, mode, name, opacity, selected, selectedpoints, showlegend, stream, text, textfont, textposition, textpositionsrc, textsrc, texttemplate, texttemplatesrc, uid, uirevision, unselected, visible, **kwargs)\u001b[0m\n\u001b[1;32m   2178\u001b[0m _v \u001b[39m=\u001b[39m connectgaps \u001b[39mif\u001b[39;00m connectgaps \u001b[39mis\u001b[39;00m \u001b[39mnot\u001b[39;00m \u001b[39mNone\u001b[39;00m \u001b[39melse\u001b[39;00m _v\n\u001b[1;32m   2179\u001b[0m \u001b[39mif\u001b[39;00m _v \u001b[39mis\u001b[39;00m \u001b[39mnot\u001b[39;00m \u001b[39mNone\u001b[39;00m:\n\u001b[0;32m-> 2180\u001b[0m     \u001b[39mself\u001b[39;49m[\u001b[39m\"\u001b[39;49m\u001b[39mconnectgaps\u001b[39;49m\u001b[39m\"\u001b[39;49m] \u001b[39m=\u001b[39m _v\n\u001b[1;32m   2181\u001b[0m _v \u001b[39m=\u001b[39m arg\u001b[39m.\u001b[39mpop(\u001b[39m\"\u001b[39m\u001b[39mcustomdata\u001b[39m\u001b[39m\"\u001b[39m, \u001b[39mNone\u001b[39;00m)\n\u001b[1;32m   2182\u001b[0m _v \u001b[39m=\u001b[39m customdata \u001b[39mif\u001b[39;00m customdata \u001b[39mis\u001b[39;00m \u001b[39mnot\u001b[39;00m \u001b[39mNone\u001b[39;00m \u001b[39melse\u001b[39;00m _v\n",
      "File \u001b[0;32m~/Documents/Programming/Data_Analytics/Animal Welfare Inspections/myenv/lib/python3.10/site-packages/plotly/basedatatypes.py:4851\u001b[0m, in \u001b[0;36mBasePlotlyType.__setitem__\u001b[0;34m(self, prop, value)\u001b[0m\n\u001b[1;32m   4847\u001b[0m         \u001b[39mself\u001b[39m\u001b[39m.\u001b[39m_set_array_prop(prop, value)\n\u001b[1;32m   4849\u001b[0m     \u001b[39m# ### Handle simple property ###\u001b[39;00m\n\u001b[1;32m   4850\u001b[0m     \u001b[39melse\u001b[39;00m:\n\u001b[0;32m-> 4851\u001b[0m         \u001b[39mself\u001b[39;49m\u001b[39m.\u001b[39;49m_set_prop(prop, value)\n\u001b[1;32m   4852\u001b[0m \u001b[39melse\u001b[39;00m:\n\u001b[1;32m   4853\u001b[0m     \u001b[39m# Make sure properties dict is initialized\u001b[39;00m\n\u001b[1;32m   4854\u001b[0m     \u001b[39mself\u001b[39m\u001b[39m.\u001b[39m_init_props()\n",
      "File \u001b[0;32m~/Documents/Programming/Data_Analytics/Animal Welfare Inspections/myenv/lib/python3.10/site-packages/plotly/basedatatypes.py:5195\u001b[0m, in \u001b[0;36mBasePlotlyType._set_prop\u001b[0;34m(self, prop, val)\u001b[0m\n\u001b[1;32m   5193\u001b[0m         \u001b[39mreturn\u001b[39;00m\n\u001b[1;32m   5194\u001b[0m     \u001b[39melse\u001b[39;00m:\n\u001b[0;32m-> 5195\u001b[0m         \u001b[39mraise\u001b[39;00m err\n\u001b[1;32m   5197\u001b[0m \u001b[39m# val is None\u001b[39;00m\n\u001b[1;32m   5198\u001b[0m \u001b[39m# -----------\u001b[39;00m\n\u001b[1;32m   5199\u001b[0m \u001b[39mif\u001b[39;00m val \u001b[39mis\u001b[39;00m \u001b[39mNone\u001b[39;00m:\n\u001b[1;32m   5200\u001b[0m     \u001b[39m# Check if we should send null update\u001b[39;00m\n",
      "File \u001b[0;32m~/Documents/Programming/Data_Analytics/Animal Welfare Inspections/myenv/lib/python3.10/site-packages/plotly/basedatatypes.py:5190\u001b[0m, in \u001b[0;36mBasePlotlyType._set_prop\u001b[0;34m(self, prop, val)\u001b[0m\n\u001b[1;32m   5187\u001b[0m validator \u001b[39m=\u001b[39m \u001b[39mself\u001b[39m\u001b[39m.\u001b[39m_get_validator(prop)\n\u001b[1;32m   5189\u001b[0m \u001b[39mtry\u001b[39;00m:\n\u001b[0;32m-> 5190\u001b[0m     val \u001b[39m=\u001b[39m validator\u001b[39m.\u001b[39;49mvalidate_coerce(val)\n\u001b[1;32m   5191\u001b[0m \u001b[39mexcept\u001b[39;00m \u001b[39mValueError\u001b[39;00m \u001b[39mas\u001b[39;00m err:\n\u001b[1;32m   5192\u001b[0m     \u001b[39mif\u001b[39;00m \u001b[39mself\u001b[39m\u001b[39m.\u001b[39m_skip_invalid:\n",
      "File \u001b[0;32m~/Documents/Programming/Data_Analytics/Animal Welfare Inspections/myenv/lib/python3.10/site-packages/_plotly_utils/basevalidators.py:643\u001b[0m, in \u001b[0;36mBooleanValidator.validate_coerce\u001b[0;34m(self, v)\u001b[0m\n\u001b[1;32m    641\u001b[0m     \u001b[39mpass\u001b[39;00m\n\u001b[1;32m    642\u001b[0m \u001b[39melif\u001b[39;00m \u001b[39mnot\u001b[39;00m \u001b[39misinstance\u001b[39m(v, \u001b[39mbool\u001b[39m):\n\u001b[0;32m--> 643\u001b[0m     \u001b[39mself\u001b[39;49m\u001b[39m.\u001b[39;49mraise_invalid_val(v)\n\u001b[1;32m    645\u001b[0m \u001b[39mreturn\u001b[39;00m v\n",
      "File \u001b[0;32m~/Documents/Programming/Data_Analytics/Animal Welfare Inspections/myenv/lib/python3.10/site-packages/_plotly_utils/basevalidators.py:288\u001b[0m, in \u001b[0;36mBaseValidator.raise_invalid_val\u001b[0;34m(self, v, inds)\u001b[0m\n\u001b[1;32m    285\u001b[0m             \u001b[39mfor\u001b[39;00m i \u001b[39min\u001b[39;00m inds:\n\u001b[1;32m    286\u001b[0m                 name \u001b[39m+\u001b[39m\u001b[39m=\u001b[39m \u001b[39m\"\u001b[39m\u001b[39m[\u001b[39m\u001b[39m\"\u001b[39m \u001b[39m+\u001b[39m \u001b[39mstr\u001b[39m(i) \u001b[39m+\u001b[39m \u001b[39m\"\u001b[39m\u001b[39m]\u001b[39m\u001b[39m\"\u001b[39m\n\u001b[0;32m--> 288\u001b[0m         \u001b[39mraise\u001b[39;00m \u001b[39mValueError\u001b[39;00m(\n\u001b[1;32m    289\u001b[0m \u001b[39m            \u001b[39m\u001b[39m\"\"\"\u001b[39;00m\n\u001b[1;32m    290\u001b[0m \u001b[39m    Invalid value of type {typ} received for the '{name}' property of {pname}\u001b[39;00m\n\u001b[1;32m    291\u001b[0m \u001b[39m        Received value: {v}\u001b[39;00m\n\u001b[1;32m    292\u001b[0m \n\u001b[1;32m    293\u001b[0m \u001b[39m{valid_clr_desc}\"\"\"\u001b[39;00m\u001b[39m.\u001b[39mformat(\n\u001b[1;32m    294\u001b[0m                 name\u001b[39m=\u001b[39mname,\n\u001b[1;32m    295\u001b[0m                 pname\u001b[39m=\u001b[39m\u001b[39mself\u001b[39m\u001b[39m.\u001b[39mparent_name,\n\u001b[1;32m    296\u001b[0m                 typ\u001b[39m=\u001b[39mtype_str(v),\n\u001b[1;32m    297\u001b[0m                 v\u001b[39m=\u001b[39m\u001b[39mrepr\u001b[39m(v),\n\u001b[1;32m    298\u001b[0m                 valid_clr_desc\u001b[39m=\u001b[39m\u001b[39mself\u001b[39m\u001b[39m.\u001b[39mdescription(),\n\u001b[1;32m    299\u001b[0m             )\n\u001b[1;32m    300\u001b[0m         )\n",
      "\u001b[0;31mValueError\u001b[0m: \n    Invalid value of type 'plotly.graph_objs._figure.Figure' received for the 'connectgaps' property of scattergeo\n        Received value: Figure({\n    'data': [{'customdata': array([['https://aphis--c.na107.content.force.com/sfc/dist/version/download/?oid=00Dt0000000GyZH&ids=068t000000Dnw9Q&d=%2Fa%2F3d000000pdQs%2FBdTeXYiEOMGHsQXQBDzoqIh9Qc2L6WcjNm8Mre5gLww&asPdf=false',\n                                    15780.0, 0, ..., 'Dealer', 40.369659010493024, -75.54738698319876],\n                                   ['https://aphis--c.na107.content.force.com/sfc/dist/version/download/?oid=00Dt0000000GyZH&ids=068t000000ERYb6&d=%2Fa%2F3d000000pkqz%2F0Xm5lDZkhpTx8FP.LRH45BKoC1Zekv5njEdwxlFr2No&asPdf=false',\n                                    3953.0, 1, ..., 'Dealer', 30.834789011084837, -87.14930898842836],\n                                   ['https://aphis--c.na107.content.force.com/sfc/dist/version/download/?oid=00Dt0000000GyZH&ids=068t000000awYYz&d=%2Fa%2F3d000000pVEW%2F3DsFMhtMOn9ZoAHhDlQ2nm8g6znXBZmmIm1PxsZsCQY&asPdf=false',\n                                    3000.0, 3, ..., 'Dealer', 32.68081798343026, -80.84191402459606],\n                                   ...,\n                                   ['https://aphis--c.na107.content.force.com/sfc/dist/version/download/?oid=00Dt0000000GyZH&ids=068t000000DnwXg&d=%2Fa%2F3d000000pZST%2FUqHgH3DYP2b0AkJO1jF_O9Sr5.rzPMOVIfReJAtY8e4&asPdf=false',\n                                    15.0, 0, ..., 'Dealer', 39.80096000000003, -97.45646499999998],\n                                   ['https://aphis--c.na107.content.force.com/sfc/dist/version/download/?oid=00Dt0000000GyZH&ids=068t000000DnwgG&d=%2Fa%2F3d000000pRyq%2Fuub7ET_v4rBjKohvYjk.yTQ4WH6J93n7_7X2p0MfxPA&asPdf=false',\n                                    6.0, 4, ..., 'Dealer', 40.210877424795115, -93.15107732714459],\n                                   ['https://aphis--c.na107.content.force.com/sfc/dist/version/download/?oid=00Dt0000000GyZH&ids=068t000000gPQIE&d=%2Fa%2F3d000000paQb%2F6VAwsWj9Mpf2s.durYn.UrXhM7pO5tG6NuYAaFcmtvo&asPdf=false',\n                                    0.0, 3, ..., 'Dealer', 42.9739719829401, -88.03556499445604]],\n                                  dtype=object),\n              'geo': 'geo',\n              'hovertemplate': ('<b>%{hovertext}</b><br>Number ' ... 'l Violations: %{customdata[3]}'),\n              'hovertext': array(['Martha Holmes', 'Perfect Birds L L C', 'Alpha Genesis Inc',\n                                  'Primate Products, Inc.', 'Tyler Cleckley',\n                                  'Wilson Horse & Mule Sale Inc', 'Mount Hope Auction, Inc.',\n                                  'Wilson Horse & Mule Sale Inc', 'Pro Sci, Inc.',\n                                  'The Farm At Walnut Creek', 'Ashley Duncan', 'Lloyd Yoder',\n                                  'Bobbi Pradon & Daniel Pradon', 'Bobbi Pradon & Daniel Pradon',\n                                  'Coastal Exotics', 'A & A Exotics L L C', 'Anton F Hash',\n                                  'Thomas F Edmonds', '256 Exotics, Llc', 'David  Manser',\n                                  'A & A Exotics L L C', 'Magnolia Stockyard', 'David  Manser',\n                                  'Cheryl Ullrich & Billy Johnston', 'Jurassic Pets, Llc',\n                                  'Dennis & Gail Connolly', 'Josh Souza', 'Pam Reynolds',\n                                  'Vincent Losacco', 'Morgan R Machnik'], dtype=object),\n              'lat': array([40.36965901, 30.83478901, 32.68081798, 26.26166702, 29.65151901,\n                            36.10825602, 40.62414   , 36.10825602, 32.93754801, 35.65749499,\n                            29.727371  , 41.53769021, 31.82755298, 31.82755298, 30.86954964,\n                            30.12698699, 40.20151598, 39.23876299, 34.82216102, 35.44642601,\n                            30.12698699, 32.737215  , 35.44642601, 39.81785301, 39.96129399,\n                            41.279418  , 37.63346381, 39.80096   , 40.21087742, 42.97397198]),\n              'legendgroup': 'Dealer',\n              'lon': array([ -75.54738698,  -87.14930899,  -80.84191402,  -81.21244301,\n                             -95.58284804,  -85.53611801,  -81.78472   ,  -85.53611801,\n                            -117.04065302,  -80.72953299,  -97.80409203,  -91.63484399,\n                            -102.47559799, -102.47559799,  -88.22040001,  -82.69504997,\n                             -82.16006   ,  -87.66545896,  -86.48534097,  -85.06453303,\n                             -82.69504997,  -89.53096   ,  -85.06453303,  -93.59644302,\n                            -104.61145897,  -93.15355298,  -92.86742109,  -97.456465  ,\n                             -93.15107733,  -88.03556499]),\n              'marker': {'color': '#636efa',\n                         'size': array([1.578e+04, 3.953e+03, 3.000e+03, 2.347e+03, 1.809e+03, 1.230e+03,\n                                        1.026e+03, 1.007e+03, 9.160e+02, 5.150e+02, 4.270e+02, 1.700e+02,\n                                        1.380e+02, 1.060e+02, 1.000e+02, 8.500e+01, 8.500e+01, 8.200e+01,\n                                        7.300e+01, 7.300e+01, 6.800e+01, 6.500e+01, 4.700e+01, 3.700e+01,\n                                        3.100e+01, 2.700e+01, 1.900e+01, 1.500e+01, 6.000e+00, 0.000e+00]),\n                         'sizemode': 'area',\n                         'sizeref': 17.533333333333335,\n                         'symbol': 'circle'},\n              'mode': 'markers',\n              'name': 'Dealer',\n              'showlegend': True,\n              'type': 'scattergeo'},\n             {'customdata': array([['https://aphis--c.na107.content.force.com/sfc/dist/version/download/?oid=00Dt0000000GyZH&ids=068t000000V8ER9&d=%2Fa%2F3d000000pe9X%2F.h0jMlUSlzDh_6PimM1josuHdRiTreVs9cYdyHIaJ6Q&asPdf=false',\n                                    5035.0, 3, ..., 'Breeder', 39.909484018529525, -86.08529100477942],\n                                   ['https://aphis--c.na107.content.force.com/sfc/dist/version/download/?oid=00Dt0000000GyZH&ids=068t000000G09tM&d=%2Fa%2F3d000000pe9a%2F_c13_ag1a02EoStspBU1S.yWA6P1A19gdCrsODl5KRo&asPdf=false',\n                                    4652.0, 0, ..., 'Breeder', 39.909484018529525, -86.08529100477942],\n                                   ['https://aphis--c.na107.content.force.com/sfc/dist/version/download/?oid=00Dt0000000GyZH&ids=068t000000Dnw4b&d=%2Fa%2F3d000000pWgM%2FOSYk711_KE7N5Z4YP2ZYXh2M_wJ66.21R8yDwGgBXEA&asPdf=false',\n                                    1003.0, 0, ..., 'Breeder', 38.4361000025813, -92.66509002664364],\n                                   ...,\n                                   ['https://aphis--c.na107.content.force.com/sfc/dist/version/download/?oid=00Dt0000000GyZH&ids=068t000000DnwPY&d=%2Fa%2F3d000000pmtt%2FSnhYC2HjjKJxG0DhW4uzs7SSawgWwkXjBEwFiLtkxaU&asPdf=false',\n                                    28.0, 0, ..., 'Breeder', 40.6398150001838, -81.96475603709219],\n                                   ['https://aphis--c.na107.content.force.com/sfc/dist/version/download/?oid=00Dt0000000GyZH&ids=068t000000DnwB0&d=%2Fa%2F3d000000pmkB%2FT0mDXFSe9kX2YXIi0E7QjTYJXfchYtFRO2_NMS4LBOo&asPdf=false',\n                                    22.0, 0, ..., 'Breeder', 36.57963456803587, -91.91290749692297],\n                                   ['https://aphis--c.na107.content.force.com/sfc/dist/version/download/?oid=00Dt0000000GyZH&ids=068t000000DnwLp&d=%2Fa%2F3d000000pi5c%2Fev29uNj9Oxv24nxbuonWbICPfSTR8LPkD799tr7O688&asPdf=false',\n                                    16.0, 0, ..., 'Breeder', 43.17552901020997, -96.39315604064295]],\n                                  dtype=object),\n              'geo': 'geo',\n              'hovertemplate': ('<b>%{hovertext}</b><br>Number ' ... 'l Violations: %{customdata[3]}'),\n              'hovertext': array(['Envigo Rms Llc', 'Envigo Rms Llc', 'Vernon Zeiset', 'Craig Kokas',\n                                  'Craig Kokas', 'David And Malinda King', 'Craig Kokas',\n                                  'Tyler Cleckley', 'Tyler Cleckley', 'Tyler Cleckley',\n                                  'Daniel Gingerich', 'Craig Kokas', 'Moses Fisher', 'Daniel Gingerich',\n                                  'Daniel Gingerich', 'Daniel Gingerich', 'David Petroski',\n                                  'Daniel Gingerich', 'Daniel Gingerich', 'Daniel Gingerich',\n                                  'Phil Weymouth, Yolanda Weymouth', 'Classy Creations', 'Jerry Holly',\n                                  'Pamela L. Baldwin', 'Jerry Holly', 'A.G. Beukelman',\n                                  'Bob & Leslie Loutsch', 'Fedler Ag Inc', 'Terri Naylor', 'Dan Yoder',\n                                  'Ruth Hargrove', 'Daniel D Coblentz', 'Deloris And Dick Richards',\n                                  'S Glenice Viken', 'Patricia Bingham.', 'Carolyn Anderson',\n                                  'Alta Z Martin', 'Carolyn Anderson', 'Scott Swanson',\n                                  'Carolyn Anderson', 'Marilyn Soukup', 'Wilma Jinson', 'Ted Johnson',\n                                  'Merle Miller', 'Clayton Yoder', 'Nolan And Gina Den Boer'],\n                                 dtype=object),\n              'lat': array([39.90948402, 39.90948402, 38.4361    , 40.52659598, 40.52659598,\n                            39.85563901, 40.52659598, 29.65151901, 29.65151901, 29.65151901,\n                            40.62287999, 40.52659598, 40.988609  , 40.62287999, 40.62287999,\n                            40.62287999, 40.66198376, 40.62287999, 40.62287999, 40.62287999,\n                            35.30091597, 43.064965  , 38.74576849, 37.65225099, 38.74576849,\n                            43.02767299, 42.787401  , 40.725778  , 40.647372  , 43.969565  ,\n                            35.74663171, 42.448342  , 44.41519899, 48.81091   , 29.42381   ,\n                            43.15795501, 43.09641499, 43.15795501, 41.22280669, 43.15795501,\n                            38.83621698, 36.71532001, 43.940923  , 40.639815  , 36.57963457,\n                            43.17552901]),\n              'legendgroup': 'Breeder',\n              'lon': array([-86.085291  , -86.085291  , -92.66509003, -83.21594603, -83.21594603,\n                            -76.03780099, -83.21594603, -95.58284804, -95.58284804, -95.58284804,\n                            -93.14892399, -83.21594603, -77.42192997, -93.14892399, -93.14892399,\n                            -93.14892399, -77.13163282, -93.14892399, -93.14892399, -93.14892399,\n                            -93.56662985, -76.99033   , -76.77707764, -91.81194304, -76.77707764,\n                            -96.12993704, -95.87567301, -91.46835299, -93.63528501, -92.063385  ,\n                            -95.76611996, -86.016894  , -95.82942502, -95.79206797, -95.24538   ,\n                            -93.20177298, -92.53282603, -93.20177298, -92.10913461, -93.20177298,\n                            -98.39571098, -94.23999398, -95.22447097, -81.96475604, -91.9129075 ,\n                            -96.39315604]),\n              'marker': {'color': '#EF553B',\n                         'size': array([5035., 4652., 1003.,  703.,  699.,  667.,  642.,  616.,  609.,  609.,\n                                         603.,  595.,  364.,  346.,  305.,  301.,  287.,  262.,  262.,  261.,\n                                         259.,  244.,  175.,  171.,  162.,  154.,  152.,  120.,   97.,   95.,\n                                          80.,   78.,   75.,   74.,   53.,   45.,   44.,   40.,   39.,   38.,\n                                          35.,   33.,   29.,   28.,   22.,   16.]),\n                         'sizemode': 'area',\n                         'sizeref': 17.533333333333335,\n                         'symbol': 'circle'},\n              'mode': 'markers',\n              'name': 'Breeder',\n              'showlegend': True,\n              'type': 'scattergeo'},\n             {'customdata': array([['https://aphis--c.na107.content.force.com/sfc/dist/version/download/?oid=00Dt0000000GyZH&ids=068t000000DnwMW&d=%2Fa%2F3d000000pYfa%2FsfPl8v30QCSpl9bqKsyMllTAHKLKvdAlQxksrQ_ABjc&asPdf=false',\n                                    2122.0, 3, 2, 'Research', 43.073726982378275, -89.4155610303467],\n                                   ['https://aphis--c.na107.content.force.com/sfc/dist/version/download/?oid=00Dt0000000GyZH&ids=068t000000V8Qq9&d=%2Fa%2F3d000000pYmB%2FaSnE7_iAhQ4AeW4..cEhZSA9_An6cjubuJv7kZB4.Ss&asPdf=false',\n                                    2081.0, 4, 0, 'Research', 47.93832098037856, -122.26699898124998],\n                                   ['https://aphis--c.na107.content.force.com/sfc/dist/version/download/?oid=00Dt0000000GyZH&ids=068t000000PMzkU&d=%2Fa%2F3d000000pWB4%2F0ENL9PICsDJYe9wJlMzE8DaJ5p_oSSArqO03mf03yPM&asPdf=false',\n                                    821.0, 3, 2, 'Research', 36.08955178691299, -80.27134686918126],\n                                   ['https://aphis--c.na107.content.force.com/sfc/dist/version/download/?oid=00Dt0000000GyZH&ids=068t000000YyAb0&d=%2Fa%2F3d000000pYQd%2FWX30KsEzEG3xtG.3YvTltWPTvAYcJHV90bbnIofg7Dg&asPdf=false',\n                                    475.0, 3, 6, 'Research', 35.12152027566615, -89.93956024336576],\n                                   ['https://aphis--c.na107.content.force.com/sfc/dist/version/download/?oid=00Dt0000000GyZH&ids=068t000000ERYXE&d=%2Fa%2F3d000000pVZj%2Fgy.ZFmmvnp9mo8heVhrreiQBFh058DnQanhPrGZ.4WA&asPdf=false',\n                                    376.0, 3, 3, 'Research', 35.056133002534565, -106.57876196623722],\n                                   ['https://aphis--c.na107.content.force.com/sfc/dist/version/download/?oid=00Dt0000000GyZH&ids=068t000000ERYbB&d=%2Fa%2F3d000000pl4c%2FgHm65jn4803CjdbBPXg0BM21IC8D1X5D2F7JVRqmvmw&asPdf=false',\n                                    272.0, 3, 2, 'Research', 37.42086100737605, -122.14133396844441],\n                                   ['https://aphis--c.na107.content.force.com/sfc/dist/version/download/?oid=00Dt0000000GyZH&ids=068t000000V8rEM&d=%2Fa%2F3d000000pgr1%2FLuMrgHei.ai4FZj3.CZbGjfz7ufTAtwFPusCd1C8unw&asPdf=false',\n                                    216.0, 3, 0, 'Research', 33.50369401904926, -86.79741498399406],\n                                   ['https://aphis--c.na107.content.force.com/sfc/dist/version/download/?oid=00Dt0000000GyZH&ids=068t000000ERYfN&d=%2Fa%2F3d000000pdYr%2FVfZ60UiTYvQYS.SWsbtjvkDCwEpyjeGCHBuV1J_34As&asPdf=false',\n                                    196.0, 3, 6, 'Research', 39.52551699687052, -84.67934199826762],\n                                   ['https://aphis--c.na107.content.force.com/sfc/dist/version/download/?oid=00Dt0000000GyZH&ids=068t000000PMi6f&d=%2Fa%2F3d000000pRsv%2F2I2g2w2hcmq6uUant5Xg4aQFID7.UE9WVaXg_v0D_ss&asPdf=false',\n                                    175.0, 3, 0, 'Research', 36.13048272419477, -97.05920095433392],\n                                   ['https://aphis--c.na107.content.force.com/sfc/dist/version/download/?oid=00Dt0000000GyZH&ids=068t000000gPBWH&d=%2Fa%2F3d000000pVQ9%2FwEbQZH_LTmWn_9JAGtdXpQFvxLC1nFtb4inKCxswbFY&asPdf=false',\n                                    97.0, 0, 12, 'Research', 32.539810000000045, -86.21069499999999],\n                                   ['https://aphis--c.na107.content.force.com/sfc/dist/version/download/?oid=00Dt0000000GyZH&ids=068t000000DnwR7&d=%2Fa%2F3d000000pTYq%2Fmw3yCRyMVp4IsLgr6nodBJK0Hf4tPQtj6znrqh_3JbY&asPdf=false',\n                                    48.0, 0, 10, 'Research', 36.58059770680676, -83.6566115847676],\n                                   ['https://aphis--c.na107.content.force.com/sfc/dist/version/download/?oid=00Dt0000000GyZH&ids=068t000000DnwWd&d=%2Fa%2F3d000000pau9%2FFucrowuCbI0lbEVpDNvXo_NfeoKCvWYFhQRxoHM950I&asPdf=false',\n                                    46.0, 0, 9, 'Research', 47.69012901358778, -122.30887304167676],\n                                   ['https://aphis--c.na107.content.force.com/sfc/dist/version/download/?oid=00Dt0000000GyZH&ids=068t000000awK5X&d=%2Fa%2F3d000000pd6E%2Fcs1glhMfktOBQOBx8FXJ8C7fkNyidanztOHM8D5IXX4&asPdf=false',\n                                    46.0, 3, 2, 'Research', 29.716523014808317, -95.33888101360708],\n                                   ['https://aphis--c.na107.content.force.com/sfc/dist/version/download/?oid=00Dt0000000GyZH&ids=068t000000ERYfg&d=%2Fa%2F3d000000pX0H%2Fu12f4Ze7_DADkuCSbrlyO_Pax5KWps_57xAosqz8dxE&asPdf=false',\n                                    9.0, 3, 3, 'Research', 39.78243900918514, -105.06153397497792],\n                                   ['https://aphis--c.na107.content.force.com/sfc/dist/version/download/?oid=00Dt0000000GyZH&ids=068t000000ERYZF&d=%2Fa%2F3d000000pUvo%2FdcOqqTWTh5PHEbz.y7KXr9ggJl_lAVF9w8DRJQfM0VU&asPdf=false',\n                                    8.0, 4, 0, 'Research', 38.53552198900633, -121.7462230388756],\n                                   ['https://aphis--c.na107.content.force.com/sfc/dist/version/download/?oid=00Dt0000000GyZH&ids=068t000000ERYfH&d=%2Fa%2F3d000000pdQX%2FztdjXk_1AwGRrpOG345FNEnNQxHbXt1H5gNMMWg3sTA&asPdf=false',\n                                    0.0, 5, 0, 'Research', 35.46910899480298, -97.58243301770763],\n                                   ['https://aphis--c.na107.content.force.com/sfc/dist/version/download/?oid=00Dt0000000GyZH&ids=068t000000ERYlS&d=%2Fa%2F3d000000pUuc%2F4F5xDZpgTUiSRvCW2W_GIgQEpmQ5EFTCpWqCJHAJBaI&asPdf=false',\n                                    0.0, 3, 0, 'Research', 38.53552198900633, -121.7462230388756]],\n                                  dtype=object),\n              'geo': 'geo',\n              'hovertemplate': ('<b>%{hovertext}</b><br>Number ' ... 'l Violations: %{customdata[3]}'),\n              'hovertext': array(['All Campus Sites', 'Altasciences Preclinical Seattle Llc',\n                                  'Animal Resources Program/Downtown Campus', 'Univ. Of Memphis',\n                                  'Lovelace Biomedical Research Institute', 'Stanford University',\n                                  'Southern Research Institute', 'Equitech-Bio Inc.',\n                                  'Oklahoma State University', 'Blue Ridge Kennel',\n                                  'Lincoln Memorial University', 'Pi Bioscientific Inc.',\n                                  'University Of Houston', 'Weston Educational Inc.',\n                                  'University Of California, Davis',\n                                  'Oklahoma State University At Oklahoma City',\n                                  'University Of California, Davis'], dtype=object),\n              'lat': array([43.07372698, 47.93832098, 36.08955179, 35.12152028, 35.056133  ,\n                            37.42086101, 33.50369402, 39.525517  , 36.13048272, 32.53981   ,\n                            36.58059771, 47.69012901, 29.71652301, 39.78243901, 38.53552199,\n                            35.46910899, 38.53552199]),\n              'legendgroup': 'Research',\n              'lon': array([ -89.41556103, -122.26699898,  -80.27134687,  -89.93956024,\n                            -106.57876197, -122.14133397,  -86.79741498,  -84.679342  ,\n                             -97.05920095,  -86.210695  ,  -83.65661158, -122.30887304,\n                             -95.33888101, -105.06153397, -121.74622304,  -97.58243302,\n                            -121.74622304]),\n              'marker': {'color': '#00cc96',\n                         'size': array([2122., 2081.,  821.,  475.,  376.,  272.,  216.,  196.,  175.,   97.,\n                                          48.,   46.,   46.,    9.,    8.,    0.,    0.]),\n                         'sizemode': 'area',\n                         'sizeref': 17.533333333333335,\n                         'symbol': 'circle'},\n              'mode': 'markers',\n              'name': 'Research',\n              'showlegend': True,\n              'type': 'scattergeo'},\n             {'customdata': array([['https://aphis--c.na107.content.force.com/sfc/dist/version/download/?oid=00Dt0000000GyZH&ids=068t000000DnwDJ&d=%2Fa%2F3d000000pc3K%2Fg.NtmU.8T2s1JcMo_WLGCD62hpwogSFKnw_SLkRIgGE&asPdf=false',\n                                    853.0, 0, ..., 'Exhibitor', 36.29635904277505, -94.49612431903189],\n                                   ['https://aphis--c.na107.content.force.com/sfc/dist/version/download/?oid=00Dt0000000GyZH&ids=068t000000DnwK8&d=%2Fa%2F3d000000pZlH%2F7DJ4Xkk1PGnlgi6_qs4W4vOOPZnMcu9jpFrbxHhqF6U&asPdf=false',\n                                    580.0, 1, ..., 'Exhibitor', 35.76842600282674, -89.12494896404675],\n                                   ['https://aphis--c.na107.content.force.com/sfc/dist/version/download/?oid=00Dt0000000GyZH&ids=068t000000DnwFN&d=%2Fa%2F3d000000piel%2F879f9i3PU4gg.MHf1aqr6ZK_6xmbKjyoDCO3L92BU10&asPdf=false',\n                                    478.0, 0, ..., 'Exhibitor', 37.64716370000008, -79.52853359999995],\n                                   ...,\n                                   ['https://aphis--c.na107.content.force.com/sfc/dist/version/download/?oid=00Dt0000000GyZH&ids=068t000000ERYX1&d=%2Fa%2F3d000000pmBQ%2FILySSf81WQ.KgXoPe04l3109EWmTWDVw1siovKoiJa4&asPdf=false',\n                                    3.0, 3, ..., 'Exhibitor', 38.05725000000007, -97.93267999999995],\n                                   ['https://aphis--c.na107.content.force.com/sfc/dist/version/download/?oid=00Dt0000000GyZH&ids=068t000000ERYnp&d=%2Fa%2F3d000000pkbh%2FjoQf3PA8wYMwrzUED8vm2RNW54DdCm09QrHXDD__y20&asPdf=false',\n                                    1.0, 3, ..., 'Exhibitor', 44.31434399649237, -83.56025398874667],\n                                   ['https://aphis--c.na107.content.force.com/sfc/dist/version/download/?oid=00Dt0000000GyZH&ids=068t000000V9Ec9&d=%2Fa%2F3d000000ph2c%2F6Af4CITGNbRUx2CwVb1TMHvH9tTkH36FPAuiPbjcHk4&asPdf=false',\n                                    0.0, 3, ..., 'Exhibitor', 42.35180900076023, -88.82260902264277]],\n                                  dtype=object),\n              'geo': 'geo',\n              'hovertemplate': ('<b>%{hovertext}</b><br>Number ' ... 'l Violations: %{customdata[3]}'),\n              'hovertext': array(['Wild Wilderness Inc.', 'Claude & Jon Conley', 'Karl Mogensen',\n                                  'Hollywild Animal Park Inc', 'Sally L Reaves', 'Karl Mogensen',\n                                  'Arbuckle Adventures, L L C', 'Arbuckle Adventures, L L C',\n                                  'Arbuckle Adventures, L L C', 'Clinton Wolston I I I',\n                                  'Hollywild Animal Park Inc', 'Sally L Reaves', 'Critter Barn',\n                                  'Pymatuning Deer Park', 'Pymatuning Deer Park', 'Terry Beal',\n                                  'Pymatuning Deer Park', 'Megan Guardiola', 'Critter Barn',\n                                  'Critter Barn', 'Cheyenne Mountain Zoological Society 001',\n                                  'Sally L Reaves', 'Living Treasure Animal Park',\n                                  'Thomas & Pamela Sellner', 'Joseph Maldonado Passage',\n                                  'Clinton Wolston I I I', 'Thomas & Pamela Sellner', 'Montgomery  Zoo',\n                                  'Thomas & Pamela Sellner', 'Terrill Al-Saihati',\n                                  'Spirit Of The Hills Wildlife Sanctuary', 'Thomas & Pamela Sellner',\n                                  'Wilstem Inc.', 'Jeffrey Lowe- 002', 'West Coast Game Park Inc',\n                                  'Zoological De P.R. At Mayaguez', 'Noahs Lost Ark Inc',\n                                  'Terrill Al-Saihati', 'Wildlife World Zoo Inc.', 'Terrill Al-Saihati',\n                                  'Richard Evola', 'Nick Sculac', 'Kirsty Lee, L L C',\n                                  'Indian Cliffs Ranch Inc.', 'East Texas Zoo And Gator Park',\n                                  'Briarwood Investments Inc', 'Nick Sculac', 'Nick Sculac',\n                                  'Janell Knudsen & Jessica Mason', 'Kirsty Lee, L L C',\n                                  'John Johnson 002', 'Janell Knudsen & Jessica Mason',\n                                  'City Of Idaho Falls', 'Arbuckle Adventures, L L C',\n                                  'Arbuckle Adventures, L L C', 'Forest Park Zoological Society',\n                                  'William Meadows', 'William Meadows', 'Sally L Reaves',\n                                  'Kern County Superintendent Of Schools', 'Deer Haven Mini Zoo',\n                                  'Exotic Zoo', 'Wild Things Zoofari Inc.', 'Stump Hill Farm',\n                                  'Richard Evola', 'William Meadows', 'Deer Haven Mini Zoo',\n                                  'Jeffrey Lowe- 002', 'Miami Seaquarium', 'Deer Haven Mini Zoo',\n                                  'City Of Clay Center', 'Deer Haven Mini Zoo', 'Deer Haven Mini Zoo',\n                                  'Mike Mc Clelland', 'Deer Haven Mini Zoo', 'The C A R E  Foundation',\n                                  'The C A R E  Foundation', 'April And Ryan Cicchelli',\n                                  'Noahs Ark Rehabilitation Center', 'Shirley Farms', 'Summer Wind Farms',\n                                  'Summer Wind Farms', 'Summer Wind Farms', 'Summer Wind Farms',\n                                  'Summer Wind Farms', 'Miami Seaquarium', 'Bailiwick Ranch Inc',\n                                  'Summer Wind Farms', 'The Mobile Zoo', 'Kirsty Lee, L L C',\n                                  'Christy Davis', 'St. Louis Aquacenter, Inc',\n                                  'Deer Forest Amusements Inc', 'Summer Wind Farms',\n                                  'Deer Forest Exotic Animal Sanctuary', 'Deer Forest Amusements Inc',\n                                  'Deer Forest Exotic Animal Sanctuary', 'Skunkie Acres Inc',\n                                  'The Mobile Zoo', 'Robert L Sawmiller', 'Christy Davis',\n                                  'The Catty Shack Ranch Wildlife Sanctuary', 'City Of North Platte',\n                                  'The Mobile Zoo', 'Thompson Park Zoo', 'Summer Wind Farms',\n                                  'Robert L Sawmiller', 'Sue Pearce', 'Union Ridge Wildlife Center, Inc.',\n                                  'Rocking Dirt Road Farms Llc', 'William Lee Iii',\n                                  'City Of North Platte', 'Summer Wind Farms',\n                                  'Union County Sportsmens Club Inc', 'Summer Wind Farms', 'Marek Lipold',\n                                  'Cindy Bardin', 'Fragile Planet Wildlife Foundation',\n                                  '002 - Roberta And Anthony Locke', 'Mystic Life Aquarium',\n                                  'City Of Hutchinson', 'James Svoboda', 'Wendy Russeff'], dtype=object),\n              'lat': array([36.29635904, 35.768426  , 37.6471637 , 35.025529  , 43.14835614,\n                            37.6471637 , 34.44788692, 34.44788692, 34.44788692, 29.43591729,\n                            35.025529  , 43.14835614, 42.78443699, 41.48453901, 41.48453901,\n                            35.58915101, 41.48453901, 32.538951  , 42.78443699, 42.78443699,\n                            38.77110699, 43.14835614, 40.107085  , 42.48335199, 42.2297985 ,\n                            29.43591729, 42.48335199, 32.384575  , 42.48335199, 32.60091773,\n                            44.47239601, 42.48335199, 38.546715  , 33.75956901, 43.008964  ,\n                            18.464     , 40.99611902, 32.60091773, 33.55050221, 32.60091773,\n                            41.75837202, 38.996844  , 47.74866802, 31.50621   , 31.00805301,\n                            36.036103  , 38.996844  , 38.996844  , 37.0324    , 47.74866802,\n                            34.43652902, 37.0324    , 43.497005  , 34.44788692, 34.44788692,\n                            42.07766   , 35.25349799, 35.25349799, 43.14835614, 35.42811298,\n                            39.572278  , 42.22772729, 30.49403426, 40.74616999, 41.75837202,\n                            35.25349799, 39.572278  , 33.75956901, 25.73159098, 39.572278  ,\n                            39.380375  , 39.572278  , 39.572278  , 31.87424802, 39.572278  ,\n                            28.730281  , 28.730281  , 44.267398  , 33.30531801, 36.261269  ,\n                            43.23116301, 43.23116301, 43.23116301, 43.23116301, 43.23116301,\n                            29.66931702, 42.21646519, 43.23116301, 30.82425739, 47.74866802,\n                            37.65005799, 38.63135099, 42.18644   , 43.23116301, 42.20828102,\n                            42.18644   , 42.20828102, 29.39792369, 30.82425739, 40.596153  ,\n                            37.65005799, 30.4634197 , 41.13053765, 30.82425739, 43.96136965,\n                            43.23116301, 40.596153  , 27.20239487, 39.19302299, 36.04941502,\n                            39.742055  , 41.13053765, 43.23116301, 40.85857127, 43.23116301,\n                            33.94942301, 43.37246627, 44.3348099 , 38.53678401, 41.37369601,\n                            38.05725   , 44.314344  , 42.351809  ]),\n              'legendgroup': 'Exhibitor',\n              'lon': array([ -94.49612432,  -89.12494896,  -79.5285336 ,  -82.14455398,\n                             -77.2471911 ,  -79.5285336 ,  -97.12496753,  -97.12496753,\n                             -97.12496753,  -95.17092198,  -82.14455398,  -77.2471911 ,\n                             -86.01029803,  -80.42084702,  -80.42084702,  -81.14052796,\n                             -80.42084702,  -96.77590098,  -86.01029803,  -86.01029803,\n                            -104.85465402,  -77.2471911 ,  -79.376765  ,  -91.50736002,\n                             -70.98071742,  -95.17092198,  -91.50736002,  -86.26048   ,\n                             -91.50736002, -114.61518541, -103.89738301,  -91.50736002,\n                             -86.61908   ,  -97.10314297, -124.41741103,  -66.11278   ,\n                             -80.98620497, -114.61518541, -112.41659031, -114.61518541,\n                             -84.59310102, -104.37669301, -122.22961502, -106.161945  ,\n                             -96.52096799,  -83.86196504, -104.37669301, -104.37669301,\n                            -100.9268    , -122.22961502,  -88.72041996, -100.9268    ,\n                            -112.03895   ,  -97.12496753,  -97.12496753,  -72.56512   ,\n                             -97.77271999,  -97.77271999,  -77.2471911 , -118.93277697,\n                             -77.28847901,  -83.48997331,  -97.39905458,  -81.479298  ,\n                             -84.59310102,  -97.77271999,  -77.28847901,  -97.10314297,\n                             -80.16547499,  -77.28847901,  -97.124705  ,  -77.28847901,\n                             -77.28847901,  -85.80705004,  -77.28847901,  -81.58715004,\n                             -81.58715004,  -85.26114599,  -84.12728697,  -89.42450896,\n                             -82.88462004,  -82.88462004,  -82.88462004,  -82.88462004,\n                             -82.88462004,  -81.21295598,  -74.0062652 ,  -82.88462004,\n                             -88.40338431, -122.22961502,  -77.55208702,  -90.18537203,\n                             -86.30629   ,  -82.88462004,  -86.29422503,  -86.30629   ,\n                             -86.29422503,  -82.09977483,  -88.40338431,  -84.16616299,\n                             -77.55208702,  -81.5740939 , -100.7628339 ,  -88.40338431,\n                             -75.89071066,  -82.88462004,  -84.16616299,  -80.9799819 ,\n                             -82.31645902,  -89.41531703, -105.514435  , -100.7628339 ,\n                             -82.88462004,  -77.26217157,  -82.88462004,  -83.54888302,\n                             -73.33418694,  -75.9138143 ,  -85.67801902,  -71.95411102,\n                             -97.93268   ,  -83.56025399,  -88.82260902]),\n              'marker': {'color': '#ab63fa',\n                         'size': array([853., 580., 478., 398., 383., 355., 281., 274., 273., 273., 253., 242.,\n                                        236., 232., 231., 229., 227., 222., 221., 215., 212., 205., 199., 194.,\n                                        193., 191., 191., 182., 180., 179., 165., 163., 158., 156., 152., 143.,\n                                        139., 137., 136., 133., 132., 127., 124., 122., 119., 114., 113., 111.,\n                                        105., 103., 100.,  99.,  96.,  93.,  91.,  82.,  78.,  77.,  75.,  73.,\n                                         72.,  71.,  70.,  68.,  66.,  66.,  62.,  62.,  58.,  58.,  58.,  57.,\n                                         57.,  57.,  56.,  56.,  55.,  55.,  53.,  48.,  48.,  48.,  47.,  47.,\n                                         46.,  44.,  44.,  44.,  42.,  42.,  41.,  39.,  39.,  39.,  39.,  38.,\n                                         38.,  37.,  36.,  35.,  32.,  31.,  29.,  29.,  28.,  27.,  26.,  25.,\n                                         24.,  24.,  23.,  18.,  18.,  18.,  16.,  15.,  13.,  10.,   6.,   4.,\n                                          3.,   1.,   0.]),\n                         'sizemode': 'area',\n                         'sizeref': 17.533333333333335,\n                         'symbol': 'circle'},\n              'mode': 'markers',\n              'name': 'Exhibitor',\n              'showlegend': True,\n              'type': 'scattergeo'}],\n    'layout': {'geo': {'center': {},\n                       'domain': {'x': [0.0, 1.0], 'y': [0.0, 1.0]},\n                       'fitbounds': 'locations',\n                       'projection': {'type': 'natural earth'},\n                       'scope': 'north america'},\n               'height': 800,\n               'legend': {'itemsizing': 'constant', 'title': {'text': 'Category of animal handler'}, 'tracegroupgap': 0},\n               'template': '...',\n               'title': {'text': 'Animal Welfare Inspections 2014-2022'},\n               'width': 1000}\n})\n\n    The 'connectgaps' property must be specified as a bool\n    (either True, or False)"
     ]
    }
   ],
   "source": [
    "f2.add_scattergeo(fig)\n",
    "\n"
   ]
  }
 ],
 "metadata": {
  "kernelspec": {
   "display_name": "myenv",
   "language": "python",
   "name": "python3"
  },
  "language_info": {
   "codemirror_mode": {
    "name": "ipython",
    "version": 3
   },
   "file_extension": ".py",
   "mimetype": "text/x-python",
   "name": "python",
   "nbconvert_exporter": "python",
   "pygments_lexer": "ipython3",
   "version": "3.10.6"
  },
  "vscode": {
   "interpreter": {
    "hash": "fb403c3ae6ba9120eb2bb5dde501d6e50af771e24f7d937bb7591d836450eeb7"
   }
  }
 },
 "nbformat": 4,
 "nbformat_minor": 2
}
